{
 "cells": [
  {
   "cell_type": "markdown",
   "id": "2c0ea8fb",
   "metadata": {},
   "source": [
    "# Let's Build a Quant Trading Strategy"
   ]
  },
  {
   "cell_type": "code",
   "execution_count": 1,
   "id": "cf5e033c",
   "metadata": {},
   "outputs": [],
   "source": [
    "# signal = model(x)\n",
    "# orders = strategy(signal)\n",
    "# execute(orders)"
   ]
  },
  {
   "cell_type": "code",
   "execution_count": 2,
   "id": "9bc533d6",
   "metadata": {},
   "outputs": [],
   "source": [
    "# In the last video, we built a model that predicts what the log return will be eight hours from now."
   ]
  },
  {
   "cell_type": "markdown",
   "id": "d66d9e5d",
   "metadata": {},
   "source": [
    "### type of strategies "
   ]
  },
  {
   "cell_type": "code",
   "execution_count": 3,
   "id": "5d1e173d",
   "metadata": {},
   "outputs": [],
   "source": [
    "# 1 Maker strategies => they are providing liquidity => adding liquidity to a market and aim to be compensated for it\n",
    "# 2 Taker strategies => they taking away liquidity => market orders that consume liquidity => what we are going to focus on"
   ]
  },
  {
   "cell_type": "code",
   "execution_count": 4,
   "id": "14ea08df",
   "metadata": {},
   "outputs": [],
   "source": [
    "# Key Questions for our taking strategy\n",
    "\n",
    "# 1. Entry/exit timing?\n",
    "# 2. Trade Size\n",
    "# 3. Use Leverage?\n",
    "# 4. Use take-profit orders?\n",
    "# 5. Use stop-loss orders?\n",
    "\n"
   ]
  },
  {
   "cell_type": "code",
   "execution_count": 5,
   "id": "a947ef52",
   "metadata": {},
   "outputs": [],
   "source": [
    "## the key goal is we want to create a strategy that increases profits from the model's edge"
   ]
  },
  {
   "cell_type": "markdown",
   "id": "131bbd91",
   "metadata": {},
   "source": [
    "### import the libraries"
   ]
  },
  {
   "cell_type": "code",
   "execution_count": 6,
   "id": "b705d49b",
   "metadata": {},
   "outputs": [],
   "source": [
    "# Data and analysis libraries\n",
    "import polars as pl                         # Fast dataframes for financial data\n",
    "import numpy as np                          # Numerical computing library\n",
    "from datetime import datetime, timedelta    # Date and time operations\n",
    "import random\n",
    "\n",
    "\n",
    "# Machine learning libraries  \n",
    "import torch                                # PyTorch framework\n",
    "import torch.nn as nn                       # Neural network modules\n",
    "import torch.optim as optim                 # Optimization algorithms\n",
    "import research                             # Model building and training utilities\n",
    "\n",
    "\n",
    "# Visualization and \n",
    "import altair as alt                        # Interactive visualization library\n",
    "\n",
    "# data sources\n",
    "import binance                              # Binance market data utilities\n"
   ]
  },
  {
   "cell_type": "markdown",
   "id": "83eca917",
   "metadata": {},
   "source": [
    "### research parameters"
   ]
  },
  {
   "cell_type": "code",
   "execution_count": 7,
   "id": "27394e9c",
   "metadata": {},
   "outputs": [],
   "source": [
    "sym = 'BTCUSDT'\n",
    "time_interval = '12h'\n",
    "download_window = 7 * 4 * 7 # roughly 6 months\n",
    "forecast_horizon = 1\n",
    "test_size = 0.2"
   ]
  },
  {
   "cell_type": "markdown",
   "id": "95bcd44c",
   "metadata": {},
   "source": [
    "### load the model "
   ]
  },
  {
   "cell_type": "code",
   "execution_count": 8,
   "id": "4d3d7863",
   "metadata": {},
   "outputs": [
    {
     "data": {
      "text/plain": [
       "LinearModel(\n",
       "  (linear): Linear(in_features=3, out_features=1, bias=True)\n",
       ")"
      ]
     },
     "execution_count": 8,
     "metadata": {},
     "output_type": "execute_result"
    }
   ],
   "source": [
    "import models\n",
    "model = models.LinearModel(3)\n",
    "# security alert \n",
    "model.load_state_dict(torch.load('model_weights.pth', weights_only=True))\n",
    "model.eval()"
   ]
  },
  {
   "cell_type": "markdown",
   "id": "9a2fdd7f",
   "metadata": {},
   "source": [
    "### interpreted as a mean reversion model"
   ]
  },
  {
   "cell_type": "code",
   "execution_count": 9,
   "id": "0d1cf90f",
   "metadata": {},
   "outputs": [
    {
     "data": {
      "text/html": [
       "<div><style>\n",
       ".dataframe > thead > tr,\n",
       ".dataframe > tbody > tr {\n",
       "  text-align: right;\n",
       "  white-space: pre-wrap;\n",
       "}\n",
       "</style>\n",
       "<small>shape: (6, 2)</small><table border=\"1\" class=\"dataframe\"><thead><tr><th>log_return</th><th>mean</th></tr><tr><td>f64</td><td>f64</td></tr></thead><tbody><tr><td>-0.014</td><td>0.000501</td></tr><tr><td>0.011399</td><td>0.000501</td></tr><tr><td>-0.012212</td><td>0.000501</td></tr><tr><td>0.01997</td><td>0.000501</td></tr><tr><td>-0.01442</td><td>0.000501</td></tr><tr><td>0.01227</td><td>0.000501</td></tr></tbody></table></div>"
      ],
      "text/plain": [
       "shape: (6, 2)\n",
       "┌────────────┬──────────┐\n",
       "│ log_return ┆ mean     │\n",
       "│ ---        ┆ ---      │\n",
       "│ f64        ┆ f64      │\n",
       "╞════════════╪══════════╡\n",
       "│ -0.014     ┆ 0.000501 │\n",
       "│ 0.011399   ┆ 0.000501 │\n",
       "│ -0.012212  ┆ 0.000501 │\n",
       "│ 0.01997    ┆ 0.000501 │\n",
       "│ -0.01442   ┆ 0.000501 │\n",
       "│ 0.01227    ┆ 0.000501 │\n",
       "└────────────┴──────────┘"
      ]
     },
     "execution_count": 9,
     "metadata": {},
     "output_type": "execute_result"
    }
   ],
   "source": [
    "series = [-0.014000, 0.011399, -0.012212, 0.01997, -0.01442, 0.01227]\n",
    "mu = np.mean(series)\n",
    "mean_reversion_df = pl.DataFrame({'log_return': series, 'mean': mu})\n",
    "mean_reversion_df"
   ]
  },
  {
   "cell_type": "code",
   "execution_count": 10,
   "id": "1d538da5",
   "metadata": {},
   "outputs": [
    {
     "data": {
      "image/png": "[encoded data removed]",
      "text/plain": [
       "<Figure size 1500x600 with 1 Axes>"
      ]
     },
     "metadata": {},
     "output_type": "display_data"
    }
   ],
   "source": [
    "research.plot_multiple_lines(mean_reversion_df, ['log_return','mean'], 'Mean Reversion')"
   ]
  },
  {
   "cell_type": "markdown",
   "id": "c2f043fb",
   "metadata": {},
   "source": [
    "### model parameters"
   ]
  },
  {
   "cell_type": "code",
   "execution_count": 11,
   "id": "1f334b42",
   "metadata": {},
   "outputs": [
    {
     "name": "stdout",
     "output_type": "stream",
     "text": [
      "linear.weight:\n",
      "[[-0.10395038 -0.06726477  0.02827305]]\n",
      "linear.bias:\n",
      "[0.00067121]\n"
     ]
    }
   ],
   "source": [
    "research.print_model_params(model)"
   ]
  },
  {
   "cell_type": "code",
   "execution_count": 12,
   "id": "fc7ddcbc",
   "metadata": {},
   "outputs": [
    {
     "data": {
      "text/plain": [
       "0.00208506255"
      ]
     },
     "execution_count": 12,
     "metadata": {},
     "output_type": "execute_result"
    }
   ],
   "source": [
    "def linear_model(x):\n",
    "    w, b = -0.09911217, 0.00059838\n",
    "    return w * x + b\n",
    "\n",
    "linear_model(-0.015) "
   ]
  },
  {
   "cell_type": "code",
   "execution_count": 13,
   "id": "0354a4cf",
   "metadata": {},
   "outputs": [
    {
     "data": {
      "text/plain": [
       "-0.0013838634"
      ]
     },
     "execution_count": 13,
     "metadata": {},
     "output_type": "execute_result"
    }
   ],
   "source": [
    "linear_model(0.02) "
   ]
  },
  {
   "cell_type": "code",
   "execution_count": 14,
   "id": "57c7ab22",
   "metadata": {},
   "outputs": [
    {
     "data": {
      "text/plain": [
       "0.00059818177566"
      ]
     },
     "execution_count": 14,
     "metadata": {},
     "output_type": "execute_result"
    }
   ],
   "source": [
    "linear_model(0.000002)"
   ]
  },
  {
   "cell_type": "code",
   "execution_count": 15,
   "id": "2c39cad4",
   "metadata": {},
   "outputs": [
    {
     "data": {
      "text/plain": [
       "0.00059838"
      ]
     },
     "execution_count": 15,
     "metadata": {},
     "output_type": "execute_result"
    }
   ],
   "source": [
    "linear_model(0.0)"
   ]
  },
  {
   "cell_type": "markdown",
   "id": "12071b88",
   "metadata": {},
   "source": [
    "### interpretability of a neural network"
   ]
  },
  {
   "cell_type": "code",
   "execution_count": 16,
   "id": "12461990",
   "metadata": {},
   "outputs": [
    {
     "data": {
      "text/plain": [
       "tensor([0.1509])"
      ]
     },
     "execution_count": 16,
     "metadata": {},
     "output_type": "execute_result"
    }
   ],
   "source": [
    "\n",
    "def nn_model(x):\n",
    "    x = torch.tensor([x])\n",
    "    W = torch.tensor([0.08035, -0.01478, -0.03523,  0.06777,  0.03789,  0.0013991, -0.13303,  0.8045])\n",
    "    b = torch.tensor([0.16421])\n",
    "    return torch.tanh(torch.sum(x * W) + b)\n",
    "\n",
    "nn_model(-0.015)"
   ]
  },
  {
   "cell_type": "code",
   "execution_count": 17,
   "id": "59632102",
   "metadata": {},
   "outputs": [
    {
     "data": {
      "text/plain": [
       "tensor([0.1785])"
      ]
     },
     "execution_count": 17,
     "metadata": {},
     "output_type": "execute_result"
    }
   ],
   "source": [
    "# no interability\n",
    "nn_model(0.02)"
   ]
  },
  {
   "cell_type": "code",
   "execution_count": 18,
   "id": "e88101ed",
   "metadata": {},
   "outputs": [
    {
     "data": {
      "text/plain": [
       "tensor([0.1627])"
      ]
     },
     "execution_count": 18,
     "metadata": {},
     "output_type": "execute_result"
    }
   ],
   "source": [
    "nn_model(0.0)"
   ]
  },
  {
   "cell_type": "code",
   "execution_count": 19,
   "id": "09c1d8ce",
   "metadata": {},
   "outputs": [],
   "source": [
    "# not disparaging neural networks as my background is neural networks \n",
    "# but for trading, neural networks can increase your expected value by a few basis points but at the expense of complexity\n",
    "# linear models are not sensitive to noise, they are interpretible, less prone to overfit (generalization)"
   ]
  },
  {
   "cell_type": "markdown",
   "id": "930ad380",
   "metadata": {},
   "source": [
    "### load time series data"
   ]
  },
  {
   "cell_type": "code",
   "execution_count": 20,
   "id": "64e6cbcc",
   "metadata": {},
   "outputs": [
    {
     "name": "stderr",
     "output_type": "stream",
     "text": [
      "Downloading BTCUSDT: 100%|██████████| 196/196 [00:13<00:00, 14.06it/s]\n"
     ]
    }
   ],
   "source": [
    "binance.download_trades(sym, download_window)"
   ]
  },
  {
   "cell_type": "code",
   "execution_count": 21,
   "id": "1b580a43",
   "metadata": {},
   "outputs": [
    {
     "name": "stderr",
     "output_type": "stream",
     "text": [
      "Loading BTCUSDT: 100%|██████████| 346/346 [00:30<00:00, 11.19file/s]\n"
     ]
    },
    {
     "data": {
      "text/html": [
       "<div><style>\n",
       ".dataframe > thead > tr,\n",
       ".dataframe > tbody > tr {\n",
       "  text-align: right;\n",
       "  white-space: pre-wrap;\n",
       "}\n",
       "</style>\n",
       "<small>shape: (692, 5)</small><table border=\"1\" class=\"dataframe\"><thead><tr><th>datetime</th><th>open</th><th>high</th><th>low</th><th>close</th></tr><tr><td>datetime[μs]</td><td>f64</td><td>f64</td><td>f64</td><td>f64</td></tr></thead><tbody><tr><td>2024-10-29 00:00:00</td><td>69939.9</td><td>71607.0</td><td>69733.0</td><td>71440.1</td></tr><tr><td>2024-10-29 12:00:00</td><td>71440.0</td><td>73660.0</td><td>70900.0</td><td>72739.5</td></tr><tr><td>2024-10-30 00:00:00</td><td>72739.5</td><td>72797.4</td><td>71931.1</td><td>71995.0</td></tr><tr><td>2024-10-30 12:00:00</td><td>71994.9</td><td>72984.9</td><td>71444.2</td><td>72349.0</td></tr><tr><td>2024-10-31 00:00:00</td><td>72349.0</td><td>72720.3</td><td>72030.5</td><td>72213.3</td></tr><tr><td>&hellip;</td><td>&hellip;</td><td>&hellip;</td><td>&hellip;</td><td>&hellip;</td></tr><tr><td>2025-10-07 12:00:00</td><td>124397.1</td><td>125098.0</td><td>120516.0</td><td>121286.5</td></tr><tr><td>2025-10-08 00:00:00</td><td>121286.6</td><td>123150.0</td><td>121005.3</td><td>122825.7</td></tr><tr><td>2025-10-08 12:00:00</td><td>122825.8</td><td>124170.6</td><td>121607.8</td><td>123237.5</td></tr><tr><td>2025-10-09 00:00:00</td><td>123237.4</td><td>123279.7</td><td>121081.5</td><td>122672.9</td></tr><tr><td>2025-10-09 12:00:00</td><td>122673.0</td><td>123740.1</td><td>119572.8</td><td>121579.3</td></tr></tbody></table></div>"
      ],
      "text/plain": [
       "shape: (692, 5)\n",
       "┌─────────────────────┬──────────┬──────────┬──────────┬──────────┐\n",
       "│ datetime            ┆ open     ┆ high     ┆ low      ┆ close    │\n",
       "│ ---                 ┆ ---      ┆ ---      ┆ ---      ┆ ---      │\n",
       "│ datetime[μs]        ┆ f64      ┆ f64      ┆ f64      ┆ f64      │\n",
       "╞═════════════════════╪══════════╪══════════╪══════════╪══════════╡\n",
       "│ 2024-10-29 00:00:00 ┆ 69939.9  ┆ 71607.0  ┆ 69733.0  ┆ 71440.1  │\n",
       "│ 2024-10-29 12:00:00 ┆ 71440.0  ┆ 73660.0  ┆ 70900.0  ┆ 72739.5  │\n",
       "│ 2024-10-30 00:00:00 ┆ 72739.5  ┆ 72797.4  ┆ 71931.1  ┆ 71995.0  │\n",
       "│ 2024-10-30 12:00:00 ┆ 71994.9  ┆ 72984.9  ┆ 71444.2  ┆ 72349.0  │\n",
       "│ 2024-10-31 00:00:00 ┆ 72349.0  ┆ 72720.3  ┆ 72030.5  ┆ 72213.3  │\n",
       "│ …                   ┆ …        ┆ …        ┆ …        ┆ …        │\n",
       "│ 2025-10-07 12:00:00 ┆ 124397.1 ┆ 125098.0 ┆ 120516.0 ┆ 121286.5 │\n",
       "│ 2025-10-08 00:00:00 ┆ 121286.6 ┆ 123150.0 ┆ 121005.3 ┆ 122825.7 │\n",
       "│ 2025-10-08 12:00:00 ┆ 122825.8 ┆ 124170.6 ┆ 121607.8 ┆ 123237.5 │\n",
       "│ 2025-10-09 00:00:00 ┆ 123237.4 ┆ 123279.7 ┆ 121081.5 ┆ 122672.9 │\n",
       "│ 2025-10-09 12:00:00 ┆ 122673.0 ┆ 123740.1 ┆ 119572.8 ┆ 121579.3 │\n",
       "└─────────────────────┴──────────┴──────────┴──────────┴──────────┘"
      ]
     },
     "execution_count": 21,
     "metadata": {},
     "output_type": "execute_result"
    }
   ],
   "source": [
    "ts = research.load_ohlc_timeseries(sym, time_interval)\n",
    "ts"
   ]
  },
  {
   "cell_type": "markdown",
   "id": "68aab98d",
   "metadata": {},
   "source": [
    "### add log return target and its auto-regressive lags"
   ]
  },
  {
   "cell_type": "code",
   "execution_count": 22,
   "id": "1b257aca",
   "metadata": {},
   "outputs": [
    {
     "data": {
      "text/html": [
       "<div><style>\n",
       ".dataframe > thead > tr,\n",
       ".dataframe > tbody > tr {\n",
       "  text-align: right;\n",
       "  white-space: pre-wrap;\n",
       "}\n",
       "</style>\n",
       "<small>shape: (692, 9)</small><table border=\"1\" class=\"dataframe\"><thead><tr><th>datetime</th><th>open</th><th>high</th><th>low</th><th>close</th><th>close_log_return</th><th>close_log_return_lag_1</th><th>close_log_return_lag_2</th><th>close_log_return_lag_3</th></tr><tr><td>datetime[μs]</td><td>f64</td><td>f64</td><td>f64</td><td>f64</td><td>f64</td><td>f64</td><td>f64</td><td>f64</td></tr></thead><tbody><tr><td>2024-10-29 00:00:00</td><td>69939.9</td><td>71607.0</td><td>69733.0</td><td>71440.1</td><td>null</td><td>null</td><td>null</td><td>null</td></tr><tr><td>2024-10-29 12:00:00</td><td>71440.0</td><td>73660.0</td><td>70900.0</td><td>72739.5</td><td>0.018025</td><td>null</td><td>null</td><td>null</td></tr><tr><td>2024-10-30 00:00:00</td><td>72739.5</td><td>72797.4</td><td>71931.1</td><td>71995.0</td><td>-0.010288</td><td>0.018025</td><td>null</td><td>null</td></tr><tr><td>2024-10-30 12:00:00</td><td>71994.9</td><td>72984.9</td><td>71444.2</td><td>72349.0</td><td>0.004905</td><td>-0.010288</td><td>0.018025</td><td>null</td></tr><tr><td>2024-10-31 00:00:00</td><td>72349.0</td><td>72720.3</td><td>72030.5</td><td>72213.3</td><td>-0.001877</td><td>0.004905</td><td>-0.010288</td><td>0.018025</td></tr><tr><td>&hellip;</td><td>&hellip;</td><td>&hellip;</td><td>&hellip;</td><td>&hellip;</td><td>&hellip;</td><td>&hellip;</td><td>&hellip;</td><td>&hellip;</td></tr><tr><td>2025-10-07 12:00:00</td><td>124397.1</td><td>125098.0</td><td>120516.0</td><td>121286.5</td><td>-0.025324</td><td>-0.001858</td><td>0.003757</td><td>0.005933</td></tr><tr><td>2025-10-08 00:00:00</td><td>121286.6</td><td>123150.0</td><td>121005.3</td><td>122825.7</td><td>0.012611</td><td>-0.025324</td><td>-0.001858</td><td>0.003757</td></tr><tr><td>2025-10-08 12:00:00</td><td>122825.8</td><td>124170.6</td><td>121607.8</td><td>123237.5</td><td>0.003347</td><td>0.012611</td><td>-0.025324</td><td>-0.001858</td></tr><tr><td>2025-10-09 00:00:00</td><td>123237.4</td><td>123279.7</td><td>121081.5</td><td>122672.9</td><td>-0.004592</td><td>0.003347</td><td>0.012611</td><td>-0.025324</td></tr><tr><td>2025-10-09 12:00:00</td><td>122673.0</td><td>123740.1</td><td>119572.8</td><td>121579.3</td><td>-0.008955</td><td>-0.004592</td><td>0.003347</td><td>0.012611</td></tr></tbody></table></div>"
      ],
      "text/plain": [
       "shape: (692, 9)\n",
       "┌────────────┬──────────┬──────────┬──────────┬───┬────────────┬───────────┬───────────┬───────────┐\n",
       "│ datetime   ┆ open     ┆ high     ┆ low      ┆ … ┆ close_log_ ┆ close_log ┆ close_log ┆ close_log │\n",
       "│ ---        ┆ ---      ┆ ---      ┆ ---      ┆   ┆ return     ┆ _return_l ┆ _return_l ┆ _return_l │\n",
       "│ datetime[μ ┆ f64      ┆ f64      ┆ f64      ┆   ┆ ---        ┆ ag_1      ┆ ag_2      ┆ ag_3      │\n",
       "│ s]         ┆          ┆          ┆          ┆   ┆ f64        ┆ ---       ┆ ---       ┆ ---       │\n",
       "│            ┆          ┆          ┆          ┆   ┆            ┆ f64       ┆ f64       ┆ f64       │\n",
       "╞════════════╪══════════╪══════════╪══════════╪═══╪════════════╪═══════════╪═══════════╪═══════════╡\n",
       "│ 2024-10-29 ┆ 69939.9  ┆ 71607.0  ┆ 69733.0  ┆ … ┆ null       ┆ null      ┆ null      ┆ null      │\n",
       "│ 00:00:00   ┆          ┆          ┆          ┆   ┆            ┆           ┆           ┆           │\n",
       "│ 2024-10-29 ┆ 71440.0  ┆ 73660.0  ┆ 70900.0  ┆ … ┆ 0.018025   ┆ null      ┆ null      ┆ null      │\n",
       "│ 12:00:00   ┆          ┆          ┆          ┆   ┆            ┆           ┆           ┆           │\n",
       "│ 2024-10-30 ┆ 72739.5  ┆ 72797.4  ┆ 71931.1  ┆ … ┆ -0.010288  ┆ 0.018025  ┆ null      ┆ null      │\n",
       "│ 00:00:00   ┆          ┆          ┆          ┆   ┆            ┆           ┆           ┆           │\n",
       "│ 2024-10-30 ┆ 71994.9  ┆ 72984.9  ┆ 71444.2  ┆ … ┆ 0.004905   ┆ -0.010288 ┆ 0.018025  ┆ null      │\n",
       "│ 12:00:00   ┆          ┆          ┆          ┆   ┆            ┆           ┆           ┆           │\n",
       "│ 2024-10-31 ┆ 72349.0  ┆ 72720.3  ┆ 72030.5  ┆ … ┆ -0.001877  ┆ 0.004905  ┆ -0.010288 ┆ 0.018025  │\n",
       "│ 00:00:00   ┆          ┆          ┆          ┆   ┆            ┆           ┆           ┆           │\n",
       "│ …          ┆ …        ┆ …        ┆ …        ┆ … ┆ …          ┆ …         ┆ …         ┆ …         │\n",
       "│ 2025-10-07 ┆ 124397.1 ┆ 125098.0 ┆ 120516.0 ┆ … ┆ -0.025324  ┆ -0.001858 ┆ 0.003757  ┆ 0.005933  │\n",
       "│ 12:00:00   ┆          ┆          ┆          ┆   ┆            ┆           ┆           ┆           │\n",
       "│ 2025-10-08 ┆ 121286.6 ┆ 123150.0 ┆ 121005.3 ┆ … ┆ 0.012611   ┆ -0.025324 ┆ -0.001858 ┆ 0.003757  │\n",
       "│ 00:00:00   ┆          ┆          ┆          ┆   ┆            ┆           ┆           ┆           │\n",
       "│ 2025-10-08 ┆ 122825.8 ┆ 124170.6 ┆ 121607.8 ┆ … ┆ 0.003347   ┆ 0.012611  ┆ -0.025324 ┆ -0.001858 │\n",
       "│ 12:00:00   ┆          ┆          ┆          ┆   ┆            ┆           ┆           ┆           │\n",
       "│ 2025-10-09 ┆ 123237.4 ┆ 123279.7 ┆ 121081.5 ┆ … ┆ -0.004592  ┆ 0.003347  ┆ 0.012611  ┆ -0.025324 │\n",
       "│ 00:00:00   ┆          ┆          ┆          ┆   ┆            ┆           ┆           ┆           │\n",
       "│ 2025-10-09 ┆ 122673.0 ┆ 123740.1 ┆ 119572.8 ┆ … ┆ -0.008955  ┆ -0.004592 ┆ 0.003347  ┆ 0.012611  │\n",
       "│ 12:00:00   ┆          ┆          ┆          ┆   ┆            ┆           ┆           ┆           │\n",
       "└────────────┴──────────┴──────────┴──────────┴───┴────────────┴───────────┴───────────┴───────────┘"
      ]
     },
     "execution_count": 22,
     "metadata": {},
     "output_type": "execute_result"
    }
   ],
   "source": [
    "ts = research.add_log_return_features(ts, 'close', forecast_horizon, max_no_lags=3)\n",
    "ts"
   ]
  },
  {
   "cell_type": "markdown",
   "id": "d65ef912",
   "metadata": {},
   "source": [
    "### split the time series by time (avoid data leakages)"
   ]
  },
  {
   "cell_type": "code",
   "execution_count": 23,
   "id": "85e01c4c",
   "metadata": {},
   "outputs": [
    {
     "data": {
      "text/html": [
       "<div><style>\n",
       ".dataframe > thead > tr,\n",
       ".dataframe > tbody > tr {\n",
       "  text-align: right;\n",
       "  white-space: pre-wrap;\n",
       "}\n",
       "</style>\n",
       "<small>shape: (553, 9)</small><table border=\"1\" class=\"dataframe\"><thead><tr><th>datetime</th><th>open</th><th>high</th><th>low</th><th>close</th><th>close_log_return</th><th>close_log_return_lag_1</th><th>close_log_return_lag_2</th><th>close_log_return_lag_3</th></tr><tr><td>datetime[μs]</td><td>f64</td><td>f64</td><td>f64</td><td>f64</td><td>f64</td><td>f64</td><td>f64</td><td>f64</td></tr></thead><tbody><tr><td>2024-10-29 00:00:00</td><td>69939.9</td><td>71607.0</td><td>69733.0</td><td>71440.1</td><td>null</td><td>null</td><td>null</td><td>null</td></tr><tr><td>2024-10-29 12:00:00</td><td>71440.0</td><td>73660.0</td><td>70900.0</td><td>72739.5</td><td>0.018025</td><td>null</td><td>null</td><td>null</td></tr><tr><td>2024-10-30 00:00:00</td><td>72739.5</td><td>72797.4</td><td>71931.1</td><td>71995.0</td><td>-0.010288</td><td>0.018025</td><td>null</td><td>null</td></tr><tr><td>2024-10-30 12:00:00</td><td>71994.9</td><td>72984.9</td><td>71444.2</td><td>72349.0</td><td>0.004905</td><td>-0.010288</td><td>0.018025</td><td>null</td></tr><tr><td>2024-10-31 00:00:00</td><td>72349.0</td><td>72720.3</td><td>72030.5</td><td>72213.3</td><td>-0.001877</td><td>0.004905</td><td>-0.010288</td><td>0.018025</td></tr><tr><td>&hellip;</td><td>&hellip;</td><td>&hellip;</td><td>&hellip;</td><td>&hellip;</td><td>&hellip;</td><td>&hellip;</td><td>&hellip;</td><td>&hellip;</td></tr><tr><td>2025-07-30 00:00:00</td><td>117897.1</td><td>118451.3</td><td>117291.6</td><td>117526.7</td><td>-0.003146</td><td>-0.005608</td><td>0.004384</td><td>-0.006518</td></tr><tr><td>2025-07-30 12:00:00</td><td>117526.6</td><td>118763.5</td><td>115700.0</td><td>117771.0</td><td>0.002077</td><td>-0.003146</td><td>-0.005608</td><td>0.004384</td></tr><tr><td>2025-07-31 00:00:00</td><td>117771.1</td><td>118910.0</td><td>117713.5</td><td>118330.9</td><td>0.004743</td><td>0.002077</td><td>-0.003146</td><td>-0.005608</td></tr><tr><td>2025-07-31 12:00:00</td><td>118330.9</td><td>118850.0</td><td>115373.9</td><td>115697.3</td><td>-0.022508</td><td>0.004743</td><td>0.002077</td><td>-0.003146</td></tr><tr><td>2025-08-01 00:00:00</td><td>115697.3</td><td>116000.0</td><td>114055.6</td><td>115246.6</td><td>-0.003903</td><td>-0.022508</td><td>0.004743</td><td>0.002077</td></tr></tbody></table></div>"
      ],
      "text/plain": [
       "shape: (553, 9)\n",
       "┌────────────┬──────────┬──────────┬──────────┬───┬────────────┬───────────┬───────────┬───────────┐\n",
       "│ datetime   ┆ open     ┆ high     ┆ low      ┆ … ┆ close_log_ ┆ close_log ┆ close_log ┆ close_log │\n",
       "│ ---        ┆ ---      ┆ ---      ┆ ---      ┆   ┆ return     ┆ _return_l ┆ _return_l ┆ _return_l │\n",
       "│ datetime[μ ┆ f64      ┆ f64      ┆ f64      ┆   ┆ ---        ┆ ag_1      ┆ ag_2      ┆ ag_3      │\n",
       "│ s]         ┆          ┆          ┆          ┆   ┆ f64        ┆ ---       ┆ ---       ┆ ---       │\n",
       "│            ┆          ┆          ┆          ┆   ┆            ┆ f64       ┆ f64       ┆ f64       │\n",
       "╞════════════╪══════════╪══════════╪══════════╪═══╪════════════╪═══════════╪═══════════╪═══════════╡\n",
       "│ 2024-10-29 ┆ 69939.9  ┆ 71607.0  ┆ 69733.0  ┆ … ┆ null       ┆ null      ┆ null      ┆ null      │\n",
       "│ 00:00:00   ┆          ┆          ┆          ┆   ┆            ┆           ┆           ┆           │\n",
       "│ 2024-10-29 ┆ 71440.0  ┆ 73660.0  ┆ 70900.0  ┆ … ┆ 0.018025   ┆ null      ┆ null      ┆ null      │\n",
       "│ 12:00:00   ┆          ┆          ┆          ┆   ┆            ┆           ┆           ┆           │\n",
       "│ 2024-10-30 ┆ 72739.5  ┆ 72797.4  ┆ 71931.1  ┆ … ┆ -0.010288  ┆ 0.018025  ┆ null      ┆ null      │\n",
       "│ 00:00:00   ┆          ┆          ┆          ┆   ┆            ┆           ┆           ┆           │\n",
       "│ 2024-10-30 ┆ 71994.9  ┆ 72984.9  ┆ 71444.2  ┆ … ┆ 0.004905   ┆ -0.010288 ┆ 0.018025  ┆ null      │\n",
       "│ 12:00:00   ┆          ┆          ┆          ┆   ┆            ┆           ┆           ┆           │\n",
       "│ 2024-10-31 ┆ 72349.0  ┆ 72720.3  ┆ 72030.5  ┆ … ┆ -0.001877  ┆ 0.004905  ┆ -0.010288 ┆ 0.018025  │\n",
       "│ 00:00:00   ┆          ┆          ┆          ┆   ┆            ┆           ┆           ┆           │\n",
       "│ …          ┆ …        ┆ …        ┆ …        ┆ … ┆ …          ┆ …         ┆ …         ┆ …         │\n",
       "│ 2025-07-30 ┆ 117897.1 ┆ 118451.3 ┆ 117291.6 ┆ … ┆ -0.003146  ┆ -0.005608 ┆ 0.004384  ┆ -0.006518 │\n",
       "│ 00:00:00   ┆          ┆          ┆          ┆   ┆            ┆           ┆           ┆           │\n",
       "│ 2025-07-30 ┆ 117526.6 ┆ 118763.5 ┆ 115700.0 ┆ … ┆ 0.002077   ┆ -0.003146 ┆ -0.005608 ┆ 0.004384  │\n",
       "│ 12:00:00   ┆          ┆          ┆          ┆   ┆            ┆           ┆           ┆           │\n",
       "│ 2025-07-31 ┆ 117771.1 ┆ 118910.0 ┆ 117713.5 ┆ … ┆ 0.004743   ┆ 0.002077  ┆ -0.003146 ┆ -0.005608 │\n",
       "│ 00:00:00   ┆          ┆          ┆          ┆   ┆            ┆           ┆           ┆           │\n",
       "│ 2025-07-31 ┆ 118330.9 ┆ 118850.0 ┆ 115373.9 ┆ … ┆ -0.022508  ┆ 0.004743  ┆ 0.002077  ┆ -0.003146 │\n",
       "│ 12:00:00   ┆          ┆          ┆          ┆   ┆            ┆           ┆           ┆           │\n",
       "│ 2025-08-01 ┆ 115697.3 ┆ 116000.0 ┆ 114055.6 ┆ … ┆ -0.003903  ┆ -0.022508 ┆ 0.004743  ┆ 0.002077  │\n",
       "│ 00:00:00   ┆          ┆          ┆          ┆   ┆            ┆           ┆           ┆           │\n",
       "└────────────┴──────────┴──────────┴──────────┴───┴────────────┴───────────┴───────────┴───────────┘"
      ]
     },
     "execution_count": 23,
     "metadata": {},
     "output_type": "execute_result"
    }
   ],
   "source": [
    "train_trades, test_trades = research.timeseries_split(ts, test_size)\n",
    "train_trades"
   ]
  },
  {
   "cell_type": "code",
   "execution_count": 24,
   "id": "72dc8c69",
   "metadata": {},
   "outputs": [
    {
     "data": {
      "text/html": [
       "<div><style>\n",
       ".dataframe > thead > tr,\n",
       ".dataframe > tbody > tr {\n",
       "  text-align: right;\n",
       "  white-space: pre-wrap;\n",
       "}\n",
       "</style>\n",
       "<small>shape: (139, 9)</small><table border=\"1\" class=\"dataframe\"><thead><tr><th>datetime</th><th>open</th><th>high</th><th>low</th><th>close</th><th>close_log_return</th><th>close_log_return_lag_1</th><th>close_log_return_lag_2</th><th>close_log_return_lag_3</th></tr><tr><td>datetime[μs]</td><td>f64</td><td>f64</td><td>f64</td><td>f64</td><td>f64</td><td>f64</td><td>f64</td><td>f64</td></tr></thead><tbody><tr><td>2025-08-01 12:00:00</td><td>115246.5</td><td>115956.0</td><td>112660.0</td><td>113244.8</td><td>-0.017522</td><td>-0.003903</td><td>-0.022508</td><td>0.004743</td></tr><tr><td>2025-08-02 00:00:00</td><td>113244.8</td><td>114000.0</td><td>113145.0</td><td>113732.5</td><td>0.004297</td><td>-0.017522</td><td>-0.003903</td><td>-0.022508</td></tr><tr><td>2025-08-02 12:00:00</td><td>113732.6</td><td>113740.5</td><td>111910.0</td><td>112508.8</td><td>-0.010818</td><td>0.004297</td><td>-0.017522</td><td>-0.003903</td></tr><tr><td>2025-08-03 00:00:00</td><td>112508.8</td><td>114200.0</td><td>111850.0</td><td>113810.1</td><td>0.0115</td><td>-0.010818</td><td>0.004297</td><td>-0.017522</td></tr><tr><td>2025-08-03 12:00:00</td><td>113810.0</td><td>114730.0</td><td>113529.6</td><td>114150.8</td><td>0.002989</td><td>0.0115</td><td>-0.010818</td><td>0.004297</td></tr><tr><td>&hellip;</td><td>&hellip;</td><td>&hellip;</td><td>&hellip;</td><td>&hellip;</td><td>&hellip;</td><td>&hellip;</td><td>&hellip;</td><td>&hellip;</td></tr><tr><td>2025-10-07 12:00:00</td><td>124397.1</td><td>125098.0</td><td>120516.0</td><td>121286.5</td><td>-0.025324</td><td>-0.001858</td><td>0.003757</td><td>0.005933</td></tr><tr><td>2025-10-08 00:00:00</td><td>121286.6</td><td>123150.0</td><td>121005.3</td><td>122825.7</td><td>0.012611</td><td>-0.025324</td><td>-0.001858</td><td>0.003757</td></tr><tr><td>2025-10-08 12:00:00</td><td>122825.8</td><td>124170.6</td><td>121607.8</td><td>123237.5</td><td>0.003347</td><td>0.012611</td><td>-0.025324</td><td>-0.001858</td></tr><tr><td>2025-10-09 00:00:00</td><td>123237.4</td><td>123279.7</td><td>121081.5</td><td>122672.9</td><td>-0.004592</td><td>0.003347</td><td>0.012611</td><td>-0.025324</td></tr><tr><td>2025-10-09 12:00:00</td><td>122673.0</td><td>123740.1</td><td>119572.8</td><td>121579.3</td><td>-0.008955</td><td>-0.004592</td><td>0.003347</td><td>0.012611</td></tr></tbody></table></div>"
      ],
      "text/plain": [
       "shape: (139, 9)\n",
       "┌────────────┬──────────┬──────────┬──────────┬───┬────────────┬───────────┬───────────┬───────────┐\n",
       "│ datetime   ┆ open     ┆ high     ┆ low      ┆ … ┆ close_log_ ┆ close_log ┆ close_log ┆ close_log │\n",
       "│ ---        ┆ ---      ┆ ---      ┆ ---      ┆   ┆ return     ┆ _return_l ┆ _return_l ┆ _return_l │\n",
       "│ datetime[μ ┆ f64      ┆ f64      ┆ f64      ┆   ┆ ---        ┆ ag_1      ┆ ag_2      ┆ ag_3      │\n",
       "│ s]         ┆          ┆          ┆          ┆   ┆ f64        ┆ ---       ┆ ---       ┆ ---       │\n",
       "│            ┆          ┆          ┆          ┆   ┆            ┆ f64       ┆ f64       ┆ f64       │\n",
       "╞════════════╪══════════╪══════════╪══════════╪═══╪════════════╪═══════════╪═══════════╪═══════════╡\n",
       "│ 2025-08-01 ┆ 115246.5 ┆ 115956.0 ┆ 112660.0 ┆ … ┆ -0.017522  ┆ -0.003903 ┆ -0.022508 ┆ 0.004743  │\n",
       "│ 12:00:00   ┆          ┆          ┆          ┆   ┆            ┆           ┆           ┆           │\n",
       "│ 2025-08-02 ┆ 113244.8 ┆ 114000.0 ┆ 113145.0 ┆ … ┆ 0.004297   ┆ -0.017522 ┆ -0.003903 ┆ -0.022508 │\n",
       "│ 00:00:00   ┆          ┆          ┆          ┆   ┆            ┆           ┆           ┆           │\n",
       "│ 2025-08-02 ┆ 113732.6 ┆ 113740.5 ┆ 111910.0 ┆ … ┆ -0.010818  ┆ 0.004297  ┆ -0.017522 ┆ -0.003903 │\n",
       "│ 12:00:00   ┆          ┆          ┆          ┆   ┆            ┆           ┆           ┆           │\n",
       "│ 2025-08-03 ┆ 112508.8 ┆ 114200.0 ┆ 111850.0 ┆ … ┆ 0.0115     ┆ -0.010818 ┆ 0.004297  ┆ -0.017522 │\n",
       "│ 00:00:00   ┆          ┆          ┆          ┆   ┆            ┆           ┆           ┆           │\n",
       "│ 2025-08-03 ┆ 113810.0 ┆ 114730.0 ┆ 113529.6 ┆ … ┆ 0.002989   ┆ 0.0115    ┆ -0.010818 ┆ 0.004297  │\n",
       "│ 12:00:00   ┆          ┆          ┆          ┆   ┆            ┆           ┆           ┆           │\n",
       "│ …          ┆ …        ┆ …        ┆ …        ┆ … ┆ …          ┆ …         ┆ …         ┆ …         │\n",
       "│ 2025-10-07 ┆ 124397.1 ┆ 125098.0 ┆ 120516.0 ┆ … ┆ -0.025324  ┆ -0.001858 ┆ 0.003757  ┆ 0.005933  │\n",
       "│ 12:00:00   ┆          ┆          ┆          ┆   ┆            ┆           ┆           ┆           │\n",
       "│ 2025-10-08 ┆ 121286.6 ┆ 123150.0 ┆ 121005.3 ┆ … ┆ 0.012611   ┆ -0.025324 ┆ -0.001858 ┆ 0.003757  │\n",
       "│ 00:00:00   ┆          ┆          ┆          ┆   ┆            ┆           ┆           ┆           │\n",
       "│ 2025-10-08 ┆ 122825.8 ┆ 124170.6 ┆ 121607.8 ┆ … ┆ 0.003347   ┆ 0.012611  ┆ -0.025324 ┆ -0.001858 │\n",
       "│ 12:00:00   ┆          ┆          ┆          ┆   ┆            ┆           ┆           ┆           │\n",
       "│ 2025-10-09 ┆ 123237.4 ┆ 123279.7 ┆ 121081.5 ┆ … ┆ -0.004592  ┆ 0.003347  ┆ 0.012611  ┆ -0.025324 │\n",
       "│ 00:00:00   ┆          ┆          ┆          ┆   ┆            ┆           ┆           ┆           │\n",
       "│ 2025-10-09 ┆ 122673.0 ┆ 123740.1 ┆ 119572.8 ┆ … ┆ -0.008955  ┆ -0.004592 ┆ 0.003347  ┆ 0.012611  │\n",
       "│ 12:00:00   ┆          ┆          ┆          ┆   ┆            ┆           ┆           ┆           │\n",
       "└────────────┴──────────┴──────────┴──────────┴───┴────────────┴───────────┴───────────┴───────────┘"
      ]
     },
     "execution_count": 24,
     "metadata": {},
     "output_type": "execute_result"
    }
   ],
   "source": [
    "test_trades"
   ]
  },
  {
   "cell_type": "markdown",
   "id": "4e267a5e",
   "metadata": {},
   "source": [
    "## Strategy Decision #1. What's our entry and exit signal?"
   ]
  },
  {
   "cell_type": "code",
   "execution_count": 25,
   "id": "b9e9b6a1",
   "metadata": {},
   "outputs": [],
   "source": [
    "# q1: when do we get in? entry signal\n",
    "# q2: when do we get out? exit signal"
   ]
  },
  {
   "cell_type": "code",
   "execution_count": 26,
   "id": "6ec91df4",
   "metadata": {},
   "outputs": [],
   "source": [
    "# 00:00 -> trade to create a BTCUSDT position based on our prediction\n",
    "# 08:00 -> trade to close the existing BTCUSDT position, trade to enter a new position on the current log return (00:00 -> 08:00) prediction\n",
    "# 16:00 -> trade to close the existing BTCUSDT pos, trade to enter a new position on the current log return (08:00 -> 16:00) prediction"
   ]
  },
  {
   "cell_type": "code",
   "execution_count": 27,
   "id": "b6987f16",
   "metadata": {},
   "outputs": [
    {
     "data": {
      "text/html": [
       "<div><style>\n",
       ".dataframe > thead > tr,\n",
       ".dataframe > tbody > tr {\n",
       "  text-align: right;\n",
       "  white-space: pre-wrap;\n",
       "}\n",
       "</style>\n",
       "<small>shape: (139, 9)</small><table border=\"1\" class=\"dataframe\"><thead><tr><th>datetime</th><th>open</th><th>high</th><th>low</th><th>close</th><th>close_log_return</th><th>close_log_return_lag_1</th><th>close_log_return_lag_2</th><th>close_log_return_lag_3</th></tr><tr><td>datetime[μs]</td><td>f64</td><td>f64</td><td>f64</td><td>f64</td><td>f64</td><td>f64</td><td>f64</td><td>f64</td></tr></thead><tbody><tr><td>2025-08-01 12:00:00</td><td>115246.5</td><td>115956.0</td><td>112660.0</td><td>113244.8</td><td>-0.017522</td><td>-0.003903</td><td>-0.022508</td><td>0.004743</td></tr><tr><td>2025-08-02 00:00:00</td><td>113244.8</td><td>114000.0</td><td>113145.0</td><td>113732.5</td><td>0.004297</td><td>-0.017522</td><td>-0.003903</td><td>-0.022508</td></tr><tr><td>2025-08-02 12:00:00</td><td>113732.6</td><td>113740.5</td><td>111910.0</td><td>112508.8</td><td>-0.010818</td><td>0.004297</td><td>-0.017522</td><td>-0.003903</td></tr><tr><td>2025-08-03 00:00:00</td><td>112508.8</td><td>114200.0</td><td>111850.0</td><td>113810.1</td><td>0.0115</td><td>-0.010818</td><td>0.004297</td><td>-0.017522</td></tr><tr><td>2025-08-03 12:00:00</td><td>113810.0</td><td>114730.0</td><td>113529.6</td><td>114150.8</td><td>0.002989</td><td>0.0115</td><td>-0.010818</td><td>0.004297</td></tr><tr><td>&hellip;</td><td>&hellip;</td><td>&hellip;</td><td>&hellip;</td><td>&hellip;</td><td>&hellip;</td><td>&hellip;</td><td>&hellip;</td><td>&hellip;</td></tr><tr><td>2025-10-07 12:00:00</td><td>124397.1</td><td>125098.0</td><td>120516.0</td><td>121286.5</td><td>-0.025324</td><td>-0.001858</td><td>0.003757</td><td>0.005933</td></tr><tr><td>2025-10-08 00:00:00</td><td>121286.6</td><td>123150.0</td><td>121005.3</td><td>122825.7</td><td>0.012611</td><td>-0.025324</td><td>-0.001858</td><td>0.003757</td></tr><tr><td>2025-10-08 12:00:00</td><td>122825.8</td><td>124170.6</td><td>121607.8</td><td>123237.5</td><td>0.003347</td><td>0.012611</td><td>-0.025324</td><td>-0.001858</td></tr><tr><td>2025-10-09 00:00:00</td><td>123237.4</td><td>123279.7</td><td>121081.5</td><td>122672.9</td><td>-0.004592</td><td>0.003347</td><td>0.012611</td><td>-0.025324</td></tr><tr><td>2025-10-09 12:00:00</td><td>122673.0</td><td>123740.1</td><td>119572.8</td><td>121579.3</td><td>-0.008955</td><td>-0.004592</td><td>0.003347</td><td>0.012611</td></tr></tbody></table></div>"
      ],
      "text/plain": [
       "shape: (139, 9)\n",
       "┌────────────┬──────────┬──────────┬──────────┬───┬────────────┬───────────┬───────────┬───────────┐\n",
       "│ datetime   ┆ open     ┆ high     ┆ low      ┆ … ┆ close_log_ ┆ close_log ┆ close_log ┆ close_log │\n",
       "│ ---        ┆ ---      ┆ ---      ┆ ---      ┆   ┆ return     ┆ _return_l ┆ _return_l ┆ _return_l │\n",
       "│ datetime[μ ┆ f64      ┆ f64      ┆ f64      ┆   ┆ ---        ┆ ag_1      ┆ ag_2      ┆ ag_3      │\n",
       "│ s]         ┆          ┆          ┆          ┆   ┆ f64        ┆ ---       ┆ ---       ┆ ---       │\n",
       "│            ┆          ┆          ┆          ┆   ┆            ┆ f64       ┆ f64       ┆ f64       │\n",
       "╞════════════╪══════════╪══════════╪══════════╪═══╪════════════╪═══════════╪═══════════╪═══════════╡\n",
       "│ 2025-08-01 ┆ 115246.5 ┆ 115956.0 ┆ 112660.0 ┆ … ┆ -0.017522  ┆ -0.003903 ┆ -0.022508 ┆ 0.004743  │\n",
       "│ 12:00:00   ┆          ┆          ┆          ┆   ┆            ┆           ┆           ┆           │\n",
       "│ 2025-08-02 ┆ 113244.8 ┆ 114000.0 ┆ 113145.0 ┆ … ┆ 0.004297   ┆ -0.017522 ┆ -0.003903 ┆ -0.022508 │\n",
       "│ 00:00:00   ┆          ┆          ┆          ┆   ┆            ┆           ┆           ┆           │\n",
       "│ 2025-08-02 ┆ 113732.6 ┆ 113740.5 ┆ 111910.0 ┆ … ┆ -0.010818  ┆ 0.004297  ┆ -0.017522 ┆ -0.003903 │\n",
       "│ 12:00:00   ┆          ┆          ┆          ┆   ┆            ┆           ┆           ┆           │\n",
       "│ 2025-08-03 ┆ 112508.8 ┆ 114200.0 ┆ 111850.0 ┆ … ┆ 0.0115     ┆ -0.010818 ┆ 0.004297  ┆ -0.017522 │\n",
       "│ 00:00:00   ┆          ┆          ┆          ┆   ┆            ┆           ┆           ┆           │\n",
       "│ 2025-08-03 ┆ 113810.0 ┆ 114730.0 ┆ 113529.6 ┆ … ┆ 0.002989   ┆ 0.0115    ┆ -0.010818 ┆ 0.004297  │\n",
       "│ 12:00:00   ┆          ┆          ┆          ┆   ┆            ┆           ┆           ┆           │\n",
       "│ …          ┆ …        ┆ …        ┆ …        ┆ … ┆ …          ┆ …         ┆ …         ┆ …         │\n",
       "│ 2025-10-07 ┆ 124397.1 ┆ 125098.0 ┆ 120516.0 ┆ … ┆ -0.025324  ┆ -0.001858 ┆ 0.003757  ┆ 0.005933  │\n",
       "│ 12:00:00   ┆          ┆          ┆          ┆   ┆            ┆           ┆           ┆           │\n",
       "│ 2025-10-08 ┆ 121286.6 ┆ 123150.0 ┆ 121005.3 ┆ … ┆ 0.012611   ┆ -0.025324 ┆ -0.001858 ┆ 0.003757  │\n",
       "│ 00:00:00   ┆          ┆          ┆          ┆   ┆            ┆           ┆           ┆           │\n",
       "│ 2025-10-08 ┆ 122825.8 ┆ 124170.6 ┆ 121607.8 ┆ … ┆ 0.003347   ┆ 0.012611  ┆ -0.025324 ┆ -0.001858 │\n",
       "│ 12:00:00   ┆          ┆          ┆          ┆   ┆            ┆           ┆           ┆           │\n",
       "│ 2025-10-09 ┆ 123237.4 ┆ 123279.7 ┆ 121081.5 ┆ … ┆ -0.004592  ┆ 0.003347  ┆ 0.012611  ┆ -0.025324 │\n",
       "│ 00:00:00   ┆          ┆          ┆          ┆   ┆            ┆           ┆           ┆           │\n",
       "│ 2025-10-09 ┆ 122673.0 ┆ 123740.1 ┆ 119572.8 ┆ … ┆ -0.008955  ┆ -0.004592 ┆ 0.003347  ┆ 0.012611  │\n",
       "│ 12:00:00   ┆          ┆          ┆          ┆   ┆            ┆           ┆           ┆           │\n",
       "└────────────┴──────────┴──────────┴──────────┴───┴────────────┴───────────┴───────────┴───────────┘"
      ]
     },
     "execution_count": 27,
     "metadata": {},
     "output_type": "execute_result"
    }
   ],
   "source": [
    "test_trades"
   ]
  },
  {
   "cell_type": "markdown",
   "id": "35b672ee",
   "metadata": {},
   "source": [
    "### add model's predictions to our trades"
   ]
  },
  {
   "cell_type": "code",
   "execution_count": 28,
   "id": "45ffb823",
   "metadata": {},
   "outputs": [
    {
     "data": {
      "text/plain": [
       "tensor([[-3.9031e-03, -2.2508e-02,  4.7429e-03],\n",
       "        [-1.7522e-02, -3.9031e-03, -2.2508e-02],\n",
       "        [ 4.2974e-03, -1.7522e-02, -3.9031e-03],\n",
       "        [-1.0818e-02,  4.2974e-03, -1.7522e-02],\n",
       "        [ 1.1500e-02, -1.0818e-02,  4.2974e-03],\n",
       "        [ 2.9891e-03,  1.1500e-02, -1.0818e-02],\n",
       "        [ 2.6177e-03,  2.9891e-03,  1.1500e-02],\n",
       "        [ 4.8123e-03,  2.6177e-03,  2.9891e-03],\n",
       "        [-1.9157e-03,  4.8123e-03,  2.6177e-03],\n",
       "        [-6.2259e-03, -1.9157e-03,  4.8123e-03],\n",
       "        [ 1.0374e-03, -6.2259e-03, -1.9157e-03],\n",
       "        [ 6.5727e-03,  1.0374e-03, -6.2259e-03],\n",
       "        [ 1.3207e-02,  6.5727e-03,  1.0374e-03],\n",
       "        [ 8.1304e-03,  1.3207e-02,  6.5727e-03],\n",
       "        [-4.9466e-03,  8.1304e-03,  1.3207e-02],\n",
       "        [-1.8187e-03, -4.9466e-03,  8.1304e-03],\n",
       "        [ 3.7374e-03, -1.8187e-03, -4.9466e-03],\n",
       "        [-5.5061e-03,  3.7374e-03, -1.8187e-03],\n",
       "        [ 1.5967e-02, -5.5061e-03,  3.7374e-03],\n",
       "        [ 8.0775e-03,  1.5967e-02, -5.5061e-03],\n",
       "        [ 1.0757e-02,  8.0775e-03,  1.5967e-02],\n",
       "        [-1.5913e-02,  1.0757e-02,  8.0775e-03],\n",
       "        [-1.4998e-03, -1.5913e-02,  1.0757e-02],\n",
       "        [ 1.3557e-02, -1.4998e-03, -1.5913e-02],\n",
       "        [ 3.8027e-03,  1.3557e-02, -1.4998e-03],\n",
       "        [ 2.2845e-02,  3.8027e-03,  1.3557e-02],\n",
       "        [-1.9454e-02,  2.2845e-02,  3.8027e-03],\n",
       "        [-2.2625e-02, -1.9454e-02,  2.2845e-02],\n",
       "        [ 5.9682e-03, -2.2625e-02, -1.9454e-02],\n",
       "        [-1.4146e-02,  5.9682e-03, -2.2625e-02],\n",
       "        [ 5.2170e-04, -1.4146e-02,  5.9682e-03],\n",
       "        [-9.1192e-05,  5.2170e-04, -1.4146e-02],\n",
       "        [ 7.8461e-03, -9.1192e-05,  5.2170e-04],\n",
       "        [-7.6407e-03,  7.8461e-03, -9.1192e-05],\n",
       "        [-2.1131e-02, -7.6407e-03,  7.8461e-03],\n",
       "        [ 1.1110e-02, -2.1131e-02, -7.6407e-03],\n",
       "        [-6.2389e-03,  1.1110e-02, -2.1131e-02],\n",
       "        [-2.3102e-02, -6.2389e-03,  1.1110e-02],\n",
       "        [ 7.0947e-03, -2.3102e-02, -6.2389e-03],\n",
       "        [ 5.2052e-03,  7.0947e-03, -2.3102e-02],\n",
       "        [-9.8566e-03,  5.2052e-03,  7.0947e-03],\n",
       "        [-5.6570e-03, -9.8566e-03,  5.2052e-03],\n",
       "        [-1.6855e-03, -5.6570e-03, -9.8566e-03],\n",
       "        [ 4.0366e-02, -1.6855e-03, -5.6570e-03],\n",
       "        [-1.4049e-02,  4.0366e-02, -1.6855e-03],\n",
       "        [ 9.5732e-04, -1.4049e-02,  4.0366e-02],\n",
       "        [-5.8684e-03,  9.5732e-04, -1.4049e-02],\n",
       "        [-1.1008e-02, -5.8684e-03,  9.5732e-04],\n",
       "        [-2.0146e-02, -1.1008e-02, -5.8684e-03],\n",
       "        [-1.0122e-02, -2.0146e-02, -1.1008e-02],\n",
       "        [-2.0172e-03, -1.0122e-02, -2.0146e-02],\n",
       "        [ 1.6861e-02, -2.0172e-03, -1.0122e-02],\n",
       "        [-3.9385e-03,  1.6861e-02, -2.0172e-03],\n",
       "        [-6.8235e-04, -3.9385e-03,  1.6861e-02],\n",
       "        [ 1.5010e-02, -6.8235e-04, -3.9385e-03],\n",
       "        [-3.2762e-03,  1.5010e-02, -6.8235e-04],\n",
       "        [-2.2103e-02, -3.2762e-03,  1.5010e-02],\n",
       "        [-1.5711e-02, -2.2103e-02, -3.2762e-03],\n",
       "        [ 2.8225e-03, -1.5711e-02, -2.2103e-02],\n",
       "        [ 1.0975e-03,  2.8225e-03, -1.5711e-02],\n",
       "        [-3.7576e-03,  1.0975e-03,  2.8225e-03],\n",
       "        [-1.3077e-03, -3.7576e-03,  1.0975e-03],\n",
       "        [ 4.7342e-03, -1.3077e-03, -3.7576e-03],\n",
       "        [ 4.2770e-03,  4.7342e-03, -1.3077e-03],\n",
       "        [ 4.6664e-03,  4.2770e-03,  4.7342e-03],\n",
       "        [ 1.3486e-02,  4.6664e-03,  4.2770e-03],\n",
       "        [ 1.8295e-03,  1.3486e-02,  4.6664e-03],\n",
       "        [ 2.4048e-03,  1.8295e-03,  1.3486e-02],\n",
       "        [-8.0558e-03,  2.4048e-03,  1.8295e-03],\n",
       "        [-7.6318e-04, -8.0558e-03,  2.4048e-03],\n",
       "        [ 1.4533e-02, -7.6318e-04, -8.0558e-03],\n",
       "        [-1.5116e-02,  1.4533e-02, -7.6318e-04],\n",
       "        [ 1.0662e-03, -1.5116e-02,  1.4533e-02],\n",
       "        [-5.4114e-03,  1.0662e-03, -1.5116e-02],\n",
       "        [ 1.0066e-02, -5.4114e-03,  1.0662e-03],\n",
       "        [-1.5608e-03,  1.0066e-02, -5.4114e-03],\n",
       "        [ 8.4806e-03, -1.5608e-03,  1.0066e-02],\n",
       "        [-8.3916e-05,  8.4806e-03, -1.5608e-03],\n",
       "        [ 3.4294e-03, -8.3916e-05,  8.4806e-03],\n",
       "        [-8.0171e-03,  3.4294e-03, -8.3916e-05],\n",
       "        [ 6.8509e-03, -8.0171e-03,  3.4294e-03],\n",
       "        [ 1.4418e-02,  6.8509e-03, -8.0171e-03],\n",
       "        [ 5.6263e-04,  1.4418e-02,  6.8509e-03],\n",
       "        [ 1.2783e-02,  5.6263e-04,  1.4418e-02],\n",
       "        [-4.8982e-03,  1.2783e-02,  5.6263e-04],\n",
       "        [ 9.6639e-03, -4.8982e-03,  1.2783e-02],\n",
       "        [-5.6492e-04,  9.6639e-03, -4.8982e-03],\n",
       "        [-4.3318e-04, -5.6492e-04,  9.6639e-03],\n",
       "        [-9.7318e-04, -4.3318e-04, -5.6492e-04],\n",
       "        [-4.6761e-03, -9.7318e-04, -4.3318e-04],\n",
       "        [-1.7462e-03, -4.6761e-03, -9.7318e-04],\n",
       "        [ 2.5322e-03, -1.7462e-03, -4.6761e-03],\n",
       "        [-6.8019e-04,  2.5322e-03, -1.7462e-03],\n",
       "        [ 1.3149e-02, -6.8019e-04,  2.5322e-03],\n",
       "        [-4.6981e-03,  1.3149e-02, -6.8019e-04],\n",
       "        [ 1.7403e-03, -4.6981e-03,  1.3149e-02],\n",
       "        [ 5.2481e-03,  1.7403e-03, -4.6981e-03],\n",
       "        [ 1.7946e-05,  5.2481e-03,  1.7403e-03],\n",
       "        [-5.7765e-03,  1.7946e-05,  5.2481e-03],\n",
       "        [-6.6715e-03, -5.7765e-03,  1.7946e-05],\n",
       "        [ 2.2938e-03, -6.6715e-03, -5.7765e-03],\n",
       "        [-1.8146e-03,  2.2938e-03, -6.6715e-03],\n",
       "        [-5.6751e-04, -1.8146e-03,  2.2938e-03],\n",
       "        [-3.2538e-03, -5.6751e-04, -1.8146e-03],\n",
       "        [-2.0789e-02, -3.2538e-03, -5.6751e-04],\n",
       "        [-1.8579e-03, -2.0789e-02, -3.2538e-03],\n",
       "        [ 2.9609e-03, -1.8579e-03, -2.0789e-02],\n",
       "        [-8.8188e-03,  2.9609e-03, -1.8579e-03],\n",
       "        [ 9.2030e-03, -8.8188e-03,  2.9609e-03],\n",
       "        [ 2.4046e-03,  9.2030e-03, -8.8188e-03],\n",
       "        [-1.7259e-02,  2.4046e-03,  9.2030e-03],\n",
       "        [-2.1627e-02, -1.7259e-02,  2.4046e-03],\n",
       "        [ 1.3614e-03, -2.1627e-02, -1.7259e-02],\n",
       "        [ 4.6243e-03,  1.3614e-03, -2.1627e-02],\n",
       "        [-2.9490e-03,  4.6243e-03,  1.3614e-03],\n",
       "        [ 2.8468e-03, -2.9490e-03,  4.6243e-03],\n",
       "        [-2.3518e-03,  2.8468e-03, -2.9490e-03],\n",
       "        [ 2.5288e-02, -2.3518e-03,  2.8468e-03],\n",
       "        [-6.0311e-04,  2.5288e-02, -2.3518e-03],\n",
       "        [ 1.9488e-02, -6.0311e-04,  2.5288e-02],\n",
       "        [-1.1031e-02,  1.9488e-02, -6.0311e-04],\n",
       "        [ 8.6796e-03, -1.1031e-02,  1.9488e-02],\n",
       "        [ 2.3822e-02,  8.6796e-03, -1.1031e-02],\n",
       "        [ 1.5433e-02,  2.3822e-02,  8.6796e-03],\n",
       "        [ 1.3790e-03,  1.5433e-02,  2.3822e-02],\n",
       "        [ 1.4760e-02,  1.3790e-03,  1.5433e-02],\n",
       "        [-1.4461e-03,  1.4760e-02,  1.3790e-03],\n",
       "        [ 1.5469e-02, -1.4461e-03,  1.4760e-02],\n",
       "        [-2.1146e-03,  1.5469e-02, -1.4461e-03],\n",
       "        [ 3.4274e-03, -2.1146e-03,  1.5469e-02],\n",
       "        [ 8.7079e-03,  3.4274e-03, -2.1146e-03],\n",
       "        [ 1.0938e-04,  8.7079e-03,  3.4274e-03],\n",
       "        [ 5.9333e-03,  1.0938e-04,  8.7079e-03],\n",
       "        [ 3.7566e-03,  5.9333e-03,  1.0938e-04],\n",
       "        [-1.8576e-03,  3.7566e-03,  5.9333e-03],\n",
       "        [-2.5324e-02, -1.8576e-03,  3.7566e-03],\n",
       "        [ 1.2611e-02, -2.5324e-02, -1.8576e-03],\n",
       "        [ 3.3471e-03,  1.2611e-02, -2.5324e-02],\n",
       "        [-4.5919e-03,  3.3471e-03,  1.2611e-02]])"
      ]
     },
     "execution_count": 28,
     "metadata": {},
     "output_type": "execute_result"
    }
   ],
   "source": [
    "target = 'close_log_return'\n",
    "features = [f'{target}_lag_1',f'{target}_lag_2',f'{target}_lag_3']\n",
    "X_test = torch.tensor(test_trades[features].to_numpy(), dtype=torch.float32)\n",
    "# y_hat = model(X_test)\n",
    "# s = pl.Series('y_hat', y_hat.detach().cpu().numpy().reshape(-1))\n",
    "# return test_trades.with_columns(s)\n",
    "X_test"
   ]
  },
  {
   "cell_type": "code",
   "execution_count": 29,
   "id": "c7e3ef39",
   "metadata": {},
   "outputs": [
    {
     "data": {
      "text/plain": [
       "array([ 2.7250049e-03,  2.1188434e-03,  1.2927788e-03,  1.0112474e-03,\n",
       "        3.2494919e-04, -7.1889622e-04,  5.2317360e-04,  7.9397301e-05,\n",
       "        6.2065473e-04,  1.5833104e-03,  9.2798669e-04, -2.5783834e-04,\n",
       "       -1.1144528e-03, -8.7648805e-04,  1.0119270e-03,  1.4228638e-03,\n",
       "        2.6518002e-04,  9.4075553e-04, -5.1250641e-04, -1.3981205e-03,\n",
       "       -5.3884066e-04,  1.8302501e-03,  2.2016400e-03, -1.0870418e-03,\n",
       "       -6.7836454e-04, -1.5760434e-03,  1.2643430e-03,  4.9775564e-03,\n",
       "        1.0226325e-03,  1.1005504e-03,  1.7372308e-03,  2.4564972e-04,\n",
       "       -1.2351233e-04,  9.3511806e-04,  3.6035783e-03,  7.2172325e-04,\n",
       "       -2.4977771e-05,  3.8064220e-03,  1.3112662e-03, -1.0002649e-03,\n",
       "        1.5462687e-03,  2.0694258e-03,  9.4825873e-04, -3.5714016e-03,\n",
       "       -6.3125888e-04,  2.6579564e-03,  8.1963389e-04,  2.2372843e-03,\n",
       "        3.3398950e-03,  2.7672471e-03,  9.9215400e-04, -1.2319377e-03,\n",
       "       -1.1054149e-04,  1.4837570e-03, -9.5451932e-04, -1.7152906e-05,\n",
       "        3.6135977e-03,  3.6984689e-03,  8.0964598e-04, -7.6921147e-05,\n",
       "        1.0677850e-03,  1.0909302e-03,  1.6080642e-04, -1.2881051e-04,\n",
       "        3.2298074e-05, -9.2360983e-04, -2.9415646e-04,  6.7945296e-04,\n",
       "        1.3985792e-03,  1.3604058e-03, -1.0158867e-03,  1.2433624e-03,\n",
       "        1.9879967e-03,  7.3464424e-04,  1.9002233e-05,  3.3794279e-06,\n",
       "        1.7921941e-04,  6.5355103e-05,  5.6013366e-04,  1.2715362e-03,\n",
       "        5.9528125e-04, -1.5150595e-03, -1.6341578e-04, -2.8777862e-04,\n",
       "        3.3644456e-04,  3.5753264e-04, -5.8592301e-05,  1.0274623e-03,\n",
       "        7.8553514e-04,  1.2105075e-03,  1.1397470e-03,  3.9322619e-04,\n",
       "        5.2221352e-04, -5.7832326e-04,  2.5585521e-04,  1.1780879e-03,\n",
       "       -1.2422653e-04,  3.6553227e-04,  1.4188495e-03,  1.7537747e-03,\n",
       "        7.1820203e-04,  5.1691569e-04,  9.1711065e-04,  9.9631527e-04,\n",
       "        3.0350189e-03,  2.1706824e-03, -9.9363264e-05,  1.3362323e-03,\n",
       "        3.9145979e-04, -4.4711743e-04,  2.5637592e-03,  4.1482742e-03,\n",
       "        1.4964670e-03, -5.1252620e-04,  7.0519425e-04,  7.0438912e-04,\n",
       "        6.4081111e-04, -1.7187798e-03, -1.0335635e-03, -5.9906143e-04,\n",
       "        4.8992777e-04,  1.0619161e-03, -2.7007628e-03, -2.2900393e-03,\n",
       "        1.6325442e-04, -5.1956438e-04, -1.3234185e-04, -4.2220642e-04,\n",
       "       -1.9037790e-04,  8.9452585e-04, -5.2430842e-04,  1.7100734e-04,\n",
       "        2.9328279e-04, -1.1529861e-04,  7.7937514e-04,  3.5348271e-03,\n",
       "        1.0112165e-03, -1.2409771e-03,  1.2799419e-03], dtype=float32)"
      ]
     },
     "execution_count": 29,
     "metadata": {},
     "output_type": "execute_result"
    }
   ],
   "source": [
    "model(X_test).detach().cpu().numpy().squeeze()"
   ]
  },
  {
   "cell_type": "code",
   "execution_count": 30,
   "id": "f2d29dcf",
   "metadata": {},
   "outputs": [
    {
     "data": {
      "text/html": [
       "<div><style>\n",
       ".dataframe > thead > tr,\n",
       ".dataframe > tbody > tr {\n",
       "  text-align: right;\n",
       "  white-space: pre-wrap;\n",
       "}\n",
       "</style>\n",
       "<small>shape: (139, 10)</small><table border=\"1\" class=\"dataframe\"><thead><tr><th>datetime</th><th>open</th><th>high</th><th>low</th><th>close</th><th>close_log_return</th><th>close_log_return_lag_1</th><th>close_log_return_lag_2</th><th>close_log_return_lag_3</th><th>y_hat</th></tr><tr><td>datetime[μs]</td><td>f64</td><td>f64</td><td>f64</td><td>f64</td><td>f64</td><td>f64</td><td>f64</td><td>f64</td><td>f32</td></tr></thead><tbody><tr><td>2025-08-01 12:00:00</td><td>115246.5</td><td>115956.0</td><td>112660.0</td><td>113244.8</td><td>-0.017522</td><td>-0.003903</td><td>-0.022508</td><td>0.004743</td><td>0.002725</td></tr><tr><td>2025-08-02 00:00:00</td><td>113244.8</td><td>114000.0</td><td>113145.0</td><td>113732.5</td><td>0.004297</td><td>-0.017522</td><td>-0.003903</td><td>-0.022508</td><td>0.002119</td></tr><tr><td>2025-08-02 12:00:00</td><td>113732.6</td><td>113740.5</td><td>111910.0</td><td>112508.8</td><td>-0.010818</td><td>0.004297</td><td>-0.017522</td><td>-0.003903</td><td>0.001293</td></tr><tr><td>2025-08-03 00:00:00</td><td>112508.8</td><td>114200.0</td><td>111850.0</td><td>113810.1</td><td>0.0115</td><td>-0.010818</td><td>0.004297</td><td>-0.017522</td><td>0.001011</td></tr><tr><td>2025-08-03 12:00:00</td><td>113810.0</td><td>114730.0</td><td>113529.6</td><td>114150.8</td><td>0.002989</td><td>0.0115</td><td>-0.010818</td><td>0.004297</td><td>0.000325</td></tr><tr><td>&hellip;</td><td>&hellip;</td><td>&hellip;</td><td>&hellip;</td><td>&hellip;</td><td>&hellip;</td><td>&hellip;</td><td>&hellip;</td><td>&hellip;</td><td>&hellip;</td></tr><tr><td>2025-10-07 12:00:00</td><td>124397.1</td><td>125098.0</td><td>120516.0</td><td>121286.5</td><td>-0.025324</td><td>-0.001858</td><td>0.003757</td><td>0.005933</td><td>0.000779</td></tr><tr><td>2025-10-08 00:00:00</td><td>121286.6</td><td>123150.0</td><td>121005.3</td><td>122825.7</td><td>0.012611</td><td>-0.025324</td><td>-0.001858</td><td>0.003757</td><td>0.003535</td></tr><tr><td>2025-10-08 12:00:00</td><td>122825.8</td><td>124170.6</td><td>121607.8</td><td>123237.5</td><td>0.003347</td><td>0.012611</td><td>-0.025324</td><td>-0.001858</td><td>0.001011</td></tr><tr><td>2025-10-09 00:00:00</td><td>123237.4</td><td>123279.7</td><td>121081.5</td><td>122672.9</td><td>-0.004592</td><td>0.003347</td><td>0.012611</td><td>-0.025324</td><td>-0.001241</td></tr><tr><td>2025-10-09 12:00:00</td><td>122673.0</td><td>123740.1</td><td>119572.8</td><td>121579.3</td><td>-0.008955</td><td>-0.004592</td><td>0.003347</td><td>0.012611</td><td>0.00128</td></tr></tbody></table></div>"
      ],
      "text/plain": [
       "shape: (139, 10)\n",
       "┌────────────┬──────────┬──────────┬──────────┬───┬────────────┬───────────┬───────────┬───────────┐\n",
       "│ datetime   ┆ open     ┆ high     ┆ low      ┆ … ┆ close_log_ ┆ close_log ┆ close_log ┆ y_hat     │\n",
       "│ ---        ┆ ---      ┆ ---      ┆ ---      ┆   ┆ return_lag ┆ _return_l ┆ _return_l ┆ ---       │\n",
       "│ datetime[μ ┆ f64      ┆ f64      ┆ f64      ┆   ┆ _1         ┆ ag_2      ┆ ag_3      ┆ f32       │\n",
       "│ s]         ┆          ┆          ┆          ┆   ┆ ---        ┆ ---       ┆ ---       ┆           │\n",
       "│            ┆          ┆          ┆          ┆   ┆ f64        ┆ f64       ┆ f64       ┆           │\n",
       "╞════════════╪══════════╪══════════╪══════════╪═══╪════════════╪═══════════╪═══════════╪═══════════╡\n",
       "│ 2025-08-01 ┆ 115246.5 ┆ 115956.0 ┆ 112660.0 ┆ … ┆ -0.003903  ┆ -0.022508 ┆ 0.004743  ┆ 0.002725  │\n",
       "│ 12:00:00   ┆          ┆          ┆          ┆   ┆            ┆           ┆           ┆           │\n",
       "│ 2025-08-02 ┆ 113244.8 ┆ 114000.0 ┆ 113145.0 ┆ … ┆ -0.017522  ┆ -0.003903 ┆ -0.022508 ┆ 0.002119  │\n",
       "│ 00:00:00   ┆          ┆          ┆          ┆   ┆            ┆           ┆           ┆           │\n",
       "│ 2025-08-02 ┆ 113732.6 ┆ 113740.5 ┆ 111910.0 ┆ … ┆ 0.004297   ┆ -0.017522 ┆ -0.003903 ┆ 0.001293  │\n",
       "│ 12:00:00   ┆          ┆          ┆          ┆   ┆            ┆           ┆           ┆           │\n",
       "│ 2025-08-03 ┆ 112508.8 ┆ 114200.0 ┆ 111850.0 ┆ … ┆ -0.010818  ┆ 0.004297  ┆ -0.017522 ┆ 0.001011  │\n",
       "│ 00:00:00   ┆          ┆          ┆          ┆   ┆            ┆           ┆           ┆           │\n",
       "│ 2025-08-03 ┆ 113810.0 ┆ 114730.0 ┆ 113529.6 ┆ … ┆ 0.0115     ┆ -0.010818 ┆ 0.004297  ┆ 0.000325  │\n",
       "│ 12:00:00   ┆          ┆          ┆          ┆   ┆            ┆           ┆           ┆           │\n",
       "│ …          ┆ …        ┆ …        ┆ …        ┆ … ┆ …          ┆ …         ┆ …         ┆ …         │\n",
       "│ 2025-10-07 ┆ 124397.1 ┆ 125098.0 ┆ 120516.0 ┆ … ┆ -0.001858  ┆ 0.003757  ┆ 0.005933  ┆ 0.000779  │\n",
       "│ 12:00:00   ┆          ┆          ┆          ┆   ┆            ┆           ┆           ┆           │\n",
       "│ 2025-10-08 ┆ 121286.6 ┆ 123150.0 ┆ 121005.3 ┆ … ┆ -0.025324  ┆ -0.001858 ┆ 0.003757  ┆ 0.003535  │\n",
       "│ 00:00:00   ┆          ┆          ┆          ┆   ┆            ┆           ┆           ┆           │\n",
       "│ 2025-10-08 ┆ 122825.8 ┆ 124170.6 ┆ 121607.8 ┆ … ┆ 0.012611   ┆ -0.025324 ┆ -0.001858 ┆ 0.001011  │\n",
       "│ 12:00:00   ┆          ┆          ┆          ┆   ┆            ┆           ┆           ┆           │\n",
       "│ 2025-10-09 ┆ 123237.4 ┆ 123279.7 ┆ 121081.5 ┆ … ┆ 0.003347   ┆ 0.012611  ┆ -0.025324 ┆ -0.001241 │\n",
       "│ 00:00:00   ┆          ┆          ┆          ┆   ┆            ┆           ┆           ┆           │\n",
       "│ 2025-10-09 ┆ 122673.0 ┆ 123740.1 ┆ 119572.8 ┆ … ┆ -0.004592  ┆ 0.003347  ┆ 0.012611  ┆ 0.00128   │\n",
       "│ 12:00:00   ┆          ┆          ┆          ┆   ┆            ┆           ┆           ┆           │\n",
       "└────────────┴──────────┴──────────┴──────────┴───┴────────────┴───────────┴───────────┴───────────┘"
      ]
     },
     "execution_count": 30,
     "metadata": {},
     "output_type": "execute_result"
    }
   ],
   "source": [
    "target = 'close_log_return'\n",
    "features = [f'{target}_lag_1',f'{target}_lag_2',f'{target}_lag_3']\n",
    "test_trades = research.add_model_predictions(test_trades, model, features)\n",
    "test_trades"
   ]
  },
  {
   "cell_type": "markdown",
   "id": "c3cf64ab",
   "metadata": {},
   "source": [
    "### add directional signal"
   ]
  },
  {
   "cell_type": "code",
   "execution_count": 31,
   "id": "71f913c7",
   "metadata": {},
   "outputs": [
    {
     "data": {
      "text/html": [
       "<div><style>\n",
       ".dataframe > thead > tr,\n",
       ".dataframe > tbody > tr {\n",
       "  text-align: right;\n",
       "  white-space: pre-wrap;\n",
       "}\n",
       "</style>\n",
       "<small>shape: (139, 11)</small><table border=\"1\" class=\"dataframe\"><thead><tr><th>datetime</th><th>open</th><th>high</th><th>low</th><th>close</th><th>close_log_return</th><th>close_log_return_lag_1</th><th>close_log_return_lag_2</th><th>close_log_return_lag_3</th><th>y_hat</th><th>dir_signal</th></tr><tr><td>datetime[μs]</td><td>f64</td><td>f64</td><td>f64</td><td>f64</td><td>f64</td><td>f64</td><td>f64</td><td>f64</td><td>f32</td><td>f32</td></tr></thead><tbody><tr><td>2025-08-01 12:00:00</td><td>115246.5</td><td>115956.0</td><td>112660.0</td><td>113244.8</td><td>-0.017522</td><td>-0.003903</td><td>-0.022508</td><td>0.004743</td><td>0.002725</td><td>1.0</td></tr><tr><td>2025-08-02 00:00:00</td><td>113244.8</td><td>114000.0</td><td>113145.0</td><td>113732.5</td><td>0.004297</td><td>-0.017522</td><td>-0.003903</td><td>-0.022508</td><td>0.002119</td><td>1.0</td></tr><tr><td>2025-08-02 12:00:00</td><td>113732.6</td><td>113740.5</td><td>111910.0</td><td>112508.8</td><td>-0.010818</td><td>0.004297</td><td>-0.017522</td><td>-0.003903</td><td>0.001293</td><td>1.0</td></tr><tr><td>2025-08-03 00:00:00</td><td>112508.8</td><td>114200.0</td><td>111850.0</td><td>113810.1</td><td>0.0115</td><td>-0.010818</td><td>0.004297</td><td>-0.017522</td><td>0.001011</td><td>1.0</td></tr><tr><td>2025-08-03 12:00:00</td><td>113810.0</td><td>114730.0</td><td>113529.6</td><td>114150.8</td><td>0.002989</td><td>0.0115</td><td>-0.010818</td><td>0.004297</td><td>0.000325</td><td>1.0</td></tr><tr><td>&hellip;</td><td>&hellip;</td><td>&hellip;</td><td>&hellip;</td><td>&hellip;</td><td>&hellip;</td><td>&hellip;</td><td>&hellip;</td><td>&hellip;</td><td>&hellip;</td><td>&hellip;</td></tr><tr><td>2025-10-07 12:00:00</td><td>124397.1</td><td>125098.0</td><td>120516.0</td><td>121286.5</td><td>-0.025324</td><td>-0.001858</td><td>0.003757</td><td>0.005933</td><td>0.000779</td><td>1.0</td></tr><tr><td>2025-10-08 00:00:00</td><td>121286.6</td><td>123150.0</td><td>121005.3</td><td>122825.7</td><td>0.012611</td><td>-0.025324</td><td>-0.001858</td><td>0.003757</td><td>0.003535</td><td>1.0</td></tr><tr><td>2025-10-08 12:00:00</td><td>122825.8</td><td>124170.6</td><td>121607.8</td><td>123237.5</td><td>0.003347</td><td>0.012611</td><td>-0.025324</td><td>-0.001858</td><td>0.001011</td><td>1.0</td></tr><tr><td>2025-10-09 00:00:00</td><td>123237.4</td><td>123279.7</td><td>121081.5</td><td>122672.9</td><td>-0.004592</td><td>0.003347</td><td>0.012611</td><td>-0.025324</td><td>-0.001241</td><td>-1.0</td></tr><tr><td>2025-10-09 12:00:00</td><td>122673.0</td><td>123740.1</td><td>119572.8</td><td>121579.3</td><td>-0.008955</td><td>-0.004592</td><td>0.003347</td><td>0.012611</td><td>0.00128</td><td>1.0</td></tr></tbody></table></div>"
      ],
      "text/plain": [
       "shape: (139, 11)\n",
       "┌────────────┬──────────┬──────────┬──────────┬───┬────────────┬───────────┬───────────┬───────────┐\n",
       "│ datetime   ┆ open     ┆ high     ┆ low      ┆ … ┆ close_log_ ┆ close_log ┆ y_hat     ┆ dir_signa │\n",
       "│ ---        ┆ ---      ┆ ---      ┆ ---      ┆   ┆ return_lag ┆ _return_l ┆ ---       ┆ l         │\n",
       "│ datetime[μ ┆ f64      ┆ f64      ┆ f64      ┆   ┆ _2         ┆ ag_3      ┆ f32       ┆ ---       │\n",
       "│ s]         ┆          ┆          ┆          ┆   ┆ ---        ┆ ---       ┆           ┆ f32       │\n",
       "│            ┆          ┆          ┆          ┆   ┆ f64        ┆ f64       ┆           ┆           │\n",
       "╞════════════╪══════════╪══════════╪══════════╪═══╪════════════╪═══════════╪═══════════╪═══════════╡\n",
       "│ 2025-08-01 ┆ 115246.5 ┆ 115956.0 ┆ 112660.0 ┆ … ┆ -0.022508  ┆ 0.004743  ┆ 0.002725  ┆ 1.0       │\n",
       "│ 12:00:00   ┆          ┆          ┆          ┆   ┆            ┆           ┆           ┆           │\n",
       "│ 2025-08-02 ┆ 113244.8 ┆ 114000.0 ┆ 113145.0 ┆ … ┆ -0.003903  ┆ -0.022508 ┆ 0.002119  ┆ 1.0       │\n",
       "│ 00:00:00   ┆          ┆          ┆          ┆   ┆            ┆           ┆           ┆           │\n",
       "│ 2025-08-02 ┆ 113732.6 ┆ 113740.5 ┆ 111910.0 ┆ … ┆ -0.017522  ┆ -0.003903 ┆ 0.001293  ┆ 1.0       │\n",
       "│ 12:00:00   ┆          ┆          ┆          ┆   ┆            ┆           ┆           ┆           │\n",
       "│ 2025-08-03 ┆ 112508.8 ┆ 114200.0 ┆ 111850.0 ┆ … ┆ 0.004297   ┆ -0.017522 ┆ 0.001011  ┆ 1.0       │\n",
       "│ 00:00:00   ┆          ┆          ┆          ┆   ┆            ┆           ┆           ┆           │\n",
       "│ 2025-08-03 ┆ 113810.0 ┆ 114730.0 ┆ 113529.6 ┆ … ┆ -0.010818  ┆ 0.004297  ┆ 0.000325  ┆ 1.0       │\n",
       "│ 12:00:00   ┆          ┆          ┆          ┆   ┆            ┆           ┆           ┆           │\n",
       "│ …          ┆ …        ┆ …        ┆ …        ┆ … ┆ …          ┆ …         ┆ …         ┆ …         │\n",
       "│ 2025-10-07 ┆ 124397.1 ┆ 125098.0 ┆ 120516.0 ┆ … ┆ 0.003757   ┆ 0.005933  ┆ 0.000779  ┆ 1.0       │\n",
       "│ 12:00:00   ┆          ┆          ┆          ┆   ┆            ┆           ┆           ┆           │\n",
       "│ 2025-10-08 ┆ 121286.6 ┆ 123150.0 ┆ 121005.3 ┆ … ┆ -0.001858  ┆ 0.003757  ┆ 0.003535  ┆ 1.0       │\n",
       "│ 00:00:00   ┆          ┆          ┆          ┆   ┆            ┆           ┆           ┆           │\n",
       "│ 2025-10-08 ┆ 122825.8 ┆ 124170.6 ┆ 121607.8 ┆ … ┆ -0.025324  ┆ -0.001858 ┆ 0.001011  ┆ 1.0       │\n",
       "│ 12:00:00   ┆          ┆          ┆          ┆   ┆            ┆           ┆           ┆           │\n",
       "│ 2025-10-09 ┆ 123237.4 ┆ 123279.7 ┆ 121081.5 ┆ … ┆ 0.012611   ┆ -0.025324 ┆ -0.001241 ┆ -1.0      │\n",
       "│ 00:00:00   ┆          ┆          ┆          ┆   ┆            ┆           ┆           ┆           │\n",
       "│ 2025-10-09 ┆ 122673.0 ┆ 123740.1 ┆ 119572.8 ┆ … ┆ 0.003347   ┆ 0.012611  ┆ 0.00128   ┆ 1.0       │\n",
       "│ 12:00:00   ┆          ┆          ┆          ┆   ┆            ┆           ┆           ┆           │\n",
       "└────────────┴──────────┴──────────┴──────────┴───┴────────────┴───────────┴───────────┴───────────┘"
      ]
     },
     "execution_count": 31,
     "metadata": {},
     "output_type": "execute_result"
    }
   ],
   "source": [
    "test_trades = test_trades.with_columns(pl.col('y_hat').sign().alias('dir_signal'))\n",
    "test_trades"
   ]
  },
  {
   "cell_type": "markdown",
   "id": "1e45b351",
   "metadata": {},
   "source": [
    "### calculate trade log return"
   ]
  },
  {
   "cell_type": "code",
   "execution_count": 32,
   "id": "3ff95e7b",
   "metadata": {},
   "outputs": [
    {
     "data": {
      "text/html": [
       "<div><style>\n",
       ".dataframe > thead > tr,\n",
       ".dataframe > tbody > tr {\n",
       "  text-align: right;\n",
       "  white-space: pre-wrap;\n",
       "}\n",
       "</style>\n",
       "<small>shape: (139, 12)</small><table border=\"1\" class=\"dataframe\"><thead><tr><th>datetime</th><th>open</th><th>high</th><th>low</th><th>close</th><th>close_log_return</th><th>close_log_return_lag_1</th><th>close_log_return_lag_2</th><th>close_log_return_lag_3</th><th>y_hat</th><th>dir_signal</th><th>trade_log_return</th></tr><tr><td>datetime[μs]</td><td>f64</td><td>f64</td><td>f64</td><td>f64</td><td>f64</td><td>f64</td><td>f64</td><td>f64</td><td>f32</td><td>f32</td><td>f64</td></tr></thead><tbody><tr><td>2025-08-01 12:00:00</td><td>115246.5</td><td>115956.0</td><td>112660.0</td><td>113244.8</td><td>-0.017522</td><td>-0.003903</td><td>-0.022508</td><td>0.004743</td><td>0.002725</td><td>1.0</td><td>-0.017522</td></tr><tr><td>2025-08-02 00:00:00</td><td>113244.8</td><td>114000.0</td><td>113145.0</td><td>113732.5</td><td>0.004297</td><td>-0.017522</td><td>-0.003903</td><td>-0.022508</td><td>0.002119</td><td>1.0</td><td>0.004297</td></tr><tr><td>2025-08-02 12:00:00</td><td>113732.6</td><td>113740.5</td><td>111910.0</td><td>112508.8</td><td>-0.010818</td><td>0.004297</td><td>-0.017522</td><td>-0.003903</td><td>0.001293</td><td>1.0</td><td>-0.010818</td></tr><tr><td>2025-08-03 00:00:00</td><td>112508.8</td><td>114200.0</td><td>111850.0</td><td>113810.1</td><td>0.0115</td><td>-0.010818</td><td>0.004297</td><td>-0.017522</td><td>0.001011</td><td>1.0</td><td>0.0115</td></tr><tr><td>2025-08-03 12:00:00</td><td>113810.0</td><td>114730.0</td><td>113529.6</td><td>114150.8</td><td>0.002989</td><td>0.0115</td><td>-0.010818</td><td>0.004297</td><td>0.000325</td><td>1.0</td><td>0.002989</td></tr><tr><td>&hellip;</td><td>&hellip;</td><td>&hellip;</td><td>&hellip;</td><td>&hellip;</td><td>&hellip;</td><td>&hellip;</td><td>&hellip;</td><td>&hellip;</td><td>&hellip;</td><td>&hellip;</td><td>&hellip;</td></tr><tr><td>2025-10-07 12:00:00</td><td>124397.1</td><td>125098.0</td><td>120516.0</td><td>121286.5</td><td>-0.025324</td><td>-0.001858</td><td>0.003757</td><td>0.005933</td><td>0.000779</td><td>1.0</td><td>-0.025324</td></tr><tr><td>2025-10-08 00:00:00</td><td>121286.6</td><td>123150.0</td><td>121005.3</td><td>122825.7</td><td>0.012611</td><td>-0.025324</td><td>-0.001858</td><td>0.003757</td><td>0.003535</td><td>1.0</td><td>0.012611</td></tr><tr><td>2025-10-08 12:00:00</td><td>122825.8</td><td>124170.6</td><td>121607.8</td><td>123237.5</td><td>0.003347</td><td>0.012611</td><td>-0.025324</td><td>-0.001858</td><td>0.001011</td><td>1.0</td><td>0.003347</td></tr><tr><td>2025-10-09 00:00:00</td><td>123237.4</td><td>123279.7</td><td>121081.5</td><td>122672.9</td><td>-0.004592</td><td>0.003347</td><td>0.012611</td><td>-0.025324</td><td>-0.001241</td><td>-1.0</td><td>0.004592</td></tr><tr><td>2025-10-09 12:00:00</td><td>122673.0</td><td>123740.1</td><td>119572.8</td><td>121579.3</td><td>-0.008955</td><td>-0.004592</td><td>0.003347</td><td>0.012611</td><td>0.00128</td><td>1.0</td><td>-0.008955</td></tr></tbody></table></div>"
      ],
      "text/plain": [
       "shape: (139, 12)\n",
       "┌────────────┬──────────┬──────────┬──────────┬───┬────────────┬───────────┬───────────┬───────────┐\n",
       "│ datetime   ┆ open     ┆ high     ┆ low      ┆ … ┆ close_log_ ┆ y_hat     ┆ dir_signa ┆ trade_log │\n",
       "│ ---        ┆ ---      ┆ ---      ┆ ---      ┆   ┆ return_lag ┆ ---       ┆ l         ┆ _return   │\n",
       "│ datetime[μ ┆ f64      ┆ f64      ┆ f64      ┆   ┆ _3         ┆ f32       ┆ ---       ┆ ---       │\n",
       "│ s]         ┆          ┆          ┆          ┆   ┆ ---        ┆           ┆ f32       ┆ f64       │\n",
       "│            ┆          ┆          ┆          ┆   ┆ f64        ┆           ┆           ┆           │\n",
       "╞════════════╪══════════╪══════════╪══════════╪═══╪════════════╪═══════════╪═══════════╪═══════════╡\n",
       "│ 2025-08-01 ┆ 115246.5 ┆ 115956.0 ┆ 112660.0 ┆ … ┆ 0.004743   ┆ 0.002725  ┆ 1.0       ┆ -0.017522 │\n",
       "│ 12:00:00   ┆          ┆          ┆          ┆   ┆            ┆           ┆           ┆           │\n",
       "│ 2025-08-02 ┆ 113244.8 ┆ 114000.0 ┆ 113145.0 ┆ … ┆ -0.022508  ┆ 0.002119  ┆ 1.0       ┆ 0.004297  │\n",
       "│ 00:00:00   ┆          ┆          ┆          ┆   ┆            ┆           ┆           ┆           │\n",
       "│ 2025-08-02 ┆ 113732.6 ┆ 113740.5 ┆ 111910.0 ┆ … ┆ -0.003903  ┆ 0.001293  ┆ 1.0       ┆ -0.010818 │\n",
       "│ 12:00:00   ┆          ┆          ┆          ┆   ┆            ┆           ┆           ┆           │\n",
       "│ 2025-08-03 ┆ 112508.8 ┆ 114200.0 ┆ 111850.0 ┆ … ┆ -0.017522  ┆ 0.001011  ┆ 1.0       ┆ 0.0115    │\n",
       "│ 00:00:00   ┆          ┆          ┆          ┆   ┆            ┆           ┆           ┆           │\n",
       "│ 2025-08-03 ┆ 113810.0 ┆ 114730.0 ┆ 113529.6 ┆ … ┆ 0.004297   ┆ 0.000325  ┆ 1.0       ┆ 0.002989  │\n",
       "│ 12:00:00   ┆          ┆          ┆          ┆   ┆            ┆           ┆           ┆           │\n",
       "│ …          ┆ …        ┆ …        ┆ …        ┆ … ┆ …          ┆ …         ┆ …         ┆ …         │\n",
       "│ 2025-10-07 ┆ 124397.1 ┆ 125098.0 ┆ 120516.0 ┆ … ┆ 0.005933   ┆ 0.000779  ┆ 1.0       ┆ -0.025324 │\n",
       "│ 12:00:00   ┆          ┆          ┆          ┆   ┆            ┆           ┆           ┆           │\n",
       "│ 2025-10-08 ┆ 121286.6 ┆ 123150.0 ┆ 121005.3 ┆ … ┆ 0.003757   ┆ 0.003535  ┆ 1.0       ┆ 0.012611  │\n",
       "│ 00:00:00   ┆          ┆          ┆          ┆   ┆            ┆           ┆           ┆           │\n",
       "│ 2025-10-08 ┆ 122825.8 ┆ 124170.6 ┆ 121607.8 ┆ … ┆ -0.001858  ┆ 0.001011  ┆ 1.0       ┆ 0.003347  │\n",
       "│ 12:00:00   ┆          ┆          ┆          ┆   ┆            ┆           ┆           ┆           │\n",
       "│ 2025-10-09 ┆ 123237.4 ┆ 123279.7 ┆ 121081.5 ┆ … ┆ -0.025324  ┆ -0.001241 ┆ -1.0      ┆ 0.004592  │\n",
       "│ 00:00:00   ┆          ┆          ┆          ┆   ┆            ┆           ┆           ┆           │\n",
       "│ 2025-10-09 ┆ 122673.0 ┆ 123740.1 ┆ 119572.8 ┆ … ┆ 0.012611   ┆ 0.00128   ┆ 1.0       ┆ -0.008955 │\n",
       "│ 12:00:00   ┆          ┆          ┆          ┆   ┆            ┆           ┆           ┆           │\n",
       "└────────────┴──────────┴──────────┴──────────┴───┴────────────┴───────────┴───────────┴───────────┘"
      ]
     },
     "execution_count": 32,
     "metadata": {},
     "output_type": "execute_result"
    }
   ],
   "source": [
    "test_trades = test_trades.with_columns((pl.col('close_log_return')*pl.col('dir_signal')).alias('trade_log_return'))\n",
    "test_trades"
   ]
  },
  {
   "cell_type": "markdown",
   "id": "42c72f51",
   "metadata": {},
   "source": [
    "### calculate cumulative trade log return"
   ]
  },
  {
   "cell_type": "code",
   "execution_count": 33,
   "id": "c7ab2f3d",
   "metadata": {},
   "outputs": [
    {
     "data": {
      "text/html": [
       "<div><style>\n",
       ".dataframe > thead > tr,\n",
       ".dataframe > tbody > tr {\n",
       "  text-align: right;\n",
       "  white-space: pre-wrap;\n",
       "}\n",
       "</style>\n",
       "<small>shape: (139, 13)</small><table border=\"1\" class=\"dataframe\"><thead><tr><th>datetime</th><th>open</th><th>high</th><th>low</th><th>close</th><th>close_log_return</th><th>close_log_return_lag_1</th><th>close_log_return_lag_2</th><th>close_log_return_lag_3</th><th>y_hat</th><th>dir_signal</th><th>trade_log_return</th><th>cum_trade_log_return</th></tr><tr><td>datetime[μs]</td><td>f64</td><td>f64</td><td>f64</td><td>f64</td><td>f64</td><td>f64</td><td>f64</td><td>f64</td><td>f32</td><td>f32</td><td>f64</td><td>f64</td></tr></thead><tbody><tr><td>2025-08-01 12:00:00</td><td>115246.5</td><td>115956.0</td><td>112660.0</td><td>113244.8</td><td>-0.017522</td><td>-0.003903</td><td>-0.022508</td><td>0.004743</td><td>0.002725</td><td>1.0</td><td>-0.017522</td><td>-0.017522</td></tr><tr><td>2025-08-02 00:00:00</td><td>113244.8</td><td>114000.0</td><td>113145.0</td><td>113732.5</td><td>0.004297</td><td>-0.017522</td><td>-0.003903</td><td>-0.022508</td><td>0.002119</td><td>1.0</td><td>0.004297</td><td>-0.013225</td></tr><tr><td>2025-08-02 12:00:00</td><td>113732.6</td><td>113740.5</td><td>111910.0</td><td>112508.8</td><td>-0.010818</td><td>0.004297</td><td>-0.017522</td><td>-0.003903</td><td>0.001293</td><td>1.0</td><td>-0.010818</td><td>-0.024043</td></tr><tr><td>2025-08-03 00:00:00</td><td>112508.8</td><td>114200.0</td><td>111850.0</td><td>113810.1</td><td>0.0115</td><td>-0.010818</td><td>0.004297</td><td>-0.017522</td><td>0.001011</td><td>1.0</td><td>0.0115</td><td>-0.012543</td></tr><tr><td>2025-08-03 12:00:00</td><td>113810.0</td><td>114730.0</td><td>113529.6</td><td>114150.8</td><td>0.002989</td><td>0.0115</td><td>-0.010818</td><td>0.004297</td><td>0.000325</td><td>1.0</td><td>0.002989</td><td>-0.009554</td></tr><tr><td>&hellip;</td><td>&hellip;</td><td>&hellip;</td><td>&hellip;</td><td>&hellip;</td><td>&hellip;</td><td>&hellip;</td><td>&hellip;</td><td>&hellip;</td><td>&hellip;</td><td>&hellip;</td><td>&hellip;</td><td>&hellip;</td></tr><tr><td>2025-10-07 12:00:00</td><td>124397.1</td><td>125098.0</td><td>120516.0</td><td>121286.5</td><td>-0.025324</td><td>-0.001858</td><td>0.003757</td><td>0.005933</td><td>0.000779</td><td>1.0</td><td>-0.025324</td><td>0.155041</td></tr><tr><td>2025-10-08 00:00:00</td><td>121286.6</td><td>123150.0</td><td>121005.3</td><td>122825.7</td><td>0.012611</td><td>-0.025324</td><td>-0.001858</td><td>0.003757</td><td>0.003535</td><td>1.0</td><td>0.012611</td><td>0.167652</td></tr><tr><td>2025-10-08 12:00:00</td><td>122825.8</td><td>124170.6</td><td>121607.8</td><td>123237.5</td><td>0.003347</td><td>0.012611</td><td>-0.025324</td><td>-0.001858</td><td>0.001011</td><td>1.0</td><td>0.003347</td><td>0.170999</td></tr><tr><td>2025-10-09 00:00:00</td><td>123237.4</td><td>123279.7</td><td>121081.5</td><td>122672.9</td><td>-0.004592</td><td>0.003347</td><td>0.012611</td><td>-0.025324</td><td>-0.001241</td><td>-1.0</td><td>0.004592</td><td>0.175591</td></tr><tr><td>2025-10-09 12:00:00</td><td>122673.0</td><td>123740.1</td><td>119572.8</td><td>121579.3</td><td>-0.008955</td><td>-0.004592</td><td>0.003347</td><td>0.012611</td><td>0.00128</td><td>1.0</td><td>-0.008955</td><td>0.166636</td></tr></tbody></table></div>"
      ],
      "text/plain": [
       "shape: (139, 13)\n",
       "┌────────────┬──────────┬──────────┬──────────┬───┬───────────┬────────────┬───────────┬───────────┐\n",
       "│ datetime   ┆ open     ┆ high     ┆ low      ┆ … ┆ y_hat     ┆ dir_signal ┆ trade_log ┆ cum_trade │\n",
       "│ ---        ┆ ---      ┆ ---      ┆ ---      ┆   ┆ ---       ┆ ---        ┆ _return   ┆ _log_retu │\n",
       "│ datetime[μ ┆ f64      ┆ f64      ┆ f64      ┆   ┆ f32       ┆ f32        ┆ ---       ┆ rn        │\n",
       "│ s]         ┆          ┆          ┆          ┆   ┆           ┆            ┆ f64       ┆ ---       │\n",
       "│            ┆          ┆          ┆          ┆   ┆           ┆            ┆           ┆ f64       │\n",
       "╞════════════╪══════════╪══════════╪══════════╪═══╪═══════════╪════════════╪═══════════╪═══════════╡\n",
       "│ 2025-08-01 ┆ 115246.5 ┆ 115956.0 ┆ 112660.0 ┆ … ┆ 0.002725  ┆ 1.0        ┆ -0.017522 ┆ -0.017522 │\n",
       "│ 12:00:00   ┆          ┆          ┆          ┆   ┆           ┆            ┆           ┆           │\n",
       "│ 2025-08-02 ┆ 113244.8 ┆ 114000.0 ┆ 113145.0 ┆ … ┆ 0.002119  ┆ 1.0        ┆ 0.004297  ┆ -0.013225 │\n",
       "│ 00:00:00   ┆          ┆          ┆          ┆   ┆           ┆            ┆           ┆           │\n",
       "│ 2025-08-02 ┆ 113732.6 ┆ 113740.5 ┆ 111910.0 ┆ … ┆ 0.001293  ┆ 1.0        ┆ -0.010818 ┆ -0.024043 │\n",
       "│ 12:00:00   ┆          ┆          ┆          ┆   ┆           ┆            ┆           ┆           │\n",
       "│ 2025-08-03 ┆ 112508.8 ┆ 114200.0 ┆ 111850.0 ┆ … ┆ 0.001011  ┆ 1.0        ┆ 0.0115    ┆ -0.012543 │\n",
       "│ 00:00:00   ┆          ┆          ┆          ┆   ┆           ┆            ┆           ┆           │\n",
       "│ 2025-08-03 ┆ 113810.0 ┆ 114730.0 ┆ 113529.6 ┆ … ┆ 0.000325  ┆ 1.0        ┆ 0.002989  ┆ -0.009554 │\n",
       "│ 12:00:00   ┆          ┆          ┆          ┆   ┆           ┆            ┆           ┆           │\n",
       "│ …          ┆ …        ┆ …        ┆ …        ┆ … ┆ …         ┆ …          ┆ …         ┆ …         │\n",
       "│ 2025-10-07 ┆ 124397.1 ┆ 125098.0 ┆ 120516.0 ┆ … ┆ 0.000779  ┆ 1.0        ┆ -0.025324 ┆ 0.155041  │\n",
       "│ 12:00:00   ┆          ┆          ┆          ┆   ┆           ┆            ┆           ┆           │\n",
       "│ 2025-10-08 ┆ 121286.6 ┆ 123150.0 ┆ 121005.3 ┆ … ┆ 0.003535  ┆ 1.0        ┆ 0.012611  ┆ 0.167652  │\n",
       "│ 00:00:00   ┆          ┆          ┆          ┆   ┆           ┆            ┆           ┆           │\n",
       "│ 2025-10-08 ┆ 122825.8 ┆ 124170.6 ┆ 121607.8 ┆ … ┆ 0.001011  ┆ 1.0        ┆ 0.003347  ┆ 0.170999  │\n",
       "│ 12:00:00   ┆          ┆          ┆          ┆   ┆           ┆            ┆           ┆           │\n",
       "│ 2025-10-09 ┆ 123237.4 ┆ 123279.7 ┆ 121081.5 ┆ … ┆ -0.001241 ┆ -1.0       ┆ 0.004592  ┆ 0.175591  │\n",
       "│ 00:00:00   ┆          ┆          ┆          ┆   ┆           ┆            ┆           ┆           │\n",
       "│ 2025-10-09 ┆ 122673.0 ┆ 123740.1 ┆ 119572.8 ┆ … ┆ 0.00128   ┆ 1.0        ┆ -0.008955 ┆ 0.166636  │\n",
       "│ 12:00:00   ┆          ┆          ┆          ┆   ┆           ┆            ┆           ┆           │\n",
       "└────────────┴──────────┴──────────┴──────────┴───┴───────────┴────────────┴───────────┴───────────┘"
      ]
     },
     "execution_count": 33,
     "metadata": {},
     "output_type": "execute_result"
    }
   ],
   "source": [
    "test_trades = test_trades.with_columns(pl.col('trade_log_return').cum_sum().alias('cum_trade_log_return'))\n",
    "test_trades"
   ]
  },
  {
   "cell_type": "markdown",
   "id": "c1c67bcb",
   "metadata": {},
   "source": [
    "### equity curve (log space)"
   ]
  },
  {
   "cell_type": "code",
   "execution_count": 34,
   "id": "8952e3b0",
   "metadata": {},
   "outputs": [
    {
     "data": {
      "text/html": [
       "\n",
       "<style>\n",
       "  #altair-viz-437e7080e80d4b9c8a1e4fc5437626d4.vega-embed {\n",
       "    width: 100%;\n",
       "    display: flex;\n",
       "  }\n",
       "\n",
       "  #altair-viz-437e7080e80d4b9c8a1e4fc5437626d4.vega-embed details,\n",
       "  #altair-viz-437e7080e80d4b9c8a1e4fc5437626d4.vega-embed details summary {\n",
       "    position: relative;\n",
       "  }\n",
       "</style>\n",
       "<div id=\"altair-viz-437e7080e80d4b9c8a1e4fc5437626d4\"></div>\n",
       "<script type=\"text/javascript\">\n",
       "  var VEGA_DEBUG = (typeof VEGA_DEBUG == \"undefined\") ? {} : VEGA_DEBUG;\n",
       "  (function(spec, embedOpt){\n",
       "    let outputDiv = document.currentScript.previousElementSibling;\n",
       "    if (outputDiv.id !== \"altair-viz-437e7080e80d4b9c8a1e4fc5437626d4\") {\n",
       "      outputDiv = document.getElementById(\"altair-viz-437e7080e80d4b9c8a1e4fc5437626d4\");\n",
       "    }\n",
       "\n",
       "    const paths = {\n",
       "      \"vega\": \"https://cdn.jsdelivr.net/npm/vega@5?noext\",\n",
       "      \"vega-lib\": \"https://cdn.jsdelivr.net/npm/vega-lib?noext\",\n",
       "      \"vega-lite\": \"https://cdn.jsdelivr.net/npm/vega-lite@5.20.1?noext\",\n",
       "      \"vega-embed\": \"https://cdn.jsdelivr.net/npm/vega-embed@6?noext\",\n",
       "    };\n",
       "\n",
       "    function maybeLoadScript(lib, version) {\n",
       "      var key = `${lib.replace(\"-\", \"\")}_version`;\n",
       "      return (VEGA_DEBUG[key] == version) ?\n",
       "        Promise.resolve(paths[lib]) :\n",
       "        new Promise(function(resolve, reject) {\n",
       "          var s = document.createElement('script');\n",
       "          document.getElementsByTagName(\"head\")[0].appendChild(s);\n",
       "          s.async = true;\n",
       "          s.onload = () => {\n",
       "            VEGA_DEBUG[key] = version;\n",
       "            return resolve(paths[lib]);\n",
       "          };\n",
       "          s.onerror = () => reject(`Error loading script: ${paths[lib]}`);\n",
       "          s.src = paths[lib];\n",
       "        });\n",
       "    }\n",
       "\n",
       "    function showError(err) {\n",
       "      outputDiv.innerHTML = `<div class=\"error\" style=\"color:red;\">${err}</div>`;\n",
       "      throw err;\n",
       "    }\n",
       "\n",
       "    function displayChart(vegaEmbed) {\n",
       "      vegaEmbed(outputDiv, spec, embedOpt)\n",
       "        .catch(err => showError(`Javascript Error: ${err.message}<br>This usually means there's a typo in your chart specification. See the javascript console for the full traceback.`));\n",
       "    }\n",
       "\n",
       "    if(typeof define === \"function\" && define.amd) {\n",
       "      requirejs.config({paths});\n",
       "      let deps = [\"vega-embed\"];\n",
       "      require(deps, displayChart, err => showError(`Error loading script: ${err.message}`));\n",
       "    } else {\n",
       "      maybeLoadScript(\"vega\", \"5\")\n",
       "        .then(() => maybeLoadScript(\"vega-lite\", \"5.20.1\"))\n",
       "        .then(() => maybeLoadScript(\"vega-embed\", \"6\"))\n",
       "        .catch(showError)\n",
       "        .then(() => displayChart(vegaEmbed));\n",
       "    }\n",
       "  })({\"config\": {\"view\": {\"continuousWidth\": 300, \"continuousHeight\": 300}}, \"data\": {\"name\": \"data-da9493603450362171a854ce1a31e608\"}, \"mark\": {\"type\": \"line\", \"tooltip\": true}, \"encoding\": {\"x\": {\"field\": \"index\", \"type\": \"quantitative\"}, \"y\": {\"field\": \"cum_trade_log_return\", \"type\": \"quantitative\"}}, \"height\": 400, \"params\": [{\"name\": \"param_1\", \"select\": {\"type\": \"interval\", \"encodings\": [\"x\", \"y\"]}, \"bind\": \"scales\"}], \"title\": \"cum_trade_log_return\", \"width\": 800, \"$schema\": \"https://vega.github.io/schema/vega-lite/v5.20.1.json\", \"datasets\": {\"data-da9493603450362171a854ce1a31e608\": [{\"index\": 0, \"cum_trade_log_return\": -0.017522333162817618}, {\"index\": 1, \"cum_trade_log_return\": -0.013224980515313463}, {\"index\": 2, \"cum_trade_log_return\": -0.024042739549495134}, {\"index\": 3, \"cum_trade_log_return\": -0.01254291040616977}, {\"index\": 4, \"cum_trade_log_return\": -0.009553799083364584}, {\"index\": 5, \"cum_trade_log_return\": -0.012171464208311075}, {\"index\": 6, \"cum_trade_log_return\": -0.007359121540799149}, {\"index\": 7, \"cum_trade_log_return\": -0.00927483344003878}, {\"index\": 8, \"cum_trade_log_return\": -0.015500722191971263}, {\"index\": 9, \"cum_trade_log_return\": -0.014463297715248572}, {\"index\": 10, \"cum_trade_log_return\": -0.007890557373733545}, {\"index\": 11, \"cum_trade_log_return\": -0.021097605913530847}, {\"index\": 12, \"cum_trade_log_return\": -0.02922800313258521}, {\"index\": 13, \"cum_trade_log_return\": -0.024281361007348873}, {\"index\": 14, \"cum_trade_log_return\": -0.026100020712188046}, {\"index\": 15, \"cum_trade_log_return\": -0.022362636011310694}, {\"index\": 16, \"cum_trade_log_return\": -0.027868738055436097}, {\"index\": 17, \"cum_trade_log_return\": -0.011902005140408727}, {\"index\": 18, \"cum_trade_log_return\": -0.019979465631970107}, {\"index\": 19, \"cum_trade_log_return\": -0.030736019607963246}, {\"index\": 20, \"cum_trade_log_return\": -0.014822604942934935}, {\"index\": 21, \"cum_trade_log_return\": -0.016322356390190095}, {\"index\": 22, \"cum_trade_log_return\": -0.0027658024071599476}, {\"index\": 23, \"cum_trade_log_return\": -0.006568491310629936}, {\"index\": 24, \"cum_trade_log_return\": -0.029413514893583695}, {\"index\": 25, \"cum_trade_log_return\": -0.009959161693948889}, {\"index\": 26, \"cum_trade_log_return\": -0.032583972801321734}, {\"index\": 27, \"cum_trade_log_return\": -0.02661579930378095}, {\"index\": 28, \"cum_trade_log_return\": -0.04076161922007245}, {\"index\": 29, \"cum_trade_log_return\": -0.04023992366362229}, {\"index\": 30, \"cum_trade_log_return\": -0.04033111551130474}, {\"index\": 31, \"cum_trade_log_return\": -0.032485028252049776}, {\"index\": 32, \"cum_trade_log_return\": -0.02484432398806041}, {\"index\": 33, \"cum_trade_log_return\": -0.045975442670058916}, {\"index\": 34, \"cum_trade_log_return\": -0.034865929040037845}, {\"index\": 35, \"cum_trade_log_return\": -0.041104816921346383}, {\"index\": 36, \"cum_trade_log_return\": -0.01800286137877272}, {\"index\": 37, \"cum_trade_log_return\": -0.010908161983803517}, {\"index\": 38, \"cum_trade_log_return\": -0.005702925695413721}, {\"index\": 39, \"cum_trade_log_return\": 0.00415371358168704}, {\"index\": 40, \"cum_trade_log_return\": -0.0015032727015928775}, {\"index\": 41, \"cum_trade_log_return\": -0.0031888138486435838}, {\"index\": 42, \"cum_trade_log_return\": 0.0371770445640942}, {\"index\": 43, \"cum_trade_log_return\": 0.05122595324807026}, {\"index\": 44, \"cum_trade_log_return\": 0.05026863283944483}, {\"index\": 45, \"cum_trade_log_return\": 0.04440019944021733}, {\"index\": 46, \"cum_trade_log_return\": 0.033392335873183264}, {\"index\": 47, \"cum_trade_log_return\": 0.013246527003651132}, {\"index\": 48, \"cum_trade_log_return\": 0.0031247534489393276}, {\"index\": 49, \"cum_trade_log_return\": 0.0011075290577009607}, {\"index\": 50, \"cum_trade_log_return\": 0.017968071072630522}, {\"index\": 51, \"cum_trade_log_return\": 0.021906533617514545}, {\"index\": 52, \"cum_trade_log_return\": 0.022588886024604314}, {\"index\": 53, \"cum_trade_log_return\": 0.037598669254624545}, {\"index\": 54, \"cum_trade_log_return\": 0.04087486151184954}, {\"index\": 55, \"cum_trade_log_return\": 0.06297815308059188}, {\"index\": 56, \"cum_trade_log_return\": 0.04726761446106316}, {\"index\": 57, \"cum_trade_log_return\": 0.05009011335057841}, {\"index\": 58, \"cum_trade_log_return\": 0.0511876472296935}, {\"index\": 59, \"cum_trade_log_return\": 0.05494523025585558}, {\"index\": 60, \"cum_trade_log_return\": 0.05363749968359528}, {\"index\": 61, \"cum_trade_log_return\": 0.058371748049027616}, {\"index\": 62, \"cum_trade_log_return\": 0.06264875358406324}, {\"index\": 63, \"cum_trade_log_return\": 0.05798239977328619}, {\"index\": 64, \"cum_trade_log_return\": 0.07146825697625159}, {\"index\": 65, \"cum_trade_log_return\": 0.06963879860013769}, {\"index\": 66, \"cum_trade_log_return\": 0.06723397057167009}, {\"index\": 67, \"cum_trade_log_return\": 0.059178130793234876}, {\"index\": 68, \"cum_trade_log_return\": 0.05841495571319116}, {\"index\": 69, \"cum_trade_log_return\": 0.07294752169302385}, {\"index\": 70, \"cum_trade_log_return\": 0.08806302181825917}, {\"index\": 71, \"cum_trade_log_return\": 0.08912921729143101}, {\"index\": 72, \"cum_trade_log_return\": 0.08371783205537464}, {\"index\": 73, \"cum_trade_log_return\": 0.09378364874746833}, {\"index\": 74, \"cum_trade_log_return\": 0.09222287380063794}, {\"index\": 75, \"cum_trade_log_return\": 0.10070350267019823}, {\"index\": 76, \"cum_trade_log_return\": 0.1006195870606851}, {\"index\": 77, \"cum_trade_log_return\": 0.10404902761269254}, {\"index\": 78, \"cum_trade_log_return\": 0.09603191613202566}, {\"index\": 79, \"cum_trade_log_return\": 0.10288284049356983}, {\"index\": 80, \"cum_trade_log_return\": 0.11730099733169302}, {\"index\": 81, \"cum_trade_log_return\": 0.11673836546372517}, {\"index\": 82, \"cum_trade_log_return\": 0.10395547705841857}, {\"index\": 83, \"cum_trade_log_return\": 0.1088536587218184}, {\"index\": 84, \"cum_trade_log_return\": 0.1185175117446481}, {\"index\": 85, \"cum_trade_log_return\": 0.11795259187277761}, {\"index\": 86, \"cum_trade_log_return\": 0.11838576948754782}, {\"index\": 87, \"cum_trade_log_return\": 0.1174125930693757}, {\"index\": 88, \"cum_trade_log_return\": 0.11273645015299445}, {\"index\": 89, \"cum_trade_log_return\": 0.11099028627362549}, {\"index\": 90, \"cum_trade_log_return\": 0.11352253118063768}, {\"index\": 91, \"cum_trade_log_return\": 0.11284233813229076}, {\"index\": 92, \"cum_trade_log_return\": 0.12599167004629147}, {\"index\": 93, \"cum_trade_log_return\": 0.13068973498691194}, {\"index\": 94, \"cum_trade_log_return\": 0.13243004271419948}, {\"index\": 95, \"cum_trade_log_return\": 0.1376781616926597}, {\"index\": 96, \"cum_trade_log_return\": 0.13766021543656856}, {\"index\": 97, \"cum_trade_log_return\": 0.13188372163718387}, {\"index\": 98, \"cum_trade_log_return\": 0.12521221806780333}, {\"index\": 99, \"cum_trade_log_return\": 0.12750603889722006}, {\"index\": 100, \"cum_trade_log_return\": 0.12569146843944168}, {\"index\": 101, \"cum_trade_log_return\": 0.1251239555924509}, {\"index\": 102, \"cum_trade_log_return\": 0.12187011902252598}, {\"index\": 103, \"cum_trade_log_return\": 0.1010814687242009}, {\"index\": 104, \"cum_trade_log_return\": 0.09922359298151921}, {\"index\": 105, \"cum_trade_log_return\": 0.1021844456774936}, {\"index\": 106, \"cum_trade_log_return\": 0.11100320887473068}, {\"index\": 107, \"cum_trade_log_return\": 0.12020617785518437}, {\"index\": 108, \"cum_trade_log_return\": 0.12261074769426972}, {\"index\": 109, \"cum_trade_log_return\": 0.13986992961381794}, {\"index\": 110, \"cum_trade_log_return\": 0.11824281188037028}, {\"index\": 111, \"cum_trade_log_return\": 0.11960417132158131}, {\"index\": 112, \"cum_trade_log_return\": 0.12422846970705453}, {\"index\": 113, \"cum_trade_log_return\": 0.1271774657639329}, {\"index\": 114, \"cum_trade_log_return\": 0.1300242560933688}, {\"index\": 115, \"cum_trade_log_return\": 0.12767246613316693}, {\"index\": 116, \"cum_trade_log_return\": 0.15296017850350613}, {\"index\": 117, \"cum_trade_log_return\": 0.1535632879254764}, {\"index\": 118, \"cum_trade_log_return\": 0.1340751649240326}, {\"index\": 119, \"cum_trade_log_return\": 0.1451057756484733}, {\"index\": 120, \"cum_trade_log_return\": 0.1537854120633971}, {\"index\": 121, \"cum_trade_log_return\": 0.17760704216785791}, {\"index\": 122, \"cum_trade_log_return\": 0.16217381329734565}, {\"index\": 123, \"cum_trade_log_return\": 0.16079478409727677}, {\"index\": 124, \"cum_trade_log_return\": 0.17555525213420362}, {\"index\": 125, \"cum_trade_log_return\": 0.1770013347364805}, {\"index\": 126, \"cum_trade_log_return\": 0.1615323407796315}, {\"index\": 127, \"cum_trade_log_return\": 0.1636469854148331}, {\"index\": 128, \"cum_trade_log_return\": 0.16021959621515716}, {\"index\": 129, \"cum_trade_log_return\": 0.1689274610864226}, {\"index\": 130, \"cum_trade_log_return\": 0.16881807844598665}, {\"index\": 131, \"cum_trade_log_return\": 0.17475134218588312}, {\"index\": 132, \"cum_trade_log_return\": 0.1785079329896316}, {\"index\": 133, \"cum_trade_log_return\": 0.18036557311685297}, {\"index\": 134, \"cum_trade_log_return\": 0.15504141654837775}, {\"index\": 135, \"cum_trade_log_return\": 0.1676521783076199}, {\"index\": 136, \"cum_trade_log_return\": 0.17099928900482858}, {\"index\": 137, \"cum_trade_log_return\": 0.17559121347882523}, {\"index\": 138, \"cum_trade_log_return\": 0.16663647482975516}]}}, {\"mode\": \"vega-lite\"});\n",
       "</script>"
      ],
      "text/plain": [
       "alt.Chart(...)"
      ]
     },
     "execution_count": 34,
     "metadata": {},
     "output_type": "execute_result"
    }
   ],
   "source": [
    "research.plot_column(test_trades, 'cum_trade_log_return')"
   ]
  },
  {
   "cell_type": "markdown",
   "id": "a047f150",
   "metadata": {},
   "source": [
    "### add transaction fees (net returns)"
   ]
  },
  {
   "cell_type": "code",
   "execution_count": 35,
   "id": "4e9cf2f4",
   "metadata": {},
   "outputs": [
    {
     "data": {
      "text/html": [
       "<div><style>\n",
       ".dataframe > thead > tr,\n",
       ".dataframe > tbody > tr {\n",
       "  text-align: right;\n",
       "  white-space: pre-wrap;\n",
       "}\n",
       "</style>\n",
       "<small>shape: (139, 19)</small><table border=\"1\" class=\"dataframe\"><thead><tr><th>datetime</th><th>open</th><th>high</th><th>low</th><th>close</th><th>close_log_return</th><th>close_log_return_lag_1</th><th>close_log_return_lag_2</th><th>close_log_return_lag_3</th><th>y_hat</th><th>dir_signal</th><th>trade_log_return</th><th>cum_trade_log_return</th><th>tx_fee_log_maker</th><th>trade_log_return_net_maker</th><th>equity_curve_net_maker</th><th>tx_fee_log_taker</th><th>trade_log_return_net_taker</th><th>equity_curve_net_taker</th></tr><tr><td>datetime[μs]</td><td>f64</td><td>f64</td><td>f64</td><td>f64</td><td>f64</td><td>f64</td><td>f64</td><td>f64</td><td>f32</td><td>f32</td><td>f64</td><td>f64</td><td>f64</td><td>f64</td><td>f64</td><td>f64</td><td>f64</td><td>f64</td></tr></thead><tbody><tr><td>2025-08-01 12:00:00</td><td>115246.5</td><td>115956.0</td><td>112660.0</td><td>113244.8</td><td>-0.017522</td><td>-0.003903</td><td>-0.022508</td><td>0.004743</td><td>0.002725</td><td>1.0</td><td>-0.017522</td><td>-0.017522</td><td>-0.0002</td><td>-0.017722</td><td>-0.017722</td><td>-0.0006</td><td>-0.018123</td><td>-0.018123</td></tr><tr><td>2025-08-02 00:00:00</td><td>113244.8</td><td>114000.0</td><td>113145.0</td><td>113732.5</td><td>0.004297</td><td>-0.017522</td><td>-0.003903</td><td>-0.022508</td><td>0.002119</td><td>1.0</td><td>0.004297</td><td>-0.013225</td><td>-0.0002</td><td>0.004097</td><td>-0.013625</td><td>-0.0006</td><td>0.003697</td><td>-0.014425</td></tr><tr><td>2025-08-02 12:00:00</td><td>113732.6</td><td>113740.5</td><td>111910.0</td><td>112508.8</td><td>-0.010818</td><td>0.004297</td><td>-0.017522</td><td>-0.003903</td><td>0.001293</td><td>1.0</td><td>-0.010818</td><td>-0.024043</td><td>-0.0002</td><td>-0.011018</td><td>-0.024643</td><td>-0.0006</td><td>-0.011418</td><td>-0.025843</td></tr><tr><td>2025-08-03 00:00:00</td><td>112508.8</td><td>114200.0</td><td>111850.0</td><td>113810.1</td><td>0.0115</td><td>-0.010818</td><td>0.004297</td><td>-0.017522</td><td>0.001011</td><td>1.0</td><td>0.0115</td><td>-0.012543</td><td>-0.0002</td><td>0.0113</td><td>-0.013343</td><td>-0.0006</td><td>0.0109</td><td>-0.014944</td></tr><tr><td>2025-08-03 12:00:00</td><td>113810.0</td><td>114730.0</td><td>113529.6</td><td>114150.8</td><td>0.002989</td><td>0.0115</td><td>-0.010818</td><td>0.004297</td><td>0.000325</td><td>1.0</td><td>0.002989</td><td>-0.009554</td><td>-0.0002</td><td>0.002789</td><td>-0.010554</td><td>-0.0006</td><td>0.002389</td><td>-0.012555</td></tr><tr><td>&hellip;</td><td>&hellip;</td><td>&hellip;</td><td>&hellip;</td><td>&hellip;</td><td>&hellip;</td><td>&hellip;</td><td>&hellip;</td><td>&hellip;</td><td>&hellip;</td><td>&hellip;</td><td>&hellip;</td><td>&hellip;</td><td>&hellip;</td><td>&hellip;</td><td>&hellip;</td><td>&hellip;</td><td>&hellip;</td><td>&hellip;</td></tr><tr><td>2025-10-07 12:00:00</td><td>124397.1</td><td>125098.0</td><td>120516.0</td><td>121286.5</td><td>-0.025324</td><td>-0.001858</td><td>0.003757</td><td>0.005933</td><td>0.000779</td><td>1.0</td><td>-0.025324</td><td>0.155041</td><td>-0.0002</td><td>-0.025524</td><td>0.128039</td><td>-0.0006</td><td>-0.025924</td><td>0.074017</td></tr><tr><td>2025-10-08 00:00:00</td><td>121286.6</td><td>123150.0</td><td>121005.3</td><td>122825.7</td><td>0.012611</td><td>-0.025324</td><td>-0.001858</td><td>0.003757</td><td>0.003535</td><td>1.0</td><td>0.012611</td><td>0.167652</td><td>-0.0002</td><td>0.012411</td><td>0.140449</td><td>-0.0006</td><td>0.012011</td><td>0.086028</td></tr><tr><td>2025-10-08 12:00:00</td><td>122825.8</td><td>124170.6</td><td>121607.8</td><td>123237.5</td><td>0.003347</td><td>0.012611</td><td>-0.025324</td><td>-0.001858</td><td>0.001011</td><td>1.0</td><td>0.003347</td><td>0.170999</td><td>-0.0002</td><td>0.003147</td><td>0.143597</td><td>-0.0006</td><td>0.002747</td><td>0.088775</td></tr><tr><td>2025-10-09 00:00:00</td><td>123237.4</td><td>123279.7</td><td>121081.5</td><td>122672.9</td><td>-0.004592</td><td>0.003347</td><td>0.012611</td><td>-0.025324</td><td>-0.001241</td><td>-1.0</td><td>0.004592</td><td>0.175591</td><td>-0.0002</td><td>0.004392</td><td>0.147988</td><td>-0.0006</td><td>0.003992</td><td>0.092766</td></tr><tr><td>2025-10-09 12:00:00</td><td>122673.0</td><td>123740.1</td><td>119572.8</td><td>121579.3</td><td>-0.008955</td><td>-0.004592</td><td>0.003347</td><td>0.012611</td><td>0.00128</td><td>1.0</td><td>-0.008955</td><td>0.166636</td><td>-0.0002</td><td>-0.009155</td><td>0.138834</td><td>-0.0006</td><td>-0.009555</td><td>0.083211</td></tr></tbody></table></div>"
      ],
      "text/plain": [
       "shape: (139, 19)\n",
       "┌────────────┬──────────┬──────────┬──────────┬───┬────────────┬───────────┬───────────┬───────────┐\n",
       "│ datetime   ┆ open     ┆ high     ┆ low      ┆ … ┆ equity_cur ┆ tx_fee_lo ┆ trade_log ┆ equity_cu │\n",
       "│ ---        ┆ ---      ┆ ---      ┆ ---      ┆   ┆ ve_net_mak ┆ g_taker   ┆ _return_n ┆ rve_net_t │\n",
       "│ datetime[μ ┆ f64      ┆ f64      ┆ f64      ┆   ┆ er         ┆ ---       ┆ et_taker  ┆ aker      │\n",
       "│ s]         ┆          ┆          ┆          ┆   ┆ ---        ┆ f64       ┆ ---       ┆ ---       │\n",
       "│            ┆          ┆          ┆          ┆   ┆ f64        ┆           ┆ f64       ┆ f64       │\n",
       "╞════════════╪══════════╪══════════╪══════════╪═══╪════════════╪═══════════╪═══════════╪═══════════╡\n",
       "│ 2025-08-01 ┆ 115246.5 ┆ 115956.0 ┆ 112660.0 ┆ … ┆ -0.017722  ┆ -0.0006   ┆ -0.018123 ┆ -0.018123 │\n",
       "│ 12:00:00   ┆          ┆          ┆          ┆   ┆            ┆           ┆           ┆           │\n",
       "│ 2025-08-02 ┆ 113244.8 ┆ 114000.0 ┆ 113145.0 ┆ … ┆ -0.013625  ┆ -0.0006   ┆ 0.003697  ┆ -0.014425 │\n",
       "│ 00:00:00   ┆          ┆          ┆          ┆   ┆            ┆           ┆           ┆           │\n",
       "│ 2025-08-02 ┆ 113732.6 ┆ 113740.5 ┆ 111910.0 ┆ … ┆ -0.024643  ┆ -0.0006   ┆ -0.011418 ┆ -0.025843 │\n",
       "│ 12:00:00   ┆          ┆          ┆          ┆   ┆            ┆           ┆           ┆           │\n",
       "│ 2025-08-03 ┆ 112508.8 ┆ 114200.0 ┆ 111850.0 ┆ … ┆ -0.013343  ┆ -0.0006   ┆ 0.0109    ┆ -0.014944 │\n",
       "│ 00:00:00   ┆          ┆          ┆          ┆   ┆            ┆           ┆           ┆           │\n",
       "│ 2025-08-03 ┆ 113810.0 ┆ 114730.0 ┆ 113529.6 ┆ … ┆ -0.010554  ┆ -0.0006   ┆ 0.002389  ┆ -0.012555 │\n",
       "│ 12:00:00   ┆          ┆          ┆          ┆   ┆            ┆           ┆           ┆           │\n",
       "│ …          ┆ …        ┆ …        ┆ …        ┆ … ┆ …          ┆ …         ┆ …         ┆ …         │\n",
       "│ 2025-10-07 ┆ 124397.1 ┆ 125098.0 ┆ 120516.0 ┆ … ┆ 0.128039   ┆ -0.0006   ┆ -0.025924 ┆ 0.074017  │\n",
       "│ 12:00:00   ┆          ┆          ┆          ┆   ┆            ┆           ┆           ┆           │\n",
       "│ 2025-10-08 ┆ 121286.6 ┆ 123150.0 ┆ 121005.3 ┆ … ┆ 0.140449   ┆ -0.0006   ┆ 0.012011  ┆ 0.086028  │\n",
       "│ 00:00:00   ┆          ┆          ┆          ┆   ┆            ┆           ┆           ┆           │\n",
       "│ 2025-10-08 ┆ 122825.8 ┆ 124170.6 ┆ 121607.8 ┆ … ┆ 0.143597   ┆ -0.0006   ┆ 0.002747  ┆ 0.088775  │\n",
       "│ 12:00:00   ┆          ┆          ┆          ┆   ┆            ┆           ┆           ┆           │\n",
       "│ 2025-10-09 ┆ 123237.4 ┆ 123279.7 ┆ 121081.5 ┆ … ┆ 0.147988   ┆ -0.0006   ┆ 0.003992  ┆ 0.092766  │\n",
       "│ 00:00:00   ┆          ┆          ┆          ┆   ┆            ┆           ┆           ┆           │\n",
       "│ 2025-10-09 ┆ 122673.0 ┆ 123740.1 ┆ 119572.8 ┆ … ┆ 0.138834   ┆ -0.0006   ┆ -0.009555 ┆ 0.083211  │\n",
       "│ 12:00:00   ┆          ┆          ┆          ┆   ┆            ┆           ┆           ┆           │\n",
       "└────────────┴──────────┴──────────┴──────────┴───┴────────────┴───────────┴───────────┴───────────┘"
      ]
     },
     "execution_count": 35,
     "metadata": {},
     "output_type": "execute_result"
    }
   ],
   "source": [
    "test_trades = research.add_tx_fees(test_trades, binance.MAKER_FEE, binance.TAKER_FEE)\n",
    "test_trades"
   ]
  },
  {
   "cell_type": "code",
   "execution_count": 36,
   "id": "e166ced9",
   "metadata": {},
   "outputs": [
    {
     "data": {
      "text/html": [
       "\n",
       "<style>\n",
       "  #altair-viz-083c54a200484a79b0308cea65fb7fa9.vega-embed {\n",
       "    width: 100%;\n",
       "    display: flex;\n",
       "  }\n",
       "\n",
       "  #altair-viz-083c54a200484a79b0308cea65fb7fa9.vega-embed details,\n",
       "  #altair-viz-083c54a200484a79b0308cea65fb7fa9.vega-embed details summary {\n",
       "    position: relative;\n",
       "  }\n",
       "</style>\n",
       "<div id=\"altair-viz-083c54a200484a79b0308cea65fb7fa9\"></div>\n",
       "<script type=\"text/javascript\">\n",
       "  var VEGA_DEBUG = (typeof VEGA_DEBUG == \"undefined\") ? {} : VEGA_DEBUG;\n",
       "  (function(spec, embedOpt){\n",
       "    let outputDiv = document.currentScript.previousElementSibling;\n",
       "    if (outputDiv.id !== \"altair-viz-083c54a200484a79b0308cea65fb7fa9\") {\n",
       "      outputDiv = document.getElementById(\"altair-viz-083c54a200484a79b0308cea65fb7fa9\");\n",
       "    }\n",
       "\n",
       "    const paths = {\n",
       "      \"vega\": \"https://cdn.jsdelivr.net/npm/vega@5?noext\",\n",
       "      \"vega-lib\": \"https://cdn.jsdelivr.net/npm/vega-lib?noext\",\n",
       "      \"vega-lite\": \"https://cdn.jsdelivr.net/npm/vega-lite@5.20.1?noext\",\n",
       "      \"vega-embed\": \"https://cdn.jsdelivr.net/npm/vega-embed@6?noext\",\n",
       "    };\n",
       "\n",
       "    function maybeLoadScript(lib, version) {\n",
       "      var key = `${lib.replace(\"-\", \"\")}_version`;\n",
       "      return (VEGA_DEBUG[key] == version) ?\n",
       "        Promise.resolve(paths[lib]) :\n",
       "        new Promise(function(resolve, reject) {\n",
       "          var s = document.createElement('script');\n",
       "          document.getElementsByTagName(\"head\")[0].appendChild(s);\n",
       "          s.async = true;\n",
       "          s.onload = () => {\n",
       "            VEGA_DEBUG[key] = version;\n",
       "            return resolve(paths[lib]);\n",
       "          };\n",
       "          s.onerror = () => reject(`Error loading script: ${paths[lib]}`);\n",
       "          s.src = paths[lib];\n",
       "        });\n",
       "    }\n",
       "\n",
       "    function showError(err) {\n",
       "      outputDiv.innerHTML = `<div class=\"error\" style=\"color:red;\">${err}</div>`;\n",
       "      throw err;\n",
       "    }\n",
       "\n",
       "    function displayChart(vegaEmbed) {\n",
       "      vegaEmbed(outputDiv, spec, embedOpt)\n",
       "        .catch(err => showError(`Javascript Error: ${err.message}<br>This usually means there's a typo in your chart specification. See the javascript console for the full traceback.`));\n",
       "    }\n",
       "\n",
       "    if(typeof define === \"function\" && define.amd) {\n",
       "      requirejs.config({paths});\n",
       "      let deps = [\"vega-embed\"];\n",
       "      require(deps, displayChart, err => showError(`Error loading script: ${err.message}`));\n",
       "    } else {\n",
       "      maybeLoadScript(\"vega\", \"5\")\n",
       "        .then(() => maybeLoadScript(\"vega-lite\", \"5.20.1\"))\n",
       "        .then(() => maybeLoadScript(\"vega-embed\", \"6\"))\n",
       "        .catch(showError)\n",
       "        .then(() => displayChart(vegaEmbed));\n",
       "    }\n",
       "  })({\"config\": {\"view\": {\"continuousWidth\": 300, \"continuousHeight\": 300}}, \"data\": {\"name\": \"data-da9493603450362171a854ce1a31e608\"}, \"mark\": {\"type\": \"line\", \"tooltip\": true}, \"encoding\": {\"x\": {\"field\": \"index\", \"type\": \"quantitative\"}, \"y\": {\"field\": \"cum_trade_log_return\", \"type\": \"quantitative\"}}, \"height\": 400, \"params\": [{\"name\": \"param_2\", \"select\": {\"type\": \"interval\", \"encodings\": [\"x\", \"y\"]}, \"bind\": \"scales\"}], \"title\": \"cum_trade_log_return\", \"width\": 800, \"$schema\": \"https://vega.github.io/schema/vega-lite/v5.20.1.json\", \"datasets\": {\"data-da9493603450362171a854ce1a31e608\": [{\"index\": 0, \"cum_trade_log_return\": -0.017522333162817618}, {\"index\": 1, \"cum_trade_log_return\": -0.013224980515313463}, {\"index\": 2, \"cum_trade_log_return\": -0.024042739549495134}, {\"index\": 3, \"cum_trade_log_return\": -0.01254291040616977}, {\"index\": 4, \"cum_trade_log_return\": -0.009553799083364584}, {\"index\": 5, \"cum_trade_log_return\": -0.012171464208311075}, {\"index\": 6, \"cum_trade_log_return\": -0.007359121540799149}, {\"index\": 7, \"cum_trade_log_return\": -0.00927483344003878}, {\"index\": 8, \"cum_trade_log_return\": -0.015500722191971263}, {\"index\": 9, \"cum_trade_log_return\": -0.014463297715248572}, {\"index\": 10, \"cum_trade_log_return\": -0.007890557373733545}, {\"index\": 11, \"cum_trade_log_return\": -0.021097605913530847}, {\"index\": 12, \"cum_trade_log_return\": -0.02922800313258521}, {\"index\": 13, \"cum_trade_log_return\": -0.024281361007348873}, {\"index\": 14, \"cum_trade_log_return\": -0.026100020712188046}, {\"index\": 15, \"cum_trade_log_return\": -0.022362636011310694}, {\"index\": 16, \"cum_trade_log_return\": -0.027868738055436097}, {\"index\": 17, \"cum_trade_log_return\": -0.011902005140408727}, {\"index\": 18, \"cum_trade_log_return\": -0.019979465631970107}, {\"index\": 19, \"cum_trade_log_return\": -0.030736019607963246}, {\"index\": 20, \"cum_trade_log_return\": -0.014822604942934935}, {\"index\": 21, \"cum_trade_log_return\": -0.016322356390190095}, {\"index\": 22, \"cum_trade_log_return\": -0.0027658024071599476}, {\"index\": 23, \"cum_trade_log_return\": -0.006568491310629936}, {\"index\": 24, \"cum_trade_log_return\": -0.029413514893583695}, {\"index\": 25, \"cum_trade_log_return\": -0.009959161693948889}, {\"index\": 26, \"cum_trade_log_return\": -0.032583972801321734}, {\"index\": 27, \"cum_trade_log_return\": -0.02661579930378095}, {\"index\": 28, \"cum_trade_log_return\": -0.04076161922007245}, {\"index\": 29, \"cum_trade_log_return\": -0.04023992366362229}, {\"index\": 30, \"cum_trade_log_return\": -0.04033111551130474}, {\"index\": 31, \"cum_trade_log_return\": -0.032485028252049776}, {\"index\": 32, \"cum_trade_log_return\": -0.02484432398806041}, {\"index\": 33, \"cum_trade_log_return\": -0.045975442670058916}, {\"index\": 34, \"cum_trade_log_return\": -0.034865929040037845}, {\"index\": 35, \"cum_trade_log_return\": -0.041104816921346383}, {\"index\": 36, \"cum_trade_log_return\": -0.01800286137877272}, {\"index\": 37, \"cum_trade_log_return\": -0.010908161983803517}, {\"index\": 38, \"cum_trade_log_return\": -0.005702925695413721}, {\"index\": 39, \"cum_trade_log_return\": 0.00415371358168704}, {\"index\": 40, \"cum_trade_log_return\": -0.0015032727015928775}, {\"index\": 41, \"cum_trade_log_return\": -0.0031888138486435838}, {\"index\": 42, \"cum_trade_log_return\": 0.0371770445640942}, {\"index\": 43, \"cum_trade_log_return\": 0.05122595324807026}, {\"index\": 44, \"cum_trade_log_return\": 0.05026863283944483}, {\"index\": 45, \"cum_trade_log_return\": 0.04440019944021733}, {\"index\": 46, \"cum_trade_log_return\": 0.033392335873183264}, {\"index\": 47, \"cum_trade_log_return\": 0.013246527003651132}, {\"index\": 48, \"cum_trade_log_return\": 0.0031247534489393276}, {\"index\": 49, \"cum_trade_log_return\": 0.0011075290577009607}, {\"index\": 50, \"cum_trade_log_return\": 0.017968071072630522}, {\"index\": 51, \"cum_trade_log_return\": 0.021906533617514545}, {\"index\": 52, \"cum_trade_log_return\": 0.022588886024604314}, {\"index\": 53, \"cum_trade_log_return\": 0.037598669254624545}, {\"index\": 54, \"cum_trade_log_return\": 0.04087486151184954}, {\"index\": 55, \"cum_trade_log_return\": 0.06297815308059188}, {\"index\": 56, \"cum_trade_log_return\": 0.04726761446106316}, {\"index\": 57, \"cum_trade_log_return\": 0.05009011335057841}, {\"index\": 58, \"cum_trade_log_return\": 0.0511876472296935}, {\"index\": 59, \"cum_trade_log_return\": 0.05494523025585558}, {\"index\": 60, \"cum_trade_log_return\": 0.05363749968359528}, {\"index\": 61, \"cum_trade_log_return\": 0.058371748049027616}, {\"index\": 62, \"cum_trade_log_return\": 0.06264875358406324}, {\"index\": 63, \"cum_trade_log_return\": 0.05798239977328619}, {\"index\": 64, \"cum_trade_log_return\": 0.07146825697625159}, {\"index\": 65, \"cum_trade_log_return\": 0.06963879860013769}, {\"index\": 66, \"cum_trade_log_return\": 0.06723397057167009}, {\"index\": 67, \"cum_trade_log_return\": 0.059178130793234876}, {\"index\": 68, \"cum_trade_log_return\": 0.05841495571319116}, {\"index\": 69, \"cum_trade_log_return\": 0.07294752169302385}, {\"index\": 70, \"cum_trade_log_return\": 0.08806302181825917}, {\"index\": 71, \"cum_trade_log_return\": 0.08912921729143101}, {\"index\": 72, \"cum_trade_log_return\": 0.08371783205537464}, {\"index\": 73, \"cum_trade_log_return\": 0.09378364874746833}, {\"index\": 74, \"cum_trade_log_return\": 0.09222287380063794}, {\"index\": 75, \"cum_trade_log_return\": 0.10070350267019823}, {\"index\": 76, \"cum_trade_log_return\": 0.1006195870606851}, {\"index\": 77, \"cum_trade_log_return\": 0.10404902761269254}, {\"index\": 78, \"cum_trade_log_return\": 0.09603191613202566}, {\"index\": 79, \"cum_trade_log_return\": 0.10288284049356983}, {\"index\": 80, \"cum_trade_log_return\": 0.11730099733169302}, {\"index\": 81, \"cum_trade_log_return\": 0.11673836546372517}, {\"index\": 82, \"cum_trade_log_return\": 0.10395547705841857}, {\"index\": 83, \"cum_trade_log_return\": 0.1088536587218184}, {\"index\": 84, \"cum_trade_log_return\": 0.1185175117446481}, {\"index\": 85, \"cum_trade_log_return\": 0.11795259187277761}, {\"index\": 86, \"cum_trade_log_return\": 0.11838576948754782}, {\"index\": 87, \"cum_trade_log_return\": 0.1174125930693757}, {\"index\": 88, \"cum_trade_log_return\": 0.11273645015299445}, {\"index\": 89, \"cum_trade_log_return\": 0.11099028627362549}, {\"index\": 90, \"cum_trade_log_return\": 0.11352253118063768}, {\"index\": 91, \"cum_trade_log_return\": 0.11284233813229076}, {\"index\": 92, \"cum_trade_log_return\": 0.12599167004629147}, {\"index\": 93, \"cum_trade_log_return\": 0.13068973498691194}, {\"index\": 94, \"cum_trade_log_return\": 0.13243004271419948}, {\"index\": 95, \"cum_trade_log_return\": 0.1376781616926597}, {\"index\": 96, \"cum_trade_log_return\": 0.13766021543656856}, {\"index\": 97, \"cum_trade_log_return\": 0.13188372163718387}, {\"index\": 98, \"cum_trade_log_return\": 0.12521221806780333}, {\"index\": 99, \"cum_trade_log_return\": 0.12750603889722006}, {\"index\": 100, \"cum_trade_log_return\": 0.12569146843944168}, {\"index\": 101, \"cum_trade_log_return\": 0.1251239555924509}, {\"index\": 102, \"cum_trade_log_return\": 0.12187011902252598}, {\"index\": 103, \"cum_trade_log_return\": 0.1010814687242009}, {\"index\": 104, \"cum_trade_log_return\": 0.09922359298151921}, {\"index\": 105, \"cum_trade_log_return\": 0.1021844456774936}, {\"index\": 106, \"cum_trade_log_return\": 0.11100320887473068}, {\"index\": 107, \"cum_trade_log_return\": 0.12020617785518437}, {\"index\": 108, \"cum_trade_log_return\": 0.12261074769426972}, {\"index\": 109, \"cum_trade_log_return\": 0.13986992961381794}, {\"index\": 110, \"cum_trade_log_return\": 0.11824281188037028}, {\"index\": 111, \"cum_trade_log_return\": 0.11960417132158131}, {\"index\": 112, \"cum_trade_log_return\": 0.12422846970705453}, {\"index\": 113, \"cum_trade_log_return\": 0.1271774657639329}, {\"index\": 114, \"cum_trade_log_return\": 0.1300242560933688}, {\"index\": 115, \"cum_trade_log_return\": 0.12767246613316693}, {\"index\": 116, \"cum_trade_log_return\": 0.15296017850350613}, {\"index\": 117, \"cum_trade_log_return\": 0.1535632879254764}, {\"index\": 118, \"cum_trade_log_return\": 0.1340751649240326}, {\"index\": 119, \"cum_trade_log_return\": 0.1451057756484733}, {\"index\": 120, \"cum_trade_log_return\": 0.1537854120633971}, {\"index\": 121, \"cum_trade_log_return\": 0.17760704216785791}, {\"index\": 122, \"cum_trade_log_return\": 0.16217381329734565}, {\"index\": 123, \"cum_trade_log_return\": 0.16079478409727677}, {\"index\": 124, \"cum_trade_log_return\": 0.17555525213420362}, {\"index\": 125, \"cum_trade_log_return\": 0.1770013347364805}, {\"index\": 126, \"cum_trade_log_return\": 0.1615323407796315}, {\"index\": 127, \"cum_trade_log_return\": 0.1636469854148331}, {\"index\": 128, \"cum_trade_log_return\": 0.16021959621515716}, {\"index\": 129, \"cum_trade_log_return\": 0.1689274610864226}, {\"index\": 130, \"cum_trade_log_return\": 0.16881807844598665}, {\"index\": 131, \"cum_trade_log_return\": 0.17475134218588312}, {\"index\": 132, \"cum_trade_log_return\": 0.1785079329896316}, {\"index\": 133, \"cum_trade_log_return\": 0.18036557311685297}, {\"index\": 134, \"cum_trade_log_return\": 0.15504141654837775}, {\"index\": 135, \"cum_trade_log_return\": 0.1676521783076199}, {\"index\": 136, \"cum_trade_log_return\": 0.17099928900482858}, {\"index\": 137, \"cum_trade_log_return\": 0.17559121347882523}, {\"index\": 138, \"cum_trade_log_return\": 0.16663647482975516}]}}, {\"mode\": \"vega-lite\"});\n",
       "</script>"
      ],
      "text/plain": [
       "alt.Chart(...)"
      ]
     },
     "execution_count": 36,
     "metadata": {},
     "output_type": "execute_result"
    }
   ],
   "source": [
    "research.plot_column(test_trades, 'cum_trade_log_return')"
   ]
  },
  {
   "cell_type": "code",
   "execution_count": 37,
   "id": "a81f381c",
   "metadata": {},
   "outputs": [
    {
     "data": {
      "text/html": [
       "\n",
       "<style>\n",
       "  #altair-viz-05918cb114074e289772f1ac99f0c5ad.vega-embed {\n",
       "    width: 100%;\n",
       "    display: flex;\n",
       "  }\n",
       "\n",
       "  #altair-viz-05918cb114074e289772f1ac99f0c5ad.vega-embed details,\n",
       "  #altair-viz-05918cb114074e289772f1ac99f0c5ad.vega-embed details summary {\n",
       "    position: relative;\n",
       "  }\n",
       "</style>\n",
       "<div id=\"altair-viz-05918cb114074e289772f1ac99f0c5ad\"></div>\n",
       "<script type=\"text/javascript\">\n",
       "  var VEGA_DEBUG = (typeof VEGA_DEBUG == \"undefined\") ? {} : VEGA_DEBUG;\n",
       "  (function(spec, embedOpt){\n",
       "    let outputDiv = document.currentScript.previousElementSibling;\n",
       "    if (outputDiv.id !== \"altair-viz-05918cb114074e289772f1ac99f0c5ad\") {\n",
       "      outputDiv = document.getElementById(\"altair-viz-05918cb114074e289772f1ac99f0c5ad\");\n",
       "    }\n",
       "\n",
       "    const paths = {\n",
       "      \"vega\": \"https://cdn.jsdelivr.net/npm/vega@5?noext\",\n",
       "      \"vega-lib\": \"https://cdn.jsdelivr.net/npm/vega-lib?noext\",\n",
       "      \"vega-lite\": \"https://cdn.jsdelivr.net/npm/vega-lite@5.20.1?noext\",\n",
       "      \"vega-embed\": \"https://cdn.jsdelivr.net/npm/vega-embed@6?noext\",\n",
       "    };\n",
       "\n",
       "    function maybeLoadScript(lib, version) {\n",
       "      var key = `${lib.replace(\"-\", \"\")}_version`;\n",
       "      return (VEGA_DEBUG[key] == version) ?\n",
       "        Promise.resolve(paths[lib]) :\n",
       "        new Promise(function(resolve, reject) {\n",
       "          var s = document.createElement('script');\n",
       "          document.getElementsByTagName(\"head\")[0].appendChild(s);\n",
       "          s.async = true;\n",
       "          s.onload = () => {\n",
       "            VEGA_DEBUG[key] = version;\n",
       "            return resolve(paths[lib]);\n",
       "          };\n",
       "          s.onerror = () => reject(`Error loading script: ${paths[lib]}`);\n",
       "          s.src = paths[lib];\n",
       "        });\n",
       "    }\n",
       "\n",
       "    function showError(err) {\n",
       "      outputDiv.innerHTML = `<div class=\"error\" style=\"color:red;\">${err}</div>`;\n",
       "      throw err;\n",
       "    }\n",
       "\n",
       "    function displayChart(vegaEmbed) {\n",
       "      vegaEmbed(outputDiv, spec, embedOpt)\n",
       "        .catch(err => showError(`Javascript Error: ${err.message}<br>This usually means there's a typo in your chart specification. See the javascript console for the full traceback.`));\n",
       "    }\n",
       "\n",
       "    if(typeof define === \"function\" && define.amd) {\n",
       "      requirejs.config({paths});\n",
       "      let deps = [\"vega-embed\"];\n",
       "      require(deps, displayChart, err => showError(`Error loading script: ${err.message}`));\n",
       "    } else {\n",
       "      maybeLoadScript(\"vega\", \"5\")\n",
       "        .then(() => maybeLoadScript(\"vega-lite\", \"5.20.1\"))\n",
       "        .then(() => maybeLoadScript(\"vega-embed\", \"6\"))\n",
       "        .catch(showError)\n",
       "        .then(() => displayChart(vegaEmbed));\n",
       "    }\n",
       "  })({\"config\": {\"view\": {\"continuousWidth\": 300, \"continuousHeight\": 300}}, \"data\": {\"name\": \"data-4fb6a7788a05defc951257f99437f684\"}, \"mark\": {\"type\": \"line\", \"tooltip\": true}, \"encoding\": {\"x\": {\"field\": \"index\", \"type\": \"quantitative\"}, \"y\": {\"field\": \"equity_curve_net_taker\", \"type\": \"quantitative\"}}, \"height\": 400, \"params\": [{\"name\": \"param_3\", \"select\": {\"type\": \"interval\", \"encodings\": [\"x\", \"y\"]}, \"bind\": \"scales\"}], \"title\": \"equity_curve_net_taker\", \"width\": 800, \"$schema\": \"https://vega.github.io/schema/vega-lite/v5.20.1.json\", \"datasets\": {\"data-4fb6a7788a05defc951257f99437f684\": [{\"index\": 0, \"equity_curve_net_taker\": -0.01812251323485008}, {\"index\": 1, \"equity_curve_net_taker\": -0.014425340659378387}, {\"index\": 2, \"equity_curve_net_taker\": -0.025843279765592517}, {\"index\": 3, \"equity_curve_net_taker\": -0.014943630694299614}, {\"index\": 4, \"equity_curve_net_taker\": -0.012554699443526888}, {\"index\": 5, \"equity_curve_net_taker\": -0.01577254464050584}, {\"index\": 6, \"equity_curve_net_taker\": -0.011560382045026373}, {\"index\": 7, \"equity_curve_net_taker\": -0.014076274016298462}, {\"index\": 8, \"equity_curve_net_taker\": -0.02090234284026341}, {\"index\": 9, \"equity_curve_net_taker\": -0.02046509843557318}, {\"index\": 10, \"equity_curve_net_taker\": -0.014492538166090613}, {\"index\": 11, \"equity_curve_net_taker\": -0.02829976677792037}, {\"index\": 12, \"equity_curve_net_taker\": -0.037030344069007196}, {\"index\": 13, \"equity_curve_net_taker\": -0.03268388201580332}, {\"index\": 14, \"equity_curve_net_taker\": -0.03510272179267496}, {\"index\": 15, \"equity_curve_net_taker\": -0.03196551716383006}, {\"index\": 16, \"equity_curve_net_taker\": -0.038071799279987925}, {\"index\": 17, \"equity_curve_net_taker\": -0.022705246436993017}, {\"index\": 18, \"equity_curve_net_taker\": -0.031382887000586855}, {\"index\": 19, \"equity_curve_net_taker\": -0.04273962104861245}, {\"index\": 20, \"equity_curve_net_taker\": -0.027426386455616604}, {\"index\": 21, \"equity_curve_net_taker\": -0.029526317974904223}, {\"index\": 22, \"equity_curve_net_taker\": -0.016569944063906536}, {\"index\": 23, \"equity_curve_net_taker\": -0.020972813039408983}, {\"index\": 24, \"equity_curve_net_taker\": -0.044418016694395206}, {\"index\": 25, \"equity_curve_net_taker\": -0.025563843566792862}, {\"index\": 26, \"equity_curve_net_taker\": -0.04878883474619817}, {\"index\": 27, \"equity_curve_net_taker\": -0.043420841320689844}, {\"index\": 28, \"equity_curve_net_taker\": -0.058166841309013805}, {\"index\": 29, \"equity_curve_net_taker\": -0.05824532582459611}, {\"index\": 30, \"equity_curve_net_taker\": -0.05893669774431102}, {\"index\": 31, \"equity_curve_net_taker\": -0.051690790557088515}, {\"index\": 32, \"equity_curve_net_taker\": -0.044650266365131606}, {\"index\": 33, \"equity_curve_net_taker\": -0.06638156511916257}, {\"index\": 34, \"equity_curve_net_taker\": -0.05587223156117396}, {\"index\": 35, \"equity_curve_net_taker\": -0.06271129951451496}, {\"index\": 36, \"equity_curve_net_taker\": -0.04020952404397375}, {\"index\": 37, \"equity_curve_net_taker\": -0.03371500472103701}, {\"index\": 38, \"equity_curve_net_taker\": -0.02910994850467967}, {\"index\": 39, \"equity_curve_net_taker\": -0.01985348929961137}, {\"index\": 40, \"equity_curve_net_taker\": -0.026110655654923747}, {\"index\": 41, \"equity_curve_net_taker\": -0.028396376874006913}, {\"index\": 42, \"equity_curve_net_taker\": 0.011369301466698411}, {\"index\": 43, \"equity_curve_net_taker\": 0.024818030078642007}, {\"index\": 44, \"equity_curve_net_taker\": 0.023260529597984112}, {\"index\": 45, \"equity_curve_net_taker\": 0.016791916126724156}, {\"index\": 46, \"equity_curve_net_taker\": 0.005183872487657629}, {\"index\": 47, \"equity_curve_net_taker\": -0.015562116453906965}, {\"index\": 48, \"equity_curve_net_taker\": -0.02628407008065123}, {\"index\": 49, \"equity_curve_net_taker\": -0.028901474543922057}, {\"index\": 50, \"equity_curve_net_taker\": -0.012641112601024958}, {\"index\": 51, \"equity_curve_net_taker\": -0.009302830128173397}, {\"index\": 52, \"equity_curve_net_taker\": -0.009220657793116089}, {\"index\": 53, \"equity_curve_net_taker\": 0.005188945364871678}, {\"index\": 54, \"equity_curve_net_taker\": 0.007864957550064215}, {\"index\": 55, \"equity_curve_net_taker\": 0.02936806904677409}, {\"index\": 56, \"equity_curve_net_taker\": 0.01305735035521291}, {\"index\": 57, \"equity_curve_net_taker\": 0.015279669172695699}, {\"index\": 58, \"equity_curve_net_taker\": 0.015777022979778333}, {\"index\": 59, \"equity_curve_net_taker\": 0.018934425933907945}, {\"index\": 60, \"equity_curve_net_taker\": 0.01702651528961519}, {\"index\": 61, \"equity_curve_net_taker\": 0.02116058358301506}, {\"index\": 62, \"equity_curve_net_taker\": 0.02483740904601823}, {\"index\": 63, \"equity_curve_net_taker\": 0.01957087516320872}, {\"index\": 64, \"equity_curve_net_taker\": 0.03245655229414166}, {\"index\": 65, \"equity_curve_net_taker\": 0.030026913845995307}, {\"index\": 66, \"equity_curve_net_taker\": 0.02702190574549525}, {\"index\": 67, \"equity_curve_net_taker\": 0.01836588589502758}, {\"index\": 68, \"equity_curve_net_taker\": 0.017002530742951404}, {\"index\": 69, \"equity_curve_net_taker\": 0.03093491665075163}, {\"index\": 70, \"equity_curve_net_taker\": 0.04545023670395449}, {\"index\": 71, \"equity_curve_net_taker\": 0.045916252105093876}, {\"index\": 72, \"equity_curve_net_taker\": 0.03990468679700504}, {\"index\": 73, \"equity_curve_net_taker\": 0.04937032341706627}, {\"index\": 74, \"equity_curve_net_taker\": 0.047209368398203416}, {\"index\": 75, \"equity_curve_net_taker\": 0.055089817195731236}, {\"index\": 76, \"equity_curve_net_taker\": 0.054405721514185656}, {\"index\": 77, \"equity_curve_net_taker\": 0.05723498199416063}, {\"index\": 78, \"equity_curve_net_taker\": 0.0486176904414613}, {\"index\": 79, \"equity_curve_net_taker\": 0.054868434730973005}, {\"index\": 80, \"equity_curve_net_taker\": 0.06868641149706374}, {\"index\": 81, \"equity_curve_net_taker\": 0.06752359955706343}, {\"index\": 82, \"equity_curve_net_taker\": 0.05414053107972436}, {\"index\": 83, \"equity_curve_net_taker\": 0.05843853267109174}, {\"index\": 84, \"equity_curve_net_taker\": 0.06750220562188897}, {\"index\": 85, \"equity_curve_net_taker\": 0.06633710567798601}, {\"index\": 86, \"equity_curve_net_taker\": 0.06617010322072375}, {\"index\": 87, \"equity_curve_net_taker\": 0.06459674673051917}, {\"index\": 88, \"equity_curve_net_taker\": 0.05932042374210547}, {\"index\": 89, \"equity_curve_net_taker\": 0.056974079790704055}, {\"index\": 90, \"equity_curve_net_taker\": 0.05890614462568378}, {\"index\": 91, \"equity_curve_net_taker\": 0.0576257715053044}, {\"index\": 92, \"equity_curve_net_taker\": 0.07017492334727266}, {\"index\": 93, \"equity_curve_net_taker\": 0.07427280821586067}, {\"index\": 94, \"equity_curve_net_taker\": 0.07541293587111574}, {\"index\": 95, \"equity_curve_net_taker\": 0.0800608747775435}, {\"index\": 96, \"equity_curve_net_taker\": 0.0794427484494199}, {\"index\": 97, \"equity_curve_net_taker\": 0.07306607457800274}, {\"index\": 98, \"equity_curve_net_taker\": 0.06579439093658973}, {\"index\": 99, \"equity_curve_net_taker\": 0.067488031693974}, {\"index\": 100, \"equity_curve_net_taker\": 0.06507328116416315}, {\"index\": 101, \"equity_curve_net_taker\": 0.06390558824513991}, {\"index\": 102, \"equity_curve_net_taker\": 0.06005157160318252}, {\"index\": 103, \"equity_curve_net_taker\": 0.03866274123282498}, {\"index\": 104, \"equity_curve_net_taker\": 0.03620468541811084}, {\"index\": 105, \"equity_curve_net_taker\": 0.038565358042052765}, {\"index\": 106, \"equity_curve_net_taker\": 0.046783941167257384}, {\"index\": 107, \"equity_curve_net_taker\": 0.0553867300756786}, {\"index\": 108, \"equity_curve_net_taker\": 0.05719111984273149}, {\"index\": 109, \"equity_curve_net_taker\": 0.07385012169024727}, {\"index\": 110, \"equity_curve_net_taker\": 0.05162282388476715}, {\"index\": 111, \"equity_curve_net_taker\": 0.05238400325394572}, {\"index\": 112, \"equity_curve_net_taker\": 0.05640812156738648}, {\"index\": 113, \"equity_curve_net_taker\": 0.05875693755223238}, {\"index\": 114, \"equity_curve_net_taker\": 0.0610035478096358}, {\"index\": 115, \"equity_curve_net_taker\": 0.05805157777740148}, {\"index\": 116, \"equity_curve_net_taker\": 0.0827391100757082}, {\"index\": 117, \"equity_curve_net_taker\": 0.08274203942564601}, {\"index\": 118, \"equity_curve_net_taker\": 0.06265373635216973}, {\"index\": 119, \"equity_curve_net_taker\": 0.07308416700457797}, {\"index\": 120, \"equity_curve_net_taker\": 0.08116362334746932}, {\"index\": 121, \"equity_curve_net_taker\": 0.10438507337989768}, {\"index\": 122, \"equity_curve_net_taker\": 0.08835166443735294}, {\"index\": 123, \"equity_curve_net_taker\": 0.08637245516525159}, {\"index\": 124, \"equity_curve_net_taker\": 0.10053274313014599}, {\"index\": 125, \"equity_curve_net_taker\": 0.10137864566039041}, {\"index\": 126, \"equity_curve_net_taker\": 0.08530947163150895}, {\"index\": 127, \"equity_curve_net_taker\": 0.08682393619467811}, {\"index\": 128, \"equity_curve_net_taker\": 0.0827963669229697}, {\"index\": 129, \"equity_curve_net_taker\": 0.09090405172220267}, {\"index\": 130, \"equity_curve_net_taker\": 0.09019448900973427}, {\"index\": 131, \"equity_curve_net_taker\": 0.09552757267759829}, {\"index\": 132, \"equity_curve_net_taker\": 0.09868398340931432}, {\"index\": 133, \"equity_curve_net_taker\": 0.09994144346450322}, {\"index\": 134, \"equity_curve_net_taker\": 0.07401710682399554}, {\"index\": 135, \"equity_curve_net_taker\": 0.08602768851120521}, {\"index\": 136, \"equity_curve_net_taker\": 0.08877461913638143}, {\"index\": 137, \"equity_curve_net_taker\": 0.09276636353834561}, {\"index\": 138, \"equity_curve_net_taker\": 0.08321144481724307}]}}, {\"mode\": \"vega-lite\"});\n",
       "</script>"
      ],
      "text/plain": [
       "alt.Chart(...)"
      ]
     },
     "execution_count": 37,
     "metadata": {},
     "output_type": "execute_result"
    }
   ],
   "source": [
    "research.plot_column(test_trades, 'equity_curve_net_taker')"
   ]
  },
  {
   "cell_type": "code",
   "execution_count": 38,
   "id": "775d216f",
   "metadata": {},
   "outputs": [
    {
     "data": {
      "text/html": [
       "\n",
       "<style>\n",
       "  #altair-viz-967e10d805fd46e68ccef0430b9d2143.vega-embed {\n",
       "    width: 100%;\n",
       "    display: flex;\n",
       "  }\n",
       "\n",
       "  #altair-viz-967e10d805fd46e68ccef0430b9d2143.vega-embed details,\n",
       "  #altair-viz-967e10d805fd46e68ccef0430b9d2143.vega-embed details summary {\n",
       "    position: relative;\n",
       "  }\n",
       "</style>\n",
       "<div id=\"altair-viz-967e10d805fd46e68ccef0430b9d2143\"></div>\n",
       "<script type=\"text/javascript\">\n",
       "  var VEGA_DEBUG = (typeof VEGA_DEBUG == \"undefined\") ? {} : VEGA_DEBUG;\n",
       "  (function(spec, embedOpt){\n",
       "    let outputDiv = document.currentScript.previousElementSibling;\n",
       "    if (outputDiv.id !== \"altair-viz-967e10d805fd46e68ccef0430b9d2143\") {\n",
       "      outputDiv = document.getElementById(\"altair-viz-967e10d805fd46e68ccef0430b9d2143\");\n",
       "    }\n",
       "\n",
       "    const paths = {\n",
       "      \"vega\": \"https://cdn.jsdelivr.net/npm/vega@5?noext\",\n",
       "      \"vega-lib\": \"https://cdn.jsdelivr.net/npm/vega-lib?noext\",\n",
       "      \"vega-lite\": \"https://cdn.jsdelivr.net/npm/vega-lite@5.20.1?noext\",\n",
       "      \"vega-embed\": \"https://cdn.jsdelivr.net/npm/vega-embed@6?noext\",\n",
       "    };\n",
       "\n",
       "    function maybeLoadScript(lib, version) {\n",
       "      var key = `${lib.replace(\"-\", \"\")}_version`;\n",
       "      return (VEGA_DEBUG[key] == version) ?\n",
       "        Promise.resolve(paths[lib]) :\n",
       "        new Promise(function(resolve, reject) {\n",
       "          var s = document.createElement('script');\n",
       "          document.getElementsByTagName(\"head\")[0].appendChild(s);\n",
       "          s.async = true;\n",
       "          s.onload = () => {\n",
       "            VEGA_DEBUG[key] = version;\n",
       "            return resolve(paths[lib]);\n",
       "          };\n",
       "          s.onerror = () => reject(`Error loading script: ${paths[lib]}`);\n",
       "          s.src = paths[lib];\n",
       "        });\n",
       "    }\n",
       "\n",
       "    function showError(err) {\n",
       "      outputDiv.innerHTML = `<div class=\"error\" style=\"color:red;\">${err}</div>`;\n",
       "      throw err;\n",
       "    }\n",
       "\n",
       "    function displayChart(vegaEmbed) {\n",
       "      vegaEmbed(outputDiv, spec, embedOpt)\n",
       "        .catch(err => showError(`Javascript Error: ${err.message}<br>This usually means there's a typo in your chart specification. See the javascript console for the full traceback.`));\n",
       "    }\n",
       "\n",
       "    if(typeof define === \"function\" && define.amd) {\n",
       "      requirejs.config({paths});\n",
       "      let deps = [\"vega-embed\"];\n",
       "      require(deps, displayChart, err => showError(`Error loading script: ${err.message}`));\n",
       "    } else {\n",
       "      maybeLoadScript(\"vega\", \"5\")\n",
       "        .then(() => maybeLoadScript(\"vega-lite\", \"5.20.1\"))\n",
       "        .then(() => maybeLoadScript(\"vega-embed\", \"6\"))\n",
       "        .catch(showError)\n",
       "        .then(() => displayChart(vegaEmbed));\n",
       "    }\n",
       "  })({\"config\": {\"view\": {\"continuousWidth\": 300, \"continuousHeight\": 300}}, \"data\": {\"name\": \"data-6daabe40b00966ec1f5f9237039fe092\"}, \"mark\": {\"type\": \"line\", \"tooltip\": true}, \"encoding\": {\"x\": {\"field\": \"index\", \"type\": \"quantitative\"}, \"y\": {\"field\": \"equity_curve_net_maker\", \"type\": \"quantitative\"}}, \"height\": 400, \"params\": [{\"name\": \"param_4\", \"select\": {\"type\": \"interval\", \"encodings\": [\"x\", \"y\"]}, \"bind\": \"scales\"}], \"title\": \"equity_curve_net_maker\", \"width\": 800, \"$schema\": \"https://vega.github.io/schema/vega-lite/v5.20.1.json\", \"datasets\": {\"data-6daabe40b00966ec1f5f9237039fe092\": [{\"index\": 0, \"equity_curve_net_maker\": -0.017722353165484664}, {\"index\": 1, \"equity_curve_net_maker\": -0.013625020520647554}, {\"index\": 2, \"equity_curve_net_maker\": -0.02464279955749627}, {\"index\": 3, \"equity_curve_net_maker\": -0.013342990416837952}, {\"index\": 4, \"equity_curve_net_maker\": -0.01055389909669981}, {\"index\": 5, \"equity_curve_net_maker\": -0.013371584224313345}, {\"index\": 6, \"equity_curve_net_maker\": -0.008759261559468464}, {\"index\": 7, \"equity_curve_net_maker\": -0.010874993461375139}, {\"index\": 8, \"equity_curve_net_maker\": -0.01730090221597467}, {\"index\": 9, \"equity_curve_net_maker\": -0.016463497741919023}, {\"index\": 10, \"equity_curve_net_maker\": -0.01009077740307104}, {\"index\": 11, \"equity_curve_net_maker\": -0.023497845945535382}, {\"index\": 12, \"equity_curve_net_maker\": -0.03182826316725679}, {\"index\": 13, \"equity_curve_net_maker\": -0.027081641044687497}, {\"index\": 14, \"equity_curve_net_maker\": -0.029100320752193713}, {\"index\": 15, \"equity_curve_net_maker\": -0.025562956053983402}, {\"index\": 16, \"equity_curve_net_maker\": -0.03126907810077585}, {\"index\": 17, \"equity_curve_net_maker\": -0.015502365188415527}, {\"index\": 18, \"equity_curve_net_maker\": -0.02377984568264395}, {\"index\": 19, \"equity_curve_net_maker\": -0.034736419661304134}, {\"index\": 20, \"equity_curve_net_maker\": -0.01902302499894287}, {\"index\": 21, \"equity_curve_net_maker\": -0.020722796448865072}, {\"index\": 22, \"equity_curve_net_maker\": -0.007366262468501968}, {\"index\": 23, \"equity_curve_net_maker\": -0.011368971374639}, {\"index\": 24, \"equity_curve_net_maker\": -0.03441401496025981}, {\"index\": 25, \"equity_curve_net_maker\": -0.015159681763292049}, {\"index\": 26, \"equity_curve_net_maker\": -0.03798451287333194}, {\"index\": 27, \"equity_curve_net_maker\": -0.0322163593784582}, {\"index\": 28, \"equity_curve_net_maker\": -0.04656219929741674}, {\"index\": 29, \"equity_curve_net_maker\": -0.046240523743633626}, {\"index\": 30, \"equity_curve_net_maker\": -0.04653173559398312}, {\"index\": 31, \"equity_curve_net_maker\": -0.03888566833739519}, {\"index\": 32, \"equity_curve_net_maker\": -0.03144498407607287}, {\"index\": 33, \"equity_curve_net_maker\": -0.052776122760738425}, {\"index\": 34, \"equity_curve_net_maker\": -0.041866629133384396}, {\"index\": 35, \"equity_curve_net_maker\": -0.04830553701735998}, {\"index\": 36, \"equity_curve_net_maker\": -0.02540360147745336}, {\"index\": 37, \"equity_curve_net_maker\": -0.018508922085151203}, {\"index\": 38, \"equity_curve_net_maker\": -0.013503705799428452}, {\"index\": 39, \"equity_curve_net_maker\": -0.0038470865249947347}, {\"index\": 40, \"equity_curve_net_maker\": -0.009704092810941697}, {\"index\": 41, \"equity_curve_net_maker\": -0.011589653960659448}, {\"index\": 42, \"equity_curve_net_maker\": 0.028576184449411297}, {\"index\": 43, \"equity_curve_net_maker\": 0.04242507313072031}, {\"index\": 44, \"equity_curve_net_maker\": 0.04126773271942783}, {\"index\": 45, \"equity_curve_net_maker\": 0.03519927931753329}, {\"index\": 46, \"equity_curve_net_maker\": 0.02399139574783218}, {\"index\": 47, \"equity_curve_net_maker\": 0.003645566875633003}, {\"index\": 48, \"equity_curve_net_maker\": -0.006676226681745846}, {\"index\": 49, \"equity_curve_net_maker\": -0.008893471075651258}, {\"index\": 50, \"equity_curve_net_maker\": 0.007767050936611257}, {\"index\": 51, \"equity_curve_net_maker\": 0.011505493478828234}, {\"index\": 52, \"equity_curve_net_maker\": 0.011987825883250957}, {\"index\": 53, \"equity_curve_net_maker\": 0.02679758911060414}, {\"index\": 54, \"equity_curve_net_maker\": 0.029873761365162094}, {\"index\": 55, \"equity_curve_net_maker\": 0.051777032931237386}, {\"index\": 56, \"equity_curve_net_maker\": 0.03586647430904162}, {\"index\": 57, \"equity_curve_net_maker\": 0.038488953195889825}, {\"index\": 58, \"equity_curve_net_maker\": 0.03938646707233787}, {\"index\": 59, \"equity_curve_net_maker\": 0.0429440300958329}, {\"index\": 60, \"equity_curve_net_maker\": 0.04143627952090556}, {\"index\": 61, \"equity_curve_net_maker\": 0.045970507883670846}, {\"index\": 62, \"equity_curve_net_maker\": 0.05004749341603943}, {\"index\": 63, \"equity_curve_net_maker\": 0.045181119602595333}, {\"index\": 64, \"equity_curve_net_maker\": 0.058466956802893696}, {\"index\": 65, \"equity_curve_net_maker\": 0.05643747842411276}, {\"index\": 66, \"equity_curve_net_maker\": 0.053832630392978115}, {\"index\": 67, \"equity_curve_net_maker\": 0.04557677061187586}, {\"index\": 68, \"equity_curve_net_maker\": 0.044613575529165096}, {\"index\": 69, \"equity_curve_net_maker\": 0.05894612150633074}, {\"index\": 70, \"equity_curve_net_maker\": 0.07386160162889902}, {\"index\": 71, \"equity_curve_net_maker\": 0.07472777709940381}, {\"index\": 72, \"equity_curve_net_maker\": 0.0691163718606804}, {\"index\": 73, \"equity_curve_net_maker\": 0.07898216855010705}, {\"index\": 74, \"equity_curve_net_maker\": 0.07722137360060961}, {\"index\": 75, \"equity_curve_net_maker\": 0.08550198246750285}, {\"index\": 76, \"equity_curve_net_maker\": 0.08521804685532268}, {\"index\": 77, \"equity_curve_net_maker\": 0.08844746740466307}, {\"index\": 78, \"equity_curve_net_maker\": 0.08023033592132915}, {\"index\": 79, \"equity_curve_net_maker\": 0.08688124028020627}, {\"index\": 80, \"equity_curve_net_maker\": 0.10109937711566241}, {\"index\": 81, \"equity_curve_net_maker\": 0.10033672524502751}, {\"index\": 82, \"equity_curve_net_maker\": 0.08735381683705386}, {\"index\": 83, \"equity_curve_net_maker\": 0.09205197849778665}, {\"index\": 84, \"equity_curve_net_maker\": 0.1015158115179493}, {\"index\": 85, \"equity_curve_net_maker\": 0.10075087164341176}, {\"index\": 86, \"equity_curve_net_maker\": 0.10098402925551492}, {\"index\": 87, \"equity_curve_net_maker\": 0.09981083283467575}, {\"index\": 88, \"equity_curve_net_maker\": 0.09493466991562746}, {\"index\": 89, \"equity_curve_net_maker\": 0.09298848603359146}, {\"index\": 90, \"equity_curve_net_maker\": 0.0953207109379366}, {\"index\": 91, \"equity_curve_net_maker\": 0.09444049788692264}, {\"index\": 92, \"equity_curve_net_maker\": 0.10738980979825631}, {\"index\": 93, \"equity_curve_net_maker\": 0.11188785473620975}, {\"index\": 94, \"equity_curve_net_maker\": 0.11342814246083023}, {\"index\": 95, \"equity_curve_net_maker\": 0.11847624143662341}, {\"index\": 96, \"equity_curve_net_maker\": 0.11825827517786523}, {\"index\": 97, \"equity_curve_net_maker\": 0.11228176137581349}, {\"index\": 98, \"equity_curve_net_maker\": 0.10541023780376589}, {\"index\": 99, \"equity_curve_net_maker\": 0.10750403863051557}, {\"index\": 100, \"equity_curve_net_maker\": 0.10548944817007014}, {\"index\": 101, \"equity_curve_net_maker\": 0.1047219153204123}, {\"index\": 102, \"equity_curve_net_maker\": 0.10126805874782034}, {\"index\": 103, \"equity_curve_net_maker\": 0.08027938844682822}, {\"index\": 104, \"equity_curve_net_maker\": 0.07822149270147949}, {\"index\": 105, \"equity_curve_net_maker\": 0.08098232539478684}, {\"index\": 106, \"equity_curve_net_maker\": 0.08960106858935687}, {\"index\": 107, \"equity_curve_net_maker\": 0.09860401756714351}, {\"index\": 108, \"equity_curve_net_maker\": 0.10080856740356182}, {\"index\": 109, \"equity_curve_net_maker\": 0.11786772932044301}, {\"index\": 110, \"equity_curve_net_maker\": 0.0960405915843283}, {\"index\": 111, \"equity_curve_net_maker\": 0.09720193102287229}, {\"index\": 112, \"equity_curve_net_maker\": 0.10162620940567847}, {\"index\": 113, \"equity_curve_net_maker\": 0.10437518545988979}, {\"index\": 114, \"equity_curve_net_maker\": 0.10702195578665863}, {\"index\": 115, \"equity_curve_net_maker\": 0.10447014582378972}, {\"index\": 116, \"equity_curve_net_maker\": 0.12955783819146185}, {\"index\": 117, \"equity_curve_net_maker\": 0.12996092761076508}, {\"index\": 118, \"equity_curve_net_maker\": 0.11027278460665421}, {\"index\": 119, \"equity_curve_net_maker\": 0.12110337532842787}, {\"index\": 120, \"equity_curve_net_maker\": 0.12958299174068463}, {\"index\": 121, \"equity_curve_net_maker\": 0.15320460184247842}, {\"index\": 122, \"equity_curve_net_maker\": 0.1375713529692991}, {\"index\": 123, \"equity_curve_net_maker\": 0.13599230376656316}, {\"index\": 124, \"equity_curve_net_maker\": 0.15055275180082295}, {\"index\": 125, \"equity_curve_net_maker\": 0.1517988144004328}, {\"index\": 126, \"equity_curve_net_maker\": 0.13612980044091677}, {\"index\": 127, \"equity_curve_net_maker\": 0.13804442507345135}, {\"index\": 128, \"equity_curve_net_maker\": 0.13441701587110835}, {\"index\": 129, \"equity_curve_net_maker\": 0.14292486073970673}, {\"index\": 130, \"equity_curve_net_maker\": 0.14261545809660375}, {\"index\": 131, \"equity_curve_net_maker\": 0.1483487018338332}, {\"index\": 132, \"equity_curve_net_maker\": 0.15190527263491466}, {\"index\": 133, \"equity_curve_net_maker\": 0.15356289275946897}, {\"index\": 134, \"equity_curve_net_maker\": 0.12803871618832668}, {\"index\": 135, \"equity_curve_net_maker\": 0.14044945794490177}, {\"index\": 136, \"equity_curve_net_maker\": 0.1435965486394434}, {\"index\": 137, \"equity_curve_net_maker\": 0.147988453110773}, {\"index\": 138, \"equity_curve_net_maker\": 0.13883369445903587}]}}, {\"mode\": \"vega-lite\"});\n",
       "</script>"
      ],
      "text/plain": [
       "alt.Chart(...)"
      ]
     },
     "execution_count": 38,
     "metadata": {},
     "output_type": "execute_result"
    }
   ],
   "source": [
    "research.plot_column(test_trades, 'equity_curve_net_maker')"
   ]
  },
  {
   "cell_type": "markdown",
   "id": "0c9162f9",
   "metadata": {},
   "source": [
    "## trade sizing"
   ]
  },
  {
   "cell_type": "markdown",
   "id": "f5413fb0",
   "metadata": {},
   "source": [
    "### constant trade value"
   ]
  },
  {
   "cell_type": "code",
   "execution_count": 82,
   "id": "edeb4cc2",
   "metadata": {},
   "outputs": [],
   "source": [
    "view_cols = [\n",
    "    'datetime',\n",
    "    'open',\n",
    "    'close_log_return',\n",
    "    'y_hat',\n",
    "    'dir_signal',\n",
    "    'trade_log_return',\n",
    "    'cum_trade_log_return',\n",
    "    'trade_value',\n",
    "    'trade_qty',\n",
    "    'signed_trade_qty'\n",
    "]"
   ]
  },
  {
   "cell_type": "code",
   "execution_count": 83,
   "id": "0e90b0db",
   "metadata": {},
   "outputs": [
    {
     "data": {
      "text/html": [
       "<div><style>\n",
       ".dataframe > thead > tr,\n",
       ".dataframe > tbody > tr {\n",
       "  text-align: right;\n",
       "  white-space: pre-wrap;\n",
       "}\n",
       "</style>\n",
       "<small>shape: (139, 10)</small><table border=\"1\" class=\"dataframe\"><thead><tr><th>datetime</th><th>open</th><th>close_log_return</th><th>y_hat</th><th>dir_signal</th><th>trade_log_return</th><th>cum_trade_log_return</th><th>trade_value</th><th>trade_qty</th><th>signed_trade_qty</th></tr><tr><td>datetime[μs]</td><td>f64</td><td>f64</td><td>f32</td><td>f32</td><td>f64</td><td>f64</td><td>i32</td><td>f64</td><td>f64</td></tr></thead><tbody><tr><td>2025-08-01 12:00:00</td><td>115246.5</td><td>-0.017522</td><td>0.002725</td><td>1.0</td><td>-0.017522</td><td>-0.017522</td><td>100</td><td>0.000868</td><td>0.000868</td></tr><tr><td>2025-08-02 00:00:00</td><td>113244.8</td><td>0.004297</td><td>0.002119</td><td>1.0</td><td>0.004297</td><td>-0.013225</td><td>100</td><td>0.000883</td><td>0.000883</td></tr><tr><td>2025-08-02 12:00:00</td><td>113732.6</td><td>-0.010818</td><td>0.001293</td><td>1.0</td><td>-0.010818</td><td>-0.024043</td><td>100</td><td>0.000879</td><td>0.000879</td></tr><tr><td>2025-08-03 00:00:00</td><td>112508.8</td><td>0.0115</td><td>0.001011</td><td>1.0</td><td>0.0115</td><td>-0.012543</td><td>100</td><td>0.000889</td><td>0.000889</td></tr><tr><td>2025-08-03 12:00:00</td><td>113810.0</td><td>0.002989</td><td>0.000325</td><td>1.0</td><td>0.002989</td><td>-0.009554</td><td>100</td><td>0.000879</td><td>0.000879</td></tr><tr><td>&hellip;</td><td>&hellip;</td><td>&hellip;</td><td>&hellip;</td><td>&hellip;</td><td>&hellip;</td><td>&hellip;</td><td>&hellip;</td><td>&hellip;</td><td>&hellip;</td></tr><tr><td>2025-10-07 12:00:00</td><td>124397.1</td><td>-0.025324</td><td>0.000779</td><td>1.0</td><td>-0.025324</td><td>0.155041</td><td>100</td><td>0.000804</td><td>0.000804</td></tr><tr><td>2025-10-08 00:00:00</td><td>121286.6</td><td>0.012611</td><td>0.003535</td><td>1.0</td><td>0.012611</td><td>0.167652</td><td>100</td><td>0.000824</td><td>0.000824</td></tr><tr><td>2025-10-08 12:00:00</td><td>122825.8</td><td>0.003347</td><td>0.001011</td><td>1.0</td><td>0.003347</td><td>0.170999</td><td>100</td><td>0.000814</td><td>0.000814</td></tr><tr><td>2025-10-09 00:00:00</td><td>123237.4</td><td>-0.004592</td><td>-0.001241</td><td>-1.0</td><td>0.004592</td><td>0.175591</td><td>100</td><td>0.000811</td><td>-0.000811</td></tr><tr><td>2025-10-09 12:00:00</td><td>122673.0</td><td>-0.008955</td><td>0.00128</td><td>1.0</td><td>-0.008955</td><td>0.166636</td><td>100</td><td>0.000815</td><td>0.000815</td></tr></tbody></table></div>"
      ],
      "text/plain": [
       "shape: (139, 10)\n",
       "┌───────────┬──────────┬───────────┬───────────┬───┬───────────┬───────────┬───────────┬───────────┐\n",
       "│ datetime  ┆ open     ┆ close_log ┆ y_hat     ┆ … ┆ cum_trade ┆ trade_val ┆ trade_qty ┆ signed_tr │\n",
       "│ ---       ┆ ---      ┆ _return   ┆ ---       ┆   ┆ _log_retu ┆ ue        ┆ ---       ┆ ade_qty   │\n",
       "│ datetime[ ┆ f64      ┆ ---       ┆ f32       ┆   ┆ rn        ┆ ---       ┆ f64       ┆ ---       │\n",
       "│ μs]       ┆          ┆ f64       ┆           ┆   ┆ ---       ┆ i32       ┆           ┆ f64       │\n",
       "│           ┆          ┆           ┆           ┆   ┆ f64       ┆           ┆           ┆           │\n",
       "╞═══════════╪══════════╪═══════════╪═══════════╪═══╪═══════════╪═══════════╪═══════════╪═══════════╡\n",
       "│ 2025-08-0 ┆ 115246.5 ┆ -0.017522 ┆ 0.002725  ┆ … ┆ -0.017522 ┆ 100       ┆ 0.000868  ┆ 0.000868  │\n",
       "│ 1         ┆          ┆           ┆           ┆   ┆           ┆           ┆           ┆           │\n",
       "│ 12:00:00  ┆          ┆           ┆           ┆   ┆           ┆           ┆           ┆           │\n",
       "│ 2025-08-0 ┆ 113244.8 ┆ 0.004297  ┆ 0.002119  ┆ … ┆ -0.013225 ┆ 100       ┆ 0.000883  ┆ 0.000883  │\n",
       "│ 2         ┆          ┆           ┆           ┆   ┆           ┆           ┆           ┆           │\n",
       "│ 00:00:00  ┆          ┆           ┆           ┆   ┆           ┆           ┆           ┆           │\n",
       "│ 2025-08-0 ┆ 113732.6 ┆ -0.010818 ┆ 0.001293  ┆ … ┆ -0.024043 ┆ 100       ┆ 0.000879  ┆ 0.000879  │\n",
       "│ 2         ┆          ┆           ┆           ┆   ┆           ┆           ┆           ┆           │\n",
       "│ 12:00:00  ┆          ┆           ┆           ┆   ┆           ┆           ┆           ┆           │\n",
       "│ 2025-08-0 ┆ 112508.8 ┆ 0.0115    ┆ 0.001011  ┆ … ┆ -0.012543 ┆ 100       ┆ 0.000889  ┆ 0.000889  │\n",
       "│ 3         ┆          ┆           ┆           ┆   ┆           ┆           ┆           ┆           │\n",
       "│ 00:00:00  ┆          ┆           ┆           ┆   ┆           ┆           ┆           ┆           │\n",
       "│ 2025-08-0 ┆ 113810.0 ┆ 0.002989  ┆ 0.000325  ┆ … ┆ -0.009554 ┆ 100       ┆ 0.000879  ┆ 0.000879  │\n",
       "│ 3         ┆          ┆           ┆           ┆   ┆           ┆           ┆           ┆           │\n",
       "│ 12:00:00  ┆          ┆           ┆           ┆   ┆           ┆           ┆           ┆           │\n",
       "│ …         ┆ …        ┆ …         ┆ …         ┆ … ┆ …         ┆ …         ┆ …         ┆ …         │\n",
       "│ 2025-10-0 ┆ 124397.1 ┆ -0.025324 ┆ 0.000779  ┆ … ┆ 0.155041  ┆ 100       ┆ 0.000804  ┆ 0.000804  │\n",
       "│ 7         ┆          ┆           ┆           ┆   ┆           ┆           ┆           ┆           │\n",
       "│ 12:00:00  ┆          ┆           ┆           ┆   ┆           ┆           ┆           ┆           │\n",
       "│ 2025-10-0 ┆ 121286.6 ┆ 0.012611  ┆ 0.003535  ┆ … ┆ 0.167652  ┆ 100       ┆ 0.000824  ┆ 0.000824  │\n",
       "│ 8         ┆          ┆           ┆           ┆   ┆           ┆           ┆           ┆           │\n",
       "│ 00:00:00  ┆          ┆           ┆           ┆   ┆           ┆           ┆           ┆           │\n",
       "│ 2025-10-0 ┆ 122825.8 ┆ 0.003347  ┆ 0.001011  ┆ … ┆ 0.170999  ┆ 100       ┆ 0.000814  ┆ 0.000814  │\n",
       "│ 8         ┆          ┆           ┆           ┆   ┆           ┆           ┆           ┆           │\n",
       "│ 12:00:00  ┆          ┆           ┆           ┆   ┆           ┆           ┆           ┆           │\n",
       "│ 2025-10-0 ┆ 123237.4 ┆ -0.004592 ┆ -0.001241 ┆ … ┆ 0.175591  ┆ 100       ┆ 0.000811  ┆ -0.000811 │\n",
       "│ 9         ┆          ┆           ┆           ┆   ┆           ┆           ┆           ┆           │\n",
       "│ 00:00:00  ┆          ┆           ┆           ┆   ┆           ┆           ┆           ┆           │\n",
       "│ 2025-10-0 ┆ 122673.0 ┆ -0.008955 ┆ 0.00128   ┆ … ┆ 0.166636  ┆ 100       ┆ 0.000815  ┆ 0.000815  │\n",
       "│ 9         ┆          ┆           ┆           ┆   ┆           ┆           ┆           ┆           │\n",
       "│ 12:00:00  ┆          ┆           ┆           ┆   ┆           ┆           ┆           ┆           │\n",
       "└───────────┴──────────┴───────────┴───────────┴───┴───────────┴───────────┴───────────┴───────────┘"
      ]
     },
     "execution_count": 83,
     "metadata": {},
     "output_type": "execute_result"
    }
   ],
   "source": [
    "capital = 100\n",
    "trade_value = capital\n",
    "test_trades = test_trades.with_columns(\n",
    "    pl.lit(trade_value).alias('trade_value'),\n",
    "    (trade_value / pl.col('open')).alias('trade_qty')\n",
    ").with_columns(\n",
    "    (pl.col('trade_qty') * pl.col('dir_signal')).alias('signed_trade_qty')\n",
    ")\n",
    "\n",
    "test_trades.select(view_cols)"
   ]
  },
  {
   "cell_type": "markdown",
   "id": "6032680f",
   "metadata": {},
   "source": [
    "### add trade gross pnl"
   ]
  },
  {
   "cell_type": "code",
   "execution_count": 84,
   "id": "97baddc3",
   "metadata": {},
   "outputs": [
    {
     "data": {
      "text/html": [
       "<div><style>\n",
       ".dataframe > thead > tr,\n",
       ".dataframe > tbody > tr {\n",
       "  text-align: right;\n",
       "  white-space: pre-wrap;\n",
       "}\n",
       "</style>\n",
       "<small>shape: (139, 11)</small><table border=\"1\" class=\"dataframe\"><thead><tr><th>datetime</th><th>open</th><th>close_log_return</th><th>y_hat</th><th>dir_signal</th><th>trade_log_return</th><th>cum_trade_log_return</th><th>trade_value</th><th>trade_qty</th><th>signed_trade_qty</th><th>trade_gross_pnl</th></tr><tr><td>datetime[μs]</td><td>f64</td><td>f64</td><td>f32</td><td>f32</td><td>f64</td><td>f64</td><td>i32</td><td>f64</td><td>f64</td><td>f64</td></tr></thead><tbody><tr><td>2025-08-01 12:00:00</td><td>115246.5</td><td>-0.017522</td><td>0.002725</td><td>1.0</td><td>-0.017522</td><td>-0.017522</td><td>100</td><td>0.000868</td><td>0.000868</td><td>-1.752233</td></tr><tr><td>2025-08-02 00:00:00</td><td>113244.8</td><td>0.004297</td><td>0.002119</td><td>1.0</td><td>0.004297</td><td>-0.013225</td><td>100</td><td>0.000883</td><td>0.000883</td><td>0.429735</td></tr><tr><td>2025-08-02 12:00:00</td><td>113732.6</td><td>-0.010818</td><td>0.001293</td><td>1.0</td><td>-0.010818</td><td>-0.024043</td><td>100</td><td>0.000879</td><td>0.000879</td><td>-1.081776</td></tr><tr><td>2025-08-03 00:00:00</td><td>112508.8</td><td>0.0115</td><td>0.001011</td><td>1.0</td><td>0.0115</td><td>-0.012543</td><td>100</td><td>0.000889</td><td>0.000889</td><td>1.149983</td></tr><tr><td>2025-08-03 12:00:00</td><td>113810.0</td><td>0.002989</td><td>0.000325</td><td>1.0</td><td>0.002989</td><td>-0.009554</td><td>100</td><td>0.000879</td><td>0.000879</td><td>0.298911</td></tr><tr><td>&hellip;</td><td>&hellip;</td><td>&hellip;</td><td>&hellip;</td><td>&hellip;</td><td>&hellip;</td><td>&hellip;</td><td>&hellip;</td><td>&hellip;</td><td>&hellip;</td><td>&hellip;</td></tr><tr><td>2025-10-07 12:00:00</td><td>124397.1</td><td>-0.025324</td><td>0.000779</td><td>1.0</td><td>-0.025324</td><td>0.155041</td><td>100</td><td>0.000804</td><td>0.000804</td><td>-2.532416</td></tr><tr><td>2025-10-08 00:00:00</td><td>121286.6</td><td>0.012611</td><td>0.003535</td><td>1.0</td><td>0.012611</td><td>0.167652</td><td>100</td><td>0.000824</td><td>0.000824</td><td>1.261076</td></tr><tr><td>2025-10-08 12:00:00</td><td>122825.8</td><td>0.003347</td><td>0.001011</td><td>1.0</td><td>0.003347</td><td>0.170999</td><td>100</td><td>0.000814</td><td>0.000814</td><td>0.334711</td></tr><tr><td>2025-10-09 00:00:00</td><td>123237.4</td><td>-0.004592</td><td>-0.001241</td><td>-1.0</td><td>0.004592</td><td>0.175591</td><td>100</td><td>0.000811</td><td>-0.000811</td><td>0.459192</td></tr><tr><td>2025-10-09 12:00:00</td><td>122673.0</td><td>-0.008955</td><td>0.00128</td><td>1.0</td><td>-0.008955</td><td>0.166636</td><td>100</td><td>0.000815</td><td>0.000815</td><td>-0.895474</td></tr></tbody></table></div>"
      ],
      "text/plain": [
       "shape: (139, 11)\n",
       "┌───────────┬──────────┬───────────┬───────────┬───┬───────────┬───────────┬───────────┬───────────┐\n",
       "│ datetime  ┆ open     ┆ close_log ┆ y_hat     ┆ … ┆ trade_val ┆ trade_qty ┆ signed_tr ┆ trade_gro │\n",
       "│ ---       ┆ ---      ┆ _return   ┆ ---       ┆   ┆ ue        ┆ ---       ┆ ade_qty   ┆ ss_pnl    │\n",
       "│ datetime[ ┆ f64      ┆ ---       ┆ f32       ┆   ┆ ---       ┆ f64       ┆ ---       ┆ ---       │\n",
       "│ μs]       ┆          ┆ f64       ┆           ┆   ┆ i32       ┆           ┆ f64       ┆ f64       │\n",
       "╞═══════════╪══════════╪═══════════╪═══════════╪═══╪═══════════╪═══════════╪═══════════╪═══════════╡\n",
       "│ 2025-08-0 ┆ 115246.5 ┆ -0.017522 ┆ 0.002725  ┆ … ┆ 100       ┆ 0.000868  ┆ 0.000868  ┆ -1.752233 │\n",
       "│ 1         ┆          ┆           ┆           ┆   ┆           ┆           ┆           ┆           │\n",
       "│ 12:00:00  ┆          ┆           ┆           ┆   ┆           ┆           ┆           ┆           │\n",
       "│ 2025-08-0 ┆ 113244.8 ┆ 0.004297  ┆ 0.002119  ┆ … ┆ 100       ┆ 0.000883  ┆ 0.000883  ┆ 0.429735  │\n",
       "│ 2         ┆          ┆           ┆           ┆   ┆           ┆           ┆           ┆           │\n",
       "│ 00:00:00  ┆          ┆           ┆           ┆   ┆           ┆           ┆           ┆           │\n",
       "│ 2025-08-0 ┆ 113732.6 ┆ -0.010818 ┆ 0.001293  ┆ … ┆ 100       ┆ 0.000879  ┆ 0.000879  ┆ -1.081776 │\n",
       "│ 2         ┆          ┆           ┆           ┆   ┆           ┆           ┆           ┆           │\n",
       "│ 12:00:00  ┆          ┆           ┆           ┆   ┆           ┆           ┆           ┆           │\n",
       "│ 2025-08-0 ┆ 112508.8 ┆ 0.0115    ┆ 0.001011  ┆ … ┆ 100       ┆ 0.000889  ┆ 0.000889  ┆ 1.149983  │\n",
       "│ 3         ┆          ┆           ┆           ┆   ┆           ┆           ┆           ┆           │\n",
       "│ 00:00:00  ┆          ┆           ┆           ┆   ┆           ┆           ┆           ┆           │\n",
       "│ 2025-08-0 ┆ 113810.0 ┆ 0.002989  ┆ 0.000325  ┆ … ┆ 100       ┆ 0.000879  ┆ 0.000879  ┆ 0.298911  │\n",
       "│ 3         ┆          ┆           ┆           ┆   ┆           ┆           ┆           ┆           │\n",
       "│ 12:00:00  ┆          ┆           ┆           ┆   ┆           ┆           ┆           ┆           │\n",
       "│ …         ┆ …        ┆ …         ┆ …         ┆ … ┆ …         ┆ …         ┆ …         ┆ …         │\n",
       "│ 2025-10-0 ┆ 124397.1 ┆ -0.025324 ┆ 0.000779  ┆ … ┆ 100       ┆ 0.000804  ┆ 0.000804  ┆ -2.532416 │\n",
       "│ 7         ┆          ┆           ┆           ┆   ┆           ┆           ┆           ┆           │\n",
       "│ 12:00:00  ┆          ┆           ┆           ┆   ┆           ┆           ┆           ┆           │\n",
       "│ 2025-10-0 ┆ 121286.6 ┆ 0.012611  ┆ 0.003535  ┆ … ┆ 100       ┆ 0.000824  ┆ 0.000824  ┆ 1.261076  │\n",
       "│ 8         ┆          ┆           ┆           ┆   ┆           ┆           ┆           ┆           │\n",
       "│ 00:00:00  ┆          ┆           ┆           ┆   ┆           ┆           ┆           ┆           │\n",
       "│ 2025-10-0 ┆ 122825.8 ┆ 0.003347  ┆ 0.001011  ┆ … ┆ 100       ┆ 0.000814  ┆ 0.000814  ┆ 0.334711  │\n",
       "│ 8         ┆          ┆           ┆           ┆   ┆           ┆           ┆           ┆           │\n",
       "│ 12:00:00  ┆          ┆           ┆           ┆   ┆           ┆           ┆           ┆           │\n",
       "│ 2025-10-0 ┆ 123237.4 ┆ -0.004592 ┆ -0.001241 ┆ … ┆ 100       ┆ 0.000811  ┆ -0.000811 ┆ 0.459192  │\n",
       "│ 9         ┆          ┆           ┆           ┆   ┆           ┆           ┆           ┆           │\n",
       "│ 00:00:00  ┆          ┆           ┆           ┆   ┆           ┆           ┆           ┆           │\n",
       "│ 2025-10-0 ┆ 122673.0 ┆ -0.008955 ┆ 0.00128   ┆ … ┆ 100       ┆ 0.000815  ┆ 0.000815  ┆ -0.895474 │\n",
       "│ 9         ┆          ┆           ┆           ┆   ┆           ┆           ┆           ┆           │\n",
       "│ 12:00:00  ┆          ┆           ┆           ┆   ┆           ┆           ┆           ┆           │\n",
       "└───────────┴──────────┴───────────┴───────────┴───┴───────────┴───────────┴───────────┴───────────┘"
      ]
     },
     "execution_count": 84,
     "metadata": {},
     "output_type": "execute_result"
    }
   ],
   "source": [
    "test_trades = test_trades.with_columns((pl.col('trade_log_return')*pl.col('trade_value')).alias('trade_gross_pnl'))\n",
    "if 'trade_gross_pnl' not in view_cols: view_cols.append('trade_gross_pnl')\n",
    "test_trades.select(view_cols)"
   ]
  },
  {
   "cell_type": "markdown",
   "id": "7d68c2f6",
   "metadata": {},
   "source": [
    "### add round trip transaction fees"
   ]
  },
  {
   "cell_type": "code",
   "execution_count": 87,
   "id": "3531bd9f",
   "metadata": {},
   "outputs": [
    {
     "data": {
      "text/html": [
       "<div><style>\n",
       ".dataframe > thead > tr,\n",
       ".dataframe > tbody > tr {\n",
       "  text-align: right;\n",
       "  white-space: pre-wrap;\n",
       "}\n",
       "</style>\n",
       "<small>shape: (139, 12)</small><table border=\"1\" class=\"dataframe\"><thead><tr><th>datetime</th><th>open</th><th>close_log_return</th><th>y_hat</th><th>dir_signal</th><th>trade_log_return</th><th>cum_trade_log_return</th><th>trade_value</th><th>trade_qty</th><th>signed_trade_qty</th><th>trade_gross_pnl</th><th>tx_fees</th></tr><tr><td>datetime[μs]</td><td>f64</td><td>f64</td><td>f32</td><td>f32</td><td>f64</td><td>f64</td><td>i32</td><td>f64</td><td>f64</td><td>f64</td><td>f64</td></tr></thead><tbody><tr><td>2025-08-01 12:00:00</td><td>115246.5</td><td>-0.017522</td><td>0.002725</td><td>1.0</td><td>-0.017522</td><td>-0.017522</td><td>100</td><td>0.000868</td><td>0.000868</td><td>-1.752233</td><td>0.06</td></tr><tr><td>2025-08-02 00:00:00</td><td>113244.8</td><td>0.004297</td><td>0.002119</td><td>1.0</td><td>0.004297</td><td>-0.013225</td><td>100</td><td>0.000883</td><td>0.000883</td><td>0.429735</td><td>0.06</td></tr><tr><td>2025-08-02 12:00:00</td><td>113732.6</td><td>-0.010818</td><td>0.001293</td><td>1.0</td><td>-0.010818</td><td>-0.024043</td><td>100</td><td>0.000879</td><td>0.000879</td><td>-1.081776</td><td>0.06</td></tr><tr><td>2025-08-03 00:00:00</td><td>112508.8</td><td>0.0115</td><td>0.001011</td><td>1.0</td><td>0.0115</td><td>-0.012543</td><td>100</td><td>0.000889</td><td>0.000889</td><td>1.149983</td><td>0.06</td></tr><tr><td>2025-08-03 12:00:00</td><td>113810.0</td><td>0.002989</td><td>0.000325</td><td>1.0</td><td>0.002989</td><td>-0.009554</td><td>100</td><td>0.000879</td><td>0.000879</td><td>0.298911</td><td>0.06</td></tr><tr><td>&hellip;</td><td>&hellip;</td><td>&hellip;</td><td>&hellip;</td><td>&hellip;</td><td>&hellip;</td><td>&hellip;</td><td>&hellip;</td><td>&hellip;</td><td>&hellip;</td><td>&hellip;</td><td>&hellip;</td></tr><tr><td>2025-10-07 12:00:00</td><td>124397.1</td><td>-0.025324</td><td>0.000779</td><td>1.0</td><td>-0.025324</td><td>0.155041</td><td>100</td><td>0.000804</td><td>0.000804</td><td>-2.532416</td><td>0.06</td></tr><tr><td>2025-10-08 00:00:00</td><td>121286.6</td><td>0.012611</td><td>0.003535</td><td>1.0</td><td>0.012611</td><td>0.167652</td><td>100</td><td>0.000824</td><td>0.000824</td><td>1.261076</td><td>0.06</td></tr><tr><td>2025-10-08 12:00:00</td><td>122825.8</td><td>0.003347</td><td>0.001011</td><td>1.0</td><td>0.003347</td><td>0.170999</td><td>100</td><td>0.000814</td><td>0.000814</td><td>0.334711</td><td>0.06</td></tr><tr><td>2025-10-09 00:00:00</td><td>123237.4</td><td>-0.004592</td><td>-0.001241</td><td>-1.0</td><td>0.004592</td><td>0.175591</td><td>100</td><td>0.000811</td><td>-0.000811</td><td>0.459192</td><td>0.06</td></tr><tr><td>2025-10-09 12:00:00</td><td>122673.0</td><td>-0.008955</td><td>0.00128</td><td>1.0</td><td>-0.008955</td><td>0.166636</td><td>100</td><td>0.000815</td><td>0.000815</td><td>-0.895474</td><td>0.06</td></tr></tbody></table></div>"
      ],
      "text/plain": [
       "shape: (139, 12)\n",
       "┌────────────┬──────────┬────────────┬───────────┬───┬───────────┬───────────┬───────────┬─────────┐\n",
       "│ datetime   ┆ open     ┆ close_log_ ┆ y_hat     ┆ … ┆ trade_qty ┆ signed_tr ┆ trade_gro ┆ tx_fees │\n",
       "│ ---        ┆ ---      ┆ return     ┆ ---       ┆   ┆ ---       ┆ ade_qty   ┆ ss_pnl    ┆ ---     │\n",
       "│ datetime[μ ┆ f64      ┆ ---        ┆ f32       ┆   ┆ f64       ┆ ---       ┆ ---       ┆ f64     │\n",
       "│ s]         ┆          ┆ f64        ┆           ┆   ┆           ┆ f64       ┆ f64       ┆         │\n",
       "╞════════════╪══════════╪════════════╪═══════════╪═══╪═══════════╪═══════════╪═══════════╪═════════╡\n",
       "│ 2025-08-01 ┆ 115246.5 ┆ -0.017522  ┆ 0.002725  ┆ … ┆ 0.000868  ┆ 0.000868  ┆ -1.752233 ┆ 0.06    │\n",
       "│ 12:00:00   ┆          ┆            ┆           ┆   ┆           ┆           ┆           ┆         │\n",
       "│ 2025-08-02 ┆ 113244.8 ┆ 0.004297   ┆ 0.002119  ┆ … ┆ 0.000883  ┆ 0.000883  ┆ 0.429735  ┆ 0.06    │\n",
       "│ 00:00:00   ┆          ┆            ┆           ┆   ┆           ┆           ┆           ┆         │\n",
       "│ 2025-08-02 ┆ 113732.6 ┆ -0.010818  ┆ 0.001293  ┆ … ┆ 0.000879  ┆ 0.000879  ┆ -1.081776 ┆ 0.06    │\n",
       "│ 12:00:00   ┆          ┆            ┆           ┆   ┆           ┆           ┆           ┆         │\n",
       "│ 2025-08-03 ┆ 112508.8 ┆ 0.0115     ┆ 0.001011  ┆ … ┆ 0.000889  ┆ 0.000889  ┆ 1.149983  ┆ 0.06    │\n",
       "│ 00:00:00   ┆          ┆            ┆           ┆   ┆           ┆           ┆           ┆         │\n",
       "│ 2025-08-03 ┆ 113810.0 ┆ 0.002989   ┆ 0.000325  ┆ … ┆ 0.000879  ┆ 0.000879  ┆ 0.298911  ┆ 0.06    │\n",
       "│ 12:00:00   ┆          ┆            ┆           ┆   ┆           ┆           ┆           ┆         │\n",
       "│ …          ┆ …        ┆ …          ┆ …         ┆ … ┆ …         ┆ …         ┆ …         ┆ …       │\n",
       "│ 2025-10-07 ┆ 124397.1 ┆ -0.025324  ┆ 0.000779  ┆ … ┆ 0.000804  ┆ 0.000804  ┆ -2.532416 ┆ 0.06    │\n",
       "│ 12:00:00   ┆          ┆            ┆           ┆   ┆           ┆           ┆           ┆         │\n",
       "│ 2025-10-08 ┆ 121286.6 ┆ 0.012611   ┆ 0.003535  ┆ … ┆ 0.000824  ┆ 0.000824  ┆ 1.261076  ┆ 0.06    │\n",
       "│ 00:00:00   ┆          ┆            ┆           ┆   ┆           ┆           ┆           ┆         │\n",
       "│ 2025-10-08 ┆ 122825.8 ┆ 0.003347   ┆ 0.001011  ┆ … ┆ 0.000814  ┆ 0.000814  ┆ 0.334711  ┆ 0.06    │\n",
       "│ 12:00:00   ┆          ┆            ┆           ┆   ┆           ┆           ┆           ┆         │\n",
       "│ 2025-10-09 ┆ 123237.4 ┆ -0.004592  ┆ -0.001241 ┆ … ┆ 0.000811  ┆ -0.000811 ┆ 0.459192  ┆ 0.06    │\n",
       "│ 00:00:00   ┆          ┆            ┆           ┆   ┆           ┆           ┆           ┆         │\n",
       "│ 2025-10-09 ┆ 122673.0 ┆ -0.008955  ┆ 0.00128   ┆ … ┆ 0.000815  ┆ 0.000815  ┆ -0.895474 ┆ 0.06    │\n",
       "│ 12:00:00   ┆          ┆            ┆           ┆   ┆           ┆           ┆           ┆         │\n",
       "└────────────┴──────────┴────────────┴───────────┴───┴───────────┴───────────┴───────────┴─────────┘"
      ]
     },
     "execution_count": 87,
     "metadata": {},
     "output_type": "execute_result"
    }
   ],
   "source": [
    "test_trades = test_trades.with_columns((pl.col('trade_value')*2*binance.TAKER_FEE).alias('tx_fees'))\n",
    "if 'tx_fees' not in view_cols: view_cols.append('tx_fees')\n",
    "test_trades.select(view_cols)"
   ]
  },
  {
   "cell_type": "markdown",
   "id": "73b29f48",
   "metadata": {},
   "source": [
    "### calculate trade net pnl"
   ]
  },
  {
   "cell_type": "code",
   "execution_count": 91,
   "id": "4fc0eba3",
   "metadata": {},
   "outputs": [
    {
     "data": {
      "text/html": [
       "<div><style>\n",
       ".dataframe > thead > tr,\n",
       ".dataframe > tbody > tr {\n",
       "  text-align: right;\n",
       "  white-space: pre-wrap;\n",
       "}\n",
       "</style>\n",
       "<small>shape: (139, 13)</small><table border=\"1\" class=\"dataframe\"><thead><tr><th>datetime</th><th>open</th><th>close_log_return</th><th>y_hat</th><th>dir_signal</th><th>trade_log_return</th><th>cum_trade_log_return</th><th>trade_value</th><th>trade_qty</th><th>signed_trade_qty</th><th>trade_gross_pnl</th><th>tx_fees</th><th>trade_net_pnl</th></tr><tr><td>datetime[μs]</td><td>f64</td><td>f64</td><td>f32</td><td>f32</td><td>f64</td><td>f64</td><td>i32</td><td>f64</td><td>f64</td><td>f64</td><td>f64</td><td>f64</td></tr></thead><tbody><tr><td>2025-08-01 12:00:00</td><td>115246.5</td><td>-0.017522</td><td>0.002725</td><td>1.0</td><td>-0.017522</td><td>-0.017522</td><td>100</td><td>0.000868</td><td>0.000868</td><td>-1.752233</td><td>0.06</td><td>-1.812233</td></tr><tr><td>2025-08-02 00:00:00</td><td>113244.8</td><td>0.004297</td><td>0.002119</td><td>1.0</td><td>0.004297</td><td>-0.013225</td><td>100</td><td>0.000883</td><td>0.000883</td><td>0.429735</td><td>0.06</td><td>0.369735</td></tr><tr><td>2025-08-02 12:00:00</td><td>113732.6</td><td>-0.010818</td><td>0.001293</td><td>1.0</td><td>-0.010818</td><td>-0.024043</td><td>100</td><td>0.000879</td><td>0.000879</td><td>-1.081776</td><td>0.06</td><td>-1.141776</td></tr><tr><td>2025-08-03 00:00:00</td><td>112508.8</td><td>0.0115</td><td>0.001011</td><td>1.0</td><td>0.0115</td><td>-0.012543</td><td>100</td><td>0.000889</td><td>0.000889</td><td>1.149983</td><td>0.06</td><td>1.089983</td></tr><tr><td>2025-08-03 12:00:00</td><td>113810.0</td><td>0.002989</td><td>0.000325</td><td>1.0</td><td>0.002989</td><td>-0.009554</td><td>100</td><td>0.000879</td><td>0.000879</td><td>0.298911</td><td>0.06</td><td>0.238911</td></tr><tr><td>&hellip;</td><td>&hellip;</td><td>&hellip;</td><td>&hellip;</td><td>&hellip;</td><td>&hellip;</td><td>&hellip;</td><td>&hellip;</td><td>&hellip;</td><td>&hellip;</td><td>&hellip;</td><td>&hellip;</td><td>&hellip;</td></tr><tr><td>2025-10-07 12:00:00</td><td>124397.1</td><td>-0.025324</td><td>0.000779</td><td>1.0</td><td>-0.025324</td><td>0.155041</td><td>100</td><td>0.000804</td><td>0.000804</td><td>-2.532416</td><td>0.06</td><td>-2.592416</td></tr><tr><td>2025-10-08 00:00:00</td><td>121286.6</td><td>0.012611</td><td>0.003535</td><td>1.0</td><td>0.012611</td><td>0.167652</td><td>100</td><td>0.000824</td><td>0.000824</td><td>1.261076</td><td>0.06</td><td>1.201076</td></tr><tr><td>2025-10-08 12:00:00</td><td>122825.8</td><td>0.003347</td><td>0.001011</td><td>1.0</td><td>0.003347</td><td>0.170999</td><td>100</td><td>0.000814</td><td>0.000814</td><td>0.334711</td><td>0.06</td><td>0.274711</td></tr><tr><td>2025-10-09 00:00:00</td><td>123237.4</td><td>-0.004592</td><td>-0.001241</td><td>-1.0</td><td>0.004592</td><td>0.175591</td><td>100</td><td>0.000811</td><td>-0.000811</td><td>0.459192</td><td>0.06</td><td>0.399192</td></tr><tr><td>2025-10-09 12:00:00</td><td>122673.0</td><td>-0.008955</td><td>0.00128</td><td>1.0</td><td>-0.008955</td><td>0.166636</td><td>100</td><td>0.000815</td><td>0.000815</td><td>-0.895474</td><td>0.06</td><td>-0.955474</td></tr></tbody></table></div>"
      ],
      "text/plain": [
       "shape: (139, 13)\n",
       "┌────────────┬──────────┬────────────┬───────────┬───┬───────────┬───────────┬─────────┬───────────┐\n",
       "│ datetime   ┆ open     ┆ close_log_ ┆ y_hat     ┆ … ┆ signed_tr ┆ trade_gro ┆ tx_fees ┆ trade_net │\n",
       "│ ---        ┆ ---      ┆ return     ┆ ---       ┆   ┆ ade_qty   ┆ ss_pnl    ┆ ---     ┆ _pnl      │\n",
       "│ datetime[μ ┆ f64      ┆ ---        ┆ f32       ┆   ┆ ---       ┆ ---       ┆ f64     ┆ ---       │\n",
       "│ s]         ┆          ┆ f64        ┆           ┆   ┆ f64       ┆ f64       ┆         ┆ f64       │\n",
       "╞════════════╪══════════╪════════════╪═══════════╪═══╪═══════════╪═══════════╪═════════╪═══════════╡\n",
       "│ 2025-08-01 ┆ 115246.5 ┆ -0.017522  ┆ 0.002725  ┆ … ┆ 0.000868  ┆ -1.752233 ┆ 0.06    ┆ -1.812233 │\n",
       "│ 12:00:00   ┆          ┆            ┆           ┆   ┆           ┆           ┆         ┆           │\n",
       "│ 2025-08-02 ┆ 113244.8 ┆ 0.004297   ┆ 0.002119  ┆ … ┆ 0.000883  ┆ 0.429735  ┆ 0.06    ┆ 0.369735  │\n",
       "│ 00:00:00   ┆          ┆            ┆           ┆   ┆           ┆           ┆         ┆           │\n",
       "│ 2025-08-02 ┆ 113732.6 ┆ -0.010818  ┆ 0.001293  ┆ … ┆ 0.000879  ┆ -1.081776 ┆ 0.06    ┆ -1.141776 │\n",
       "│ 12:00:00   ┆          ┆            ┆           ┆   ┆           ┆           ┆         ┆           │\n",
       "│ 2025-08-03 ┆ 112508.8 ┆ 0.0115     ┆ 0.001011  ┆ … ┆ 0.000889  ┆ 1.149983  ┆ 0.06    ┆ 1.089983  │\n",
       "│ 00:00:00   ┆          ┆            ┆           ┆   ┆           ┆           ┆         ┆           │\n",
       "│ 2025-08-03 ┆ 113810.0 ┆ 0.002989   ┆ 0.000325  ┆ … ┆ 0.000879  ┆ 0.298911  ┆ 0.06    ┆ 0.238911  │\n",
       "│ 12:00:00   ┆          ┆            ┆           ┆   ┆           ┆           ┆         ┆           │\n",
       "│ …          ┆ …        ┆ …          ┆ …         ┆ … ┆ …         ┆ …         ┆ …       ┆ …         │\n",
       "│ 2025-10-07 ┆ 124397.1 ┆ -0.025324  ┆ 0.000779  ┆ … ┆ 0.000804  ┆ -2.532416 ┆ 0.06    ┆ -2.592416 │\n",
       "│ 12:00:00   ┆          ┆            ┆           ┆   ┆           ┆           ┆         ┆           │\n",
       "│ 2025-10-08 ┆ 121286.6 ┆ 0.012611   ┆ 0.003535  ┆ … ┆ 0.000824  ┆ 1.261076  ┆ 0.06    ┆ 1.201076  │\n",
       "│ 00:00:00   ┆          ┆            ┆           ┆   ┆           ┆           ┆         ┆           │\n",
       "│ 2025-10-08 ┆ 122825.8 ┆ 0.003347   ┆ 0.001011  ┆ … ┆ 0.000814  ┆ 0.334711  ┆ 0.06    ┆ 0.274711  │\n",
       "│ 12:00:00   ┆          ┆            ┆           ┆   ┆           ┆           ┆         ┆           │\n",
       "│ 2025-10-09 ┆ 123237.4 ┆ -0.004592  ┆ -0.001241 ┆ … ┆ -0.000811 ┆ 0.459192  ┆ 0.06    ┆ 0.399192  │\n",
       "│ 00:00:00   ┆          ┆            ┆           ┆   ┆           ┆           ┆         ┆           │\n",
       "│ 2025-10-09 ┆ 122673.0 ┆ -0.008955  ┆ 0.00128   ┆ … ┆ 0.000815  ┆ -0.895474 ┆ 0.06    ┆ -0.955474 │\n",
       "│ 12:00:00   ┆          ┆            ┆           ┆   ┆           ┆           ┆         ┆           │\n",
       "└────────────┴──────────┴────────────┴───────────┴───┴───────────┴───────────┴─────────┴───────────┘"
      ]
     },
     "execution_count": 91,
     "metadata": {},
     "output_type": "execute_result"
    }
   ],
   "source": [
    "test_trades = test_trades.with_columns((pl.col('trade_gross_pnl')-pl.col('tx_fees')).alias('trade_net_pnl'))\n",
    "if 'trade_net_pnl' not in view_cols: view_cols.append('trade_net_pnl')\n",
    "test_trades.select(view_cols)"
   ]
  },
  {
   "cell_type": "markdown",
   "id": "dacafd73",
   "metadata": {},
   "source": [
    "### equity curve"
   ]
  },
  {
   "cell_type": "code",
   "execution_count": null,
   "id": "b03ae4d6",
   "metadata": {},
   "outputs": [],
   "source": [
    "test_trades = test_trades.with_columns(initial_capital+(pl.col('trade_net_pnl').cum_sum()).alias('trade_net_pnl'))\n",
    "if 'trade_net_pnl' not in view_cols: view_cols.append('trade_net_pnl')\n",
    "test_trades.select(view_cols)"
   ]
  },
  {
   "cell_type": "code",
   "execution_count": null,
   "id": "8345403f",
   "metadata": {},
   "outputs": [],
   "source": [
    "# topics we haven't covered\n",
    "# alpha decay (also known as model drift) => where the performance drifts => \n",
    "# market impact => we are not trading big sizes => if we were, we could potentially move markets against us\n",
    "# funding fees/rebates\n",
    "# slippage => we may not always get the best price, we may get executed at prices below top of the book (best bid/ask)\n",
    "\n",
    "# spread => BTCUSDT has quite tight spreads => so we have nominal spread costs"
   ]
  }
 ],
 "metadata": {
  "kernelspec": {
   "display_name": "research",
   "language": "python",
   "name": "python3"
  },
  "language_info": {
   "codemirror_mode": {
    "name": "ipython",
    "version": 3
   },
   "file_extension": ".py",
   "mimetype": "text/x-python",
   "name": "python",
   "nbconvert_exporter": "python",
   "pygments_lexer": "ipython3",
   "version": "3.12.8"
  }
 },
 "nbformat": 4,
 "nbformat_minor": 5
}
