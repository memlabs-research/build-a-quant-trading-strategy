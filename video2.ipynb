{
 "cells": [
  {
   "cell_type": "markdown",
   "id": "2c0ea8fb",
   "metadata": {},
   "source": [
    "# Let's Build a Quant Trading Strategy"
   ]
  },
  {
   "cell_type": "code",
   "execution_count": null,
   "id": "cf5e033c",
   "metadata": {},
   "outputs": [],
   "source": [
    "# signal = model(x)\n",
    "# orders = strategy(signal)\n",
    "# execute(orders)"
   ]
  },
  {
   "cell_type": "code",
   "execution_count": null,
   "id": "9bc533d6",
   "metadata": {},
   "outputs": [],
   "source": [
    "# In the last video, we built a model that predicts what the log return will be eight hours from now."
   ]
  },
  {
   "cell_type": "code",
   "execution_count": null,
   "id": "14ea08df",
   "metadata": {},
   "outputs": [],
   "source": [
    "# Key Questions\n",
    "\n",
    "# 1. Entry/exit timing\n",
    "# 2. Trade Size\n",
    "# 3. Use Leverage?\n",
    "# 4. Use take-profit orders?\n",
    "# 5. Use stop-loss orders?\n",
    "\n"
   ]
  },
  {
   "cell_type": "code",
   "execution_count": null,
   "id": "a947ef52",
   "metadata": {},
   "outputs": [],
   "source": [
    "## the key goal is we want to create a strategy that increases profits from the model's edge"
   ]
  },
  {
   "cell_type": "markdown",
   "id": "131bbd91",
   "metadata": {},
   "source": [
    "### import the libraries"
   ]
  },
  {
   "cell_type": "code",
   "execution_count": 2,
   "id": "b705d49b",
   "metadata": {},
   "outputs": [],
   "source": [
    "# Data and analysis libraries\n",
    "import polars as pl                         # Fast dataframes for financial data\n",
    "import numpy as np                          # Numerical computing library\n",
    "from datetime import datetime, timedelta    # Date and time operations\n",
    "import random\n",
    "\n",
    "\n",
    "# Machine learning libraries  \n",
    "import torch                                # PyTorch framework\n",
    "import torch.nn as nn                       # Neural network modules\n",
    "import torch.optim as optim                 # Optimization algorithms\n",
    "import research                             # Model building and training utilities\n",
    "\n",
    "\n",
    "# Visualization and \n",
    "import altair as alt                        # Interactive visualization library\n",
    "\n",
    "# data sources\n",
    "import binance                              # Binance market data utilities\n"
   ]
  },
  {
   "cell_type": "markdown",
   "id": "95bcd44c",
   "metadata": {},
   "source": [
    "### load the model "
   ]
  },
  {
   "cell_type": "code",
   "execution_count": 5,
   "id": "4d3d7863",
   "metadata": {},
   "outputs": [
    {
     "data": {
      "text/plain": [
       "LinearModel(\n",
       "  (linear): Linear(in_features=1, out_features=1, bias=True)\n",
       ")"
      ]
     },
     "execution_count": 5,
     "metadata": {},
     "output_type": "execute_result"
    }
   ],
   "source": [
    "import models\n",
    "model = models.LinearModel(1)\n",
    "# security alert \n",
    "model.load_state_dict(torch.load('model_weights.pth', weights_only=True))\n",
    "model.eval()"
   ]
  },
  {
   "cell_type": "markdown",
   "id": "c2f043fb",
   "metadata": {},
   "source": [
    "### model parameters"
   ]
  },
  {
   "cell_type": "code",
   "execution_count": 6,
   "id": "1f334b42",
   "metadata": {},
   "outputs": [
    {
     "name": "stdout",
     "output_type": "stream",
     "text": [
      "linear.weight:\n",
      "[[-0.09911217]]\n",
      "linear.bias:\n",
      "[0.00059838]\n"
     ]
    }
   ],
   "source": [
    "research.print_model_params(model)"
   ]
  },
  {
   "cell_type": "code",
   "execution_count": 7,
   "id": "fc7ddcbc",
   "metadata": {},
   "outputs": [
    {
     "data": {
      "text/plain": [
       "0.00208506255"
      ]
     },
     "execution_count": 7,
     "metadata": {},
     "output_type": "execute_result"
    }
   ],
   "source": [
    "def model(x):\n",
    "    w, b = -0.09911217, 0.00059838\n",
    "    return w * x + b\n",
    "\n",
    "model(-0.015) "
   ]
  },
  {
   "cell_type": "code",
   "execution_count": 8,
   "id": "0354a4cf",
   "metadata": {},
   "outputs": [
    {
     "data": {
      "text/plain": [
       "-0.0013838634"
      ]
     },
     "execution_count": 8,
     "metadata": {},
     "output_type": "execute_result"
    }
   ],
   "source": [
    "model(0.02) "
   ]
  },
  {
   "cell_type": "code",
   "execution_count": 11,
   "id": "69718dfa",
   "metadata": {},
   "outputs": [
    {
     "data": {
      "text/plain": [
       "tensor([1.6421])"
      ]
     },
     "execution_count": 11,
     "metadata": {},
     "output_type": "execute_result"
    }
   ],
   "source": [
    "torch.randn(1) "
   ]
  },
  {
   "cell_type": "code",
   "execution_count": null,
   "id": "12461990",
   "metadata": {},
   "outputs": [
    {
     "data": {
      "text/plain": [
       "tensor([0.1521])"
      ]
     },
     "execution_count": 14,
     "metadata": {},
     "output_type": "execute_result"
    }
   ],
   "source": [
    "\n",
    "def nn_model(x):\n",
    "    x = torch.tensor([x])\n",
    "    W = torch.tensor([0.08035, -0.01478, -0.03523,  0.06777,  0.03789,  0.0013991, -0.13303,  0.8045])\n",
    "    b = torch.tensor([0.16421])\n",
    "    return torch.relu(torch.sum(x * W) + b)\n",
    "\n",
    "nn_model(-0.015)"
   ]
  },
  {
   "cell_type": "code",
   "execution_count": null,
   "id": "59632102",
   "metadata": {},
   "outputs": [
    {
     "data": {
      "text/plain": [
       "tensor([0.1804])"
      ]
     },
     "execution_count": 15,
     "metadata": {},
     "output_type": "execute_result"
    }
   ],
   "source": [
    "# no interability\n",
    "nn_model(0.02)"
   ]
  }
 ],
 "metadata": {
  "kernelspec": {
   "display_name": "research",
   "language": "python",
   "name": "python3"
  },
  "language_info": {
   "codemirror_mode": {
    "name": "ipython",
    "version": 3
   },
   "file_extension": ".py",
   "mimetype": "text/x-python",
   "name": "python",
   "nbconvert_exporter": "python",
   "pygments_lexer": "ipython3",
   "version": "3.12.11"
  }
 },
 "nbformat": 4,
 "nbformat_minor": 5
}
