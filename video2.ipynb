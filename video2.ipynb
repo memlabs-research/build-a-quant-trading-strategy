{
 "cells": [
  {
   "cell_type": "markdown",
   "id": "2c0ea8fb",
   "metadata": {},
   "source": [
    "# Let's Build a Quant Trading Strategy - Part 2"
   ]
  },
  {
   "cell_type": "code",
   "execution_count": 96,
   "id": "cf5e033c",
   "metadata": {},
   "outputs": [],
   "source": [
    "# signal = model(x)\n",
    "# orders = strategy(signal)\n",
    "# execute(orders)"
   ]
  },
  {
   "cell_type": "code",
   "execution_count": 97,
   "id": "9bc533d6",
   "metadata": {},
   "outputs": [],
   "source": [
    "# In the last video, we built a model that predicts what the future log return will be eight hours from now."
   ]
  },
  {
   "cell_type": "code",
   "execution_count": 98,
   "id": "6645abd7",
   "metadata": {},
   "outputs": [],
   "source": [
    "# This video is about using our model to create a strategy based on our model's predictions"
   ]
  },
  {
   "cell_type": "code",
   "execution_count": 99,
   "id": "3268c1e1",
   "metadata": {},
   "outputs": [],
   "source": [
    "# Don't worry if you haven't watched Part 1 — I'll recap the model for you. \n",
    "# Your feedback really matters to me. If you enjoy this, please like and subscribe — that's my signal to know you want a Part 3."
   ]
  },
  {
   "cell_type": "code",
   "execution_count": 100,
   "id": "6e187110",
   "metadata": {},
   "outputs": [],
   "source": [
    "# The model uses lag 1, lag 2 and lag 3. We will go into more detail about the model."
   ]
  },
  {
   "cell_type": "markdown",
   "id": "d66d9e5d",
   "metadata": {},
   "source": [
    "### Strategy Types"
   ]
  },
  {
   "cell_type": "code",
   "execution_count": 101,
   "id": "5d1e173d",
   "metadata": {},
   "outputs": [],
   "source": [
    "# 1 Maker strategies => they are providing liquidity => adding liquidity to a market and aim to be compensated for it\n",
    "# 2 Taker strategies => they taking away liquidity => market orders that consume liquidity => what we are going to focus on"
   ]
  },
  {
   "cell_type": "code",
   "execution_count": 102,
   "id": "c65ba3e8",
   "metadata": {},
   "outputs": [],
   "source": [
    "# I've got another video — 'Introduction to Quantitative Trading' — that goes way deeper into taker and maker strategies. \n",
    "# If you want the full breakdown, definitely watch that one. Link's below.\""
   ]
  },
  {
   "cell_type": "code",
   "execution_count": 103,
   "id": "14ea08df",
   "metadata": {},
   "outputs": [],
   "source": [
    "# Key Questions for our taking strategy\n",
    "\n",
    "# 1. Entry/Exit\n",
    "# 2. Trade Sizing\n",
    "# 3. Leverage"
   ]
  },
  {
   "cell_type": "code",
   "execution_count": 104,
   "id": "a947ef52",
   "metadata": {},
   "outputs": [],
   "source": [
    "## the key goal is we want to create a strategy that maximises profits from the model's statistical edge"
   ]
  },
  {
   "cell_type": "markdown",
   "id": "131bbd91",
   "metadata": {},
   "source": [
    "### Import Libraries"
   ]
  },
  {
   "cell_type": "code",
   "execution_count": 105,
   "id": "b705d49b",
   "metadata": {},
   "outputs": [],
   "source": [
    "# Data and analysis libraries\n",
    "import polars as pl                         # Fast dataframes for financial data\n",
    "import numpy as np                          # Numerical computing library\n",
    "from datetime import datetime, timedelta    # Date and time operations\n",
    "import random\n",
    "\n",
    "\n",
    "# Machine learning libraries  \n",
    "import torch                                # PyTorch framework\n",
    "import torch.nn as nn                       # Neural network modules\n",
    "import torch.optim as optim                 # Optimization algorithms\n",
    "import research                             # Model building and training utilities\n",
    "\n",
    "\n",
    "# Visualization and \n",
    "import altair as alt                        # Interactive visualization library\n",
    "\n",
    "# data sources\n",
    "import binance                              # Binance market data utilities\n"
   ]
  },
  {
   "cell_type": "markdown",
   "id": "95bcd44c",
   "metadata": {},
   "source": [
    "###  Load Model"
   ]
  },
  {
   "cell_type": "code",
   "execution_count": 106,
   "id": "e11b032a",
   "metadata": {},
   "outputs": [],
   "source": [
    "# I changed the model as it not predicts 12 hours ahead and not 8h. The reason why ito increase our time horizon is because the fees ate too much into profits.\n",
    "# Also increased the model's features to 3 from 1 - so uses the 3 most recent lags,\n",
    "# We will go into more detail later\n"
   ]
  },
  {
   "cell_type": "code",
   "execution_count": 107,
   "id": "4d3d7863",
   "metadata": {},
   "outputs": [
    {
     "data": {
      "text/plain": [
       "LinearModel(\n",
       "  (linear): Linear(in_features=3, out_features=1, bias=True)\n",
       ")"
      ]
     },
     "execution_count": 107,
     "metadata": {},
     "output_type": "execute_result"
    }
   ],
   "source": [
    "import models\n",
    "model = models.LinearModel(3)\n",
    "# security alert \n",
    "model.load_state_dict(torch.load('model_weights.pth', weights_only=True))\n",
    "model.eval()"
   ]
  },
  {
   "cell_type": "markdown",
   "id": "f5181d82",
   "metadata": {},
   "source": [
    "### Model Parameters"
   ]
  },
  {
   "cell_type": "code",
   "execution_count": 108,
   "id": "02c5c2f6",
   "metadata": {},
   "outputs": [
    {
     "name": "stdout",
     "output_type": "stream",
     "text": [
      "linear.weight:\n",
      "[[-0.10395038 -0.06726477  0.02827305]]\n",
      "linear.bias:\n",
      "[0.00067121]\n"
     ]
    }
   ],
   "source": [
    "research.print_model_params(model)"
   ]
  },
  {
   "cell_type": "markdown",
   "id": "9a2fdd7f",
   "metadata": {},
   "source": [
    "### What is Mean Reversion?"
   ]
  },
  {
   "cell_type": "code",
   "execution_count": 109,
   "id": "0d1cf90f",
   "metadata": {},
   "outputs": [
    {
     "data": {
      "text/html": [
       "<div><style>\n",
       ".dataframe > thead > tr,\n",
       ".dataframe > tbody > tr {\n",
       "  text-align: right;\n",
       "  white-space: pre-wrap;\n",
       "}\n",
       "</style>\n",
       "<small>shape: (6, 2)</small><table border=\"1\" class=\"dataframe\"><thead><tr><th>log_return</th><th>mean</th></tr><tr><td>f64</td><td>f64</td></tr></thead><tbody><tr><td>-0.014</td><td>0.000501</td></tr><tr><td>0.011399</td><td>0.000501</td></tr><tr><td>-0.012212</td><td>0.000501</td></tr><tr><td>0.01997</td><td>0.000501</td></tr><tr><td>-0.01442</td><td>0.000501</td></tr><tr><td>0.01227</td><td>0.000501</td></tr></tbody></table></div>"
      ],
      "text/plain": [
       "shape: (6, 2)\n",
       "┌────────────┬──────────┐\n",
       "│ log_return ┆ mean     │\n",
       "│ ---        ┆ ---      │\n",
       "│ f64        ┆ f64      │\n",
       "╞════════════╪══════════╡\n",
       "│ -0.014     ┆ 0.000501 │\n",
       "│ 0.011399   ┆ 0.000501 │\n",
       "│ -0.012212  ┆ 0.000501 │\n",
       "│ 0.01997    ┆ 0.000501 │\n",
       "│ -0.01442   ┆ 0.000501 │\n",
       "│ 0.01227    ┆ 0.000501 │\n",
       "└────────────┴──────────┘"
      ]
     },
     "execution_count": 109,
     "metadata": {},
     "output_type": "execute_result"
    }
   ],
   "source": [
    "series = [-0.014000, 0.011399, -0.012212, 0.01997, -0.01442, 0.01227]\n",
    "mu = np.mean(series)\n",
    "mean_reversion_df = pl.DataFrame({'log_return': series, 'mean': mu})\n",
    "mean_reversion_df"
   ]
  },
  {
   "cell_type": "code",
   "execution_count": 110,
   "id": "1d538da5",
   "metadata": {},
   "outputs": [
    {
     "data": {
      "image/png": "[encoded data removed]",
      "text/plain": [
       "<Figure size 1500x600 with 1 Axes>"
      ]
     },
     "metadata": {},
     "output_type": "display_data"
    }
   ],
   "source": [
    "research.plot_multiple_lines(mean_reversion_df, ['log_return','mean'], 'Mean Reversion')"
   ]
  },
  {
   "cell_type": "markdown",
   "id": "27ad3f39",
   "metadata": {},
   "source": [
    "### Interpretability - Linear Model"
   ]
  },
  {
   "cell_type": "code",
   "execution_count": 111,
   "id": "fc7ddcbc",
   "metadata": {},
   "outputs": [
    {
     "data": {
      "text/plain": [
       "0.00208506255"
      ]
     },
     "execution_count": 111,
     "metadata": {},
     "output_type": "execute_result"
    }
   ],
   "source": [
    "def linear_model(x):\n",
    "    w, b = -0.09911217, 0.00059838\n",
    "    return w * x + b\n",
    "\n",
    "linear_model(-0.015) "
   ]
  },
  {
   "cell_type": "code",
   "execution_count": 112,
   "id": "0354a4cf",
   "metadata": {},
   "outputs": [
    {
     "data": {
      "text/plain": [
       "-0.0013838634"
      ]
     },
     "execution_count": 112,
     "metadata": {},
     "output_type": "execute_result"
    }
   ],
   "source": [
    "linear_model(0.02) "
   ]
  },
  {
   "cell_type": "code",
   "execution_count": 113,
   "id": "57c7ab22",
   "metadata": {},
   "outputs": [
    {
     "data": {
      "text/plain": [
       "0.00059818177566"
      ]
     },
     "execution_count": 113,
     "metadata": {},
     "output_type": "execute_result"
    }
   ],
   "source": [
    "linear_model(0.000002)"
   ]
  },
  {
   "cell_type": "code",
   "execution_count": 114,
   "id": "2c39cad4",
   "metadata": {},
   "outputs": [
    {
     "data": {
      "text/plain": [
       "0.00059838"
      ]
     },
     "execution_count": 114,
     "metadata": {},
     "output_type": "execute_result"
    }
   ],
   "source": [
    "linear_model(0.0)"
   ]
  },
  {
   "cell_type": "markdown",
   "id": "12071b88",
   "metadata": {},
   "source": [
    "### Interpretability - Non Linear Model"
   ]
  },
  {
   "cell_type": "code",
   "execution_count": 115,
   "id": "12461990",
   "metadata": {},
   "outputs": [
    {
     "data": {
      "text/plain": [
       "tensor([0.1509])"
      ]
     },
     "execution_count": 115,
     "metadata": {},
     "output_type": "execute_result"
    }
   ],
   "source": [
    "def nn_model(x):\n",
    "    x = torch.tensor([x])\n",
    "    W = torch.tensor([0.08035, -0.01478, -0.03523,  0.06777,  0.03789,  0.0013991, -0.13303,  0.8045])\n",
    "    b = torch.tensor([0.16421])\n",
    "    return torch.tanh(torch.sum(x * W) + b)\n",
    "\n",
    "nn_model(-0.015)"
   ]
  },
  {
   "cell_type": "code",
   "execution_count": 116,
   "id": "59632102",
   "metadata": {},
   "outputs": [
    {
     "data": {
      "text/plain": [
       "tensor([0.1785])"
      ]
     },
     "execution_count": 116,
     "metadata": {},
     "output_type": "execute_result"
    }
   ],
   "source": [
    "# no interability\n",
    "nn_model(0.02)"
   ]
  },
  {
   "cell_type": "code",
   "execution_count": 117,
   "id": "e88101ed",
   "metadata": {},
   "outputs": [
    {
     "data": {
      "text/plain": [
       "tensor([0.1627])"
      ]
     },
     "execution_count": 117,
     "metadata": {},
     "output_type": "execute_result"
    }
   ],
   "source": [
    "nn_model(0.0)"
   ]
  },
  {
   "cell_type": "code",
   "execution_count": 118,
   "id": "09c1d8ce",
   "metadata": {},
   "outputs": [],
   "source": [
    "# not disparaging neural networks as my background is neural networks \n",
    "# but for trading, neural networks can increase your expected value but at the expense of complexity\n",
    "# i tend to favour linear models because they are interpretible, are not sensitive to noise, less prone to overfit (generalization)"
   ]
  },
  {
   "cell_type": "markdown",
   "id": "d9705c87",
   "metadata": {},
   "source": [
    "## Strategy Development!"
   ]
  },
  {
   "cell_type": "markdown",
   "id": "930ad380",
   "metadata": {},
   "source": [
    "### Load Time Series"
   ]
  },
  {
   "cell_type": "code",
   "execution_count": 119,
   "id": "64e6cbcc",
   "metadata": {},
   "outputs": [],
   "source": [
    "# binance.download_trades(sym, download_window)"
   ]
  },
  {
   "cell_type": "code",
   "execution_count": 120,
   "id": "1b580a43",
   "metadata": {},
   "outputs": [
    {
     "data": {
      "text/html": [
       "<div><style>\n",
       ".dataframe > thead > tr,\n",
       ".dataframe > tbody > tr {\n",
       "  text-align: right;\n",
       "  white-space: pre-wrap;\n",
       "}\n",
       "</style>\n",
       "<small>shape: (692, 5)</small><table border=\"1\" class=\"dataframe\"><thead><tr><th>datetime</th><th>open</th><th>high</th><th>low</th><th>close</th></tr><tr><td>datetime[μs]</td><td>f64</td><td>f64</td><td>f64</td><td>f64</td></tr></thead><tbody><tr><td>2024-10-29 00:00:00</td><td>69939.9</td><td>71607.0</td><td>69733.0</td><td>71440.1</td></tr><tr><td>2024-10-29 12:00:00</td><td>71440.0</td><td>73660.0</td><td>70900.0</td><td>72739.5</td></tr><tr><td>2024-10-30 00:00:00</td><td>72739.5</td><td>72797.4</td><td>71931.1</td><td>71995.0</td></tr><tr><td>2024-10-30 12:00:00</td><td>71994.9</td><td>72984.9</td><td>71444.2</td><td>72349.0</td></tr><tr><td>2024-10-31 00:00:00</td><td>72349.0</td><td>72720.3</td><td>72030.5</td><td>72213.3</td></tr><tr><td>&hellip;</td><td>&hellip;</td><td>&hellip;</td><td>&hellip;</td><td>&hellip;</td></tr><tr><td>2025-10-07 12:00:00</td><td>124397.1</td><td>125098.0</td><td>120516.0</td><td>121286.5</td></tr><tr><td>2025-10-08 00:00:00</td><td>121286.6</td><td>123150.0</td><td>121005.3</td><td>122825.7</td></tr><tr><td>2025-10-08 12:00:00</td><td>122825.8</td><td>124170.6</td><td>121607.8</td><td>123237.5</td></tr><tr><td>2025-10-09 00:00:00</td><td>123237.4</td><td>123279.7</td><td>121081.5</td><td>122672.9</td></tr><tr><td>2025-10-09 12:00:00</td><td>122673.0</td><td>123740.1</td><td>119572.8</td><td>121579.3</td></tr></tbody></table></div>"
      ],
      "text/plain": [
       "shape: (692, 5)\n",
       "┌─────────────────────┬──────────┬──────────┬──────────┬──────────┐\n",
       "│ datetime            ┆ open     ┆ high     ┆ low      ┆ close    │\n",
       "│ ---                 ┆ ---      ┆ ---      ┆ ---      ┆ ---      │\n",
       "│ datetime[μs]        ┆ f64      ┆ f64      ┆ f64      ┆ f64      │\n",
       "╞═════════════════════╪══════════╪══════════╪══════════╪══════════╡\n",
       "│ 2024-10-29 00:00:00 ┆ 69939.9  ┆ 71607.0  ┆ 69733.0  ┆ 71440.1  │\n",
       "│ 2024-10-29 12:00:00 ┆ 71440.0  ┆ 73660.0  ┆ 70900.0  ┆ 72739.5  │\n",
       "│ 2024-10-30 00:00:00 ┆ 72739.5  ┆ 72797.4  ┆ 71931.1  ┆ 71995.0  │\n",
       "│ 2024-10-30 12:00:00 ┆ 71994.9  ┆ 72984.9  ┆ 71444.2  ┆ 72349.0  │\n",
       "│ 2024-10-31 00:00:00 ┆ 72349.0  ┆ 72720.3  ┆ 72030.5  ┆ 72213.3  │\n",
       "│ …                   ┆ …        ┆ …        ┆ …        ┆ …        │\n",
       "│ 2025-10-07 12:00:00 ┆ 124397.1 ┆ 125098.0 ┆ 120516.0 ┆ 121286.5 │\n",
       "│ 2025-10-08 00:00:00 ┆ 121286.6 ┆ 123150.0 ┆ 121005.3 ┆ 122825.7 │\n",
       "│ 2025-10-08 12:00:00 ┆ 122825.8 ┆ 124170.6 ┆ 121607.8 ┆ 123237.5 │\n",
       "│ 2025-10-09 00:00:00 ┆ 123237.4 ┆ 123279.7 ┆ 121081.5 ┆ 122672.9 │\n",
       "│ 2025-10-09 12:00:00 ┆ 122673.0 ┆ 123740.1 ┆ 119572.8 ┆ 121579.3 │\n",
       "└─────────────────────┴──────────┴──────────┴──────────┴──────────┘"
      ]
     },
     "execution_count": 120,
     "metadata": {},
     "output_type": "execute_result"
    }
   ],
   "source": [
    "sym = 'BTCUSDT'\n",
    "time_interval = '12h'\n",
    "\n",
    "ts = pl.read_csv(f\"{sym}_{time_interval}_ohlc.csv\", try_parse_dates=True).sort('datetime')\n",
    "ts"
   ]
  },
  {
   "cell_type": "markdown",
   "id": "68aab98d",
   "metadata": {},
   "source": [
    "### Add Target and Features"
   ]
  },
  {
   "cell_type": "code",
   "execution_count": 121,
   "id": "1b257aca",
   "metadata": {},
   "outputs": [
    {
     "data": {
      "text/html": [
       "<div><style>\n",
       ".dataframe > thead > tr,\n",
       ".dataframe > tbody > tr {\n",
       "  text-align: right;\n",
       "  white-space: pre-wrap;\n",
       "}\n",
       "</style>\n",
       "<small>shape: (692, 9)</small><table border=\"1\" class=\"dataframe\"><thead><tr><th>datetime</th><th>open</th><th>high</th><th>low</th><th>close</th><th>close_log_return</th><th>close_log_return_lag_1</th><th>close_log_return_lag_2</th><th>close_log_return_lag_3</th></tr><tr><td>datetime[μs]</td><td>f64</td><td>f64</td><td>f64</td><td>f64</td><td>f64</td><td>f64</td><td>f64</td><td>f64</td></tr></thead><tbody><tr><td>2024-10-29 00:00:00</td><td>69939.9</td><td>71607.0</td><td>69733.0</td><td>71440.1</td><td>null</td><td>null</td><td>null</td><td>null</td></tr><tr><td>2024-10-29 12:00:00</td><td>71440.0</td><td>73660.0</td><td>70900.0</td><td>72739.5</td><td>0.018025</td><td>null</td><td>null</td><td>null</td></tr><tr><td>2024-10-30 00:00:00</td><td>72739.5</td><td>72797.4</td><td>71931.1</td><td>71995.0</td><td>-0.010288</td><td>0.018025</td><td>null</td><td>null</td></tr><tr><td>2024-10-30 12:00:00</td><td>71994.9</td><td>72984.9</td><td>71444.2</td><td>72349.0</td><td>0.004905</td><td>-0.010288</td><td>0.018025</td><td>null</td></tr><tr><td>2024-10-31 00:00:00</td><td>72349.0</td><td>72720.3</td><td>72030.5</td><td>72213.3</td><td>-0.001877</td><td>0.004905</td><td>-0.010288</td><td>0.018025</td></tr><tr><td>&hellip;</td><td>&hellip;</td><td>&hellip;</td><td>&hellip;</td><td>&hellip;</td><td>&hellip;</td><td>&hellip;</td><td>&hellip;</td><td>&hellip;</td></tr><tr><td>2025-10-07 12:00:00</td><td>124397.1</td><td>125098.0</td><td>120516.0</td><td>121286.5</td><td>-0.025324</td><td>-0.001858</td><td>0.003757</td><td>0.005933</td></tr><tr><td>2025-10-08 00:00:00</td><td>121286.6</td><td>123150.0</td><td>121005.3</td><td>122825.7</td><td>0.012611</td><td>-0.025324</td><td>-0.001858</td><td>0.003757</td></tr><tr><td>2025-10-08 12:00:00</td><td>122825.8</td><td>124170.6</td><td>121607.8</td><td>123237.5</td><td>0.003347</td><td>0.012611</td><td>-0.025324</td><td>-0.001858</td></tr><tr><td>2025-10-09 00:00:00</td><td>123237.4</td><td>123279.7</td><td>121081.5</td><td>122672.9</td><td>-0.004592</td><td>0.003347</td><td>0.012611</td><td>-0.025324</td></tr><tr><td>2025-10-09 12:00:00</td><td>122673.0</td><td>123740.1</td><td>119572.8</td><td>121579.3</td><td>-0.008955</td><td>-0.004592</td><td>0.003347</td><td>0.012611</td></tr></tbody></table></div>"
      ],
      "text/plain": [
       "shape: (692, 9)\n",
       "┌────────────┬──────────┬──────────┬──────────┬───┬────────────┬───────────┬───────────┬───────────┐\n",
       "│ datetime   ┆ open     ┆ high     ┆ low      ┆ … ┆ close_log_ ┆ close_log ┆ close_log ┆ close_log │\n",
       "│ ---        ┆ ---      ┆ ---      ┆ ---      ┆   ┆ return     ┆ _return_l ┆ _return_l ┆ _return_l │\n",
       "│ datetime[μ ┆ f64      ┆ f64      ┆ f64      ┆   ┆ ---        ┆ ag_1      ┆ ag_2      ┆ ag_3      │\n",
       "│ s]         ┆          ┆          ┆          ┆   ┆ f64        ┆ ---       ┆ ---       ┆ ---       │\n",
       "│            ┆          ┆          ┆          ┆   ┆            ┆ f64       ┆ f64       ┆ f64       │\n",
       "╞════════════╪══════════╪══════════╪══════════╪═══╪════════════╪═══════════╪═══════════╪═══════════╡\n",
       "│ 2024-10-29 ┆ 69939.9  ┆ 71607.0  ┆ 69733.0  ┆ … ┆ null       ┆ null      ┆ null      ┆ null      │\n",
       "│ 00:00:00   ┆          ┆          ┆          ┆   ┆            ┆           ┆           ┆           │\n",
       "│ 2024-10-29 ┆ 71440.0  ┆ 73660.0  ┆ 70900.0  ┆ … ┆ 0.018025   ┆ null      ┆ null      ┆ null      │\n",
       "│ 12:00:00   ┆          ┆          ┆          ┆   ┆            ┆           ┆           ┆           │\n",
       "│ 2024-10-30 ┆ 72739.5  ┆ 72797.4  ┆ 71931.1  ┆ … ┆ -0.010288  ┆ 0.018025  ┆ null      ┆ null      │\n",
       "│ 00:00:00   ┆          ┆          ┆          ┆   ┆            ┆           ┆           ┆           │\n",
       "│ 2024-10-30 ┆ 71994.9  ┆ 72984.9  ┆ 71444.2  ┆ … ┆ 0.004905   ┆ -0.010288 ┆ 0.018025  ┆ null      │\n",
       "│ 12:00:00   ┆          ┆          ┆          ┆   ┆            ┆           ┆           ┆           │\n",
       "│ 2024-10-31 ┆ 72349.0  ┆ 72720.3  ┆ 72030.5  ┆ … ┆ -0.001877  ┆ 0.004905  ┆ -0.010288 ┆ 0.018025  │\n",
       "│ 00:00:00   ┆          ┆          ┆          ┆   ┆            ┆           ┆           ┆           │\n",
       "│ …          ┆ …        ┆ …        ┆ …        ┆ … ┆ …          ┆ …         ┆ …         ┆ …         │\n",
       "│ 2025-10-07 ┆ 124397.1 ┆ 125098.0 ┆ 120516.0 ┆ … ┆ -0.025324  ┆ -0.001858 ┆ 0.003757  ┆ 0.005933  │\n",
       "│ 12:00:00   ┆          ┆          ┆          ┆   ┆            ┆           ┆           ┆           │\n",
       "│ 2025-10-08 ┆ 121286.6 ┆ 123150.0 ┆ 121005.3 ┆ … ┆ 0.012611   ┆ -0.025324 ┆ -0.001858 ┆ 0.003757  │\n",
       "│ 00:00:00   ┆          ┆          ┆          ┆   ┆            ┆           ┆           ┆           │\n",
       "│ 2025-10-08 ┆ 122825.8 ┆ 124170.6 ┆ 121607.8 ┆ … ┆ 0.003347   ┆ 0.012611  ┆ -0.025324 ┆ -0.001858 │\n",
       "│ 12:00:00   ┆          ┆          ┆          ┆   ┆            ┆           ┆           ┆           │\n",
       "│ 2025-10-09 ┆ 123237.4 ┆ 123279.7 ┆ 121081.5 ┆ … ┆ -0.004592  ┆ 0.003347  ┆ 0.012611  ┆ -0.025324 │\n",
       "│ 00:00:00   ┆          ┆          ┆          ┆   ┆            ┆           ┆           ┆           │\n",
       "│ 2025-10-09 ┆ 122673.0 ┆ 123740.1 ┆ 119572.8 ┆ … ┆ -0.008955  ┆ -0.004592 ┆ 0.003347  ┆ 0.012611  │\n",
       "│ 12:00:00   ┆          ┆          ┆          ┆   ┆            ┆           ┆           ┆           │\n",
       "└────────────┴──────────┴──────────┴──────────┴───┴────────────┴───────────┴───────────┴───────────┘"
      ]
     },
     "execution_count": 121,
     "metadata": {},
     "output_type": "execute_result"
    }
   ],
   "source": [
    "sym = 'BTCUSDT'\n",
    "forecast_horizon = 1\n",
    "ts = research.add_log_return_features(ts, 'close', forecast_horizon, max_no_lags=3)\n",
    "ts"
   ]
  },
  {
   "cell_type": "markdown",
   "id": "d65ef912",
   "metadata": {},
   "source": [
    "### Time Split "
   ]
  },
  {
   "cell_type": "code",
   "execution_count": 122,
   "id": "85e01c4c",
   "metadata": {},
   "outputs": [
    {
     "data": {
      "text/html": [
       "<div><style>\n",
       ".dataframe > thead > tr,\n",
       ".dataframe > tbody > tr {\n",
       "  text-align: right;\n",
       "  white-space: pre-wrap;\n",
       "}\n",
       "</style>\n",
       "<small>shape: (173, 9)</small><table border=\"1\" class=\"dataframe\"><thead><tr><th>datetime</th><th>open</th><th>high</th><th>low</th><th>close</th><th>close_log_return</th><th>close_log_return_lag_1</th><th>close_log_return_lag_2</th><th>close_log_return_lag_3</th></tr><tr><td>datetime[μs]</td><td>f64</td><td>f64</td><td>f64</td><td>f64</td><td>f64</td><td>f64</td><td>f64</td><td>f64</td></tr></thead><tbody><tr><td>2025-07-15 12:00:00</td><td>117110.4</td><td>118499.8</td><td>115678.1</td><td>117738.5</td><td>0.005349</td><td>-0.022844</td><td>-0.013743</td><td>0.020259</td></tr><tr><td>2025-07-16 00:00:00</td><td>117738.6</td><td>119299.9</td><td>117017.1</td><td>118755.1</td><td>0.008597</td><td>0.005349</td><td>-0.022844</td><td>-0.013743</td></tr><tr><td>2025-07-16 12:00:00</td><td>118755.1</td><td>120100.0</td><td>118156.0</td><td>118590.7</td><td>-0.001385</td><td>0.008597</td><td>0.005349</td><td>-0.022844</td></tr><tr><td>2025-07-17 00:00:00</td><td>118590.7</td><td>119216.4</td><td>117663.6</td><td>117968.9</td><td>-0.005257</td><td>-0.001385</td><td>0.008597</td><td>0.005349</td></tr><tr><td>2025-07-17 12:00:00</td><td>117968.8</td><td>120951.5</td><td>117412.8</td><td>119176.6</td><td>0.010185</td><td>-0.005257</td><td>-0.001385</td><td>0.008597</td></tr><tr><td>&hellip;</td><td>&hellip;</td><td>&hellip;</td><td>&hellip;</td><td>&hellip;</td><td>&hellip;</td><td>&hellip;</td><td>&hellip;</td><td>&hellip;</td></tr><tr><td>2025-10-07 12:00:00</td><td>124397.1</td><td>125098.0</td><td>120516.0</td><td>121286.5</td><td>-0.025324</td><td>-0.001858</td><td>0.003757</td><td>0.005933</td></tr><tr><td>2025-10-08 00:00:00</td><td>121286.6</td><td>123150.0</td><td>121005.3</td><td>122825.7</td><td>0.012611</td><td>-0.025324</td><td>-0.001858</td><td>0.003757</td></tr><tr><td>2025-10-08 12:00:00</td><td>122825.8</td><td>124170.6</td><td>121607.8</td><td>123237.5</td><td>0.003347</td><td>0.012611</td><td>-0.025324</td><td>-0.001858</td></tr><tr><td>2025-10-09 00:00:00</td><td>123237.4</td><td>123279.7</td><td>121081.5</td><td>122672.9</td><td>-0.004592</td><td>0.003347</td><td>0.012611</td><td>-0.025324</td></tr><tr><td>2025-10-09 12:00:00</td><td>122673.0</td><td>123740.1</td><td>119572.8</td><td>121579.3</td><td>-0.008955</td><td>-0.004592</td><td>0.003347</td><td>0.012611</td></tr></tbody></table></div>"
      ],
      "text/plain": [
       "shape: (173, 9)\n",
       "┌────────────┬──────────┬──────────┬──────────┬───┬────────────┬───────────┬───────────┬───────────┐\n",
       "│ datetime   ┆ open     ┆ high     ┆ low      ┆ … ┆ close_log_ ┆ close_log ┆ close_log ┆ close_log │\n",
       "│ ---        ┆ ---      ┆ ---      ┆ ---      ┆   ┆ return     ┆ _return_l ┆ _return_l ┆ _return_l │\n",
       "│ datetime[μ ┆ f64      ┆ f64      ┆ f64      ┆   ┆ ---        ┆ ag_1      ┆ ag_2      ┆ ag_3      │\n",
       "│ s]         ┆          ┆          ┆          ┆   ┆ f64        ┆ ---       ┆ ---       ┆ ---       │\n",
       "│            ┆          ┆          ┆          ┆   ┆            ┆ f64       ┆ f64       ┆ f64       │\n",
       "╞════════════╪══════════╪══════════╪══════════╪═══╪════════════╪═══════════╪═══════════╪═══════════╡\n",
       "│ 2025-07-15 ┆ 117110.4 ┆ 118499.8 ┆ 115678.1 ┆ … ┆ 0.005349   ┆ -0.022844 ┆ -0.013743 ┆ 0.020259  │\n",
       "│ 12:00:00   ┆          ┆          ┆          ┆   ┆            ┆           ┆           ┆           │\n",
       "│ 2025-07-16 ┆ 117738.6 ┆ 119299.9 ┆ 117017.1 ┆ … ┆ 0.008597   ┆ 0.005349  ┆ -0.022844 ┆ -0.013743 │\n",
       "│ 00:00:00   ┆          ┆          ┆          ┆   ┆            ┆           ┆           ┆           │\n",
       "│ 2025-07-16 ┆ 118755.1 ┆ 120100.0 ┆ 118156.0 ┆ … ┆ -0.001385  ┆ 0.008597  ┆ 0.005349  ┆ -0.022844 │\n",
       "│ 12:00:00   ┆          ┆          ┆          ┆   ┆            ┆           ┆           ┆           │\n",
       "│ 2025-07-17 ┆ 118590.7 ┆ 119216.4 ┆ 117663.6 ┆ … ┆ -0.005257  ┆ -0.001385 ┆ 0.008597  ┆ 0.005349  │\n",
       "│ 00:00:00   ┆          ┆          ┆          ┆   ┆            ┆           ┆           ┆           │\n",
       "│ 2025-07-17 ┆ 117968.8 ┆ 120951.5 ┆ 117412.8 ┆ … ┆ 0.010185   ┆ -0.005257 ┆ -0.001385 ┆ 0.008597  │\n",
       "│ 12:00:00   ┆          ┆          ┆          ┆   ┆            ┆           ┆           ┆           │\n",
       "│ …          ┆ …        ┆ …        ┆ …        ┆ … ┆ …          ┆ …         ┆ …         ┆ …         │\n",
       "│ 2025-10-07 ┆ 124397.1 ┆ 125098.0 ┆ 120516.0 ┆ … ┆ -0.025324  ┆ -0.001858 ┆ 0.003757  ┆ 0.005933  │\n",
       "│ 12:00:00   ┆          ┆          ┆          ┆   ┆            ┆           ┆           ┆           │\n",
       "│ 2025-10-08 ┆ 121286.6 ┆ 123150.0 ┆ 121005.3 ┆ … ┆ 0.012611   ┆ -0.025324 ┆ -0.001858 ┆ 0.003757  │\n",
       "│ 00:00:00   ┆          ┆          ┆          ┆   ┆            ┆           ┆           ┆           │\n",
       "│ 2025-10-08 ┆ 122825.8 ┆ 124170.6 ┆ 121607.8 ┆ … ┆ 0.003347   ┆ 0.012611  ┆ -0.025324 ┆ -0.001858 │\n",
       "│ 12:00:00   ┆          ┆          ┆          ┆   ┆            ┆           ┆           ┆           │\n",
       "│ 2025-10-09 ┆ 123237.4 ┆ 123279.7 ┆ 121081.5 ┆ … ┆ -0.004592  ┆ 0.003347  ┆ 0.012611  ┆ -0.025324 │\n",
       "│ 00:00:00   ┆          ┆          ┆          ┆   ┆            ┆           ┆           ┆           │\n",
       "│ 2025-10-09 ┆ 122673.0 ┆ 123740.1 ┆ 119572.8 ┆ … ┆ -0.008955  ┆ -0.004592 ┆ 0.003347  ┆ 0.012611  │\n",
       "│ 12:00:00   ┆          ┆          ┆          ┆   ┆            ┆           ┆           ┆           │\n",
       "└────────────┴──────────┴──────────┴──────────┴───┴────────────┴───────────┴───────────┴───────────┘"
      ]
     },
     "execution_count": 122,
     "metadata": {},
     "output_type": "execute_result"
    }
   ],
   "source": [
    "test_size = 0.25\n",
    "_, trades = research.timeseries_split(ts, test_size)\n",
    "trades"
   ]
  },
  {
   "cell_type": "markdown",
   "id": "4e267a5e",
   "metadata": {},
   "source": [
    "## Strategy Decision # 1: Entry / Exit Signal"
   ]
  },
  {
   "cell_type": "code",
   "execution_count": 123,
   "id": "b9e9b6a1",
   "metadata": {},
   "outputs": [],
   "source": [
    "# q1: when do we get in? entry signal\n",
    "# q2: when do we get out? exit signal"
   ]
  },
  {
   "cell_type": "code",
   "execution_count": 124,
   "id": "2ca8f40b",
   "metadata": {},
   "outputs": [],
   "source": [
    "# 1. Time Based \n",
    "# 2. Predicate Based "
   ]
  },
  {
   "cell_type": "code",
   "execution_count": 125,
   "id": "cf27f866",
   "metadata": {},
   "outputs": [],
   "source": [
    "# predicate example => we only want to trade if our y_hat is above or below a certain threshold"
   ]
  },
  {
   "cell_type": "code",
   "execution_count": 126,
   "id": "b279941f",
   "metadata": {},
   "outputs": [],
   "source": [
    "# time based => each row represents a roundtrip trade. trade to open position at start of interval, trade to close the position at end of interval. each row = 2 trades. "
   ]
  },
  {
   "cell_type": "code",
   "execution_count": 127,
   "id": "b6987f16",
   "metadata": {},
   "outputs": [
    {
     "data": {
      "text/html": [
       "<div><style>\n",
       ".dataframe > thead > tr,\n",
       ".dataframe > tbody > tr {\n",
       "  text-align: right;\n",
       "  white-space: pre-wrap;\n",
       "}\n",
       "</style>\n",
       "<small>shape: (173, 9)</small><table border=\"1\" class=\"dataframe\"><thead><tr><th>datetime</th><th>open</th><th>high</th><th>low</th><th>close</th><th>close_log_return</th><th>close_log_return_lag_1</th><th>close_log_return_lag_2</th><th>close_log_return_lag_3</th></tr><tr><td>datetime[μs]</td><td>f64</td><td>f64</td><td>f64</td><td>f64</td><td>f64</td><td>f64</td><td>f64</td><td>f64</td></tr></thead><tbody><tr><td>2025-07-15 12:00:00</td><td>117110.4</td><td>118499.8</td><td>115678.1</td><td>117738.5</td><td>0.005349</td><td>-0.022844</td><td>-0.013743</td><td>0.020259</td></tr><tr><td>2025-07-16 00:00:00</td><td>117738.6</td><td>119299.9</td><td>117017.1</td><td>118755.1</td><td>0.008597</td><td>0.005349</td><td>-0.022844</td><td>-0.013743</td></tr><tr><td>2025-07-16 12:00:00</td><td>118755.1</td><td>120100.0</td><td>118156.0</td><td>118590.7</td><td>-0.001385</td><td>0.008597</td><td>0.005349</td><td>-0.022844</td></tr><tr><td>2025-07-17 00:00:00</td><td>118590.7</td><td>119216.4</td><td>117663.6</td><td>117968.9</td><td>-0.005257</td><td>-0.001385</td><td>0.008597</td><td>0.005349</td></tr><tr><td>2025-07-17 12:00:00</td><td>117968.8</td><td>120951.5</td><td>117412.8</td><td>119176.6</td><td>0.010185</td><td>-0.005257</td><td>-0.001385</td><td>0.008597</td></tr><tr><td>&hellip;</td><td>&hellip;</td><td>&hellip;</td><td>&hellip;</td><td>&hellip;</td><td>&hellip;</td><td>&hellip;</td><td>&hellip;</td><td>&hellip;</td></tr><tr><td>2025-10-07 12:00:00</td><td>124397.1</td><td>125098.0</td><td>120516.0</td><td>121286.5</td><td>-0.025324</td><td>-0.001858</td><td>0.003757</td><td>0.005933</td></tr><tr><td>2025-10-08 00:00:00</td><td>121286.6</td><td>123150.0</td><td>121005.3</td><td>122825.7</td><td>0.012611</td><td>-0.025324</td><td>-0.001858</td><td>0.003757</td></tr><tr><td>2025-10-08 12:00:00</td><td>122825.8</td><td>124170.6</td><td>121607.8</td><td>123237.5</td><td>0.003347</td><td>0.012611</td><td>-0.025324</td><td>-0.001858</td></tr><tr><td>2025-10-09 00:00:00</td><td>123237.4</td><td>123279.7</td><td>121081.5</td><td>122672.9</td><td>-0.004592</td><td>0.003347</td><td>0.012611</td><td>-0.025324</td></tr><tr><td>2025-10-09 12:00:00</td><td>122673.0</td><td>123740.1</td><td>119572.8</td><td>121579.3</td><td>-0.008955</td><td>-0.004592</td><td>0.003347</td><td>0.012611</td></tr></tbody></table></div>"
      ],
      "text/plain": [
       "shape: (173, 9)\n",
       "┌────────────┬──────────┬──────────┬──────────┬───┬────────────┬───────────┬───────────┬───────────┐\n",
       "│ datetime   ┆ open     ┆ high     ┆ low      ┆ … ┆ close_log_ ┆ close_log ┆ close_log ┆ close_log │\n",
       "│ ---        ┆ ---      ┆ ---      ┆ ---      ┆   ┆ return     ┆ _return_l ┆ _return_l ┆ _return_l │\n",
       "│ datetime[μ ┆ f64      ┆ f64      ┆ f64      ┆   ┆ ---        ┆ ag_1      ┆ ag_2      ┆ ag_3      │\n",
       "│ s]         ┆          ┆          ┆          ┆   ┆ f64        ┆ ---       ┆ ---       ┆ ---       │\n",
       "│            ┆          ┆          ┆          ┆   ┆            ┆ f64       ┆ f64       ┆ f64       │\n",
       "╞════════════╪══════════╪══════════╪══════════╪═══╪════════════╪═══════════╪═══════════╪═══════════╡\n",
       "│ 2025-07-15 ┆ 117110.4 ┆ 118499.8 ┆ 115678.1 ┆ … ┆ 0.005349   ┆ -0.022844 ┆ -0.013743 ┆ 0.020259  │\n",
       "│ 12:00:00   ┆          ┆          ┆          ┆   ┆            ┆           ┆           ┆           │\n",
       "│ 2025-07-16 ┆ 117738.6 ┆ 119299.9 ┆ 117017.1 ┆ … ┆ 0.008597   ┆ 0.005349  ┆ -0.022844 ┆ -0.013743 │\n",
       "│ 00:00:00   ┆          ┆          ┆          ┆   ┆            ┆           ┆           ┆           │\n",
       "│ 2025-07-16 ┆ 118755.1 ┆ 120100.0 ┆ 118156.0 ┆ … ┆ -0.001385  ┆ 0.008597  ┆ 0.005349  ┆ -0.022844 │\n",
       "│ 12:00:00   ┆          ┆          ┆          ┆   ┆            ┆           ┆           ┆           │\n",
       "│ 2025-07-17 ┆ 118590.7 ┆ 119216.4 ┆ 117663.6 ┆ … ┆ -0.005257  ┆ -0.001385 ┆ 0.008597  ┆ 0.005349  │\n",
       "│ 00:00:00   ┆          ┆          ┆          ┆   ┆            ┆           ┆           ┆           │\n",
       "│ 2025-07-17 ┆ 117968.8 ┆ 120951.5 ┆ 117412.8 ┆ … ┆ 0.010185   ┆ -0.005257 ┆ -0.001385 ┆ 0.008597  │\n",
       "│ 12:00:00   ┆          ┆          ┆          ┆   ┆            ┆           ┆           ┆           │\n",
       "│ …          ┆ …        ┆ …        ┆ …        ┆ … ┆ …          ┆ …         ┆ …         ┆ …         │\n",
       "│ 2025-10-07 ┆ 124397.1 ┆ 125098.0 ┆ 120516.0 ┆ … ┆ -0.025324  ┆ -0.001858 ┆ 0.003757  ┆ 0.005933  │\n",
       "│ 12:00:00   ┆          ┆          ┆          ┆   ┆            ┆           ┆           ┆           │\n",
       "│ 2025-10-08 ┆ 121286.6 ┆ 123150.0 ┆ 121005.3 ┆ … ┆ 0.012611   ┆ -0.025324 ┆ -0.001858 ┆ 0.003757  │\n",
       "│ 00:00:00   ┆          ┆          ┆          ┆   ┆            ┆           ┆           ┆           │\n",
       "│ 2025-10-08 ┆ 122825.8 ┆ 124170.6 ┆ 121607.8 ┆ … ┆ 0.003347   ┆ 0.012611  ┆ -0.025324 ┆ -0.001858 │\n",
       "│ 12:00:00   ┆          ┆          ┆          ┆   ┆            ┆           ┆           ┆           │\n",
       "│ 2025-10-09 ┆ 123237.4 ┆ 123279.7 ┆ 121081.5 ┆ … ┆ -0.004592  ┆ 0.003347  ┆ 0.012611  ┆ -0.025324 │\n",
       "│ 00:00:00   ┆          ┆          ┆          ┆   ┆            ┆           ┆           ┆           │\n",
       "│ 2025-10-09 ┆ 122673.0 ┆ 123740.1 ┆ 119572.8 ┆ … ┆ -0.008955  ┆ -0.004592 ┆ 0.003347  ┆ 0.012611  │\n",
       "│ 12:00:00   ┆          ┆          ┆          ┆   ┆            ┆           ┆           ┆           │\n",
       "└────────────┴──────────┴──────────┴──────────┴───┴────────────┴───────────┴───────────┴───────────┘"
      ]
     },
     "execution_count": 127,
     "metadata": {},
     "output_type": "execute_result"
    }
   ],
   "source": [
    "trades"
   ]
  },
  {
   "cell_type": "markdown",
   "id": "35b672ee",
   "metadata": {},
   "source": [
    "### Add Model's Predictions"
   ]
  },
  {
   "cell_type": "code",
   "execution_count": 128,
   "id": "f2d29dcf",
   "metadata": {},
   "outputs": [
    {
     "data": {
      "text/html": [
       "<div><style>\n",
       ".dataframe > thead > tr,\n",
       ".dataframe > tbody > tr {\n",
       "  text-align: right;\n",
       "  white-space: pre-wrap;\n",
       "}\n",
       "</style>\n",
       "<small>shape: (173, 10)</small><table border=\"1\" class=\"dataframe\"><thead><tr><th>datetime</th><th>open</th><th>high</th><th>low</th><th>close</th><th>close_log_return</th><th>close_log_return_lag_1</th><th>close_log_return_lag_2</th><th>close_log_return_lag_3</th><th>y_hat</th></tr><tr><td>datetime[μs]</td><td>f64</td><td>f64</td><td>f64</td><td>f64</td><td>f64</td><td>f64</td><td>f64</td><td>f64</td><td>f32</td></tr></thead><tbody><tr><td>2025-07-15 12:00:00</td><td>117110.4</td><td>118499.8</td><td>115678.1</td><td>117738.5</td><td>0.005349</td><td>-0.022844</td><td>-0.013743</td><td>0.020259</td><td>0.004543</td></tr><tr><td>2025-07-16 00:00:00</td><td>117738.6</td><td>119299.9</td><td>117017.1</td><td>118755.1</td><td>0.008597</td><td>0.005349</td><td>-0.022844</td><td>-0.013743</td><td>0.001263</td></tr><tr><td>2025-07-16 12:00:00</td><td>118755.1</td><td>120100.0</td><td>118156.0</td><td>118590.7</td><td>-0.001385</td><td>0.008597</td><td>0.005349</td><td>-0.022844</td><td>-0.001228</td></tr><tr><td>2025-07-17 00:00:00</td><td>118590.7</td><td>119216.4</td><td>117663.6</td><td>117968.9</td><td>-0.005257</td><td>-0.001385</td><td>0.008597</td><td>0.005349</td><td>0.000388</td></tr><tr><td>2025-07-17 12:00:00</td><td>117968.8</td><td>120951.5</td><td>117412.8</td><td>119176.6</td><td>0.010185</td><td>-0.005257</td><td>-0.001385</td><td>0.008597</td><td>0.001554</td></tr><tr><td>&hellip;</td><td>&hellip;</td><td>&hellip;</td><td>&hellip;</td><td>&hellip;</td><td>&hellip;</td><td>&hellip;</td><td>&hellip;</td><td>&hellip;</td><td>&hellip;</td></tr><tr><td>2025-10-07 12:00:00</td><td>124397.1</td><td>125098.0</td><td>120516.0</td><td>121286.5</td><td>-0.025324</td><td>-0.001858</td><td>0.003757</td><td>0.005933</td><td>0.000779</td></tr><tr><td>2025-10-08 00:00:00</td><td>121286.6</td><td>123150.0</td><td>121005.3</td><td>122825.7</td><td>0.012611</td><td>-0.025324</td><td>-0.001858</td><td>0.003757</td><td>0.003535</td></tr><tr><td>2025-10-08 12:00:00</td><td>122825.8</td><td>124170.6</td><td>121607.8</td><td>123237.5</td><td>0.003347</td><td>0.012611</td><td>-0.025324</td><td>-0.001858</td><td>0.001011</td></tr><tr><td>2025-10-09 00:00:00</td><td>123237.4</td><td>123279.7</td><td>121081.5</td><td>122672.9</td><td>-0.004592</td><td>0.003347</td><td>0.012611</td><td>-0.025324</td><td>-0.001241</td></tr><tr><td>2025-10-09 12:00:00</td><td>122673.0</td><td>123740.1</td><td>119572.8</td><td>121579.3</td><td>-0.008955</td><td>-0.004592</td><td>0.003347</td><td>0.012611</td><td>0.00128</td></tr></tbody></table></div>"
      ],
      "text/plain": [
       "shape: (173, 10)\n",
       "┌────────────┬──────────┬──────────┬──────────┬───┬────────────┬───────────┬───────────┬───────────┐\n",
       "│ datetime   ┆ open     ┆ high     ┆ low      ┆ … ┆ close_log_ ┆ close_log ┆ close_log ┆ y_hat     │\n",
       "│ ---        ┆ ---      ┆ ---      ┆ ---      ┆   ┆ return_lag ┆ _return_l ┆ _return_l ┆ ---       │\n",
       "│ datetime[μ ┆ f64      ┆ f64      ┆ f64      ┆   ┆ _1         ┆ ag_2      ┆ ag_3      ┆ f32       │\n",
       "│ s]         ┆          ┆          ┆          ┆   ┆ ---        ┆ ---       ┆ ---       ┆           │\n",
       "│            ┆          ┆          ┆          ┆   ┆ f64        ┆ f64       ┆ f64       ┆           │\n",
       "╞════════════╪══════════╪══════════╪══════════╪═══╪════════════╪═══════════╪═══════════╪═══════════╡\n",
       "│ 2025-07-15 ┆ 117110.4 ┆ 118499.8 ┆ 115678.1 ┆ … ┆ -0.022844  ┆ -0.013743 ┆ 0.020259  ┆ 0.004543  │\n",
       "│ 12:00:00   ┆          ┆          ┆          ┆   ┆            ┆           ┆           ┆           │\n",
       "│ 2025-07-16 ┆ 117738.6 ┆ 119299.9 ┆ 117017.1 ┆ … ┆ 0.005349   ┆ -0.022844 ┆ -0.013743 ┆ 0.001263  │\n",
       "│ 00:00:00   ┆          ┆          ┆          ┆   ┆            ┆           ┆           ┆           │\n",
       "│ 2025-07-16 ┆ 118755.1 ┆ 120100.0 ┆ 118156.0 ┆ … ┆ 0.008597   ┆ 0.005349  ┆ -0.022844 ┆ -0.001228 │\n",
       "│ 12:00:00   ┆          ┆          ┆          ┆   ┆            ┆           ┆           ┆           │\n",
       "│ 2025-07-17 ┆ 118590.7 ┆ 119216.4 ┆ 117663.6 ┆ … ┆ -0.001385  ┆ 0.008597  ┆ 0.005349  ┆ 0.000388  │\n",
       "│ 00:00:00   ┆          ┆          ┆          ┆   ┆            ┆           ┆           ┆           │\n",
       "│ 2025-07-17 ┆ 117968.8 ┆ 120951.5 ┆ 117412.8 ┆ … ┆ -0.005257  ┆ -0.001385 ┆ 0.008597  ┆ 0.001554  │\n",
       "│ 12:00:00   ┆          ┆          ┆          ┆   ┆            ┆           ┆           ┆           │\n",
       "│ …          ┆ …        ┆ …        ┆ …        ┆ … ┆ …          ┆ …         ┆ …         ┆ …         │\n",
       "│ 2025-10-07 ┆ 124397.1 ┆ 125098.0 ┆ 120516.0 ┆ … ┆ -0.001858  ┆ 0.003757  ┆ 0.005933  ┆ 0.000779  │\n",
       "│ 12:00:00   ┆          ┆          ┆          ┆   ┆            ┆           ┆           ┆           │\n",
       "│ 2025-10-08 ┆ 121286.6 ┆ 123150.0 ┆ 121005.3 ┆ … ┆ -0.025324  ┆ -0.001858 ┆ 0.003757  ┆ 0.003535  │\n",
       "│ 00:00:00   ┆          ┆          ┆          ┆   ┆            ┆           ┆           ┆           │\n",
       "│ 2025-10-08 ┆ 122825.8 ┆ 124170.6 ┆ 121607.8 ┆ … ┆ 0.012611   ┆ -0.025324 ┆ -0.001858 ┆ 0.001011  │\n",
       "│ 12:00:00   ┆          ┆          ┆          ┆   ┆            ┆           ┆           ┆           │\n",
       "│ 2025-10-09 ┆ 123237.4 ┆ 123279.7 ┆ 121081.5 ┆ … ┆ 0.003347   ┆ 0.012611  ┆ -0.025324 ┆ -0.001241 │\n",
       "│ 00:00:00   ┆          ┆          ┆          ┆   ┆            ┆           ┆           ┆           │\n",
       "│ 2025-10-09 ┆ 122673.0 ┆ 123740.1 ┆ 119572.8 ┆ … ┆ -0.004592  ┆ 0.003347  ┆ 0.012611  ┆ 0.00128   │\n",
       "│ 12:00:00   ┆          ┆          ┆          ┆   ┆            ┆           ┆           ┆           │\n",
       "└────────────┴──────────┴──────────┴──────────┴───┴────────────┴───────────┴───────────┴───────────┘"
      ]
     },
     "execution_count": 128,
     "metadata": {},
     "output_type": "execute_result"
    }
   ],
   "source": [
    "target = 'close_log_return'\n",
    "features = [f'{target}_lag_1',f'{target}_lag_2',f'{target}_lag_3']\n",
    "trades = research.add_model_predictions(trades, model, features)\n",
    "trades"
   ]
  },
  {
   "cell_type": "markdown",
   "id": "c3cf64ab",
   "metadata": {},
   "source": [
    "### Add Directional Signal"
   ]
  },
  {
   "cell_type": "code",
   "execution_count": 129,
   "id": "71f913c7",
   "metadata": {},
   "outputs": [
    {
     "data": {
      "text/html": [
       "<div><style>\n",
       ".dataframe > thead > tr,\n",
       ".dataframe > tbody > tr {\n",
       "  text-align: right;\n",
       "  white-space: pre-wrap;\n",
       "}\n",
       "</style>\n",
       "<small>shape: (173, 11)</small><table border=\"1\" class=\"dataframe\"><thead><tr><th>datetime</th><th>open</th><th>high</th><th>low</th><th>close</th><th>close_log_return</th><th>close_log_return_lag_1</th><th>close_log_return_lag_2</th><th>close_log_return_lag_3</th><th>y_hat</th><th>dir_signal</th></tr><tr><td>datetime[μs]</td><td>f64</td><td>f64</td><td>f64</td><td>f64</td><td>f64</td><td>f64</td><td>f64</td><td>f64</td><td>f32</td><td>f32</td></tr></thead><tbody><tr><td>2025-07-15 12:00:00</td><td>117110.4</td><td>118499.8</td><td>115678.1</td><td>117738.5</td><td>0.005349</td><td>-0.022844</td><td>-0.013743</td><td>0.020259</td><td>0.004543</td><td>1.0</td></tr><tr><td>2025-07-16 00:00:00</td><td>117738.6</td><td>119299.9</td><td>117017.1</td><td>118755.1</td><td>0.008597</td><td>0.005349</td><td>-0.022844</td><td>-0.013743</td><td>0.001263</td><td>1.0</td></tr><tr><td>2025-07-16 12:00:00</td><td>118755.1</td><td>120100.0</td><td>118156.0</td><td>118590.7</td><td>-0.001385</td><td>0.008597</td><td>0.005349</td><td>-0.022844</td><td>-0.001228</td><td>-1.0</td></tr><tr><td>2025-07-17 00:00:00</td><td>118590.7</td><td>119216.4</td><td>117663.6</td><td>117968.9</td><td>-0.005257</td><td>-0.001385</td><td>0.008597</td><td>0.005349</td><td>0.000388</td><td>1.0</td></tr><tr><td>2025-07-17 12:00:00</td><td>117968.8</td><td>120951.5</td><td>117412.8</td><td>119176.6</td><td>0.010185</td><td>-0.005257</td><td>-0.001385</td><td>0.008597</td><td>0.001554</td><td>1.0</td></tr><tr><td>&hellip;</td><td>&hellip;</td><td>&hellip;</td><td>&hellip;</td><td>&hellip;</td><td>&hellip;</td><td>&hellip;</td><td>&hellip;</td><td>&hellip;</td><td>&hellip;</td><td>&hellip;</td></tr><tr><td>2025-10-07 12:00:00</td><td>124397.1</td><td>125098.0</td><td>120516.0</td><td>121286.5</td><td>-0.025324</td><td>-0.001858</td><td>0.003757</td><td>0.005933</td><td>0.000779</td><td>1.0</td></tr><tr><td>2025-10-08 00:00:00</td><td>121286.6</td><td>123150.0</td><td>121005.3</td><td>122825.7</td><td>0.012611</td><td>-0.025324</td><td>-0.001858</td><td>0.003757</td><td>0.003535</td><td>1.0</td></tr><tr><td>2025-10-08 12:00:00</td><td>122825.8</td><td>124170.6</td><td>121607.8</td><td>123237.5</td><td>0.003347</td><td>0.012611</td><td>-0.025324</td><td>-0.001858</td><td>0.001011</td><td>1.0</td></tr><tr><td>2025-10-09 00:00:00</td><td>123237.4</td><td>123279.7</td><td>121081.5</td><td>122672.9</td><td>-0.004592</td><td>0.003347</td><td>0.012611</td><td>-0.025324</td><td>-0.001241</td><td>-1.0</td></tr><tr><td>2025-10-09 12:00:00</td><td>122673.0</td><td>123740.1</td><td>119572.8</td><td>121579.3</td><td>-0.008955</td><td>-0.004592</td><td>0.003347</td><td>0.012611</td><td>0.00128</td><td>1.0</td></tr></tbody></table></div>"
      ],
      "text/plain": [
       "shape: (173, 11)\n",
       "┌────────────┬──────────┬──────────┬──────────┬───┬────────────┬───────────┬───────────┬───────────┐\n",
       "│ datetime   ┆ open     ┆ high     ┆ low      ┆ … ┆ close_log_ ┆ close_log ┆ y_hat     ┆ dir_signa │\n",
       "│ ---        ┆ ---      ┆ ---      ┆ ---      ┆   ┆ return_lag ┆ _return_l ┆ ---       ┆ l         │\n",
       "│ datetime[μ ┆ f64      ┆ f64      ┆ f64      ┆   ┆ _2         ┆ ag_3      ┆ f32       ┆ ---       │\n",
       "│ s]         ┆          ┆          ┆          ┆   ┆ ---        ┆ ---       ┆           ┆ f32       │\n",
       "│            ┆          ┆          ┆          ┆   ┆ f64        ┆ f64       ┆           ┆           │\n",
       "╞════════════╪══════════╪══════════╪══════════╪═══╪════════════╪═══════════╪═══════════╪═══════════╡\n",
       "│ 2025-07-15 ┆ 117110.4 ┆ 118499.8 ┆ 115678.1 ┆ … ┆ -0.013743  ┆ 0.020259  ┆ 0.004543  ┆ 1.0       │\n",
       "│ 12:00:00   ┆          ┆          ┆          ┆   ┆            ┆           ┆           ┆           │\n",
       "│ 2025-07-16 ┆ 117738.6 ┆ 119299.9 ┆ 117017.1 ┆ … ┆ -0.022844  ┆ -0.013743 ┆ 0.001263  ┆ 1.0       │\n",
       "│ 00:00:00   ┆          ┆          ┆          ┆   ┆            ┆           ┆           ┆           │\n",
       "│ 2025-07-16 ┆ 118755.1 ┆ 120100.0 ┆ 118156.0 ┆ … ┆ 0.005349   ┆ -0.022844 ┆ -0.001228 ┆ -1.0      │\n",
       "│ 12:00:00   ┆          ┆          ┆          ┆   ┆            ┆           ┆           ┆           │\n",
       "│ 2025-07-17 ┆ 118590.7 ┆ 119216.4 ┆ 117663.6 ┆ … ┆ 0.008597   ┆ 0.005349  ┆ 0.000388  ┆ 1.0       │\n",
       "│ 00:00:00   ┆          ┆          ┆          ┆   ┆            ┆           ┆           ┆           │\n",
       "│ 2025-07-17 ┆ 117968.8 ┆ 120951.5 ┆ 117412.8 ┆ … ┆ -0.001385  ┆ 0.008597  ┆ 0.001554  ┆ 1.0       │\n",
       "│ 12:00:00   ┆          ┆          ┆          ┆   ┆            ┆           ┆           ┆           │\n",
       "│ …          ┆ …        ┆ …        ┆ …        ┆ … ┆ …          ┆ …         ┆ …         ┆ …         │\n",
       "│ 2025-10-07 ┆ 124397.1 ┆ 125098.0 ┆ 120516.0 ┆ … ┆ 0.003757   ┆ 0.005933  ┆ 0.000779  ┆ 1.0       │\n",
       "│ 12:00:00   ┆          ┆          ┆          ┆   ┆            ┆           ┆           ┆           │\n",
       "│ 2025-10-08 ┆ 121286.6 ┆ 123150.0 ┆ 121005.3 ┆ … ┆ -0.001858  ┆ 0.003757  ┆ 0.003535  ┆ 1.0       │\n",
       "│ 00:00:00   ┆          ┆          ┆          ┆   ┆            ┆           ┆           ┆           │\n",
       "│ 2025-10-08 ┆ 122825.8 ┆ 124170.6 ┆ 121607.8 ┆ … ┆ -0.025324  ┆ -0.001858 ┆ 0.001011  ┆ 1.0       │\n",
       "│ 12:00:00   ┆          ┆          ┆          ┆   ┆            ┆           ┆           ┆           │\n",
       "│ 2025-10-09 ┆ 123237.4 ┆ 123279.7 ┆ 121081.5 ┆ … ┆ 0.012611   ┆ -0.025324 ┆ -0.001241 ┆ -1.0      │\n",
       "│ 00:00:00   ┆          ┆          ┆          ┆   ┆            ┆           ┆           ┆           │\n",
       "│ 2025-10-09 ┆ 122673.0 ┆ 123740.1 ┆ 119572.8 ┆ … ┆ 0.003347   ┆ 0.012611  ┆ 0.00128   ┆ 1.0       │\n",
       "│ 12:00:00   ┆          ┆          ┆          ┆   ┆            ┆           ┆           ┆           │\n",
       "└────────────┴──────────┴──────────┴──────────┴───┴────────────┴───────────┴───────────┴───────────┘"
      ]
     },
     "execution_count": 129,
     "metadata": {},
     "output_type": "execute_result"
    }
   ],
   "source": [
    "trades = trades.with_columns(pl.col('y_hat').sign().alias('dir_signal'))\n",
    "trades"
   ]
  },
  {
   "cell_type": "markdown",
   "id": "1e45b351",
   "metadata": {},
   "source": [
    "### Calculate Trade Log Return"
   ]
  },
  {
   "cell_type": "code",
   "execution_count": 130,
   "id": "3ff95e7b",
   "metadata": {},
   "outputs": [
    {
     "data": {
      "text/html": [
       "<div><style>\n",
       ".dataframe > thead > tr,\n",
       ".dataframe > tbody > tr {\n",
       "  text-align: right;\n",
       "  white-space: pre-wrap;\n",
       "}\n",
       "</style>\n",
       "<small>shape: (173, 12)</small><table border=\"1\" class=\"dataframe\"><thead><tr><th>datetime</th><th>open</th><th>high</th><th>low</th><th>close</th><th>close_log_return</th><th>close_log_return_lag_1</th><th>close_log_return_lag_2</th><th>close_log_return_lag_3</th><th>y_hat</th><th>dir_signal</th><th>trade_log_return</th></tr><tr><td>datetime[μs]</td><td>f64</td><td>f64</td><td>f64</td><td>f64</td><td>f64</td><td>f64</td><td>f64</td><td>f64</td><td>f32</td><td>f32</td><td>f64</td></tr></thead><tbody><tr><td>2025-07-15 12:00:00</td><td>117110.4</td><td>118499.8</td><td>115678.1</td><td>117738.5</td><td>0.005349</td><td>-0.022844</td><td>-0.013743</td><td>0.020259</td><td>0.004543</td><td>1.0</td><td>0.005349</td></tr><tr><td>2025-07-16 00:00:00</td><td>117738.6</td><td>119299.9</td><td>117017.1</td><td>118755.1</td><td>0.008597</td><td>0.005349</td><td>-0.022844</td><td>-0.013743</td><td>0.001263</td><td>1.0</td><td>0.008597</td></tr><tr><td>2025-07-16 12:00:00</td><td>118755.1</td><td>120100.0</td><td>118156.0</td><td>118590.7</td><td>-0.001385</td><td>0.008597</td><td>0.005349</td><td>-0.022844</td><td>-0.001228</td><td>-1.0</td><td>0.001385</td></tr><tr><td>2025-07-17 00:00:00</td><td>118590.7</td><td>119216.4</td><td>117663.6</td><td>117968.9</td><td>-0.005257</td><td>-0.001385</td><td>0.008597</td><td>0.005349</td><td>0.000388</td><td>1.0</td><td>-0.005257</td></tr><tr><td>2025-07-17 12:00:00</td><td>117968.8</td><td>120951.5</td><td>117412.8</td><td>119176.6</td><td>0.010185</td><td>-0.005257</td><td>-0.001385</td><td>0.008597</td><td>0.001554</td><td>1.0</td><td>0.010185</td></tr><tr><td>&hellip;</td><td>&hellip;</td><td>&hellip;</td><td>&hellip;</td><td>&hellip;</td><td>&hellip;</td><td>&hellip;</td><td>&hellip;</td><td>&hellip;</td><td>&hellip;</td><td>&hellip;</td><td>&hellip;</td></tr><tr><td>2025-10-07 12:00:00</td><td>124397.1</td><td>125098.0</td><td>120516.0</td><td>121286.5</td><td>-0.025324</td><td>-0.001858</td><td>0.003757</td><td>0.005933</td><td>0.000779</td><td>1.0</td><td>-0.025324</td></tr><tr><td>2025-10-08 00:00:00</td><td>121286.6</td><td>123150.0</td><td>121005.3</td><td>122825.7</td><td>0.012611</td><td>-0.025324</td><td>-0.001858</td><td>0.003757</td><td>0.003535</td><td>1.0</td><td>0.012611</td></tr><tr><td>2025-10-08 12:00:00</td><td>122825.8</td><td>124170.6</td><td>121607.8</td><td>123237.5</td><td>0.003347</td><td>0.012611</td><td>-0.025324</td><td>-0.001858</td><td>0.001011</td><td>1.0</td><td>0.003347</td></tr><tr><td>2025-10-09 00:00:00</td><td>123237.4</td><td>123279.7</td><td>121081.5</td><td>122672.9</td><td>-0.004592</td><td>0.003347</td><td>0.012611</td><td>-0.025324</td><td>-0.001241</td><td>-1.0</td><td>0.004592</td></tr><tr><td>2025-10-09 12:00:00</td><td>122673.0</td><td>123740.1</td><td>119572.8</td><td>121579.3</td><td>-0.008955</td><td>-0.004592</td><td>0.003347</td><td>0.012611</td><td>0.00128</td><td>1.0</td><td>-0.008955</td></tr></tbody></table></div>"
      ],
      "text/plain": [
       "shape: (173, 12)\n",
       "┌────────────┬──────────┬──────────┬──────────┬───┬────────────┬───────────┬───────────┬───────────┐\n",
       "│ datetime   ┆ open     ┆ high     ┆ low      ┆ … ┆ close_log_ ┆ y_hat     ┆ dir_signa ┆ trade_log │\n",
       "│ ---        ┆ ---      ┆ ---      ┆ ---      ┆   ┆ return_lag ┆ ---       ┆ l         ┆ _return   │\n",
       "│ datetime[μ ┆ f64      ┆ f64      ┆ f64      ┆   ┆ _3         ┆ f32       ┆ ---       ┆ ---       │\n",
       "│ s]         ┆          ┆          ┆          ┆   ┆ ---        ┆           ┆ f32       ┆ f64       │\n",
       "│            ┆          ┆          ┆          ┆   ┆ f64        ┆           ┆           ┆           │\n",
       "╞════════════╪══════════╪══════════╪══════════╪═══╪════════════╪═══════════╪═══════════╪═══════════╡\n",
       "│ 2025-07-15 ┆ 117110.4 ┆ 118499.8 ┆ 115678.1 ┆ … ┆ 0.020259   ┆ 0.004543  ┆ 1.0       ┆ 0.005349  │\n",
       "│ 12:00:00   ┆          ┆          ┆          ┆   ┆            ┆           ┆           ┆           │\n",
       "│ 2025-07-16 ┆ 117738.6 ┆ 119299.9 ┆ 117017.1 ┆ … ┆ -0.013743  ┆ 0.001263  ┆ 1.0       ┆ 0.008597  │\n",
       "│ 00:00:00   ┆          ┆          ┆          ┆   ┆            ┆           ┆           ┆           │\n",
       "│ 2025-07-16 ┆ 118755.1 ┆ 120100.0 ┆ 118156.0 ┆ … ┆ -0.022844  ┆ -0.001228 ┆ -1.0      ┆ 0.001385  │\n",
       "│ 12:00:00   ┆          ┆          ┆          ┆   ┆            ┆           ┆           ┆           │\n",
       "│ 2025-07-17 ┆ 118590.7 ┆ 119216.4 ┆ 117663.6 ┆ … ┆ 0.005349   ┆ 0.000388  ┆ 1.0       ┆ -0.005257 │\n",
       "│ 00:00:00   ┆          ┆          ┆          ┆   ┆            ┆           ┆           ┆           │\n",
       "│ 2025-07-17 ┆ 117968.8 ┆ 120951.5 ┆ 117412.8 ┆ … ┆ 0.008597   ┆ 0.001554  ┆ 1.0       ┆ 0.010185  │\n",
       "│ 12:00:00   ┆          ┆          ┆          ┆   ┆            ┆           ┆           ┆           │\n",
       "│ …          ┆ …        ┆ …        ┆ …        ┆ … ┆ …          ┆ …         ┆ …         ┆ …         │\n",
       "│ 2025-10-07 ┆ 124397.1 ┆ 125098.0 ┆ 120516.0 ┆ … ┆ 0.005933   ┆ 0.000779  ┆ 1.0       ┆ -0.025324 │\n",
       "│ 12:00:00   ┆          ┆          ┆          ┆   ┆            ┆           ┆           ┆           │\n",
       "│ 2025-10-08 ┆ 121286.6 ┆ 123150.0 ┆ 121005.3 ┆ … ┆ 0.003757   ┆ 0.003535  ┆ 1.0       ┆ 0.012611  │\n",
       "│ 00:00:00   ┆          ┆          ┆          ┆   ┆            ┆           ┆           ┆           │\n",
       "│ 2025-10-08 ┆ 122825.8 ┆ 124170.6 ┆ 121607.8 ┆ … ┆ -0.001858  ┆ 0.001011  ┆ 1.0       ┆ 0.003347  │\n",
       "│ 12:00:00   ┆          ┆          ┆          ┆   ┆            ┆           ┆           ┆           │\n",
       "│ 2025-10-09 ┆ 123237.4 ┆ 123279.7 ┆ 121081.5 ┆ … ┆ -0.025324  ┆ -0.001241 ┆ -1.0      ┆ 0.004592  │\n",
       "│ 00:00:00   ┆          ┆          ┆          ┆   ┆            ┆           ┆           ┆           │\n",
       "│ 2025-10-09 ┆ 122673.0 ┆ 123740.1 ┆ 119572.8 ┆ … ┆ 0.012611   ┆ 0.00128   ┆ 1.0       ┆ -0.008955 │\n",
       "│ 12:00:00   ┆          ┆          ┆          ┆   ┆            ┆           ┆           ┆           │\n",
       "└────────────┴──────────┴──────────┴──────────┴───┴────────────┴───────────┴───────────┴───────────┘"
      ]
     },
     "execution_count": 130,
     "metadata": {},
     "output_type": "execute_result"
    }
   ],
   "source": [
    "trades = trades.with_columns((pl.col('close_log_return')*pl.col('dir_signal')).alias('trade_log_return'))\n",
    "trades"
   ]
  },
  {
   "cell_type": "markdown",
   "id": "42c72f51",
   "metadata": {},
   "source": [
    "### Calculate Cumulative Trade Log Return"
   ]
  },
  {
   "cell_type": "code",
   "execution_count": 131,
   "id": "c7ab2f3d",
   "metadata": {},
   "outputs": [
    {
     "data": {
      "text/html": [
       "<div><style>\n",
       ".dataframe > thead > tr,\n",
       ".dataframe > tbody > tr {\n",
       "  text-align: right;\n",
       "  white-space: pre-wrap;\n",
       "}\n",
       "</style>\n",
       "<small>shape: (173, 13)</small><table border=\"1\" class=\"dataframe\"><thead><tr><th>datetime</th><th>open</th><th>high</th><th>low</th><th>close</th><th>close_log_return</th><th>close_log_return_lag_1</th><th>close_log_return_lag_2</th><th>close_log_return_lag_3</th><th>y_hat</th><th>dir_signal</th><th>trade_log_return</th><th>cum_trade_log_return</th></tr><tr><td>datetime[μs]</td><td>f64</td><td>f64</td><td>f64</td><td>f64</td><td>f64</td><td>f64</td><td>f64</td><td>f64</td><td>f32</td><td>f32</td><td>f64</td><td>f64</td></tr></thead><tbody><tr><td>2025-07-15 12:00:00</td><td>117110.4</td><td>118499.8</td><td>115678.1</td><td>117738.5</td><td>0.005349</td><td>-0.022844</td><td>-0.013743</td><td>0.020259</td><td>0.004543</td><td>1.0</td><td>0.005349</td><td>0.005349</td></tr><tr><td>2025-07-16 00:00:00</td><td>117738.6</td><td>119299.9</td><td>117017.1</td><td>118755.1</td><td>0.008597</td><td>0.005349</td><td>-0.022844</td><td>-0.013743</td><td>0.001263</td><td>1.0</td><td>0.008597</td><td>0.013946</td></tr><tr><td>2025-07-16 12:00:00</td><td>118755.1</td><td>120100.0</td><td>118156.0</td><td>118590.7</td><td>-0.001385</td><td>0.008597</td><td>0.005349</td><td>-0.022844</td><td>-0.001228</td><td>-1.0</td><td>0.001385</td><td>0.015332</td></tr><tr><td>2025-07-17 00:00:00</td><td>118590.7</td><td>119216.4</td><td>117663.6</td><td>117968.9</td><td>-0.005257</td><td>-0.001385</td><td>0.008597</td><td>0.005349</td><td>0.000388</td><td>1.0</td><td>-0.005257</td><td>0.010075</td></tr><tr><td>2025-07-17 12:00:00</td><td>117968.8</td><td>120951.5</td><td>117412.8</td><td>119176.6</td><td>0.010185</td><td>-0.005257</td><td>-0.001385</td><td>0.008597</td><td>0.001554</td><td>1.0</td><td>0.010185</td><td>0.02026</td></tr><tr><td>&hellip;</td><td>&hellip;</td><td>&hellip;</td><td>&hellip;</td><td>&hellip;</td><td>&hellip;</td><td>&hellip;</td><td>&hellip;</td><td>&hellip;</td><td>&hellip;</td><td>&hellip;</td><td>&hellip;</td><td>&hellip;</td></tr><tr><td>2025-10-07 12:00:00</td><td>124397.1</td><td>125098.0</td><td>120516.0</td><td>121286.5</td><td>-0.025324</td><td>-0.001858</td><td>0.003757</td><td>0.005933</td><td>0.000779</td><td>1.0</td><td>-0.025324</td><td>0.227467</td></tr><tr><td>2025-10-08 00:00:00</td><td>121286.6</td><td>123150.0</td><td>121005.3</td><td>122825.7</td><td>0.012611</td><td>-0.025324</td><td>-0.001858</td><td>0.003757</td><td>0.003535</td><td>1.0</td><td>0.012611</td><td>0.240078</td></tr><tr><td>2025-10-08 12:00:00</td><td>122825.8</td><td>124170.6</td><td>121607.8</td><td>123237.5</td><td>0.003347</td><td>0.012611</td><td>-0.025324</td><td>-0.001858</td><td>0.001011</td><td>1.0</td><td>0.003347</td><td>0.243425</td></tr><tr><td>2025-10-09 00:00:00</td><td>123237.4</td><td>123279.7</td><td>121081.5</td><td>122672.9</td><td>-0.004592</td><td>0.003347</td><td>0.012611</td><td>-0.025324</td><td>-0.001241</td><td>-1.0</td><td>0.004592</td><td>0.248017</td></tr><tr><td>2025-10-09 12:00:00</td><td>122673.0</td><td>123740.1</td><td>119572.8</td><td>121579.3</td><td>-0.008955</td><td>-0.004592</td><td>0.003347</td><td>0.012611</td><td>0.00128</td><td>1.0</td><td>-0.008955</td><td>0.239062</td></tr></tbody></table></div>"
      ],
      "text/plain": [
       "shape: (173, 13)\n",
       "┌────────────┬──────────┬──────────┬──────────┬───┬───────────┬────────────┬───────────┬───────────┐\n",
       "│ datetime   ┆ open     ┆ high     ┆ low      ┆ … ┆ y_hat     ┆ dir_signal ┆ trade_log ┆ cum_trade │\n",
       "│ ---        ┆ ---      ┆ ---      ┆ ---      ┆   ┆ ---       ┆ ---        ┆ _return   ┆ _log_retu │\n",
       "│ datetime[μ ┆ f64      ┆ f64      ┆ f64      ┆   ┆ f32       ┆ f32        ┆ ---       ┆ rn        │\n",
       "│ s]         ┆          ┆          ┆          ┆   ┆           ┆            ┆ f64       ┆ ---       │\n",
       "│            ┆          ┆          ┆          ┆   ┆           ┆            ┆           ┆ f64       │\n",
       "╞════════════╪══════════╪══════════╪══════════╪═══╪═══════════╪════════════╪═══════════╪═══════════╡\n",
       "│ 2025-07-15 ┆ 117110.4 ┆ 118499.8 ┆ 115678.1 ┆ … ┆ 0.004543  ┆ 1.0        ┆ 0.005349  ┆ 0.005349  │\n",
       "│ 12:00:00   ┆          ┆          ┆          ┆   ┆           ┆            ┆           ┆           │\n",
       "│ 2025-07-16 ┆ 117738.6 ┆ 119299.9 ┆ 117017.1 ┆ … ┆ 0.001263  ┆ 1.0        ┆ 0.008597  ┆ 0.013946  │\n",
       "│ 00:00:00   ┆          ┆          ┆          ┆   ┆           ┆            ┆           ┆           │\n",
       "│ 2025-07-16 ┆ 118755.1 ┆ 120100.0 ┆ 118156.0 ┆ … ┆ -0.001228 ┆ -1.0       ┆ 0.001385  ┆ 0.015332  │\n",
       "│ 12:00:00   ┆          ┆          ┆          ┆   ┆           ┆            ┆           ┆           │\n",
       "│ 2025-07-17 ┆ 118590.7 ┆ 119216.4 ┆ 117663.6 ┆ … ┆ 0.000388  ┆ 1.0        ┆ -0.005257 ┆ 0.010075  │\n",
       "│ 00:00:00   ┆          ┆          ┆          ┆   ┆           ┆            ┆           ┆           │\n",
       "│ 2025-07-17 ┆ 117968.8 ┆ 120951.5 ┆ 117412.8 ┆ … ┆ 0.001554  ┆ 1.0        ┆ 0.010185  ┆ 0.02026   │\n",
       "│ 12:00:00   ┆          ┆          ┆          ┆   ┆           ┆            ┆           ┆           │\n",
       "│ …          ┆ …        ┆ …        ┆ …        ┆ … ┆ …         ┆ …          ┆ …         ┆ …         │\n",
       "│ 2025-10-07 ┆ 124397.1 ┆ 125098.0 ┆ 120516.0 ┆ … ┆ 0.000779  ┆ 1.0        ┆ -0.025324 ┆ 0.227467  │\n",
       "│ 12:00:00   ┆          ┆          ┆          ┆   ┆           ┆            ┆           ┆           │\n",
       "│ 2025-10-08 ┆ 121286.6 ┆ 123150.0 ┆ 121005.3 ┆ … ┆ 0.003535  ┆ 1.0        ┆ 0.012611  ┆ 0.240078  │\n",
       "│ 00:00:00   ┆          ┆          ┆          ┆   ┆           ┆            ┆           ┆           │\n",
       "│ 2025-10-08 ┆ 122825.8 ┆ 124170.6 ┆ 121607.8 ┆ … ┆ 0.001011  ┆ 1.0        ┆ 0.003347  ┆ 0.243425  │\n",
       "│ 12:00:00   ┆          ┆          ┆          ┆   ┆           ┆            ┆           ┆           │\n",
       "│ 2025-10-09 ┆ 123237.4 ┆ 123279.7 ┆ 121081.5 ┆ … ┆ -0.001241 ┆ -1.0       ┆ 0.004592  ┆ 0.248017  │\n",
       "│ 00:00:00   ┆          ┆          ┆          ┆   ┆           ┆            ┆           ┆           │\n",
       "│ 2025-10-09 ┆ 122673.0 ┆ 123740.1 ┆ 119572.8 ┆ … ┆ 0.00128   ┆ 1.0        ┆ -0.008955 ┆ 0.239062  │\n",
       "│ 12:00:00   ┆          ┆          ┆          ┆   ┆           ┆            ┆           ┆           │\n",
       "└────────────┴──────────┴──────────┴──────────┴───┴───────────┴────────────┴───────────┴───────────┘"
      ]
     },
     "execution_count": 131,
     "metadata": {},
     "output_type": "execute_result"
    }
   ],
   "source": [
    "trades = trades.with_columns(pl.col('trade_log_return').cum_sum().alias('cum_trade_log_return'))\n",
    "trades"
   ]
  },
  {
   "cell_type": "markdown",
   "id": "c1c67bcb",
   "metadata": {},
   "source": [
    "### Display Equity Curve (Log Space)"
   ]
  },
  {
   "cell_type": "code",
   "execution_count": 132,
   "id": "8952e3b0",
   "metadata": {},
   "outputs": [
    {
     "data": {
      "text/html": [
       "\n",
       "<style>\n",
       "  #altair-viz-8e943e908b374048a9d7635ebbd54d52.vega-embed {\n",
       "    width: 100%;\n",
       "    display: flex;\n",
       "  }\n",
       "\n",
       "  #altair-viz-8e943e908b374048a9d7635ebbd54d52.vega-embed details,\n",
       "  #altair-viz-8e943e908b374048a9d7635ebbd54d52.vega-embed details summary {\n",
       "    position: relative;\n",
       "  }\n",
       "</style>\n",
       "<div id=\"altair-viz-8e943e908b374048a9d7635ebbd54d52\"></div>\n",
       "<script type=\"text/javascript\">\n",
       "  var VEGA_DEBUG = (typeof VEGA_DEBUG == \"undefined\") ? {} : VEGA_DEBUG;\n",
       "  (function(spec, embedOpt){\n",
       "    let outputDiv = document.currentScript.previousElementSibling;\n",
       "    if (outputDiv.id !== \"altair-viz-8e943e908b374048a9d7635ebbd54d52\") {\n",
       "      outputDiv = document.getElementById(\"altair-viz-8e943e908b374048a9d7635ebbd54d52\");\n",
       "    }\n",
       "\n",
       "    const paths = {\n",
       "      \"vega\": \"https://cdn.jsdelivr.net/npm/vega@5?noext\",\n",
       "      \"vega-lib\": \"https://cdn.jsdelivr.net/npm/vega-lib?noext\",\n",
       "      \"vega-lite\": \"https://cdn.jsdelivr.net/npm/vega-lite@5.20.1?noext\",\n",
       "      \"vega-embed\": \"https://cdn.jsdelivr.net/npm/vega-embed@6?noext\",\n",
       "    };\n",
       "\n",
       "    function maybeLoadScript(lib, version) {\n",
       "      var key = `${lib.replace(\"-\", \"\")}_version`;\n",
       "      return (VEGA_DEBUG[key] == version) ?\n",
       "        Promise.resolve(paths[lib]) :\n",
       "        new Promise(function(resolve, reject) {\n",
       "          var s = document.createElement('script');\n",
       "          document.getElementsByTagName(\"head\")[0].appendChild(s);\n",
       "          s.async = true;\n",
       "          s.onload = () => {\n",
       "            VEGA_DEBUG[key] = version;\n",
       "            return resolve(paths[lib]);\n",
       "          };\n",
       "          s.onerror = () => reject(`Error loading script: ${paths[lib]}`);\n",
       "          s.src = paths[lib];\n",
       "        });\n",
       "    }\n",
       "\n",
       "    function showError(err) {\n",
       "      outputDiv.innerHTML = `<div class=\"error\" style=\"color:red;\">${err}</div>`;\n",
       "      throw err;\n",
       "    }\n",
       "\n",
       "    function displayChart(vegaEmbed) {\n",
       "      vegaEmbed(outputDiv, spec, embedOpt)\n",
       "        .catch(err => showError(`Javascript Error: ${err.message}<br>This usually means there's a typo in your chart specification. See the javascript console for the full traceback.`));\n",
       "    }\n",
       "\n",
       "    if(typeof define === \"function\" && define.amd) {\n",
       "      requirejs.config({paths});\n",
       "      let deps = [\"vega-embed\"];\n",
       "      require(deps, displayChart, err => showError(`Error loading script: ${err.message}`));\n",
       "    } else {\n",
       "      maybeLoadScript(\"vega\", \"5\")\n",
       "        .then(() => maybeLoadScript(\"vega-lite\", \"5.20.1\"))\n",
       "        .then(() => maybeLoadScript(\"vega-embed\", \"6\"))\n",
       "        .catch(showError)\n",
       "        .then(() => displayChart(vegaEmbed));\n",
       "    }\n",
       "  })({\"config\": {\"view\": {\"continuousWidth\": 300, \"continuousHeight\": 300}}, \"data\": {\"name\": \"data-129d4047483c96525f45b496ae0ca985\"}, \"mark\": {\"type\": \"line\", \"tooltip\": true}, \"encoding\": {\"x\": {\"field\": \"index\", \"type\": \"quantitative\"}, \"y\": {\"field\": \"cum_trade_log_return\", \"type\": \"quantitative\"}}, \"height\": 400, \"params\": [{\"name\": \"param_2\", \"select\": {\"type\": \"interval\", \"encodings\": [\"x\", \"y\"]}, \"bind\": \"scales\"}], \"title\": \"cum_trade_log_return\", \"width\": 800, \"$schema\": \"https://vega.github.io/schema/vega-lite/v5.20.1.json\", \"datasets\": {\"data-129d4047483c96525f45b496ae0ca985\": [{\"index\": 0, \"cum_trade_log_return\": 0.005348983943119523}, {\"index\": 1, \"cum_trade_log_return\": 0.013946309720568758}, {\"index\": 2, \"cum_trade_log_return\": 0.0153316304323055}, {\"index\": 3, \"cum_trade_log_return\": 0.01007459218885131}, {\"index\": 4, \"cum_trade_log_return\": 0.020259988418419753}, {\"index\": 5, \"cum_trade_log_return\": 0.020269218460865445}, {\"index\": 6, \"cum_trade_log_return\": 0.03106014232775981}, {\"index\": 7, \"cum_trade_log_return\": 0.034477640586103545}, {\"index\": 8, \"cum_trade_log_return\": 0.03036437443500334}, {\"index\": 9, \"cum_trade_log_return\": 0.030829404678834958}, {\"index\": 10, \"cum_trade_log_return\": 0.02527225619816622}, {\"index\": 11, \"cum_trade_log_return\": 0.03231977730193892}, {\"index\": 12, \"cum_trade_log_return\": 0.02624605162972248}, {\"index\": 13, \"cum_trade_log_return\": 0.04157160730245481}, {\"index\": 14, \"cum_trade_log_return\": 0.034450103599274695}, {\"index\": 15, \"cum_trade_log_return\": 0.04710466269746098}, {\"index\": 16, \"cum_trade_log_return\": 0.049033007638117666}, {\"index\": 17, \"cum_trade_log_return\": 0.04772227270145012}, {\"index\": 18, \"cum_trade_log_return\": 0.04549556762865355}, {\"index\": 19, \"cum_trade_log_return\": 0.030250737596559447}, {\"index\": 20, \"cum_trade_log_return\": 0.03946869989002732}, {\"index\": 21, \"cum_trade_log_return\": 0.0409516515324638}, {\"index\": 22, \"cum_trade_log_return\": 0.03983812237907889}, {\"index\": 23, \"cum_trade_log_return\": 0.04122998655713353}, {\"index\": 24, \"cum_trade_log_return\": 0.05276808374145209}, {\"index\": 25, \"cum_trade_log_return\": 0.057889891873655994}, {\"index\": 26, \"cum_trade_log_return\": 0.051371948740127044}, {\"index\": 27, \"cum_trade_log_return\": 0.05575569989718926}, {\"index\": 28, \"cum_trade_log_return\": 0.05014790027637993}, {\"index\": 29, \"cum_trade_log_return\": 0.04700208016243466}, {\"index\": 30, \"cum_trade_log_return\": 0.0490785992935927}, {\"index\": 31, \"cum_trade_log_return\": 0.053821475565007715}, {\"index\": 32, \"cum_trade_log_return\": 0.07632911506761314}, {\"index\": 33, \"cum_trade_log_return\": 0.07242599771161704}, {\"index\": 34, \"cum_trade_log_return\": 0.054903664548799413}, {\"index\": 35, \"cum_trade_log_return\": 0.059201017196303565}, {\"index\": 36, \"cum_trade_log_return\": 0.0483832581621219}, {\"index\": 37, \"cum_trade_log_return\": 0.05988308730544726}, {\"index\": 38, \"cum_trade_log_return\": 0.06287219862825244}, {\"index\": 39, \"cum_trade_log_return\": 0.06025453350330595}, {\"index\": 40, \"cum_trade_log_return\": 0.06506687617081788}, {\"index\": 41, \"cum_trade_log_return\": 0.06315116427157826}, {\"index\": 42, \"cum_trade_log_return\": 0.05692527551964577}, {\"index\": 43, \"cum_trade_log_return\": 0.05796269999636846}, {\"index\": 44, \"cum_trade_log_return\": 0.06453544033788348}, {\"index\": 45, \"cum_trade_log_return\": 0.05132839179808618}, {\"index\": 46, \"cum_trade_log_return\": 0.04319799457903182}, {\"index\": 47, \"cum_trade_log_return\": 0.048144636704268155}, {\"index\": 48, \"cum_trade_log_return\": 0.04632597699942898}, {\"index\": 49, \"cum_trade_log_return\": 0.050063361700306334}, {\"index\": 50, \"cum_trade_log_return\": 0.04455725965618093}, {\"index\": 51, \"cum_trade_log_return\": 0.0605239925712083}, {\"index\": 52, \"cum_trade_log_return\": 0.05244653207964692}, {\"index\": 53, \"cum_trade_log_return\": 0.04168997810365378}, {\"index\": 54, \"cum_trade_log_return\": 0.05760339276868209}, {\"index\": 55, \"cum_trade_log_return\": 0.056103641321426936}, {\"index\": 56, \"cum_trade_log_return\": 0.06966019530445708}, {\"index\": 57, \"cum_trade_log_return\": 0.06585750640098709}, {\"index\": 58, \"cum_trade_log_return\": 0.043012482818033326}, {\"index\": 59, \"cum_trade_log_return\": 0.06246683601766813}, {\"index\": 60, \"cum_trade_log_return\": 0.03984202491029529}, {\"index\": 61, \"cum_trade_log_return\": 0.045810198407836074}, {\"index\": 62, \"cum_trade_log_return\": 0.031664378491544576}, {\"index\": 63, \"cum_trade_log_return\": 0.032186074047994735}, {\"index\": 64, \"cum_trade_log_return\": 0.032094882200312286}, {\"index\": 65, \"cum_trade_log_return\": 0.03994096945956725}, {\"index\": 66, \"cum_trade_log_return\": 0.04758167372355662}, {\"index\": 67, \"cum_trade_log_return\": 0.02645055504155811}, {\"index\": 68, \"cum_trade_log_return\": 0.03756006867157918}, {\"index\": 69, \"cum_trade_log_return\": 0.031321180790270645}, {\"index\": 70, \"cum_trade_log_return\": 0.054423136332844305}, {\"index\": 71, \"cum_trade_log_return\": 0.061517835727813504}, {\"index\": 72, \"cum_trade_log_return\": 0.0667230720162033}, {\"index\": 73, \"cum_trade_log_return\": 0.07657971129330406}, {\"index\": 74, \"cum_trade_log_return\": 0.07092272501002414}, {\"index\": 75, \"cum_trade_log_return\": 0.06923718386297344}, {\"index\": 76, \"cum_trade_log_return\": 0.10960304227571122}, {\"index\": 77, \"cum_trade_log_return\": 0.12365195095968727}, {\"index\": 78, \"cum_trade_log_return\": 0.12269463055106183}, {\"index\": 79, \"cum_trade_log_return\": 0.11682619715183434}, {\"index\": 80, \"cum_trade_log_return\": 0.10581833358480028}, {\"index\": 81, \"cum_trade_log_return\": 0.08567252471526815}, {\"index\": 82, \"cum_trade_log_return\": 0.07555075116055635}, {\"index\": 83, \"cum_trade_log_return\": 0.07353352676931797}, {\"index\": 84, \"cum_trade_log_return\": 0.09039406878424754}, {\"index\": 85, \"cum_trade_log_return\": 0.09433253132913155}, {\"index\": 86, \"cum_trade_log_return\": 0.09501488373622131}, {\"index\": 87, \"cum_trade_log_return\": 0.11002466696624154}, {\"index\": 88, \"cum_trade_log_return\": 0.11330085922346654}, {\"index\": 89, \"cum_trade_log_return\": 0.13540415079220888}, {\"index\": 90, \"cum_trade_log_return\": 0.11969361217268017}, {\"index\": 91, \"cum_trade_log_return\": 0.12251611106219541}, {\"index\": 92, \"cum_trade_log_return\": 0.12361364494131051}, {\"index\": 93, \"cum_trade_log_return\": 0.12737122796747258}, {\"index\": 94, \"cum_trade_log_return\": 0.12606349739521228}, {\"index\": 95, \"cum_trade_log_return\": 0.1307977457606446}, {\"index\": 96, \"cum_trade_log_return\": 0.13507475129568022}, {\"index\": 97, \"cum_trade_log_return\": 0.13040839748490318}, {\"index\": 98, \"cum_trade_log_return\": 0.1438942546878686}, {\"index\": 99, \"cum_trade_log_return\": 0.1420647963117547}, {\"index\": 100, \"cum_trade_log_return\": 0.1396599682832871}, {\"index\": 101, \"cum_trade_log_return\": 0.1316041285048519}, {\"index\": 102, \"cum_trade_log_return\": 0.13084095342480817}, {\"index\": 103, \"cum_trade_log_return\": 0.14537351940464086}, {\"index\": 104, \"cum_trade_log_return\": 0.16048901952987618}, {\"index\": 105, \"cum_trade_log_return\": 0.16155521500304804}, {\"index\": 106, \"cum_trade_log_return\": 0.15614382976699168}, {\"index\": 107, \"cum_trade_log_return\": 0.16620964645908537}, {\"index\": 108, \"cum_trade_log_return\": 0.16464887151225496}, {\"index\": 109, \"cum_trade_log_return\": 0.17312950038181524}, {\"index\": 110, \"cum_trade_log_return\": 0.1730455847723021}, {\"index\": 111, \"cum_trade_log_return\": 0.17647502532430956}, {\"index\": 112, \"cum_trade_log_return\": 0.1684579138436427}, {\"index\": 113, \"cum_trade_log_return\": 0.17530883820518686}, {\"index\": 114, \"cum_trade_log_return\": 0.18972699504331006}, {\"index\": 115, \"cum_trade_log_return\": 0.18916436317534222}, {\"index\": 116, \"cum_trade_log_return\": 0.1763814747700356}, {\"index\": 117, \"cum_trade_log_return\": 0.18127965643343544}, {\"index\": 118, \"cum_trade_log_return\": 0.19094350945626512}, {\"index\": 119, \"cum_trade_log_return\": 0.19037858958439463}, {\"index\": 120, \"cum_trade_log_return\": 0.19081176719916484}, {\"index\": 121, \"cum_trade_log_return\": 0.18983859078099272}, {\"index\": 122, \"cum_trade_log_return\": 0.18516244786461147}, {\"index\": 123, \"cum_trade_log_return\": 0.1834162839852425}, {\"index\": 124, \"cum_trade_log_return\": 0.1859485288922547}, {\"index\": 125, \"cum_trade_log_return\": 0.18526833584390776}, {\"index\": 126, \"cum_trade_log_return\": 0.19841766775790848}, {\"index\": 127, \"cum_trade_log_return\": 0.20311573269852895}, {\"index\": 128, \"cum_trade_log_return\": 0.20485604042581648}, {\"index\": 129, \"cum_trade_log_return\": 0.2101041594042767}, {\"index\": 130, \"cum_trade_log_return\": 0.21008621314818557}, {\"index\": 131, \"cum_trade_log_return\": 0.20430971934880088}, {\"index\": 132, \"cum_trade_log_return\": 0.19763821577942034}, {\"index\": 133, \"cum_trade_log_return\": 0.19993203660883707}, {\"index\": 134, \"cum_trade_log_return\": 0.19811746615105869}, {\"index\": 135, \"cum_trade_log_return\": 0.1975499533040679}, {\"index\": 136, \"cum_trade_log_return\": 0.194296116734143}, {\"index\": 137, \"cum_trade_log_return\": 0.1735074664358179}, {\"index\": 138, \"cum_trade_log_return\": 0.17164959069313623}, {\"index\": 139, \"cum_trade_log_return\": 0.1746104433891106}, {\"index\": 140, \"cum_trade_log_return\": 0.1834292065863477}, {\"index\": 141, \"cum_trade_log_return\": 0.19263217556680137}, {\"index\": 142, \"cum_trade_log_return\": 0.19503674540588672}, {\"index\": 143, \"cum_trade_log_return\": 0.21229592732543495}, {\"index\": 144, \"cum_trade_log_return\": 0.1906688095919873}, {\"index\": 145, \"cum_trade_log_return\": 0.1920301690331983}, {\"index\": 146, \"cum_trade_log_return\": 0.19665446741867154}, {\"index\": 147, \"cum_trade_log_return\": 0.1996034634755499}, {\"index\": 148, \"cum_trade_log_return\": 0.2024502538049858}, {\"index\": 149, \"cum_trade_log_return\": 0.20009846384478394}, {\"index\": 150, \"cum_trade_log_return\": 0.22538617621512314}, {\"index\": 151, \"cum_trade_log_return\": 0.22598928563709342}, {\"index\": 152, \"cum_trade_log_return\": 0.2065011626356496}, {\"index\": 153, \"cum_trade_log_return\": 0.2175317733600903}, {\"index\": 154, \"cum_trade_log_return\": 0.2262114097750141}, {\"index\": 155, \"cum_trade_log_return\": 0.25003303987947495}, {\"index\": 156, \"cum_trade_log_return\": 0.23459981100896268}, {\"index\": 157, \"cum_trade_log_return\": 0.2332207818088938}, {\"index\": 158, \"cum_trade_log_return\": 0.24798124984582065}, {\"index\": 159, \"cum_trade_log_return\": 0.24942733244809753}, {\"index\": 160, \"cum_trade_log_return\": 0.23395833849124853}, {\"index\": 161, \"cum_trade_log_return\": 0.23607298312645014}, {\"index\": 162, \"cum_trade_log_return\": 0.2326455939267742}, {\"index\": 163, \"cum_trade_log_return\": 0.24135345879803963}, {\"index\": 164, \"cum_trade_log_return\": 0.24124407615760368}, {\"index\": 165, \"cum_trade_log_return\": 0.24717733989750015}, {\"index\": 166, \"cum_trade_log_return\": 0.25093393070124864}, {\"index\": 167, \"cum_trade_log_return\": 0.25279157082847}, {\"index\": 168, \"cum_trade_log_return\": 0.22746741425999475}, {\"index\": 169, \"cum_trade_log_return\": 0.2400781760192369}, {\"index\": 170, \"cum_trade_log_return\": 0.2434252867164456}, {\"index\": 171, \"cum_trade_log_return\": 0.24801721119044223}, {\"index\": 172, \"cum_trade_log_return\": 0.23906247254137217}]}}, {\"mode\": \"vega-lite\"});\n",
       "</script>"
      ],
      "text/plain": [
       "alt.Chart(...)"
      ]
     },
     "execution_count": 132,
     "metadata": {},
     "output_type": "execute_result"
    }
   ],
   "source": [
    "research.plot_column(trades, 'cum_trade_log_return')"
   ]
  },
  {
   "cell_type": "markdown",
   "id": "0c9162f9",
   "metadata": {},
   "source": [
    "## Key Strategy Decision #2: Trade Sizing"
   ]
  },
  {
   "cell_type": "code",
   "execution_count": 133,
   "id": "58f72eef",
   "metadata": {},
   "outputs": [],
   "source": [
    "# 1. Constant Trade Size\n",
    "# 2. Compounding Trade Size"
   ]
  },
  {
   "cell_type": "code",
   "execution_count": 134,
   "id": "0e90b0db",
   "metadata": {},
   "outputs": [
    {
     "data": {
      "text/html": [
       "<div><style>\n",
       ".dataframe > thead > tr,\n",
       ".dataframe > tbody > tr {\n",
       "  text-align: right;\n",
       "  white-space: pre-wrap;\n",
       "}\n",
       "</style>\n",
       "<small>shape: (173, 8)</small><table border=\"1\" class=\"dataframe\"><thead><tr><th>datetime</th><th>open</th><th>close</th><th>trade_log_return</th><th>y_hat</th><th>entry_trade_value</th><th>exit_trade_value</th><th>signed_trade_qty</th></tr><tr><td>datetime[μs]</td><td>f64</td><td>f64</td><td>f64</td><td>f32</td><td>f64</td><td>f64</td><td>f64</td></tr></thead><tbody><tr><td>2025-07-15 12:00:00</td><td>117110.4</td><td>117738.5</td><td>0.005349</td><td>0.004543</td><td>100.0</td><td>100.536332</td><td>0.000854</td></tr><tr><td>2025-07-16 00:00:00</td><td>117738.6</td><td>118755.1</td><td>0.008597</td><td>0.001263</td><td>100.0</td><td>100.863439</td><td>0.000849</td></tr><tr><td>2025-07-16 12:00:00</td><td>118755.1</td><td>118590.7</td><td>0.001385</td><td>-0.001228</td><td>100.0</td><td>100.138628</td><td>-0.000842</td></tr><tr><td>2025-07-17 00:00:00</td><td>118590.7</td><td>117968.9</td><td>-0.005257</td><td>0.000388</td><td>100.0</td><td>99.475676</td><td>0.000843</td></tr><tr><td>2025-07-17 12:00:00</td><td>117968.8</td><td>119176.6</td><td>0.010185</td><td>0.001554</td><td>100.0</td><td>101.023744</td><td>0.000848</td></tr><tr><td>&hellip;</td><td>&hellip;</td><td>&hellip;</td><td>&hellip;</td><td>&hellip;</td><td>&hellip;</td><td>&hellip;</td><td>&hellip;</td></tr><tr><td>2025-10-07 12:00:00</td><td>124397.1</td><td>121286.5</td><td>-0.025324</td><td>0.000779</td><td>100.0</td><td>97.499381</td><td>0.000804</td></tr><tr><td>2025-10-08 00:00:00</td><td>121286.6</td><td>122825.7</td><td>0.012611</td><td>0.003535</td><td>100.0</td><td>101.269061</td><td>0.000824</td></tr><tr><td>2025-10-08 12:00:00</td><td>122825.8</td><td>123237.5</td><td>0.003347</td><td>0.001011</td><td>100.0</td><td>100.335272</td><td>0.000814</td></tr><tr><td>2025-10-09 00:00:00</td><td>123237.4</td><td>122672.9</td><td>0.004592</td><td>-0.001241</td><td>100.0</td><td>100.460248</td><td>-0.000811</td></tr><tr><td>2025-10-09 12:00:00</td><td>122673.0</td><td>121579.3</td><td>-0.008955</td><td>0.00128</td><td>100.0</td><td>99.108524</td><td>0.000815</td></tr></tbody></table></div>"
      ],
      "text/plain": [
       "shape: (173, 8)\n",
       "┌────────────┬──────────┬──────────┬────────────┬───────────┬────────────┬────────────┬────────────┐\n",
       "│ datetime   ┆ open     ┆ close    ┆ trade_log_ ┆ y_hat     ┆ entry_trad ┆ exit_trade ┆ signed_tra │\n",
       "│ ---        ┆ ---      ┆ ---      ┆ return     ┆ ---       ┆ e_value    ┆ _value     ┆ de_qty     │\n",
       "│ datetime[μ ┆ f64      ┆ f64      ┆ ---        ┆ f32       ┆ ---        ┆ ---        ┆ ---        │\n",
       "│ s]         ┆          ┆          ┆ f64        ┆           ┆ f64        ┆ f64        ┆ f64        │\n",
       "╞════════════╪══════════╪══════════╪════════════╪═══════════╪════════════╪════════════╪════════════╡\n",
       "│ 2025-07-15 ┆ 117110.4 ┆ 117738.5 ┆ 0.005349   ┆ 0.004543  ┆ 100.0      ┆ 100.536332 ┆ 0.000854   │\n",
       "│ 12:00:00   ┆          ┆          ┆            ┆           ┆            ┆            ┆            │\n",
       "│ 2025-07-16 ┆ 117738.6 ┆ 118755.1 ┆ 0.008597   ┆ 0.001263  ┆ 100.0      ┆ 100.863439 ┆ 0.000849   │\n",
       "│ 00:00:00   ┆          ┆          ┆            ┆           ┆            ┆            ┆            │\n",
       "│ 2025-07-16 ┆ 118755.1 ┆ 118590.7 ┆ 0.001385   ┆ -0.001228 ┆ 100.0      ┆ 100.138628 ┆ -0.000842  │\n",
       "│ 12:00:00   ┆          ┆          ┆            ┆           ┆            ┆            ┆            │\n",
       "│ 2025-07-17 ┆ 118590.7 ┆ 117968.9 ┆ -0.005257  ┆ 0.000388  ┆ 100.0      ┆ 99.475676  ┆ 0.000843   │\n",
       "│ 00:00:00   ┆          ┆          ┆            ┆           ┆            ┆            ┆            │\n",
       "│ 2025-07-17 ┆ 117968.8 ┆ 119176.6 ┆ 0.010185   ┆ 0.001554  ┆ 100.0      ┆ 101.023744 ┆ 0.000848   │\n",
       "│ 12:00:00   ┆          ┆          ┆            ┆           ┆            ┆            ┆            │\n",
       "│ …          ┆ …        ┆ …        ┆ …          ┆ …         ┆ …          ┆ …          ┆ …          │\n",
       "│ 2025-10-07 ┆ 124397.1 ┆ 121286.5 ┆ -0.025324  ┆ 0.000779  ┆ 100.0      ┆ 97.499381  ┆ 0.000804   │\n",
       "│ 12:00:00   ┆          ┆          ┆            ┆           ┆            ┆            ┆            │\n",
       "│ 2025-10-08 ┆ 121286.6 ┆ 122825.7 ┆ 0.012611   ┆ 0.003535  ┆ 100.0      ┆ 101.269061 ┆ 0.000824   │\n",
       "│ 00:00:00   ┆          ┆          ┆            ┆           ┆            ┆            ┆            │\n",
       "│ 2025-10-08 ┆ 122825.8 ┆ 123237.5 ┆ 0.003347   ┆ 0.001011  ┆ 100.0      ┆ 100.335272 ┆ 0.000814   │\n",
       "│ 12:00:00   ┆          ┆          ┆            ┆           ┆            ┆            ┆            │\n",
       "│ 2025-10-09 ┆ 123237.4 ┆ 122672.9 ┆ 0.004592   ┆ -0.001241 ┆ 100.0      ┆ 100.460248 ┆ -0.000811  │\n",
       "│ 00:00:00   ┆          ┆          ┆            ┆           ┆            ┆            ┆            │\n",
       "│ 2025-10-09 ┆ 122673.0 ┆ 121579.3 ┆ -0.008955  ┆ 0.00128   ┆ 100.0      ┆ 99.108524  ┆ 0.000815   │\n",
       "│ 12:00:00   ┆          ┆          ┆            ┆           ┆            ┆            ┆            │\n",
       "└────────────┴──────────┴──────────┴────────────┴───────────┴────────────┴────────────┴────────────┘"
      ]
     },
     "execution_count": 134,
     "metadata": {},
     "output_type": "execute_result"
    }
   ],
   "source": [
    "capital = 100\n",
    "ratio = 1.0 # you could experiment with different ratios like kelly criterion\n",
    "trade_value = ratio * capital\n",
    "\n",
    "# entry trade value and exit trade value\n",
    "trades = trades.with_columns(\n",
    "    pl.lit(trade_value).alias('entry_trade_value'),\n",
    "    (trade_value * pl.col('trade_log_return').exp()).alias('exit_trade_value'),\n",
    "    (trade_value / pl.col('open')).alias('trade_qty'),\n",
    ").with_columns(\n",
    "    (pl.col('trade_qty') * pl.col('dir_signal')).alias('signed_trade_qty'),\n",
    ")\n",
    "\n",
    "trades.select('datetime','open','close', 'trade_log_return','y_hat','entry_trade_value','exit_trade_value', 'signed_trade_qty')"
   ]
  },
  {
   "cell_type": "markdown",
   "id": "6032680f",
   "metadata": {},
   "source": [
    "### Add Trade Gross PnL"
   ]
  },
  {
   "cell_type": "code",
   "execution_count": 135,
   "id": "97baddc3",
   "metadata": {},
   "outputs": [
    {
     "data": {
      "text/html": [
       "<div><style>\n",
       ".dataframe > thead > tr,\n",
       ".dataframe > tbody > tr {\n",
       "  text-align: right;\n",
       "  white-space: pre-wrap;\n",
       "}\n",
       "</style>\n",
       "<small>shape: (173, 8)</small><table border=\"1\" class=\"dataframe\"><thead><tr><th>datetime</th><th>open</th><th>close</th><th>trade_log_return</th><th>y_hat</th><th>entry_trade_value</th><th>exit_trade_value</th><th>signed_trade_qty</th></tr><tr><td>datetime[μs]</td><td>f64</td><td>f64</td><td>f64</td><td>f32</td><td>f64</td><td>f64</td><td>f64</td></tr></thead><tbody><tr><td>2025-07-15 12:00:00</td><td>117110.4</td><td>117738.5</td><td>0.005349</td><td>0.004543</td><td>100.0</td><td>100.536332</td><td>0.000854</td></tr><tr><td>2025-07-16 00:00:00</td><td>117738.6</td><td>118755.1</td><td>0.008597</td><td>0.001263</td><td>100.0</td><td>100.863439</td><td>0.000849</td></tr><tr><td>2025-07-16 12:00:00</td><td>118755.1</td><td>118590.7</td><td>0.001385</td><td>-0.001228</td><td>100.0</td><td>100.138628</td><td>-0.000842</td></tr><tr><td>2025-07-17 00:00:00</td><td>118590.7</td><td>117968.9</td><td>-0.005257</td><td>0.000388</td><td>100.0</td><td>99.475676</td><td>0.000843</td></tr><tr><td>2025-07-17 12:00:00</td><td>117968.8</td><td>119176.6</td><td>0.010185</td><td>0.001554</td><td>100.0</td><td>101.023744</td><td>0.000848</td></tr><tr><td>&hellip;</td><td>&hellip;</td><td>&hellip;</td><td>&hellip;</td><td>&hellip;</td><td>&hellip;</td><td>&hellip;</td><td>&hellip;</td></tr><tr><td>2025-10-07 12:00:00</td><td>124397.1</td><td>121286.5</td><td>-0.025324</td><td>0.000779</td><td>100.0</td><td>97.499381</td><td>0.000804</td></tr><tr><td>2025-10-08 00:00:00</td><td>121286.6</td><td>122825.7</td><td>0.012611</td><td>0.003535</td><td>100.0</td><td>101.269061</td><td>0.000824</td></tr><tr><td>2025-10-08 12:00:00</td><td>122825.8</td><td>123237.5</td><td>0.003347</td><td>0.001011</td><td>100.0</td><td>100.335272</td><td>0.000814</td></tr><tr><td>2025-10-09 00:00:00</td><td>123237.4</td><td>122672.9</td><td>0.004592</td><td>-0.001241</td><td>100.0</td><td>100.460248</td><td>-0.000811</td></tr><tr><td>2025-10-09 12:00:00</td><td>122673.0</td><td>121579.3</td><td>-0.008955</td><td>0.00128</td><td>100.0</td><td>99.108524</td><td>0.000815</td></tr></tbody></table></div>"
      ],
      "text/plain": [
       "shape: (173, 8)\n",
       "┌────────────┬──────────┬──────────┬────────────┬───────────┬────────────┬────────────┬────────────┐\n",
       "│ datetime   ┆ open     ┆ close    ┆ trade_log_ ┆ y_hat     ┆ entry_trad ┆ exit_trade ┆ signed_tra │\n",
       "│ ---        ┆ ---      ┆ ---      ┆ return     ┆ ---       ┆ e_value    ┆ _value     ┆ de_qty     │\n",
       "│ datetime[μ ┆ f64      ┆ f64      ┆ ---        ┆ f32       ┆ ---        ┆ ---        ┆ ---        │\n",
       "│ s]         ┆          ┆          ┆ f64        ┆           ┆ f64        ┆ f64        ┆ f64        │\n",
       "╞════════════╪══════════╪══════════╪════════════╪═══════════╪════════════╪════════════╪════════════╡\n",
       "│ 2025-07-15 ┆ 117110.4 ┆ 117738.5 ┆ 0.005349   ┆ 0.004543  ┆ 100.0      ┆ 100.536332 ┆ 0.000854   │\n",
       "│ 12:00:00   ┆          ┆          ┆            ┆           ┆            ┆            ┆            │\n",
       "│ 2025-07-16 ┆ 117738.6 ┆ 118755.1 ┆ 0.008597   ┆ 0.001263  ┆ 100.0      ┆ 100.863439 ┆ 0.000849   │\n",
       "│ 00:00:00   ┆          ┆          ┆            ┆           ┆            ┆            ┆            │\n",
       "│ 2025-07-16 ┆ 118755.1 ┆ 118590.7 ┆ 0.001385   ┆ -0.001228 ┆ 100.0      ┆ 100.138628 ┆ -0.000842  │\n",
       "│ 12:00:00   ┆          ┆          ┆            ┆           ┆            ┆            ┆            │\n",
       "│ 2025-07-17 ┆ 118590.7 ┆ 117968.9 ┆ -0.005257  ┆ 0.000388  ┆ 100.0      ┆ 99.475676  ┆ 0.000843   │\n",
       "│ 00:00:00   ┆          ┆          ┆            ┆           ┆            ┆            ┆            │\n",
       "│ 2025-07-17 ┆ 117968.8 ┆ 119176.6 ┆ 0.010185   ┆ 0.001554  ┆ 100.0      ┆ 101.023744 ┆ 0.000848   │\n",
       "│ 12:00:00   ┆          ┆          ┆            ┆           ┆            ┆            ┆            │\n",
       "│ …          ┆ …        ┆ …        ┆ …          ┆ …         ┆ …          ┆ …          ┆ …          │\n",
       "│ 2025-10-07 ┆ 124397.1 ┆ 121286.5 ┆ -0.025324  ┆ 0.000779  ┆ 100.0      ┆ 97.499381  ┆ 0.000804   │\n",
       "│ 12:00:00   ┆          ┆          ┆            ┆           ┆            ┆            ┆            │\n",
       "│ 2025-10-08 ┆ 121286.6 ┆ 122825.7 ┆ 0.012611   ┆ 0.003535  ┆ 100.0      ┆ 101.269061 ┆ 0.000824   │\n",
       "│ 00:00:00   ┆          ┆          ┆            ┆           ┆            ┆            ┆            │\n",
       "│ 2025-10-08 ┆ 122825.8 ┆ 123237.5 ┆ 0.003347   ┆ 0.001011  ┆ 100.0      ┆ 100.335272 ┆ 0.000814   │\n",
       "│ 12:00:00   ┆          ┆          ┆            ┆           ┆            ┆            ┆            │\n",
       "│ 2025-10-09 ┆ 123237.4 ┆ 122672.9 ┆ 0.004592   ┆ -0.001241 ┆ 100.0      ┆ 100.460248 ┆ -0.000811  │\n",
       "│ 00:00:00   ┆          ┆          ┆            ┆           ┆            ┆            ┆            │\n",
       "│ 2025-10-09 ┆ 122673.0 ┆ 121579.3 ┆ -0.008955  ┆ 0.00128   ┆ 100.0      ┆ 99.108524  ┆ 0.000815   │\n",
       "│ 12:00:00   ┆          ┆          ┆            ┆           ┆            ┆            ┆            │\n",
       "└────────────┴──────────┴──────────┴────────────┴───────────┴────────────┴────────────┴────────────┘"
      ]
     },
     "execution_count": 135,
     "metadata": {},
     "output_type": "execute_result"
    }
   ],
   "source": [
    "trades = trades.with_columns((pl.col('exit_trade_value') - pl.col('entry_trade_value')).alias('trade_gross_pnl'))\n",
    "trades.select('datetime','open','close', 'trade_log_return','y_hat','entry_trade_value','exit_trade_value', 'signed_trade_qty', )"
   ]
  },
  {
   "cell_type": "markdown",
   "id": "7d68c2f6",
   "metadata": {},
   "source": [
    "### Add Transaction Fees"
   ]
  },
  {
   "cell_type": "code",
   "execution_count": 136,
   "id": "3531bd9f",
   "metadata": {},
   "outputs": [
    {
     "data": {
      "text/html": [
       "<div><style>\n",
       ".dataframe > thead > tr,\n",
       ".dataframe > tbody > tr {\n",
       "  text-align: right;\n",
       "  white-space: pre-wrap;\n",
       "}\n",
       "</style>\n",
       "<small>shape: (173, 11)</small><table border=\"1\" class=\"dataframe\"><thead><tr><th>datetime</th><th>open</th><th>close</th><th>trade_log_return</th><th>y_hat</th><th>entry_trade_value</th><th>exit_trade_value</th><th>signed_trade_qty</th><th>trade_gross_pnl</th><th>maker_fee</th><th>taker_fee</th></tr><tr><td>datetime[μs]</td><td>f64</td><td>f64</td><td>f64</td><td>f32</td><td>f64</td><td>f64</td><td>f64</td><td>f64</td><td>f64</td><td>f64</td></tr></thead><tbody><tr><td>2025-07-15 12:00:00</td><td>117110.4</td><td>117738.5</td><td>0.005349</td><td>0.004543</td><td>100.0</td><td>100.536332</td><td>0.000854</td><td>0.536332</td><td>0.020054</td><td>0.060161</td></tr><tr><td>2025-07-16 00:00:00</td><td>117738.6</td><td>118755.1</td><td>0.008597</td><td>0.001263</td><td>100.0</td><td>100.863439</td><td>0.000849</td><td>0.863439</td><td>0.020086</td><td>0.060259</td></tr><tr><td>2025-07-16 12:00:00</td><td>118755.1</td><td>118590.7</td><td>0.001385</td><td>-0.001228</td><td>100.0</td><td>100.138628</td><td>-0.000842</td><td>0.138628</td><td>0.020014</td><td>0.060042</td></tr><tr><td>2025-07-17 00:00:00</td><td>118590.7</td><td>117968.9</td><td>-0.005257</td><td>0.000388</td><td>100.0</td><td>99.475676</td><td>0.000843</td><td>-0.524324</td><td>0.019948</td><td>0.059843</td></tr><tr><td>2025-07-17 12:00:00</td><td>117968.8</td><td>119176.6</td><td>0.010185</td><td>0.001554</td><td>100.0</td><td>101.023744</td><td>0.000848</td><td>1.023744</td><td>0.020102</td><td>0.060307</td></tr><tr><td>&hellip;</td><td>&hellip;</td><td>&hellip;</td><td>&hellip;</td><td>&hellip;</td><td>&hellip;</td><td>&hellip;</td><td>&hellip;</td><td>&hellip;</td><td>&hellip;</td><td>&hellip;</td></tr><tr><td>2025-10-07 12:00:00</td><td>124397.1</td><td>121286.5</td><td>-0.025324</td><td>0.000779</td><td>100.0</td><td>97.499381</td><td>0.000804</td><td>-2.500619</td><td>0.01975</td><td>0.05925</td></tr><tr><td>2025-10-08 00:00:00</td><td>121286.6</td><td>122825.7</td><td>0.012611</td><td>0.003535</td><td>100.0</td><td>101.269061</td><td>0.000824</td><td>1.269061</td><td>0.020127</td><td>0.060381</td></tr><tr><td>2025-10-08 12:00:00</td><td>122825.8</td><td>123237.5</td><td>0.003347</td><td>0.001011</td><td>100.0</td><td>100.335272</td><td>0.000814</td><td>0.335272</td><td>0.020034</td><td>0.060101</td></tr><tr><td>2025-10-09 00:00:00</td><td>123237.4</td><td>122672.9</td><td>0.004592</td><td>-0.001241</td><td>100.0</td><td>100.460248</td><td>-0.000811</td><td>0.460248</td><td>0.020046</td><td>0.060138</td></tr><tr><td>2025-10-09 12:00:00</td><td>122673.0</td><td>121579.3</td><td>-0.008955</td><td>0.00128</td><td>100.0</td><td>99.108524</td><td>0.000815</td><td>-0.891476</td><td>0.019911</td><td>0.059733</td></tr></tbody></table></div>"
      ],
      "text/plain": [
       "shape: (173, 11)\n",
       "┌────────────┬──────────┬──────────┬───────────┬───┬───────────┬───────────┬───────────┬───────────┐\n",
       "│ datetime   ┆ open     ┆ close    ┆ trade_log ┆ … ┆ signed_tr ┆ trade_gro ┆ maker_fee ┆ taker_fee │\n",
       "│ ---        ┆ ---      ┆ ---      ┆ _return   ┆   ┆ ade_qty   ┆ ss_pnl    ┆ ---       ┆ ---       │\n",
       "│ datetime[μ ┆ f64      ┆ f64      ┆ ---       ┆   ┆ ---       ┆ ---       ┆ f64       ┆ f64       │\n",
       "│ s]         ┆          ┆          ┆ f64       ┆   ┆ f64       ┆ f64       ┆           ┆           │\n",
       "╞════════════╪══════════╪══════════╪═══════════╪═══╪═══════════╪═══════════╪═══════════╪═══════════╡\n",
       "│ 2025-07-15 ┆ 117110.4 ┆ 117738.5 ┆ 0.005349  ┆ … ┆ 0.000854  ┆ 0.536332  ┆ 0.020054  ┆ 0.060161  │\n",
       "│ 12:00:00   ┆          ┆          ┆           ┆   ┆           ┆           ┆           ┆           │\n",
       "│ 2025-07-16 ┆ 117738.6 ┆ 118755.1 ┆ 0.008597  ┆ … ┆ 0.000849  ┆ 0.863439  ┆ 0.020086  ┆ 0.060259  │\n",
       "│ 00:00:00   ┆          ┆          ┆           ┆   ┆           ┆           ┆           ┆           │\n",
       "│ 2025-07-16 ┆ 118755.1 ┆ 118590.7 ┆ 0.001385  ┆ … ┆ -0.000842 ┆ 0.138628  ┆ 0.020014  ┆ 0.060042  │\n",
       "│ 12:00:00   ┆          ┆          ┆           ┆   ┆           ┆           ┆           ┆           │\n",
       "│ 2025-07-17 ┆ 118590.7 ┆ 117968.9 ┆ -0.005257 ┆ … ┆ 0.000843  ┆ -0.524324 ┆ 0.019948  ┆ 0.059843  │\n",
       "│ 00:00:00   ┆          ┆          ┆           ┆   ┆           ┆           ┆           ┆           │\n",
       "│ 2025-07-17 ┆ 117968.8 ┆ 119176.6 ┆ 0.010185  ┆ … ┆ 0.000848  ┆ 1.023744  ┆ 0.020102  ┆ 0.060307  │\n",
       "│ 12:00:00   ┆          ┆          ┆           ┆   ┆           ┆           ┆           ┆           │\n",
       "│ …          ┆ …        ┆ …        ┆ …         ┆ … ┆ …         ┆ …         ┆ …         ┆ …         │\n",
       "│ 2025-10-07 ┆ 124397.1 ┆ 121286.5 ┆ -0.025324 ┆ … ┆ 0.000804  ┆ -2.500619 ┆ 0.01975   ┆ 0.05925   │\n",
       "│ 12:00:00   ┆          ┆          ┆           ┆   ┆           ┆           ┆           ┆           │\n",
       "│ 2025-10-08 ┆ 121286.6 ┆ 122825.7 ┆ 0.012611  ┆ … ┆ 0.000824  ┆ 1.269061  ┆ 0.020127  ┆ 0.060381  │\n",
       "│ 00:00:00   ┆          ┆          ┆           ┆   ┆           ┆           ┆           ┆           │\n",
       "│ 2025-10-08 ┆ 122825.8 ┆ 123237.5 ┆ 0.003347  ┆ … ┆ 0.000814  ┆ 0.335272  ┆ 0.020034  ┆ 0.060101  │\n",
       "│ 12:00:00   ┆          ┆          ┆           ┆   ┆           ┆           ┆           ┆           │\n",
       "│ 2025-10-09 ┆ 123237.4 ┆ 122672.9 ┆ 0.004592  ┆ … ┆ -0.000811 ┆ 0.460248  ┆ 0.020046  ┆ 0.060138  │\n",
       "│ 00:00:00   ┆          ┆          ┆           ┆   ┆           ┆           ┆           ┆           │\n",
       "│ 2025-10-09 ┆ 122673.0 ┆ 121579.3 ┆ -0.008955 ┆ … ┆ 0.000815  ┆ -0.891476 ┆ 0.019911  ┆ 0.059733  │\n",
       "│ 12:00:00   ┆          ┆          ┆           ┆   ┆           ┆           ┆           ┆           │\n",
       "└────────────┴──────────┴──────────┴───────────┴───┴───────────┴───────────┴───────────┴───────────┘"
      ]
     },
     "execution_count": 136,
     "metadata": {},
     "output_type": "execute_result"
    }
   ],
   "source": [
    "taker_fee = binance.TAKER_FEE\n",
    "maker_fee = binance.MAKER_FEE\n",
    "\n",
    "trades = trades.with_columns(\n",
    "    (pl.col('entry_trade_value') * taker_fee + pl.col('exit_trade_value') * taker_fee).alias('taker_fee'),\n",
    "    (pl.col('entry_trade_value') * maker_fee + pl.col('exit_trade_value') * maker_fee).alias('maker_fee')\n",
    ")\n",
    "\n",
    "trades.select('datetime','open','close', 'trade_log_return','y_hat','entry_trade_value','exit_trade_value', 'signed_trade_qty', 'trade_gross_pnl','maker_fee','taker_fee')"
   ]
  },
  {
   "cell_type": "markdown",
   "id": "73b29f48",
   "metadata": {},
   "source": [
    "### Calculate Trade Net PnL"
   ]
  },
  {
   "cell_type": "code",
   "execution_count": 137,
   "id": "4fc0eba3",
   "metadata": {},
   "outputs": [
    {
     "data": {
      "text/html": [
       "<div><style>\n",
       ".dataframe > thead > tr,\n",
       ".dataframe > tbody > tr {\n",
       "  text-align: right;\n",
       "  white-space: pre-wrap;\n",
       "}\n",
       "</style>\n",
       "<small>shape: (173, 11)</small><table border=\"1\" class=\"dataframe\"><thead><tr><th>datetime</th><th>open</th><th>close</th><th>trade_log_return</th><th>y_hat</th><th>entry_trade_value</th><th>exit_trade_value</th><th>signed_trade_qty</th><th>trade_gross_pnl</th><th>trade_net_taker_pnl</th><th>trade_net_maker_pnl</th></tr><tr><td>datetime[μs]</td><td>f64</td><td>f64</td><td>f64</td><td>f32</td><td>f64</td><td>f64</td><td>f64</td><td>f64</td><td>f64</td><td>f64</td></tr></thead><tbody><tr><td>2025-07-15 12:00:00</td><td>117110.4</td><td>117738.5</td><td>0.005349</td><td>0.004543</td><td>100.0</td><td>100.536332</td><td>0.000854</td><td>0.536332</td><td>0.476171</td><td>0.516278</td></tr><tr><td>2025-07-16 00:00:00</td><td>117738.6</td><td>118755.1</td><td>0.008597</td><td>0.001263</td><td>100.0</td><td>100.863439</td><td>0.000849</td><td>0.863439</td><td>0.80318</td><td>0.843353</td></tr><tr><td>2025-07-16 12:00:00</td><td>118755.1</td><td>118590.7</td><td>0.001385</td><td>-0.001228</td><td>100.0</td><td>100.138628</td><td>-0.000842</td><td>0.138628</td><td>0.078586</td><td>0.118614</td></tr><tr><td>2025-07-17 00:00:00</td><td>118590.7</td><td>117968.9</td><td>-0.005257</td><td>0.000388</td><td>100.0</td><td>99.475676</td><td>0.000843</td><td>-0.524324</td><td>-0.584167</td><td>-0.544272</td></tr><tr><td>2025-07-17 12:00:00</td><td>117968.8</td><td>119176.6</td><td>0.010185</td><td>0.001554</td><td>100.0</td><td>101.023744</td><td>0.000848</td><td>1.023744</td><td>0.963437</td><td>1.003642</td></tr><tr><td>&hellip;</td><td>&hellip;</td><td>&hellip;</td><td>&hellip;</td><td>&hellip;</td><td>&hellip;</td><td>&hellip;</td><td>&hellip;</td><td>&hellip;</td><td>&hellip;</td><td>&hellip;</td></tr><tr><td>2025-10-07 12:00:00</td><td>124397.1</td><td>121286.5</td><td>-0.025324</td><td>0.000779</td><td>100.0</td><td>97.499381</td><td>0.000804</td><td>-2.500619</td><td>-2.559869</td><td>-2.520369</td></tr><tr><td>2025-10-08 00:00:00</td><td>121286.6</td><td>122825.7</td><td>0.012611</td><td>0.003535</td><td>100.0</td><td>101.269061</td><td>0.000824</td><td>1.269061</td><td>1.208681</td><td>1.248934</td></tr><tr><td>2025-10-08 12:00:00</td><td>122825.8</td><td>123237.5</td><td>0.003347</td><td>0.001011</td><td>100.0</td><td>100.335272</td><td>0.000814</td><td>0.335272</td><td>0.275171</td><td>0.315238</td></tr><tr><td>2025-10-09 00:00:00</td><td>123237.4</td><td>122672.9</td><td>0.004592</td><td>-0.001241</td><td>100.0</td><td>100.460248</td><td>-0.000811</td><td>0.460248</td><td>0.40011</td><td>0.440202</td></tr><tr><td>2025-10-09 12:00:00</td><td>122673.0</td><td>121579.3</td><td>-0.008955</td><td>0.00128</td><td>100.0</td><td>99.108524</td><td>0.000815</td><td>-0.891476</td><td>-0.951209</td><td>-0.911387</td></tr></tbody></table></div>"
      ],
      "text/plain": [
       "shape: (173, 11)\n",
       "┌────────────┬──────────┬──────────┬───────────┬───┬───────────┬───────────┬───────────┬───────────┐\n",
       "│ datetime   ┆ open     ┆ close    ┆ trade_log ┆ … ┆ signed_tr ┆ trade_gro ┆ trade_net ┆ trade_net │\n",
       "│ ---        ┆ ---      ┆ ---      ┆ _return   ┆   ┆ ade_qty   ┆ ss_pnl    ┆ _taker_pn ┆ _maker_pn │\n",
       "│ datetime[μ ┆ f64      ┆ f64      ┆ ---       ┆   ┆ ---       ┆ ---       ┆ l         ┆ l         │\n",
       "│ s]         ┆          ┆          ┆ f64       ┆   ┆ f64       ┆ f64       ┆ ---       ┆ ---       │\n",
       "│            ┆          ┆          ┆           ┆   ┆           ┆           ┆ f64       ┆ f64       │\n",
       "╞════════════╪══════════╪══════════╪═══════════╪═══╪═══════════╪═══════════╪═══════════╪═══════════╡\n",
       "│ 2025-07-15 ┆ 117110.4 ┆ 117738.5 ┆ 0.005349  ┆ … ┆ 0.000854  ┆ 0.536332  ┆ 0.476171  ┆ 0.516278  │\n",
       "│ 12:00:00   ┆          ┆          ┆           ┆   ┆           ┆           ┆           ┆           │\n",
       "│ 2025-07-16 ┆ 117738.6 ┆ 118755.1 ┆ 0.008597  ┆ … ┆ 0.000849  ┆ 0.863439  ┆ 0.80318   ┆ 0.843353  │\n",
       "│ 00:00:00   ┆          ┆          ┆           ┆   ┆           ┆           ┆           ┆           │\n",
       "│ 2025-07-16 ┆ 118755.1 ┆ 118590.7 ┆ 0.001385  ┆ … ┆ -0.000842 ┆ 0.138628  ┆ 0.078586  ┆ 0.118614  │\n",
       "│ 12:00:00   ┆          ┆          ┆           ┆   ┆           ┆           ┆           ┆           │\n",
       "│ 2025-07-17 ┆ 118590.7 ┆ 117968.9 ┆ -0.005257 ┆ … ┆ 0.000843  ┆ -0.524324 ┆ -0.584167 ┆ -0.544272 │\n",
       "│ 00:00:00   ┆          ┆          ┆           ┆   ┆           ┆           ┆           ┆           │\n",
       "│ 2025-07-17 ┆ 117968.8 ┆ 119176.6 ┆ 0.010185  ┆ … ┆ 0.000848  ┆ 1.023744  ┆ 0.963437  ┆ 1.003642  │\n",
       "│ 12:00:00   ┆          ┆          ┆           ┆   ┆           ┆           ┆           ┆           │\n",
       "│ …          ┆ …        ┆ …        ┆ …         ┆ … ┆ …         ┆ …         ┆ …         ┆ …         │\n",
       "│ 2025-10-07 ┆ 124397.1 ┆ 121286.5 ┆ -0.025324 ┆ … ┆ 0.000804  ┆ -2.500619 ┆ -2.559869 ┆ -2.520369 │\n",
       "│ 12:00:00   ┆          ┆          ┆           ┆   ┆           ┆           ┆           ┆           │\n",
       "│ 2025-10-08 ┆ 121286.6 ┆ 122825.7 ┆ 0.012611  ┆ … ┆ 0.000824  ┆ 1.269061  ┆ 1.208681  ┆ 1.248934  │\n",
       "│ 00:00:00   ┆          ┆          ┆           ┆   ┆           ┆           ┆           ┆           │\n",
       "│ 2025-10-08 ┆ 122825.8 ┆ 123237.5 ┆ 0.003347  ┆ … ┆ 0.000814  ┆ 0.335272  ┆ 0.275171  ┆ 0.315238  │\n",
       "│ 12:00:00   ┆          ┆          ┆           ┆   ┆           ┆           ┆           ┆           │\n",
       "│ 2025-10-09 ┆ 123237.4 ┆ 122672.9 ┆ 0.004592  ┆ … ┆ -0.000811 ┆ 0.460248  ┆ 0.40011   ┆ 0.440202  │\n",
       "│ 00:00:00   ┆          ┆          ┆           ┆   ┆           ┆           ┆           ┆           │\n",
       "│ 2025-10-09 ┆ 122673.0 ┆ 121579.3 ┆ -0.008955 ┆ … ┆ 0.000815  ┆ -0.891476 ┆ -0.951209 ┆ -0.911387 │\n",
       "│ 12:00:00   ┆          ┆          ┆           ┆   ┆           ┆           ┆           ┆           │\n",
       "└────────────┴──────────┴──────────┴───────────┴───┴───────────┴───────────┴───────────┴───────────┘"
      ]
     },
     "execution_count": 137,
     "metadata": {},
     "output_type": "execute_result"
    }
   ],
   "source": [
    "trades = trades.with_columns(\n",
    "    (pl.col('trade_gross_pnl')-pl.col('taker_fee')).alias('trade_net_taker_pnl'),\n",
    "    (pl.col('trade_gross_pnl')-pl.col('maker_fee')).alias('trade_net_maker_pnl'),\n",
    ")\n",
    "\n",
    "trades.select('datetime','open','close', 'trade_log_return','y_hat','entry_trade_value','exit_trade_value', 'signed_trade_qty', 'trade_gross_pnl','trade_net_taker_pnl','trade_net_maker_pnl')"
   ]
  },
  {
   "cell_type": "markdown",
   "id": "dacafd73",
   "metadata": {},
   "source": [
    "### Display Equity Curves for Constant Sizing"
   ]
  },
  {
   "cell_type": "code",
   "execution_count": 138,
   "id": "b03ae4d6",
   "metadata": {},
   "outputs": [
    {
     "data": {
      "text/html": [
       "<div><style>\n",
       ".dataframe > thead > tr,\n",
       ".dataframe > tbody > tr {\n",
       "  text-align: right;\n",
       "  white-space: pre-wrap;\n",
       "}\n",
       "</style>\n",
       "<small>shape: (173, 4)</small><table border=\"1\" class=\"dataframe\"><thead><tr><th>datetime</th><th>equity_curve_gross</th><th>equity_curve_taker</th><th>equity_curve_maker</th></tr><tr><td>datetime[μs]</td><td>f64</td><td>f64</td><td>f64</td></tr></thead><tbody><tr><td>2025-07-15 12:00:00</td><td>100.536332</td><td>100.476171</td><td>100.516278</td></tr><tr><td>2025-07-16 00:00:00</td><td>101.39977</td><td>101.27935</td><td>101.35963</td></tr><tr><td>2025-07-16 12:00:00</td><td>101.538398</td><td>101.357937</td><td>101.478245</td></tr><tr><td>2025-07-17 00:00:00</td><td>101.014074</td><td>100.77377</td><td>100.933973</td></tr><tr><td>2025-07-17 12:00:00</td><td>102.037818</td><td>101.737207</td><td>101.937615</td></tr><tr><td>&hellip;</td><td>&hellip;</td><td>&hellip;</td><td>&hellip;</td></tr><tr><td>2025-10-07 12:00:00</td><td>123.624693</td><td>113.477606</td><td>120.242331</td></tr><tr><td>2025-10-08 00:00:00</td><td>124.893754</td><td>114.686286</td><td>121.491265</td></tr><tr><td>2025-10-08 12:00:00</td><td>125.229026</td><td>114.961458</td><td>121.806503</td></tr><tr><td>2025-10-09 00:00:00</td><td>125.689275</td><td>115.361568</td><td>122.246706</td></tr><tr><td>2025-10-09 12:00:00</td><td>124.797798</td><td>114.410359</td><td>121.335318</td></tr></tbody></table></div>"
      ],
      "text/plain": [
       "shape: (173, 4)\n",
       "┌─────────────────────┬────────────────────┬────────────────────┬────────────────────┐\n",
       "│ datetime            ┆ equity_curve_gross ┆ equity_curve_taker ┆ equity_curve_maker │\n",
       "│ ---                 ┆ ---                ┆ ---                ┆ ---                │\n",
       "│ datetime[μs]        ┆ f64                ┆ f64                ┆ f64                │\n",
       "╞═════════════════════╪════════════════════╪════════════════════╪════════════════════╡\n",
       "│ 2025-07-15 12:00:00 ┆ 100.536332         ┆ 100.476171         ┆ 100.516278         │\n",
       "│ 2025-07-16 00:00:00 ┆ 101.39977          ┆ 101.27935          ┆ 101.35963          │\n",
       "│ 2025-07-16 12:00:00 ┆ 101.538398         ┆ 101.357937         ┆ 101.478245         │\n",
       "│ 2025-07-17 00:00:00 ┆ 101.014074         ┆ 100.77377          ┆ 100.933973         │\n",
       "│ 2025-07-17 12:00:00 ┆ 102.037818         ┆ 101.737207         ┆ 101.937615         │\n",
       "│ …                   ┆ …                  ┆ …                  ┆ …                  │\n",
       "│ 2025-10-07 12:00:00 ┆ 123.624693         ┆ 113.477606         ┆ 120.242331         │\n",
       "│ 2025-10-08 00:00:00 ┆ 124.893754         ┆ 114.686286         ┆ 121.491265         │\n",
       "│ 2025-10-08 12:00:00 ┆ 125.229026         ┆ 114.961458         ┆ 121.806503         │\n",
       "│ 2025-10-09 00:00:00 ┆ 125.689275         ┆ 115.361568         ┆ 122.246706         │\n",
       "│ 2025-10-09 12:00:00 ┆ 124.797798         ┆ 114.410359         ┆ 121.335318         │\n",
       "└─────────────────────┴────────────────────┴────────────────────┴────────────────────┘"
      ]
     },
     "execution_count": 138,
     "metadata": {},
     "output_type": "execute_result"
    }
   ],
   "source": [
    "def equity_curve(capital, col_name, suffix):\n",
    "    return (capital + (pl.col(col_name).cum_sum())).alias(f'equity_curve_{suffix}')\n",
    "\n",
    "trades = trades.with_columns(\n",
    "    equity_curve(capital, 'trade_net_taker_pnl', 'taker'),\n",
    "    equity_curve(capital, 'trade_net_maker_pnl', 'maker'),\n",
    "    equity_curve(capital, 'trade_gross_pnl', 'gross'),\n",
    ")\n",
    "trades.select('datetime','equity_curve_gross','equity_curve_taker','equity_curve_maker')"
   ]
  },
  {
   "cell_type": "code",
   "execution_count": 139,
   "id": "75c25737",
   "metadata": {},
   "outputs": [
    {
     "data": {
      "image/png": "[encoded data removed]",
      "text/plain": [
       "<Figure size 1200x600 with 1 Axes>"
      ]
     },
     "metadata": {},
     "output_type": "display_data"
    }
   ],
   "source": [
    "research.plot_static_timeseries(trades, sym, 'equity_curve_taker', time_interval)"
   ]
  },
  {
   "cell_type": "code",
   "execution_count": 140,
   "id": "f1d54a1e",
   "metadata": {},
   "outputs": [
    {
     "data": {
      "image/png": "[encoded data removed]",
      "text/plain": [
       "<Figure size 1200x600 with 1 Axes>"
      ]
     },
     "metadata": {},
     "output_type": "display_data"
    }
   ],
   "source": [
    "research.plot_static_timeseries(trades, sym, 'equity_curve_maker', time_interval)"
   ]
  },
  {
   "cell_type": "markdown",
   "id": "45e6441c",
   "metadata": {},
   "source": [
    "### Calculate Total Net Return using Constant Sizing"
   ]
  },
  {
   "cell_type": "code",
   "execution_count": 141,
   "id": "3e631e9b",
   "metadata": {},
   "outputs": [
    {
     "data": {
      "text/plain": [
       "0.14410358892170327"
      ]
     },
     "execution_count": 141,
     "metadata": {},
     "output_type": "execute_result"
    }
   ],
   "source": [
    "constant_sizing_net_return = trades['equity_curve_taker'][-1] / capital - 1\n",
    "constant_sizing_net_return"
   ]
  },
  {
   "cell_type": "markdown",
   "id": "89629612",
   "metadata": {},
   "source": [
    "## experiment with compounding trade sizes"
   ]
  },
  {
   "cell_type": "code",
   "execution_count": 142,
   "id": "cfc11bda",
   "metadata": {},
   "outputs": [],
   "source": [
    "# 2 => 102 (100 + 2)\n",
    "# 1 => 103 (100 + 2 + 1)\n",
    "# -1 => 102 (100 + 2 + 1 - 1)"
   ]
  },
  {
   "cell_type": "code",
   "execution_count": 143,
   "id": "11c12200",
   "metadata": {},
   "outputs": [
    {
     "data": {
      "text/plain": [
       "np.float64(100.54538182137402)"
      ]
     },
     "execution_count": 143,
     "metadata": {},
     "output_type": "execute_result"
    }
   ],
   "source": [
    "log_return_1 = 0.005439\n",
    "pnl1 = capital * np.exp(log_return_1)\n",
    "pnl1"
   ]
  },
  {
   "cell_type": "code",
   "execution_count": 144,
   "id": "fd6fd875",
   "metadata": {},
   "outputs": [
    {
     "data": {
      "text/plain": [
       "np.float64(101.41349671401576)"
      ]
     },
     "execution_count": 144,
     "metadata": {},
     "output_type": "execute_result"
    }
   ],
   "source": [
    "log_return_2 = 0.008597\n",
    "pnl2 = pnl1 * np.exp(log_return_2)\n",
    "pnl2"
   ]
  },
  {
   "cell_type": "code",
   "execution_count": 145,
   "id": "262b324e",
   "metadata": {},
   "outputs": [
    {
     "data": {
      "text/plain": [
       "np.float64(101.55405171883751)"
      ]
     },
     "execution_count": 145,
     "metadata": {},
     "output_type": "execute_result"
    }
   ],
   "source": [
    "log_return_3 = 0.001385\n",
    "pnl3 = pnl2 * np.exp(log_return_3)\n",
    "pnl3"
   ]
  },
  {
   "cell_type": "code",
   "execution_count": 146,
   "id": "95a895f4",
   "metadata": {},
   "outputs": [
    {
     "data": {
      "text/plain": [
       "np.float64(101.5449122654644)"
      ]
     },
     "execution_count": 146,
     "metadata": {},
     "output_type": "execute_result"
    }
   ],
   "source": [
    "((capital * np.exp(0.005349)) * np.exp(0.008597)) * np.exp(0.001385)"
   ]
  },
  {
   "cell_type": "markdown",
   "id": "a832d90e",
   "metadata": {},
   "source": [
    "### Time Addivitivity"
   ]
  },
  {
   "cell_type": "code",
   "execution_count": 147,
   "id": "55e897fe",
   "metadata": {},
   "outputs": [
    {
     "data": {
      "text/plain": [
       "np.float64(101.55405171883751)"
      ]
     },
     "execution_count": 147,
     "metadata": {},
     "output_type": "execute_result"
    }
   ],
   "source": [
    "capital * np.exp(log_return_1 + log_return_2 + log_return_3)"
   ]
  },
  {
   "cell_type": "markdown",
   "id": "1fb0eff3",
   "metadata": {},
   "source": [
    "### Add Compounding Trade Sizes"
   ]
  },
  {
   "cell_type": "code",
   "execution_count": 148,
   "id": "1dda3e89",
   "metadata": {},
   "outputs": [
    {
     "data": {
      "text/html": [
       "<div><style>\n",
       ".dataframe > thead > tr,\n",
       ".dataframe > tbody > tr {\n",
       "  text-align: right;\n",
       "  white-space: pre-wrap;\n",
       "}\n",
       "</style>\n",
       "<small>shape: (173, 8)</small><table border=\"1\" class=\"dataframe\"><thead><tr><th>datetime</th><th>open</th><th>close</th><th>trade_log_return</th><th>entry_trade_value</th><th>exit_trade_value</th><th>signed_trade_qty</th><th>trade_gross_pnl</th></tr><tr><td>datetime[μs]</td><td>f64</td><td>f64</td><td>f64</td><td>f64</td><td>f64</td><td>f64</td><td>f64</td></tr></thead><tbody><tr><td>2025-07-15 12:00:00</td><td>117110.4</td><td>117738.5</td><td>0.005349</td><td>100.0</td><td>100.536332</td><td>0.000854</td><td>0.536332</td></tr><tr><td>2025-07-16 00:00:00</td><td>117738.6</td><td>118755.1</td><td>0.008597</td><td>100.536332</td><td>101.404401</td><td>0.000854</td><td>0.86807</td></tr><tr><td>2025-07-16 12:00:00</td><td>118755.1</td><td>118590.7</td><td>0.001385</td><td>101.404401</td><td>101.544976</td><td>-0.000854</td><td>0.140575</td></tr><tr><td>2025-07-17 00:00:00</td><td>118590.7</td><td>117968.9</td><td>-0.005257</td><td>101.544976</td><td>101.012551</td><td>0.000856</td><td>-0.532425</td></tr><tr><td>2025-07-17 12:00:00</td><td>117968.8</td><td>119176.6</td><td>0.010185</td><td>101.012551</td><td>102.046662</td><td>0.000856</td><td>1.03411</td></tr><tr><td>&hellip;</td><td>&hellip;</td><td>&hellip;</td><td>&hellip;</td><td>&hellip;</td><td>&hellip;</td><td>&hellip;</td><td>&hellip;</td></tr><tr><td>2025-10-07 12:00:00</td><td>124397.1</td><td>121286.5</td><td>-0.025324</td><td>128.761487</td><td>125.541653</td><td>0.001035</td><td>-3.219834</td></tr><tr><td>2025-10-08 00:00:00</td><td>121286.6</td><td>122825.7</td><td>0.012611</td><td>125.541653</td><td>127.134854</td><td>0.001035</td><td>1.5932</td></tr><tr><td>2025-10-08 12:00:00</td><td>122825.8</td><td>123237.5</td><td>0.003347</td><td>127.134854</td><td>127.561101</td><td>0.001035</td><td>0.426247</td></tr><tr><td>2025-10-09 00:00:00</td><td>123237.4</td><td>122672.9</td><td>0.004592</td><td>127.561101</td><td>128.148199</td><td>-0.001035</td><td>0.587098</td></tr><tr><td>2025-10-09 12:00:00</td><td>122673.0</td><td>121579.3</td><td>-0.008955</td><td>128.148199</td><td>127.005788</td><td>0.001045</td><td>-1.142411</td></tr></tbody></table></div>"
      ],
      "text/plain": [
       "shape: (173, 8)\n",
       "┌────────────┬──────────┬──────────┬────────────┬────────────┬────────────┬────────────┬───────────┐\n",
       "│ datetime   ┆ open     ┆ close    ┆ trade_log_ ┆ entry_trad ┆ exit_trade ┆ signed_tra ┆ trade_gro │\n",
       "│ ---        ┆ ---      ┆ ---      ┆ return     ┆ e_value    ┆ _value     ┆ de_qty     ┆ ss_pnl    │\n",
       "│ datetime[μ ┆ f64      ┆ f64      ┆ ---        ┆ ---        ┆ ---        ┆ ---        ┆ ---       │\n",
       "│ s]         ┆          ┆          ┆ f64        ┆ f64        ┆ f64        ┆ f64        ┆ f64       │\n",
       "╞════════════╪══════════╪══════════╪════════════╪════════════╪════════════╪════════════╪═══════════╡\n",
       "│ 2025-07-15 ┆ 117110.4 ┆ 117738.5 ┆ 0.005349   ┆ 100.0      ┆ 100.536332 ┆ 0.000854   ┆ 0.536332  │\n",
       "│ 12:00:00   ┆          ┆          ┆            ┆            ┆            ┆            ┆           │\n",
       "│ 2025-07-16 ┆ 117738.6 ┆ 118755.1 ┆ 0.008597   ┆ 100.536332 ┆ 101.404401 ┆ 0.000854   ┆ 0.86807   │\n",
       "│ 00:00:00   ┆          ┆          ┆            ┆            ┆            ┆            ┆           │\n",
       "│ 2025-07-16 ┆ 118755.1 ┆ 118590.7 ┆ 0.001385   ┆ 101.404401 ┆ 101.544976 ┆ -0.000854  ┆ 0.140575  │\n",
       "│ 12:00:00   ┆          ┆          ┆            ┆            ┆            ┆            ┆           │\n",
       "│ 2025-07-17 ┆ 118590.7 ┆ 117968.9 ┆ -0.005257  ┆ 101.544976 ┆ 101.012551 ┆ 0.000856   ┆ -0.532425 │\n",
       "│ 00:00:00   ┆          ┆          ┆            ┆            ┆            ┆            ┆           │\n",
       "│ 2025-07-17 ┆ 117968.8 ┆ 119176.6 ┆ 0.010185   ┆ 101.012551 ┆ 102.046662 ┆ 0.000856   ┆ 1.03411   │\n",
       "│ 12:00:00   ┆          ┆          ┆            ┆            ┆            ┆            ┆           │\n",
       "│ …          ┆ …        ┆ …        ┆ …          ┆ …          ┆ …          ┆ …          ┆ …         │\n",
       "│ 2025-10-07 ┆ 124397.1 ┆ 121286.5 ┆ -0.025324  ┆ 128.761487 ┆ 125.541653 ┆ 0.001035   ┆ -3.219834 │\n",
       "│ 12:00:00   ┆          ┆          ┆            ┆            ┆            ┆            ┆           │\n",
       "│ 2025-10-08 ┆ 121286.6 ┆ 122825.7 ┆ 0.012611   ┆ 125.541653 ┆ 127.134854 ┆ 0.001035   ┆ 1.5932    │\n",
       "│ 00:00:00   ┆          ┆          ┆            ┆            ┆            ┆            ┆           │\n",
       "│ 2025-10-08 ┆ 122825.8 ┆ 123237.5 ┆ 0.003347   ┆ 127.134854 ┆ 127.561101 ┆ 0.001035   ┆ 0.426247  │\n",
       "│ 12:00:00   ┆          ┆          ┆            ┆            ┆            ┆            ┆           │\n",
       "│ 2025-10-09 ┆ 123237.4 ┆ 122672.9 ┆ 0.004592   ┆ 127.561101 ┆ 128.148199 ┆ -0.001035  ┆ 0.587098  │\n",
       "│ 00:00:00   ┆          ┆          ┆            ┆            ┆            ┆            ┆           │\n",
       "│ 2025-10-09 ┆ 122673.0 ┆ 121579.3 ┆ -0.008955  ┆ 128.148199 ┆ 127.005788 ┆ 0.001045   ┆ -1.142411 │\n",
       "│ 12:00:00   ┆          ┆          ┆            ┆            ┆            ┆            ┆           │\n",
       "└────────────┴──────────┴──────────┴────────────┴────────────┴────────────┴────────────┴───────────┘"
      ]
     },
     "execution_count": 148,
     "metadata": {},
     "output_type": "execute_result"
    }
   ],
   "source": [
    "trades = trades.with_columns(\n",
    "    ((pl.col('cum_trade_log_return').exp()) * capital).shift().fill_null(capital).alias('entry_trade_value'),\n",
    "    ((pl.col('cum_trade_log_return').exp()) * capital).alias('exit_trade_value'),\n",
    ").with_columns(\n",
    "    (pl.col('entry_trade_value') / pl.col('open') * pl.col('dir_signal')).alias('signed_trade_qty'),\n",
    "    (pl.col('exit_trade_value')-pl.col('entry_trade_value')).alias('trade_gross_pnl'),\n",
    ")\n",
    "trades.select('datetime','open','close','trade_log_return','entry_trade_value','exit_trade_value','signed_trade_qty','trade_gross_pnl')"
   ]
  },
  {
   "cell_type": "markdown",
   "id": "e2e8917a",
   "metadata": {},
   "source": [
    "### Add Transaction Fees"
   ]
  },
  {
   "cell_type": "code",
   "execution_count": 149,
   "id": "0afc0a76",
   "metadata": {},
   "outputs": [
    {
     "data": {
      "text/html": [
       "<div><style>\n",
       ".dataframe > thead > tr,\n",
       ".dataframe > tbody > tr {\n",
       "  text-align: right;\n",
       "  white-space: pre-wrap;\n",
       "}\n",
       "</style>\n",
       "<small>shape: (173, 5)</small><table border=\"1\" class=\"dataframe\"><thead><tr><th>datetime</th><th>entry_trade_value</th><th>exit_trade_value</th><th>tx_fee_maker</th><th>tx_fee_taker</th></tr><tr><td>datetime[μs]</td><td>f64</td><td>f64</td><td>f64</td><td>f64</td></tr></thead><tbody><tr><td>2025-07-15 12:00:00</td><td>100.0</td><td>100.536332</td><td>0.020054</td><td>0.060161</td></tr><tr><td>2025-07-16 00:00:00</td><td>100.536332</td><td>101.404401</td><td>0.020194</td><td>0.060582</td></tr><tr><td>2025-07-16 12:00:00</td><td>101.404401</td><td>101.544976</td><td>0.020295</td><td>0.060885</td></tr><tr><td>2025-07-17 00:00:00</td><td>101.544976</td><td>101.012551</td><td>0.020256</td><td>0.060767</td></tr><tr><td>2025-07-17 12:00:00</td><td>101.012551</td><td>102.046662</td><td>0.020306</td><td>0.060918</td></tr><tr><td>&hellip;</td><td>&hellip;</td><td>&hellip;</td><td>&hellip;</td><td>&hellip;</td></tr><tr><td>2025-10-07 12:00:00</td><td>128.761487</td><td>125.541653</td><td>0.02543</td><td>0.076291</td></tr><tr><td>2025-10-08 00:00:00</td><td>125.541653</td><td>127.134854</td><td>0.025268</td><td>0.075803</td></tr><tr><td>2025-10-08 12:00:00</td><td>127.134854</td><td>127.561101</td><td>0.02547</td><td>0.076409</td></tr><tr><td>2025-10-09 00:00:00</td><td>127.561101</td><td>128.148199</td><td>0.025571</td><td>0.076713</td></tr><tr><td>2025-10-09 12:00:00</td><td>128.148199</td><td>127.005788</td><td>0.025515</td><td>0.076546</td></tr></tbody></table></div>"
      ],
      "text/plain": [
       "shape: (173, 5)\n",
       "┌─────────────────────┬───────────────────┬──────────────────┬──────────────┬──────────────┐\n",
       "│ datetime            ┆ entry_trade_value ┆ exit_trade_value ┆ tx_fee_maker ┆ tx_fee_taker │\n",
       "│ ---                 ┆ ---               ┆ ---              ┆ ---          ┆ ---          │\n",
       "│ datetime[μs]        ┆ f64               ┆ f64              ┆ f64          ┆ f64          │\n",
       "╞═════════════════════╪═══════════════════╪══════════════════╪══════════════╪══════════════╡\n",
       "│ 2025-07-15 12:00:00 ┆ 100.0             ┆ 100.536332       ┆ 0.020054     ┆ 0.060161     │\n",
       "│ 2025-07-16 00:00:00 ┆ 100.536332        ┆ 101.404401       ┆ 0.020194     ┆ 0.060582     │\n",
       "│ 2025-07-16 12:00:00 ┆ 101.404401        ┆ 101.544976       ┆ 0.020295     ┆ 0.060885     │\n",
       "│ 2025-07-17 00:00:00 ┆ 101.544976        ┆ 101.012551       ┆ 0.020256     ┆ 0.060767     │\n",
       "│ 2025-07-17 12:00:00 ┆ 101.012551        ┆ 102.046662       ┆ 0.020306     ┆ 0.060918     │\n",
       "│ …                   ┆ …                 ┆ …                ┆ …            ┆ …            │\n",
       "│ 2025-10-07 12:00:00 ┆ 128.761487        ┆ 125.541653       ┆ 0.02543      ┆ 0.076291     │\n",
       "│ 2025-10-08 00:00:00 ┆ 125.541653        ┆ 127.134854       ┆ 0.025268     ┆ 0.075803     │\n",
       "│ 2025-10-08 12:00:00 ┆ 127.134854        ┆ 127.561101       ┆ 0.02547      ┆ 0.076409     │\n",
       "│ 2025-10-09 00:00:00 ┆ 127.561101        ┆ 128.148199       ┆ 0.025571     ┆ 0.076713     │\n",
       "│ 2025-10-09 12:00:00 ┆ 128.148199        ┆ 127.005788       ┆ 0.025515     ┆ 0.076546     │\n",
       "└─────────────────────┴───────────────────┴──────────────────┴──────────────┴──────────────┘"
      ]
     },
     "execution_count": 149,
     "metadata": {},
     "output_type": "execute_result"
    }
   ],
   "source": [
    "trades = research.add_tx_fees(trades, binance.MAKER_FEE, binance.TAKER_FEE)\n",
    "trades.select('datetime','entry_trade_value','exit_trade_value','tx_fee_maker','tx_fee_taker')"
   ]
  },
  {
   "cell_type": "markdown",
   "id": "65d0c2cd",
   "metadata": {},
   "source": [
    "### Add Trade Net PnL"
   ]
  },
  {
   "cell_type": "code",
   "execution_count": 150,
   "id": "1140e515",
   "metadata": {},
   "outputs": [
    {
     "data": {
      "text/html": [
       "<div><style>\n",
       ".dataframe > thead > tr,\n",
       ".dataframe > tbody > tr {\n",
       "  text-align: right;\n",
       "  white-space: pre-wrap;\n",
       "}\n",
       "</style>\n",
       "<small>shape: (173, 9)</small><table border=\"1\" class=\"dataframe\"><thead><tr><th>datetime</th><th>open</th><th>close</th><th>close_log_return</th><th>y_hat</th><th>entry_trade_value</th><th>exit_trade_value</th><th>trade_gross_pnl</th><th>trade_net_taker_pnl</th></tr><tr><td>datetime[μs]</td><td>f64</td><td>f64</td><td>f64</td><td>f32</td><td>f64</td><td>f64</td><td>f64</td><td>f64</td></tr></thead><tbody><tr><td>2025-07-15 12:00:00</td><td>117110.4</td><td>117738.5</td><td>0.005349</td><td>0.004543</td><td>100.0</td><td>100.536332</td><td>0.536332</td><td>0.476171</td></tr><tr><td>2025-07-16 00:00:00</td><td>117738.6</td><td>118755.1</td><td>0.008597</td><td>0.001263</td><td>100.536332</td><td>101.404401</td><td>0.86807</td><td>0.807488</td></tr><tr><td>2025-07-16 12:00:00</td><td>118755.1</td><td>118590.7</td><td>-0.001385</td><td>-0.001228</td><td>101.404401</td><td>101.544976</td><td>0.140575</td><td>0.07969</td></tr><tr><td>2025-07-17 00:00:00</td><td>118590.7</td><td>117968.9</td><td>-0.005257</td><td>0.000388</td><td>101.544976</td><td>101.012551</td><td>-0.532425</td><td>-0.593192</td></tr><tr><td>2025-07-17 12:00:00</td><td>117968.8</td><td>119176.6</td><td>0.010185</td><td>0.001554</td><td>101.012551</td><td>102.046662</td><td>1.03411</td><td>0.973193</td></tr><tr><td>&hellip;</td><td>&hellip;</td><td>&hellip;</td><td>&hellip;</td><td>&hellip;</td><td>&hellip;</td><td>&hellip;</td><td>&hellip;</td><td>&hellip;</td></tr><tr><td>2025-10-07 12:00:00</td><td>124397.1</td><td>121286.5</td><td>-0.025324</td><td>0.000779</td><td>128.761487</td><td>125.541653</td><td>-3.219834</td><td>-3.296125</td></tr><tr><td>2025-10-08 00:00:00</td><td>121286.6</td><td>122825.7</td><td>0.012611</td><td>0.003535</td><td>125.541653</td><td>127.134854</td><td>1.5932</td><td>1.517398</td></tr><tr><td>2025-10-08 12:00:00</td><td>122825.8</td><td>123237.5</td><td>0.003347</td><td>0.001011</td><td>127.134854</td><td>127.561101</td><td>0.426247</td><td>0.349839</td></tr><tr><td>2025-10-09 00:00:00</td><td>123237.4</td><td>122672.9</td><td>-0.004592</td><td>-0.001241</td><td>127.561101</td><td>128.148199</td><td>0.587098</td><td>0.510385</td></tr><tr><td>2025-10-09 12:00:00</td><td>122673.0</td><td>121579.3</td><td>-0.008955</td><td>0.00128</td><td>128.148199</td><td>127.005788</td><td>-1.142411</td><td>-1.218957</td></tr></tbody></table></div>"
      ],
      "text/plain": [
       "shape: (173, 9)\n",
       "┌────────────┬──────────┬──────────┬───────────┬───┬───────────┬───────────┬───────────┬───────────┐\n",
       "│ datetime   ┆ open     ┆ close    ┆ close_log ┆ … ┆ entry_tra ┆ exit_trad ┆ trade_gro ┆ trade_net │\n",
       "│ ---        ┆ ---      ┆ ---      ┆ _return   ┆   ┆ de_value  ┆ e_value   ┆ ss_pnl    ┆ _taker_pn │\n",
       "│ datetime[μ ┆ f64      ┆ f64      ┆ ---       ┆   ┆ ---       ┆ ---       ┆ ---       ┆ l         │\n",
       "│ s]         ┆          ┆          ┆ f64       ┆   ┆ f64       ┆ f64       ┆ f64       ┆ ---       │\n",
       "│            ┆          ┆          ┆           ┆   ┆           ┆           ┆           ┆ f64       │\n",
       "╞════════════╪══════════╪══════════╪═══════════╪═══╪═══════════╪═══════════╪═══════════╪═══════════╡\n",
       "│ 2025-07-15 ┆ 117110.4 ┆ 117738.5 ┆ 0.005349  ┆ … ┆ 100.0     ┆ 100.53633 ┆ 0.536332  ┆ 0.476171  │\n",
       "│ 12:00:00   ┆          ┆          ┆           ┆   ┆           ┆ 2         ┆           ┆           │\n",
       "│ 2025-07-16 ┆ 117738.6 ┆ 118755.1 ┆ 0.008597  ┆ … ┆ 100.53633 ┆ 101.40440 ┆ 0.86807   ┆ 0.807488  │\n",
       "│ 00:00:00   ┆          ┆          ┆           ┆   ┆ 2         ┆ 1         ┆           ┆           │\n",
       "│ 2025-07-16 ┆ 118755.1 ┆ 118590.7 ┆ -0.001385 ┆ … ┆ 101.40440 ┆ 101.54497 ┆ 0.140575  ┆ 0.07969   │\n",
       "│ 12:00:00   ┆          ┆          ┆           ┆   ┆ 1         ┆ 6         ┆           ┆           │\n",
       "│ 2025-07-17 ┆ 118590.7 ┆ 117968.9 ┆ -0.005257 ┆ … ┆ 101.54497 ┆ 101.01255 ┆ -0.532425 ┆ -0.593192 │\n",
       "│ 00:00:00   ┆          ┆          ┆           ┆   ┆ 6         ┆ 1         ┆           ┆           │\n",
       "│ 2025-07-17 ┆ 117968.8 ┆ 119176.6 ┆ 0.010185  ┆ … ┆ 101.01255 ┆ 102.04666 ┆ 1.03411   ┆ 0.973193  │\n",
       "│ 12:00:00   ┆          ┆          ┆           ┆   ┆ 1         ┆ 2         ┆           ┆           │\n",
       "│ …          ┆ …        ┆ …        ┆ …         ┆ … ┆ …         ┆ …         ┆ …         ┆ …         │\n",
       "│ 2025-10-07 ┆ 124397.1 ┆ 121286.5 ┆ -0.025324 ┆ … ┆ 128.76148 ┆ 125.54165 ┆ -3.219834 ┆ -3.296125 │\n",
       "│ 12:00:00   ┆          ┆          ┆           ┆   ┆ 7         ┆ 3         ┆           ┆           │\n",
       "│ 2025-10-08 ┆ 121286.6 ┆ 122825.7 ┆ 0.012611  ┆ … ┆ 125.54165 ┆ 127.13485 ┆ 1.5932    ┆ 1.517398  │\n",
       "│ 00:00:00   ┆          ┆          ┆           ┆   ┆ 3         ┆ 4         ┆           ┆           │\n",
       "│ 2025-10-08 ┆ 122825.8 ┆ 123237.5 ┆ 0.003347  ┆ … ┆ 127.13485 ┆ 127.56110 ┆ 0.426247  ┆ 0.349839  │\n",
       "│ 12:00:00   ┆          ┆          ┆           ┆   ┆ 4         ┆ 1         ┆           ┆           │\n",
       "│ 2025-10-09 ┆ 123237.4 ┆ 122672.9 ┆ -0.004592 ┆ … ┆ 127.56110 ┆ 128.14819 ┆ 0.587098  ┆ 0.510385  │\n",
       "│ 00:00:00   ┆          ┆          ┆           ┆   ┆ 1         ┆ 9         ┆           ┆           │\n",
       "│ 2025-10-09 ┆ 122673.0 ┆ 121579.3 ┆ -0.008955 ┆ … ┆ 128.14819 ┆ 127.00578 ┆ -1.142411 ┆ -1.218957 │\n",
       "│ 12:00:00   ┆          ┆          ┆           ┆   ┆ 9         ┆ 8         ┆           ┆           │\n",
       "└────────────┴──────────┴──────────┴───────────┴───┴───────────┴───────────┴───────────┴───────────┘"
      ]
     },
     "execution_count": 150,
     "metadata": {},
     "output_type": "execute_result"
    }
   ],
   "source": [
    "trades = trades.with_columns(\n",
    "    (pl.col('trade_gross_pnl') - pl.col('tx_fee_taker')).alias('trade_net_taker_pnl')\n",
    ")\n",
    "trades.select('datetime','open','close','close_log_return','y_hat','entry_trade_value','exit_trade_value','trade_gross_pnl','trade_net_taker_pnl')"
   ]
  },
  {
   "cell_type": "markdown",
   "id": "abfd648c",
   "metadata": {},
   "source": [
    "### Display Equity Curve (Compounding)"
   ]
  },
  {
   "cell_type": "code",
   "execution_count": 151,
   "id": "f67648aa",
   "metadata": {},
   "outputs": [
    {
     "data": {
      "image/png": "[encoded data removed]",
      "text/plain": [
       "<Figure size 1200x600 with 1 Axes>"
      ]
     },
     "metadata": {},
     "output_type": "display_data"
    }
   ],
   "source": [
    "trades = research.add_equity_curve(trades, capital, 'trade_net_taker_pnl', 'taker')\n",
    "research.plot_static_timeseries(trades, sym, 'equity_curve_taker', time_interval)"
   ]
  },
  {
   "cell_type": "markdown",
   "id": "36821709",
   "metadata": {},
   "source": [
    "### Calculate Total Net Return for Compounding Trade Sizing"
   ]
  },
  {
   "cell_type": "code",
   "execution_count": 152,
   "id": "eacbd1f5",
   "metadata": {},
   "outputs": [
    {
     "data": {
      "text/plain": [
       "0.152678457612067"
      ]
     },
     "execution_count": 152,
     "metadata": {},
     "output_type": "execute_result"
    }
   ],
   "source": [
    "compound_total_net_return = trades['equity_curve_taker'][-1] / capital - 1\n",
    "compound_total_net_return"
   ]
  },
  {
   "cell_type": "code",
   "execution_count": 153,
   "id": "b24f6391",
   "metadata": {},
   "outputs": [
    {
     "data": {
      "text/plain": [
       "0.14410358892170327"
      ]
     },
     "execution_count": 153,
     "metadata": {},
     "output_type": "execute_result"
    }
   ],
   "source": [
    "constant_sizing_net_return"
   ]
  },
  {
   "cell_type": "code",
   "execution_count": 154,
   "id": "c73d6a21",
   "metadata": {},
   "outputs": [
    {
     "data": {
      "text/plain": [
       "np.float64(0.01)"
      ]
     },
     "execution_count": 154,
     "metadata": {},
     "output_type": "execute_result"
    }
   ],
   "source": [
    "np.round(compound_total_net_return - constant_sizing_net_return, 2)"
   ]
  },
  {
   "cell_type": "markdown",
   "id": "28a29908",
   "metadata": {},
   "source": [
    "## Key Strategy Decision #3: Leverage"
   ]
  },
  {
   "cell_type": "code",
   "execution_count": 155,
   "id": "4a6dd3a9",
   "metadata": {},
   "outputs": [],
   "source": [
    "# leverage is borrowing money to increase our profits"
   ]
  },
  {
   "cell_type": "code",
   "execution_count": 156,
   "id": "187097dc",
   "metadata": {},
   "outputs": [
    {
     "data": {
      "text/plain": [
       "400"
      ]
     },
     "execution_count": 156,
     "metadata": {},
     "output_type": "execute_result"
    }
   ],
   "source": [
    "leverage = 4\n",
    "leverage * capital"
   ]
  },
  {
   "cell_type": "code",
   "execution_count": 157,
   "id": "47972ce9",
   "metadata": {},
   "outputs": [],
   "source": [
    "# in theory, we are multiplying our trade size to increase our returns"
   ]
  },
  {
   "cell_type": "code",
   "execution_count": 158,
   "id": "73936bd2",
   "metadata": {},
   "outputs": [],
   "source": [
    "# we are not multiplying our trade returns"
   ]
  },
  {
   "cell_type": "code",
   "execution_count": 159,
   "id": "8badc6a4",
   "metadata": {},
   "outputs": [],
   "source": [
    "# just remember, it amplifies BOTH your profit and losses so it's important to have a postive expected value"
   ]
  },
  {
   "cell_type": "code",
   "execution_count": 160,
   "id": "d882bc60",
   "metadata": {},
   "outputs": [],
   "source": [
    "# leverage only works when you have a high Sharpe model. The more risk you reduce, the more you reduce drawdowns and more leverage you can use"
   ]
  },
  {
   "cell_type": "code",
   "execution_count": 161,
   "id": "c4a4f64a",
   "metadata": {},
   "outputs": [],
   "source": [
    "# key decision 3: should we use leverage? if so, how much? What's the sweet spot?"
   ]
  },
  {
   "cell_type": "code",
   "execution_count": 162,
   "id": "9556db2e",
   "metadata": {},
   "outputs": [],
   "source": [
    "# It's not a golden utopia to multiplying profits, because it can easily wipe you out "
   ]
  },
  {
   "cell_type": "code",
   "execution_count": 163,
   "id": "f8271aed",
   "metadata": {},
   "outputs": [
    {
     "data": {
      "text/html": [
       "<div><style>\n",
       ".dataframe > thead > tr,\n",
       ".dataframe > tbody > tr {\n",
       "  text-align: right;\n",
       "  white-space: pre-wrap;\n",
       "}\n",
       "</style>\n",
       "<small>shape: (173, 27)</small><table border=\"1\" class=\"dataframe\"><thead><tr><th>datetime</th><th>open</th><th>high</th><th>low</th><th>close</th><th>close_log_return</th><th>close_log_return_lag_1</th><th>close_log_return_lag_2</th><th>close_log_return_lag_3</th><th>y_hat</th><th>dir_signal</th><th>trade_log_return</th><th>cum_trade_log_return</th><th>entry_trade_value</th><th>exit_trade_value</th><th>trade_qty</th><th>signed_trade_qty</th><th>trade_gross_pnl</th><th>taker_fee</th><th>maker_fee</th><th>trade_net_taker_pnl</th><th>trade_net_maker_pnl</th><th>equity_curve_taker</th><th>equity_curve_maker</th><th>equity_curve_gross</th><th>tx_fee_maker</th><th>tx_fee_taker</th></tr><tr><td>datetime[μs]</td><td>f64</td><td>f64</td><td>f64</td><td>f64</td><td>f64</td><td>f64</td><td>f64</td><td>f64</td><td>f32</td><td>f32</td><td>f64</td><td>f64</td><td>f64</td><td>f64</td><td>f64</td><td>f64</td><td>f64</td><td>f64</td><td>f64</td><td>f64</td><td>f64</td><td>f64</td><td>f64</td><td>f64</td><td>f64</td><td>f64</td></tr></thead><tbody><tr><td>2025-07-15 12:00:00</td><td>117110.4</td><td>118499.8</td><td>115678.1</td><td>117738.5</td><td>0.005349</td><td>-0.022844</td><td>-0.013743</td><td>0.020259</td><td>0.004543</td><td>1.0</td><td>0.005349</td><td>0.005349</td><td>400.0</td><td>402.145326</td><td>0.000854</td><td>0.003416</td><td>2.145326</td><td>0.060161</td><td>0.020054</td><td>1.904683</td><td>2.065112</td><td>101.904683</td><td>102.065112</td><td>102.145326</td><td>0.080215</td><td>0.240644</td></tr><tr><td>2025-07-16 00:00:00</td><td>117738.6</td><td>119299.9</td><td>117017.1</td><td>118755.1</td><td>0.008597</td><td>0.005349</td><td>-0.022844</td><td>-0.013743</td><td>0.001263</td><td>1.0</td><td>0.008597</td><td>0.013946</td><td>402.145326</td><td>405.617605</td><td>0.000849</td><td>0.003416</td><td>3.472279</td><td>0.060259</td><td>0.020086</td><td>3.22995</td><td>3.391503</td><td>105.134633</td><td>105.456614</td><td>105.617605</td><td>0.080776</td><td>0.242329</td></tr><tr><td>2025-07-16 12:00:00</td><td>118755.1</td><td>120100.0</td><td>118156.0</td><td>118590.7</td><td>-0.001385</td><td>0.008597</td><td>0.005349</td><td>-0.022844</td><td>-0.001228</td><td>-1.0</td><td>0.001385</td><td>0.015332</td><td>405.617605</td><td>406.179905</td><td>0.000842</td><td>-0.003416</td><td>0.5623</td><td>0.060042</td><td>0.020014</td><td>0.318761</td><td>0.48112</td><td>105.453393</td><td>105.937735</td><td>106.179905</td><td>0.08118</td><td>0.243539</td></tr><tr><td>2025-07-17 00:00:00</td><td>118590.7</td><td>119216.4</td><td>117663.6</td><td>117968.9</td><td>-0.005257</td><td>-0.001385</td><td>0.008597</td><td>0.005349</td><td>0.000388</td><td>1.0</td><td>-0.005257</td><td>0.010075</td><td>406.179905</td><td>404.050205</td><td>0.000843</td><td>0.003425</td><td>-2.1297</td><td>0.059843</td><td>0.019948</td><td>-2.372769</td><td>-2.210723</td><td>103.080624</td><td>103.727011</td><td>104.050205</td><td>0.081023</td><td>0.243069</td></tr><tr><td>2025-07-17 12:00:00</td><td>117968.8</td><td>120951.5</td><td>117412.8</td><td>119176.6</td><td>0.010185</td><td>-0.005257</td><td>-0.001385</td><td>0.008597</td><td>0.001554</td><td>1.0</td><td>0.010185</td><td>0.02026</td><td>404.050205</td><td>408.186646</td><td>0.000848</td><td>0.003425</td><td>4.136441</td><td>0.060307</td><td>0.020102</td><td>3.89277</td><td>4.055218</td><td>106.973394</td><td>107.782229</td><td>108.186646</td><td>0.081224</td><td>0.243671</td></tr><tr><td>&hellip;</td><td>&hellip;</td><td>&hellip;</td><td>&hellip;</td><td>&hellip;</td><td>&hellip;</td><td>&hellip;</td><td>&hellip;</td><td>&hellip;</td><td>&hellip;</td><td>&hellip;</td><td>&hellip;</td><td>&hellip;</td><td>&hellip;</td><td>&hellip;</td><td>&hellip;</td><td>&hellip;</td><td>&hellip;</td><td>&hellip;</td><td>&hellip;</td><td>&hellip;</td><td>&hellip;</td><td>&hellip;</td><td>&hellip;</td><td>&hellip;</td><td>&hellip;</td><td>&hellip;</td></tr><tr><td>2025-10-07 12:00:00</td><td>124397.1</td><td>125098.0</td><td>120516.0</td><td>121286.5</td><td>-0.025324</td><td>-0.001858</td><td>0.003757</td><td>0.005933</td><td>0.000779</td><td>1.0</td><td>-0.025324</td><td>0.227467</td><td>515.045949</td><td>502.166612</td><td>0.000804</td><td>0.00414</td><td>-12.879337</td><td>0.05925</td><td>0.01975</td><td>-13.184501</td><td>-12.981058</td><td>156.436727</td><td>186.923317</td><td>202.166612</td><td>0.101721</td><td>0.305164</td></tr><tr><td>2025-10-08 00:00:00</td><td>121286.6</td><td>123150.0</td><td>121005.3</td><td>122825.7</td><td>0.012611</td><td>-0.025324</td><td>-0.001858</td><td>0.003757</td><td>0.003535</td><td>1.0</td><td>0.012611</td><td>0.240078</td><td>502.166612</td><td>508.539414</td><td>0.000824</td><td>0.00414</td><td>6.372802</td><td>0.060381</td><td>0.020127</td><td>6.06959</td><td>6.271731</td><td>162.506317</td><td>193.195048</td><td>208.539414</td><td>0.101071</td><td>0.303212</td></tr><tr><td>2025-10-08 12:00:00</td><td>122825.8</td><td>124170.6</td><td>121607.8</td><td>123237.5</td><td>0.003347</td><td>0.012611</td><td>-0.025324</td><td>-0.001858</td><td>0.001011</td><td>1.0</td><td>0.003347</td><td>0.243425</td><td>508.539414</td><td>510.244404</td><td>0.000814</td><td>0.00414</td><td>1.70499</td><td>0.060101</td><td>0.020034</td><td>1.399354</td><td>1.603111</td><td>163.905672</td><td>194.79816</td><td>210.244404</td><td>0.101878</td><td>0.305635</td></tr><tr><td>2025-10-09 00:00:00</td><td>123237.4</td><td>123279.7</td><td>121081.5</td><td>122672.9</td><td>-0.004592</td><td>0.003347</td><td>0.012611</td><td>-0.025324</td><td>-0.001241</td><td>-1.0</td><td>0.004592</td><td>0.248017</td><td>510.244404</td><td>512.592795</td><td>0.000811</td><td>-0.00414</td><td>2.348391</td><td>0.060138</td><td>0.020046</td><td>2.04154</td><td>2.246108</td><td>165.947212</td><td>197.044267</td><td>212.592795</td><td>0.102284</td><td>0.306851</td></tr><tr><td>2025-10-09 12:00:00</td><td>122673.0</td><td>123740.1</td><td>119572.8</td><td>121579.3</td><td>-0.008955</td><td>-0.004592</td><td>0.003347</td><td>0.012611</td><td>0.00128</td><td>1.0</td><td>-0.008955</td><td>0.239062</td><td>512.592795</td><td>508.023151</td><td>0.000815</td><td>0.004179</td><td>-4.569644</td><td>0.059733</td><td>0.019911</td><td>-4.875829</td><td>-4.671706</td><td>161.071383</td><td>192.372562</td><td>208.023151</td><td>0.102062</td><td>0.306185</td></tr></tbody></table></div>"
      ],
      "text/plain": [
       "shape: (173, 27)\n",
       "┌────────────┬──────────┬──────────┬──────────┬───┬────────────┬───────────┬───────────┬───────────┐\n",
       "│ datetime   ┆ open     ┆ high     ┆ low      ┆ … ┆ equity_cur ┆ equity_cu ┆ tx_fee_ma ┆ tx_fee_ta │\n",
       "│ ---        ┆ ---      ┆ ---      ┆ ---      ┆   ┆ ve_maker   ┆ rve_gross ┆ ker       ┆ ker       │\n",
       "│ datetime[μ ┆ f64      ┆ f64      ┆ f64      ┆   ┆ ---        ┆ ---       ┆ ---       ┆ ---       │\n",
       "│ s]         ┆          ┆          ┆          ┆   ┆ f64        ┆ f64       ┆ f64       ┆ f64       │\n",
       "╞════════════╪══════════╪══════════╪══════════╪═══╪════════════╪═══════════╪═══════════╪═══════════╡\n",
       "│ 2025-07-15 ┆ 117110.4 ┆ 118499.8 ┆ 115678.1 ┆ … ┆ 102.065112 ┆ 102.14532 ┆ 0.080215  ┆ 0.240644  │\n",
       "│ 12:00:00   ┆          ┆          ┆          ┆   ┆            ┆ 6         ┆           ┆           │\n",
       "│ 2025-07-16 ┆ 117738.6 ┆ 119299.9 ┆ 117017.1 ┆ … ┆ 105.456614 ┆ 105.61760 ┆ 0.080776  ┆ 0.242329  │\n",
       "│ 00:00:00   ┆          ┆          ┆          ┆   ┆            ┆ 5         ┆           ┆           │\n",
       "│ 2025-07-16 ┆ 118755.1 ┆ 120100.0 ┆ 118156.0 ┆ … ┆ 105.937735 ┆ 106.17990 ┆ 0.08118   ┆ 0.243539  │\n",
       "│ 12:00:00   ┆          ┆          ┆          ┆   ┆            ┆ 5         ┆           ┆           │\n",
       "│ 2025-07-17 ┆ 118590.7 ┆ 119216.4 ┆ 117663.6 ┆ … ┆ 103.727011 ┆ 104.05020 ┆ 0.081023  ┆ 0.243069  │\n",
       "│ 00:00:00   ┆          ┆          ┆          ┆   ┆            ┆ 5         ┆           ┆           │\n",
       "│ 2025-07-17 ┆ 117968.8 ┆ 120951.5 ┆ 117412.8 ┆ … ┆ 107.782229 ┆ 108.18664 ┆ 0.081224  ┆ 0.243671  │\n",
       "│ 12:00:00   ┆          ┆          ┆          ┆   ┆            ┆ 6         ┆           ┆           │\n",
       "│ …          ┆ …        ┆ …        ┆ …        ┆ … ┆ …          ┆ …         ┆ …         ┆ …         │\n",
       "│ 2025-10-07 ┆ 124397.1 ┆ 125098.0 ┆ 120516.0 ┆ … ┆ 186.923317 ┆ 202.16661 ┆ 0.101721  ┆ 0.305164  │\n",
       "│ 12:00:00   ┆          ┆          ┆          ┆   ┆            ┆ 2         ┆           ┆           │\n",
       "│ 2025-10-08 ┆ 121286.6 ┆ 123150.0 ┆ 121005.3 ┆ … ┆ 193.195048 ┆ 208.53941 ┆ 0.101071  ┆ 0.303212  │\n",
       "│ 00:00:00   ┆          ┆          ┆          ┆   ┆            ┆ 4         ┆           ┆           │\n",
       "│ 2025-10-08 ┆ 122825.8 ┆ 124170.6 ┆ 121607.8 ┆ … ┆ 194.79816  ┆ 210.24440 ┆ 0.101878  ┆ 0.305635  │\n",
       "│ 12:00:00   ┆          ┆          ┆          ┆   ┆            ┆ 4         ┆           ┆           │\n",
       "│ 2025-10-09 ┆ 123237.4 ┆ 123279.7 ┆ 121081.5 ┆ … ┆ 197.044267 ┆ 212.59279 ┆ 0.102284  ┆ 0.306851  │\n",
       "│ 00:00:00   ┆          ┆          ┆          ┆   ┆            ┆ 5         ┆           ┆           │\n",
       "│ 2025-10-09 ┆ 122673.0 ┆ 123740.1 ┆ 119572.8 ┆ … ┆ 192.372562 ┆ 208.02315 ┆ 0.102062  ┆ 0.306185  │\n",
       "│ 12:00:00   ┆          ┆          ┆          ┆   ┆            ┆ 1         ┆           ┆           │\n",
       "└────────────┴──────────┴──────────┴──────────┴───┴────────────┴───────────┴───────────┴───────────┘"
      ]
     },
     "execution_count": 163,
     "metadata": {},
     "output_type": "execute_result"
    }
   ],
   "source": [
    "trades = research.add_compounding_trades(trades, capital, leverage, maker_fee, taker_fee)\n",
    "trades"
   ]
  },
  {
   "cell_type": "code",
   "execution_count": 164,
   "id": "7d6c0443",
   "metadata": {},
   "outputs": [
    {
     "data": {
      "text/plain": [
       "0.610713830448268"
      ]
     },
     "execution_count": 164,
     "metadata": {},
     "output_type": "execute_result"
    }
   ],
   "source": [
    "trades['equity_curve_taker'][-1] / capital - 1"
   ]
  },
  {
   "cell_type": "markdown",
   "id": "c6f64069",
   "metadata": {},
   "source": [
    "## What if we increase to 8x leverage?"
   ]
  },
  {
   "cell_type": "code",
   "execution_count": 165,
   "id": "5beb455f",
   "metadata": {},
   "outputs": [],
   "source": [
    "trades = research.add_compounding_trades(trades, capital, 8, maker_fee, taker_fee)"
   ]
  },
  {
   "cell_type": "code",
   "execution_count": 166,
   "id": "082db735",
   "metadata": {},
   "outputs": [
    {
     "data": {
      "text/plain": [
       "1.2214276608965364"
      ]
     },
     "execution_count": 166,
     "metadata": {},
     "output_type": "execute_result"
    }
   ],
   "source": [
    "trades['equity_curve_taker'][-1] / capital - 1"
   ]
  },
  {
   "cell_type": "code",
   "execution_count": 167,
   "id": "2977672c",
   "metadata": {},
   "outputs": [],
   "source": [
    "# reason for this huge return is the combination of model's edge, compounding and leverage"
   ]
  },
  {
   "cell_type": "code",
   "execution_count": 168,
   "id": "7ddef57a",
   "metadata": {},
   "outputs": [],
   "source": [
    "# this is possible on a small scale because we trading such small size that we are not moving markets around"
   ]
  },
  {
   "cell_type": "code",
   "execution_count": 169,
   "id": "5cd558d8",
   "metadata": {},
   "outputs": [],
   "source": [
    "# show win rate to show there's no manipulation to make the PnL look good"
   ]
  },
  {
   "cell_type": "markdown",
   "id": "8312f837",
   "metadata": {},
   "source": [
    "### Win Rate hasn't changed"
   ]
  },
  {
   "cell_type": "code",
   "execution_count": 170,
   "id": "0f3c07d9",
   "metadata": {},
   "outputs": [
    {
     "data": {
      "text/html": [
       "<div><style>\n",
       ".dataframe > thead > tr,\n",
       ".dataframe > tbody > tr {\n",
       "  text-align: right;\n",
       "  white-space: pre-wrap;\n",
       "}\n",
       "</style>\n",
       "<small>shape: (1, 1)</small><table border=\"1\" class=\"dataframe\"><thead><tr><th>trade_log_return</th></tr><tr><td>f64</td></tr></thead><tbody><tr><td>0.560694</td></tr></tbody></table></div>"
      ],
      "text/plain": [
       "shape: (1, 1)\n",
       "┌──────────────────┐\n",
       "│ trade_log_return │\n",
       "│ ---              │\n",
       "│ f64              │\n",
       "╞══════════════════╡\n",
       "│ 0.560694         │\n",
       "└──────────────────┘"
      ]
     },
     "execution_count": 170,
     "metadata": {},
     "output_type": "execute_result"
    }
   ],
   "source": [
    "trades.select((pl.col(\"trade_log_return\") > 0).mean())"
   ]
  },
  {
   "cell_type": "markdown",
   "id": "9e3d0f65",
   "metadata": {},
   "source": [
    "### Factor Liquidation (price moves against us too much)"
   ]
  },
  {
   "cell_type": "code",
   "execution_count": 171,
   "id": "42146ef6",
   "metadata": {},
   "outputs": [],
   "source": [
    "# Liquidation is when we go bust. If use too much leverage, then a small price change can wipe us out. "
   ]
  },
  {
   "cell_type": "code",
   "execution_count": 172,
   "id": "b9f83c1a",
   "metadata": {},
   "outputs": [],
   "source": [
    "# leverage is a double edged sword. you can amplify profits, but too much leverage and you can wipe out all your money"
   ]
  },
  {
   "cell_type": "code",
   "execution_count": 173,
   "id": "23c991d7",
   "metadata": {},
   "outputs": [],
   "source": [
    "# Equity = Maintenance Margin\n",
    "# calulcation differs from different exchanges"
   ]
  },
  {
   "cell_type": "code",
   "execution_count": 174,
   "id": "a9c44066",
   "metadata": {},
   "outputs": [],
   "source": [
    "maintenance_margin = 0.005\n",
    "\n",
    "def long_liquidation_price(p, l, mmr):\n",
    "    return (p * l) / (l + 1 - mmr * l)\n",
    "\n",
    "def short_liquidation_price(p, l, mmr):\n",
    "    return (p * l) / (l - 1 + mmr * l)"
   ]
  },
  {
   "cell_type": "markdown",
   "id": "8bf692b7",
   "metadata": {},
   "source": [
    "### show how leverage affects long positions"
   ]
  },
  {
   "cell_type": "code",
   "execution_count": 175,
   "id": "10931d9e",
   "metadata": {},
   "outputs": [
    {
     "data": {
      "text/plain": [
       "133.7792642140468"
      ]
     },
     "execution_count": 175,
     "metadata": {},
     "output_type": "execute_result"
    }
   ],
   "source": [
    "long_liquidation_price(200, 2, maintenance_margin)"
   ]
  },
  {
   "cell_type": "code",
   "execution_count": 176,
   "id": "c6603ae3",
   "metadata": {},
   "outputs": [
    {
     "data": {
      "text/plain": [
       "160.64257028112448"
      ]
     },
     "execution_count": 176,
     "metadata": {},
     "output_type": "execute_result"
    }
   ],
   "source": [
    "long_liquidation_price(200, 4, maintenance_margin)"
   ]
  },
  {
   "cell_type": "code",
   "execution_count": 177,
   "id": "1a819e9a",
   "metadata": {},
   "outputs": [
    {
     "data": {
      "text/plain": [
       "182.64840182648402"
      ]
     },
     "execution_count": 177,
     "metadata": {},
     "output_type": "execute_result"
    }
   ],
   "source": [
    "long_liquidation_price(200, 10, maintenance_margin)"
   ]
  },
  {
   "cell_type": "code",
   "execution_count": 178,
   "id": "eb433108",
   "metadata": {},
   "outputs": [
    {
     "data": {
      "text/plain": [
       "197.04433497536945"
      ]
     },
     "execution_count": 178,
     "metadata": {},
     "output_type": "execute_result"
    }
   ],
   "source": [
    "long_liquidation_price(200, 50, maintenance_margin)"
   ]
  },
  {
   "cell_type": "markdown",
   "id": "fef048f3",
   "metadata": {},
   "source": [
    "### show how leverage affects short positions"
   ]
  },
  {
   "cell_type": "code",
   "execution_count": 179,
   "id": "830a4cb5",
   "metadata": {},
   "outputs": [
    {
     "data": {
      "text/plain": [
       "396.03960396039605"
      ]
     },
     "execution_count": 179,
     "metadata": {},
     "output_type": "execute_result"
    }
   ],
   "source": [
    "short_liquidation_price(200, 2, maintenance_margin)"
   ]
  },
  {
   "cell_type": "code",
   "execution_count": 180,
   "id": "9c9552df",
   "metadata": {},
   "outputs": [
    {
     "data": {
      "text/plain": [
       "264.9006622516556"
      ]
     },
     "execution_count": 180,
     "metadata": {},
     "output_type": "execute_result"
    }
   ],
   "source": [
    "short_liquidation_price(200, 4, maintenance_margin)"
   ]
  },
  {
   "cell_type": "code",
   "execution_count": 181,
   "id": "740debd6",
   "metadata": {},
   "outputs": [
    {
     "data": {
      "text/plain": [
       "220.99447513812152"
      ]
     },
     "execution_count": 181,
     "metadata": {},
     "output_type": "execute_result"
    }
   ],
   "source": [
    "short_liquidation_price(200, 10, maintenance_margin)"
   ]
  },
  {
   "cell_type": "code",
   "execution_count": 182,
   "id": "4318d4b3",
   "metadata": {},
   "outputs": [
    {
     "data": {
      "text/plain": [
       "202.36087689713324"
      ]
     },
     "execution_count": 182,
     "metadata": {},
     "output_type": "execute_result"
    }
   ],
   "source": [
    "short_liquidation_price(200, 60, maintenance_margin)"
   ]
  },
  {
   "cell_type": "markdown",
   "id": "83028cab",
   "metadata": {},
   "source": [
    "### Add Liquidation Prices"
   ]
  },
  {
   "cell_type": "code",
   "execution_count": 183,
   "id": "56c8fe70",
   "metadata": {},
   "outputs": [
    {
     "data": {
      "text/plain": [
       "4"
      ]
     },
     "execution_count": 183,
     "metadata": {},
     "output_type": "execute_result"
    }
   ],
   "source": [
    "leverage"
   ]
  },
  {
   "cell_type": "code",
   "execution_count": 184,
   "id": "091d3f46",
   "metadata": {},
   "outputs": [
    {
     "data": {
      "text/html": [
       "<div><style>\n",
       ".dataframe > thead > tr,\n",
       ".dataframe > tbody > tr {\n",
       "  text-align: right;\n",
       "  white-space: pre-wrap;\n",
       "}\n",
       "</style>\n",
       "<small>shape: (173, 7)</small><table border=\"1\" class=\"dataframe\"><thead><tr><th>datetime</th><th>open</th><th>high</th><th>low</th><th>close</th><th>liquidation_price</th><th>dir_signal</th></tr><tr><td>datetime[μs]</td><td>f64</td><td>f64</td><td>f64</td><td>f64</td><td>f64</td><td>f32</td></tr></thead><tbody><tr><td>2025-07-15 12:00:00</td><td>117110.4</td><td>118499.8</td><td>115678.1</td><td>117738.5</td><td>94064.578313</td><td>1.0</td></tr><tr><td>2025-07-16 00:00:00</td><td>117738.6</td><td>119299.9</td><td>117017.1</td><td>118755.1</td><td>94569.156627</td><td>1.0</td></tr><tr><td>2025-07-16 12:00:00</td><td>118755.1</td><td>120100.0</td><td>118156.0</td><td>118590.7</td><td>157291.523179</td><td>-1.0</td></tr><tr><td>2025-07-17 00:00:00</td><td>118590.7</td><td>119216.4</td><td>117663.6</td><td>117968.9</td><td>95253.574297</td><td>1.0</td></tr><tr><td>2025-07-17 12:00:00</td><td>117968.8</td><td>120951.5</td><td>117412.8</td><td>119176.6</td><td>94754.056225</td><td>1.0</td></tr><tr><td>&hellip;</td><td>&hellip;</td><td>&hellip;</td><td>&hellip;</td><td>&hellip;</td><td>&hellip;</td><td>&hellip;</td></tr><tr><td>2025-10-07 12:00:00</td><td>124397.1</td><td>125098.0</td><td>120516.0</td><td>121286.5</td><td>99917.349398</td><td>1.0</td></tr><tr><td>2025-10-08 00:00:00</td><td>121286.6</td><td>123150.0</td><td>121005.3</td><td>122825.7</td><td>97418.955823</td><td>1.0</td></tr><tr><td>2025-10-08 12:00:00</td><td>122825.8</td><td>124170.6</td><td>121607.8</td><td>123237.5</td><td>98655.261044</td><td>1.0</td></tr><tr><td>2025-10-09 00:00:00</td><td>123237.4</td><td>123279.7</td><td>121081.5</td><td>122672.9</td><td>163228.344371</td><td>-1.0</td></tr><tr><td>2025-10-09 12:00:00</td><td>122673.0</td><td>123740.1</td><td>119572.8</td><td>121579.3</td><td>98532.53012</td><td>1.0</td></tr></tbody></table></div>"
      ],
      "text/plain": [
       "shape: (173, 7)\n",
       "┌─────────────────────┬──────────┬──────────┬──────────┬──────────┬───────────────────┬────────────┐\n",
       "│ datetime            ┆ open     ┆ high     ┆ low      ┆ close    ┆ liquidation_price ┆ dir_signal │\n",
       "│ ---                 ┆ ---      ┆ ---      ┆ ---      ┆ ---      ┆ ---               ┆ ---        │\n",
       "│ datetime[μs]        ┆ f64      ┆ f64      ┆ f64      ┆ f64      ┆ f64               ┆ f32        │\n",
       "╞═════════════════════╪══════════╪══════════╪══════════╪══════════╪═══════════════════╪════════════╡\n",
       "│ 2025-07-15 12:00:00 ┆ 117110.4 ┆ 118499.8 ┆ 115678.1 ┆ 117738.5 ┆ 94064.578313      ┆ 1.0        │\n",
       "│ 2025-07-16 00:00:00 ┆ 117738.6 ┆ 119299.9 ┆ 117017.1 ┆ 118755.1 ┆ 94569.156627      ┆ 1.0        │\n",
       "│ 2025-07-16 12:00:00 ┆ 118755.1 ┆ 120100.0 ┆ 118156.0 ┆ 118590.7 ┆ 157291.523179     ┆ -1.0       │\n",
       "│ 2025-07-17 00:00:00 ┆ 118590.7 ┆ 119216.4 ┆ 117663.6 ┆ 117968.9 ┆ 95253.574297      ┆ 1.0        │\n",
       "│ 2025-07-17 12:00:00 ┆ 117968.8 ┆ 120951.5 ┆ 117412.8 ┆ 119176.6 ┆ 94754.056225      ┆ 1.0        │\n",
       "│ …                   ┆ …        ┆ …        ┆ …        ┆ …        ┆ …                 ┆ …          │\n",
       "│ 2025-10-07 12:00:00 ┆ 124397.1 ┆ 125098.0 ┆ 120516.0 ┆ 121286.5 ┆ 99917.349398      ┆ 1.0        │\n",
       "│ 2025-10-08 00:00:00 ┆ 121286.6 ┆ 123150.0 ┆ 121005.3 ┆ 122825.7 ┆ 97418.955823      ┆ 1.0        │\n",
       "│ 2025-10-08 12:00:00 ┆ 122825.8 ┆ 124170.6 ┆ 121607.8 ┆ 123237.5 ┆ 98655.261044      ┆ 1.0        │\n",
       "│ 2025-10-09 00:00:00 ┆ 123237.4 ┆ 123279.7 ┆ 121081.5 ┆ 122672.9 ┆ 163228.344371     ┆ -1.0       │\n",
       "│ 2025-10-09 12:00:00 ┆ 122673.0 ┆ 123740.1 ┆ 119572.8 ┆ 121579.3 ┆ 98532.53012       ┆ 1.0        │\n",
       "└─────────────────────┴──────────┴──────────┴──────────┴──────────┴───────────────────┴────────────┘"
      ]
     },
     "execution_count": 184,
     "metadata": {},
     "output_type": "execute_result"
    }
   ],
   "source": [
    "\n",
    "trades = trades.with_columns(\n",
    "    pl.when(pl.col(\"dir_signal\") == 1)  # long position\n",
    "      .then(\n",
    "          (pl.col(\"open\") * leverage)\n",
    "          / (leverage + 1 - maintenance_margin * leverage)\n",
    "      )\n",
    "      .when(pl.col(\"dir_signal\") == -1)  # short position\n",
    "      .then(\n",
    "          (pl.col(\"open\") * leverage)\n",
    "          / (leverage - 1 + maintenance_margin * leverage)\n",
    "      )\n",
    "      .otherwise(None)\n",
    "      .alias(\"liquidation_price\")\n",
    ")\n",
    "trades.select('datetime','open','high','low','close','liquidation_price','dir_signal')"
   ]
  },
  {
   "cell_type": "markdown",
   "id": "68f72677",
   "metadata": {},
   "source": [
    "### Add Liquidation Flag"
   ]
  },
  {
   "cell_type": "code",
   "execution_count": 185,
   "id": "dd40542f",
   "metadata": {},
   "outputs": [
    {
     "data": {
      "text/html": [
       "<div><style>\n",
       ".dataframe > thead > tr,\n",
       ".dataframe > tbody > tr {\n",
       "  text-align: right;\n",
       "  white-space: pre-wrap;\n",
       "}\n",
       "</style>\n",
       "<small>shape: (173, 9)</small><table border=\"1\" class=\"dataframe\"><thead><tr><th>datetime</th><th>open</th><th>low</th><th>high</th><th>close</th><th>dir_signal</th><th>worst_price</th><th>liquidation_price</th><th>liquidated</th></tr><tr><td>datetime[μs]</td><td>f64</td><td>f64</td><td>f64</td><td>f64</td><td>f32</td><td>f64</td><td>f64</td><td>bool</td></tr></thead><tbody><tr><td>2025-07-15 12:00:00</td><td>117110.4</td><td>115678.1</td><td>118499.8</td><td>117738.5</td><td>1.0</td><td>115678.1</td><td>94064.578313</td><td>false</td></tr><tr><td>2025-07-16 00:00:00</td><td>117738.6</td><td>117017.1</td><td>119299.9</td><td>118755.1</td><td>1.0</td><td>117017.1</td><td>94569.156627</td><td>false</td></tr><tr><td>2025-07-16 12:00:00</td><td>118755.1</td><td>118156.0</td><td>120100.0</td><td>118590.7</td><td>-1.0</td><td>120100.0</td><td>157291.523179</td><td>false</td></tr><tr><td>2025-07-17 00:00:00</td><td>118590.7</td><td>117663.6</td><td>119216.4</td><td>117968.9</td><td>1.0</td><td>117663.6</td><td>95253.574297</td><td>false</td></tr><tr><td>2025-07-17 12:00:00</td><td>117968.8</td><td>117412.8</td><td>120951.5</td><td>119176.6</td><td>1.0</td><td>117412.8</td><td>94754.056225</td><td>false</td></tr><tr><td>&hellip;</td><td>&hellip;</td><td>&hellip;</td><td>&hellip;</td><td>&hellip;</td><td>&hellip;</td><td>&hellip;</td><td>&hellip;</td><td>&hellip;</td></tr><tr><td>2025-10-07 12:00:00</td><td>124397.1</td><td>120516.0</td><td>125098.0</td><td>121286.5</td><td>1.0</td><td>120516.0</td><td>99917.349398</td><td>false</td></tr><tr><td>2025-10-08 00:00:00</td><td>121286.6</td><td>121005.3</td><td>123150.0</td><td>122825.7</td><td>1.0</td><td>121005.3</td><td>97418.955823</td><td>false</td></tr><tr><td>2025-10-08 12:00:00</td><td>122825.8</td><td>121607.8</td><td>124170.6</td><td>123237.5</td><td>1.0</td><td>121607.8</td><td>98655.261044</td><td>false</td></tr><tr><td>2025-10-09 00:00:00</td><td>123237.4</td><td>121081.5</td><td>123279.7</td><td>122672.9</td><td>-1.0</td><td>123279.7</td><td>163228.344371</td><td>false</td></tr><tr><td>2025-10-09 12:00:00</td><td>122673.0</td><td>119572.8</td><td>123740.1</td><td>121579.3</td><td>1.0</td><td>119572.8</td><td>98532.53012</td><td>false</td></tr></tbody></table></div>"
      ],
      "text/plain": [
       "shape: (173, 9)\n",
       "┌────────────┬──────────┬──────────┬──────────┬───┬────────────┬───────────┬───────────┬───────────┐\n",
       "│ datetime   ┆ open     ┆ low      ┆ high     ┆ … ┆ dir_signal ┆ worst_pri ┆ liquidati ┆ liquidate │\n",
       "│ ---        ┆ ---      ┆ ---      ┆ ---      ┆   ┆ ---        ┆ ce        ┆ on_price  ┆ d         │\n",
       "│ datetime[μ ┆ f64      ┆ f64      ┆ f64      ┆   ┆ f32        ┆ ---       ┆ ---       ┆ ---       │\n",
       "│ s]         ┆          ┆          ┆          ┆   ┆            ┆ f64       ┆ f64       ┆ bool      │\n",
       "╞════════════╪══════════╪══════════╪══════════╪═══╪════════════╪═══════════╪═══════════╪═══════════╡\n",
       "│ 2025-07-15 ┆ 117110.4 ┆ 115678.1 ┆ 118499.8 ┆ … ┆ 1.0        ┆ 115678.1  ┆ 94064.578 ┆ false     │\n",
       "│ 12:00:00   ┆          ┆          ┆          ┆   ┆            ┆           ┆ 313       ┆           │\n",
       "│ 2025-07-16 ┆ 117738.6 ┆ 117017.1 ┆ 119299.9 ┆ … ┆ 1.0        ┆ 117017.1  ┆ 94569.156 ┆ false     │\n",
       "│ 00:00:00   ┆          ┆          ┆          ┆   ┆            ┆           ┆ 627       ┆           │\n",
       "│ 2025-07-16 ┆ 118755.1 ┆ 118156.0 ┆ 120100.0 ┆ … ┆ -1.0       ┆ 120100.0  ┆ 157291.52 ┆ false     │\n",
       "│ 12:00:00   ┆          ┆          ┆          ┆   ┆            ┆           ┆ 3179      ┆           │\n",
       "│ 2025-07-17 ┆ 118590.7 ┆ 117663.6 ┆ 119216.4 ┆ … ┆ 1.0        ┆ 117663.6  ┆ 95253.574 ┆ false     │\n",
       "│ 00:00:00   ┆          ┆          ┆          ┆   ┆            ┆           ┆ 297       ┆           │\n",
       "│ 2025-07-17 ┆ 117968.8 ┆ 117412.8 ┆ 120951.5 ┆ … ┆ 1.0        ┆ 117412.8  ┆ 94754.056 ┆ false     │\n",
       "│ 12:00:00   ┆          ┆          ┆          ┆   ┆            ┆           ┆ 225       ┆           │\n",
       "│ …          ┆ …        ┆ …        ┆ …        ┆ … ┆ …          ┆ …         ┆ …         ┆ …         │\n",
       "│ 2025-10-07 ┆ 124397.1 ┆ 120516.0 ┆ 125098.0 ┆ … ┆ 1.0        ┆ 120516.0  ┆ 99917.349 ┆ false     │\n",
       "│ 12:00:00   ┆          ┆          ┆          ┆   ┆            ┆           ┆ 398       ┆           │\n",
       "│ 2025-10-08 ┆ 121286.6 ┆ 121005.3 ┆ 123150.0 ┆ … ┆ 1.0        ┆ 121005.3  ┆ 97418.955 ┆ false     │\n",
       "│ 00:00:00   ┆          ┆          ┆          ┆   ┆            ┆           ┆ 823       ┆           │\n",
       "│ 2025-10-08 ┆ 122825.8 ┆ 121607.8 ┆ 124170.6 ┆ … ┆ 1.0        ┆ 121607.8  ┆ 98655.261 ┆ false     │\n",
       "│ 12:00:00   ┆          ┆          ┆          ┆   ┆            ┆           ┆ 044       ┆           │\n",
       "│ 2025-10-09 ┆ 123237.4 ┆ 121081.5 ┆ 123279.7 ┆ … ┆ -1.0       ┆ 123279.7  ┆ 163228.34 ┆ false     │\n",
       "│ 00:00:00   ┆          ┆          ┆          ┆   ┆            ┆           ┆ 4371      ┆           │\n",
       "│ 2025-10-09 ┆ 122673.0 ┆ 119572.8 ┆ 123740.1 ┆ … ┆ 1.0        ┆ 119572.8  ┆ 98532.530 ┆ false     │\n",
       "│ 12:00:00   ┆          ┆          ┆          ┆   ┆            ┆           ┆ 12        ┆           │\n",
       "└────────────┴──────────┴──────────┴──────────┴───┴────────────┴───────────┴───────────┴───────────┘"
      ]
     },
     "execution_count": 185,
     "metadata": {},
     "output_type": "execute_result"
    }
   ],
   "source": [
    "trades = trades.with_columns([\n",
    "    # Worst price based on direction\n",
    "    pl.when(pl.col(\"dir_signal\") == 1)\n",
    "      .then(pl.col(\"low\"))\n",
    "      .otherwise(pl.col(\"high\"))\n",
    "      .alias(\"worst_price\"),\n",
    "\n",
    "    # Liquidation flag\n",
    "    pl.when(\n",
    "        (pl.col(\"dir_signal\") == 1) & (pl.col(\"low\") <= pl.col(\"liquidation_price\"))\n",
    "    )\n",
    "    .then(True)\n",
    "    .when(\n",
    "        (pl.col(\"dir_signal\") == -1) & (pl.col(\"high\") >= pl.col(\"liquidation_price\"))\n",
    "    )\n",
    "    .then(True)\n",
    "    .otherwise(False)\n",
    "    .alias(\"liquidated\")\n",
    "])\n",
    "trades.select('datetime','open','low','high','close','dir_signal','worst_price','liquidation_price','liquidated')"
   ]
  },
  {
   "cell_type": "markdown",
   "id": "18cab73e",
   "metadata": {},
   "source": [
    "### Find Liquidated Trades"
   ]
  },
  {
   "cell_type": "code",
   "execution_count": 186,
   "id": "16c82ae9",
   "metadata": {},
   "outputs": [
    {
     "data": {
      "text/html": [
       "<div><style>\n",
       ".dataframe > thead > tr,\n",
       ".dataframe > tbody > tr {\n",
       "  text-align: right;\n",
       "  white-space: pre-wrap;\n",
       "}\n",
       "</style>\n",
       "<small>shape: (0, 30)</small><table border=\"1\" class=\"dataframe\"><thead><tr><th>datetime</th><th>open</th><th>high</th><th>low</th><th>close</th><th>close_log_return</th><th>close_log_return_lag_1</th><th>close_log_return_lag_2</th><th>close_log_return_lag_3</th><th>y_hat</th><th>dir_signal</th><th>trade_log_return</th><th>cum_trade_log_return</th><th>entry_trade_value</th><th>exit_trade_value</th><th>trade_qty</th><th>signed_trade_qty</th><th>trade_gross_pnl</th><th>taker_fee</th><th>maker_fee</th><th>trade_net_taker_pnl</th><th>trade_net_maker_pnl</th><th>equity_curve_taker</th><th>equity_curve_maker</th><th>equity_curve_gross</th><th>tx_fee_maker</th><th>tx_fee_taker</th><th>liquidation_price</th><th>worst_price</th><th>liquidated</th></tr><tr><td>datetime[μs]</td><td>f64</td><td>f64</td><td>f64</td><td>f64</td><td>f64</td><td>f64</td><td>f64</td><td>f64</td><td>f32</td><td>f32</td><td>f64</td><td>f64</td><td>f64</td><td>f64</td><td>f64</td><td>f64</td><td>f64</td><td>f64</td><td>f64</td><td>f64</td><td>f64</td><td>f64</td><td>f64</td><td>f64</td><td>f64</td><td>f64</td><td>f64</td><td>f64</td><td>bool</td></tr></thead><tbody></tbody></table></div>"
      ],
      "text/plain": [
       "shape: (0, 30)\n",
       "┌──────────────┬──────┬──────┬─────┬───┬──────────────┬─────────────────┬─────────────┬────────────┐\n",
       "│ datetime     ┆ open ┆ high ┆ low ┆ … ┆ tx_fee_taker ┆ liquidation_pri ┆ worst_price ┆ liquidated │\n",
       "│ ---          ┆ ---  ┆ ---  ┆ --- ┆   ┆ ---          ┆ ce              ┆ ---         ┆ ---        │\n",
       "│ datetime[μs] ┆ f64  ┆ f64  ┆ f64 ┆   ┆ f64          ┆ ---             ┆ f64         ┆ bool       │\n",
       "│              ┆      ┆      ┆     ┆   ┆              ┆ f64             ┆             ┆            │\n",
       "╞══════════════╪══════╪══════╪═════╪═══╪══════════════╪═════════════════╪═════════════╪════════════╡\n",
       "└──────────────┴──────┴──────┴─────┴───┴──────────────┴─────────────────┴─────────────┴────────────┘"
      ]
     },
     "execution_count": 186,
     "metadata": {},
     "output_type": "execute_result"
    }
   ],
   "source": [
    "trades.filter(pl.col(\"liquidated\") == True)"
   ]
  },
  {
   "cell_type": "code",
   "execution_count": 187,
   "id": "8345403f",
   "metadata": {},
   "outputs": [],
   "source": [
    "# second part finished\n",
    "# third part is coding this all up and putting this all into action - where i am going to put this live with small amount of money\n",
    "\n",
    "# topics we haven't covered - this is just a foundation to build upon\n",
    "# alpha decay (also known as model drift) => where the prediction performance drifts => \n",
    "# market impact => we are not trading big sizes => if we were, we could potentially move markets against us\n",
    "# funding fees/rebates\n",
    "# slippage => we may not always get the best price, we may get executed at prices below top of the book (best bid/ask)\n",
    "\n",
    "# please like and subscribe as this is my feedback signal to know that you want a final video in this series\n",
    "# feel free to leave a comment dowb below - your feedback is very important. \n",
    "\n",
    "# i really enjoyed making this video and hope you like it too.\n",
    "\n",
    "# Over and out"
   ]
  }
 ],
 "metadata": {
  "kernelspec": {
   "display_name": "research",
   "language": "python",
   "name": "python3"
  },
  "language_info": {
   "codemirror_mode": {
    "name": "ipython",
    "version": 3
   },
   "file_extension": ".py",
   "mimetype": "text/x-python",
   "name": "python",
   "nbconvert_exporter": "python",
   "pygments_lexer": "ipython3",
   "version": "3.12.8"
  }
 },
 "nbformat": 4,
 "nbformat_minor": 5
}
