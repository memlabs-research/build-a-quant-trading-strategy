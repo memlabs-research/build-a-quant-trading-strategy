{
 "cells": [
  {
   "cell_type": "markdown",
   "id": "0a7adc3a",
   "metadata": {},
   "source": [
    "# Let's Build a Quant Trading Strategy - Part 3"
   ]
  },
  {
   "cell_type": "code",
   "execution_count": 480,
   "id": "9a85e197",
   "metadata": {},
   "outputs": [],
   "source": [
    "# 1st video = Research\n",
    "# 2nd video = Strategy\n",
    "# 3rd video = Implementation\n",
    "\n",
    "# I strongly recommend to watch the first and second video but I try to make them independent by recapping"
   ]
  },
  {
   "cell_type": "code",
   "execution_count": 481,
   "id": "2f7386a1",
   "metadata": {},
   "outputs": [],
   "source": [
    "# y_hat = model(x)           (Research)\n",
    "# orders = strategy(y_hat)   (Strategy)\n",
    "# execute(orders)"
   ]
  },
  {
   "cell_type": "code",
   "execution_count": 482,
   "id": "c737c7a9",
   "metadata": {},
   "outputs": [],
   "source": [
    "# like cooking, we got the ingredients and recipe and now just need to put to together"
   ]
  },
  {
   "cell_type": "code",
   "execution_count": 483,
   "id": "61f8f159",
   "metadata": {},
   "outputs": [],
   "source": [
    "# if anything is not clear, please feel free to ask in the comments. i respond to all questions."
   ]
  },
  {
   "cell_type": "markdown",
   "id": "df1ab3cd",
   "metadata": {},
   "source": [
    "## Goals"
   ]
  },
  {
   "cell_type": "code",
   "execution_count": 484,
   "id": "00995cf6",
   "metadata": {},
   "outputs": [],
   "source": [
    "# 1. Code it all together in Python (Model + Strategy)\n",
    "# 2. Show how to build a scalable trading system (very easy to create strategies)\n",
    "# 3. Put it live with real money to see how it performs"
   ]
  },
  {
   "cell_type": "code",
   "execution_count": 485,
   "id": "d3b6cb8e",
   "metadata": {},
   "outputs": [],
   "source": [
    "# Let's say it doesn't perform well as expected\n",
    "# Still lots of education value because you will learn model drifting - where the performance detoriates\n",
    "# The pattern it learn starts to weaken (you might hear this be called alpha decay but it's mode drifting)\n"
   ]
  },
  {
   "cell_type": "markdown",
   "id": "878cea90",
   "metadata": {},
   "source": []
  },
  {
   "cell_type": "markdown",
   "id": "34a27150",
   "metadata": {},
   "source": [
    "## Recap"
   ]
  },
  {
   "cell_type": "markdown",
   "id": "841a53f5",
   "metadata": {},
   "source": [
    "### Part 1: Research"
   ]
  },
  {
   "cell_type": "code",
   "execution_count": 486,
   "id": "d4b14047",
   "metadata": {},
   "outputs": [
    {
     "data": {
      "text/plain": [
       "LinearModel(\n",
       "  (linear): Linear(in_features=3, out_features=1, bias=True)\n",
       ")"
      ]
     },
     "execution_count": 486,
     "metadata": {},
     "output_type": "execute_result"
    }
   ],
   "source": [
    "import models\n",
    "import torch\n",
    "import research\n",
    "\n",
    "model = models.LinearModel(3)\n",
    "# security alert \n",
    "model.load_state_dict(torch.load('model_weights.pth', weights_only=True))\n",
    "model.eval()"
   ]
  },
  {
   "cell_type": "markdown",
   "id": "fcd8f62b",
   "metadata": {},
   "source": [
    "### AR(3) Model to predict future log return -  12h forecast horizon"
   ]
  },
  {
   "cell_type": "code",
   "execution_count": 487,
   "id": "96ebd2b8",
   "metadata": {},
   "outputs": [
    {
     "name": "stdout",
     "output_type": "stream",
     "text": [
      "linear.weight:\n",
      "[[-0.10395038 -0.06726477  0.02827305]]\n",
      "linear.bias:\n",
      "[0.00067121]\n"
     ]
    }
   ],
   "source": [
    "research.print_model_params(model)"
   ]
  },
  {
   "cell_type": "markdown",
   "id": "af754d3c",
   "metadata": {},
   "source": [
    "### Part 2: Strategy Recap"
   ]
  },
  {
   "cell_type": "code",
   "execution_count": 488,
   "id": "d46e276e",
   "metadata": {},
   "outputs": [],
   "source": [
    "# Showed a strategy that generates ~14% without any optimization.\n",
    "# I then showed 2 strategy decisions that turned that the strategy 14% to >40%\n",
    "\n",
    "# 1. Compounding Trade Sizing\n",
    "# 2. Leverage\n",
    "\n",
    "# The reason for the huge increase in returns were a combination:\n",
    "# 1. Model's statistical edge \n",
    "# 2. Compounding Trade Sizing \n",
    "# 3. Leverage\n",
    "\n"
   ]
  },
  {
   "cell_type": "markdown",
   "id": "21a3379a",
   "metadata": {},
   "source": [
    "### The fundamental building block: Tick"
   ]
  },
  {
   "cell_type": "code",
   "execution_count": 489,
   "id": "4e827841",
   "metadata": {},
   "outputs": [],
   "source": [
    "from abc import ABC, abstractmethod\n",
    "from typing import Generic, TypeVar\n",
    "\n",
    "T = TypeVar('T')  # input type\n",
    "R = TypeVar('R')  # output type\n",
    "\n",
    "class Tick(ABC, Generic[T, R]):\n",
    "    @abstractmethod\n",
    "    def on_tick(self, val: T) -> R:\n",
    "        \"\"\"Handle a new tick and optionally return a result.\"\"\"\n",
    "        pass"
   ]
  },
  {
   "cell_type": "markdown",
   "id": "6d6374a7",
   "metadata": {},
   "source": [
    "### Sliding Window: The fundamental data structure"
   ]
  },
  {
   "cell_type": "code",
   "execution_count": 490,
   "id": "98a1285c",
   "metadata": {},
   "outputs": [],
   "source": [
    "from collections import deque\n",
    "from typing import Deque, Optional\n",
    "import numpy as np\n",
    "\n",
    "class DequeWindow(Tick[T, Optional[T]], Generic[T]):\n",
    "    def __init__(self, n: int):\n",
    "        self._data: Deque[T] = deque(maxlen=n)\n",
    "\n",
    "    def on_tick(self, val: T) -> Optional[T]:\n",
    "        \"\"\"Append a value and return the oldest value dropped (if any).\"\"\"\n",
    "        dropped = None\n",
    "        if self.is_full():\n",
    "            dropped = self._data[0]\n",
    "        self._data.append(val)\n",
    "        return dropped\n",
    "    \n",
    "    def is_full(self) -> bool:\n",
    "        return self._data.maxlen == len(self._data)\n",
    "\n",
    "    def append_left(self, val: T) -> Optional[T]:\n",
    "        dropped = None\n",
    "        if self.is_full():\n",
    "            dropped = self._data[-1]\n",
    "        self._data.appendleft(val)\n",
    "        return dropped\n",
    "\n",
    "    # def capacity(self) -> int:\n",
    "    #     n = self._data.maxlen\n",
    "    #     return 0 if n is None else n\n",
    "    \n",
    "    def to_numpy(self) -> np.ndarray:\n",
    "        return np.array(self._data)\n",
    "    \n",
    "    def __repr__(self) -> str:\n",
    "        cls_name = self.__class__.__name__\n",
    "        return f\"{cls_name}(capacity={self._data.maxlen}, values={list(self._data)})\""
   ]
  },
  {
   "cell_type": "markdown",
   "id": "2b475d85",
   "metadata": {},
   "source": [
    "### Streaming Example: Sliding Window"
   ]
  },
  {
   "cell_type": "code",
   "execution_count": 491,
   "id": "ae083a7f",
   "metadata": {},
   "outputs": [
    {
     "data": {
      "text/plain": [
       "DequeWindow(capacity=3, values=[])"
      ]
     },
     "execution_count": 491,
     "metadata": {},
     "output_type": "execute_result"
    }
   ],
   "source": [
    "w = DequeWindow(3)\n",
    "w"
   ]
  },
  {
   "cell_type": "code",
   "execution_count": 492,
   "id": "53224848",
   "metadata": {},
   "outputs": [
    {
     "data": {
      "text/plain": [
       "DequeWindow(capacity=3, values=[1])"
      ]
     },
     "execution_count": 492,
     "metadata": {},
     "output_type": "execute_result"
    }
   ],
   "source": [
    "w = DequeWindow(3)\n",
    "w.on_tick(1)\n",
    "w"
   ]
  },
  {
   "cell_type": "code",
   "execution_count": 493,
   "id": "3857eef2",
   "metadata": {},
   "outputs": [
    {
     "data": {
      "text/plain": [
       "DequeWindow(capacity=3, values=[1, 2])"
      ]
     },
     "execution_count": 493,
     "metadata": {},
     "output_type": "execute_result"
    }
   ],
   "source": [
    "w = DequeWindow(3)\n",
    "w.on_tick(1)\n",
    "w.on_tick(2)\n",
    "w"
   ]
  },
  {
   "cell_type": "code",
   "execution_count": 494,
   "id": "8ac266cf",
   "metadata": {},
   "outputs": [
    {
     "data": {
      "text/plain": [
       "DequeWindow(capacity=3, values=[1, 2, 3])"
      ]
     },
     "execution_count": 494,
     "metadata": {},
     "output_type": "execute_result"
    }
   ],
   "source": [
    "w = DequeWindow(3)\n",
    "w.on_tick(1)\n",
    "w.on_tick(2)\n",
    "w.on_tick(3)\n",
    "w\n"
   ]
  },
  {
   "cell_type": "code",
   "execution_count": 495,
   "id": "efd59cd8",
   "metadata": {},
   "outputs": [
    {
     "data": {
      "text/plain": [
       "(1, DequeWindow(capacity=3, values=[2, 3, 4]))"
      ]
     },
     "execution_count": 495,
     "metadata": {},
     "output_type": "execute_result"
    }
   ],
   "source": [
    "w = DequeWindow(3)\n",
    "w.on_tick(1)\n",
    "w.on_tick(2)\n",
    "w.on_tick(3)\n",
    "old_v = w.on_tick(4)\n",
    "\n",
    "(old_v, w)"
   ]
  },
  {
   "cell_type": "code",
   "execution_count": 496,
   "id": "628f12fd",
   "metadata": {},
   "outputs": [
    {
     "data": {
      "text/plain": [
       "(2, DequeWindow(capacity=3, values=[3, 4, 5]))"
      ]
     },
     "execution_count": 496,
     "metadata": {},
     "output_type": "execute_result"
    }
   ],
   "source": [
    "w = DequeWindow(3)\n",
    "w.on_tick(1)\n",
    "w.on_tick(2)\n",
    "w.on_tick(3)\n",
    "w.on_tick(4)\n",
    "old_v = w.on_tick(5)\n",
    "\n",
    "(old_v, w)"
   ]
  },
  {
   "cell_type": "code",
   "execution_count": 497,
   "id": "91f6f457",
   "metadata": {},
   "outputs": [
    {
     "data": {
      "text/plain": [
       "DequeWindow(capacity=3, values=[999997, 999998, 999999])"
      ]
     },
     "execution_count": 497,
     "metadata": {},
     "output_type": "execute_result"
    }
   ],
   "source": [
    "for i in range(1000000):\n",
    "    w.on_tick(i)\n",
    "w"
   ]
  },
  {
   "cell_type": "markdown",
   "id": "655b1086",
   "metadata": {},
   "source": [
    "### Array-based Window"
   ]
  },
  {
   "cell_type": "code",
   "execution_count": 498,
   "id": "24cf99f3",
   "metadata": {},
   "outputs": [],
   "source": [
    "import numpy as np\n",
    "from typing import Optional\n",
    "\n",
    "class NumpyWindow(Tick[T, Optional[T]]):\n",
    "    def __init__(self, n: int, dtype=np.float64):\n",
    "        if n <= 0:\n",
    "            raise ValueError(\"Capacity must be positive.\")\n",
    "        self._capacity = n\n",
    "        self._data = np.zeros(n, dtype=dtype)\n",
    "        self._size = 0\n",
    "\n",
    "    def on_tick(self, val: float) -> Optional[float]:\n",
    "        dropped = None\n",
    "\n",
    "        if self._size < self._capacity:\n",
    "            self._data[self._size] = val\n",
    "            self._size += 1\n",
    "        else:\n",
    "            dropped = self._data[0]\n",
    "            # shift left in-place\n",
    "            for i in range(1, self._capacity):\n",
    "                self._data[i - 1] = self._data[i]\n",
    "            self._data[-1] = val\n",
    "\n",
    "        return dropped\n",
    "\n",
    "\n",
    "    def __getitem__(self, idx: int) -> float:\n",
    "        \"\"\"Index access (0 = oldest).\"\"\"\n",
    "        if not 0 <= idx < self._size:\n",
    "            raise IndexError(\"Index out of range.\")\n",
    "        return self._data[idx]\n",
    "\n",
    "    def __len__(self) -> int:\n",
    "        return self._size\n",
    "\n",
    "    def capacity(self) -> int:\n",
    "        return self._capacity\n",
    "\n",
    "    def is_full(self) -> bool:\n",
    "        return self._size == self._capacity\n",
    "\n",
    "    def values(self) -> np.ndarray:\n",
    "        return self._data[:self._size]\n",
    "\n",
    "    def __repr__(self) -> str:\n",
    "        vals = self.values().tolist()\n",
    "        return f\"{self.__class__.__name__}(capacity={self._capacity}, size={self._size}, values={vals})\"\n"
   ]
  },
  {
   "cell_type": "markdown",
   "id": "42b86f68",
   "metadata": {},
   "source": [
    "### Benchmark Numpy Window vs Deque Window"
   ]
  },
  {
   "cell_type": "code",
   "execution_count": 499,
   "id": "7b6c9bc1",
   "metadata": {},
   "outputs": [],
   "source": [
    "def benchmark_window(window, n):\n",
    "    for i in range(n):\n",
    "        window.on_tick(i)\n",
    "\n",
    "window_size = 10\n",
    "n = 5000000"
   ]
  },
  {
   "cell_type": "code",
   "execution_count": 500,
   "id": "124e2adc",
   "metadata": {},
   "outputs": [
    {
     "name": "stdout",
     "output_type": "stream",
     "text": [
      "CPU times: user 4.75 s, sys: 11.8 ms, total: 4.77 s\n",
      "Wall time: 4.77 s\n"
     ]
    }
   ],
   "source": [
    "%%time\n",
    "benchmark_window(NumpyWindow(window_size), n)"
   ]
  },
  {
   "cell_type": "code",
   "execution_count": 501,
   "id": "e538d16c",
   "metadata": {},
   "outputs": [
    {
     "name": "stdout",
     "output_type": "stream",
     "text": [
      "CPU times: user 585 ms, sys: 4.18 ms, total: 590 ms\n",
      "Wall time: 598 ms\n"
     ]
    }
   ],
   "source": [
    "%%time\n",
    "benchmark_window(DequeWindow(window_size), n)"
   ]
  },
  {
   "cell_type": "markdown",
   "id": "1e8d1174",
   "metadata": {},
   "source": [
    "### Streaming the Last Known Value (To Track Close Price)"
   ]
  },
  {
   "cell_type": "code",
   "execution_count": 502,
   "id": "3a76d325",
   "metadata": {},
   "outputs": [],
   "source": [
    "class Last(Tick[T, T], Generic[T]):\n",
    "    def __init__(self):\n",
    "        self._value: Optional[T] = None\n",
    "\n",
    "    def on_tick(self, val: T) -> Optional[T]:\n",
    "        \"\"\"Append a value and return the oldest value dropped (if any).\"\"\"\n",
    "        self._value = val\n",
    "        return val\n",
    "\n",
    "    def __repr__(self) -> str:\n",
    "        cls_name = self.__class__.__name__\n",
    "        return f\"{cls_name}(value={self._value})\""
   ]
  },
  {
   "cell_type": "markdown",
   "id": "03e4e203",
   "metadata": {},
   "source": [
    "### Example: Streaming Last Value"
   ]
  },
  {
   "cell_type": "code",
   "execution_count": 503,
   "id": "16f41c41",
   "metadata": {},
   "outputs": [
    {
     "data": {
      "text/plain": [
       "Last(value=None)"
      ]
     },
     "execution_count": 503,
     "metadata": {},
     "output_type": "execute_result"
    }
   ],
   "source": [
    "last_val = Last()\n",
    "last_val"
   ]
  },
  {
   "cell_type": "code",
   "execution_count": 504,
   "id": "15a0ee50",
   "metadata": {},
   "outputs": [
    {
     "data": {
      "text/plain": [
       "Last(value=4)"
      ]
     },
     "execution_count": 504,
     "metadata": {},
     "output_type": "execute_result"
    }
   ],
   "source": [
    "last_val = Last()\n",
    "for i in range(5):\n",
    "    last_val.on_tick(i)\n",
    "last_val"
   ]
  },
  {
   "cell_type": "markdown",
   "id": "1e706e28",
   "metadata": {},
   "source": [
    "### Streaming Log Returns"
   ]
  },
  {
   "cell_type": "markdown",
   "id": "a6abf8a0",
   "metadata": {},
   "source": [
    "#### Quick Log Returns Recap"
   ]
  },
  {
   "cell_type": "code",
   "execution_count": 505,
   "id": "843f596b",
   "metadata": {},
   "outputs": [
    {
     "data": {
      "text/plain": [
       "[np.float64(0.1823215567939546), np.float64(-0.1823215567939546)]"
      ]
     },
     "execution_count": 505,
     "metadata": {},
     "output_type": "execute_result"
    }
   ],
   "source": [
    "ts = [100, 120, 100]\n",
    "log_returns = [\n",
    "    np.log(ts[1]/ts[0]), \n",
    "    np.log(ts[2]/ts[1]), \n",
    "]\n",
    "log_returns"
   ]
  },
  {
   "cell_type": "code",
   "execution_count": 506,
   "id": "8c7b8218",
   "metadata": {},
   "outputs": [
    {
     "data": {
      "text/plain": [
       "np.float64(0.0)"
      ]
     },
     "execution_count": 506,
     "metadata": {},
     "output_type": "execute_result"
    }
   ],
   "source": [
    "np.sum(log_returns)"
   ]
  },
  {
   "cell_type": "code",
   "execution_count": 507,
   "id": "44573b13",
   "metadata": {},
   "outputs": [],
   "source": [
    "import numpy as np\n",
    "\n",
    "class LogReturn(Tick[float, Optional[float]], Generic[T]):\n",
    "    def __init__(self):\n",
    "        self._window = NumpyWindow(2)\n",
    "\n",
    "    def on_tick(self, val: float) -> Optional[float]:\n",
    "        self._window.on_tick(val)\n",
    "        if self._window.is_full():\n",
    "            return np.log(self._window[1] / self._window[0])\n",
    "        else:\n",
    "            return None\n",
    "        \n",
    "    def __repr__(self) -> str:\n",
    "        cls_name = self.__class__.__name__\n",
    "        return f\"{cls_name}(window={self._window})\"\n",
    "    "
   ]
  },
  {
   "cell_type": "markdown",
   "id": "3e4ecaa3",
   "metadata": {},
   "source": [
    "### Streaming Example: Log Returns"
   ]
  },
  {
   "cell_type": "code",
   "execution_count": 508,
   "id": "8d9f8745",
   "metadata": {},
   "outputs": [
    {
     "data": {
      "text/plain": [
       "LogReturn(window=NumpyWindow(capacity=2, size=1, values=[100.0]))"
      ]
     },
     "execution_count": 508,
     "metadata": {},
     "output_type": "execute_result"
    }
   ],
   "source": [
    "f = LogReturn()\n",
    "f.on_tick(100.0)\n",
    "f"
   ]
  },
  {
   "cell_type": "code",
   "execution_count": 509,
   "id": "3281af7f",
   "metadata": {},
   "outputs": [
    {
     "data": {
      "text/plain": [
       "np.float64(0.1823215567939546)"
      ]
     },
     "execution_count": 509,
     "metadata": {},
     "output_type": "execute_result"
    }
   ],
   "source": [
    "v = f.on_tick(120.0)\n",
    "v"
   ]
  },
  {
   "cell_type": "code",
   "execution_count": 510,
   "id": "4a770693",
   "metadata": {},
   "outputs": [
    {
     "data": {
      "text/plain": [
       "LogReturn(window=NumpyWindow(capacity=2, size=2, values=[100.0, 120.0]))"
      ]
     },
     "execution_count": 510,
     "metadata": {},
     "output_type": "execute_result"
    }
   ],
   "source": [
    "f"
   ]
  },
  {
   "cell_type": "code",
   "execution_count": 511,
   "id": "cb51350e",
   "metadata": {},
   "outputs": [
    {
     "data": {
      "text/plain": [
       "np.float64(-0.1823215567939546)"
      ]
     },
     "execution_count": 511,
     "metadata": {},
     "output_type": "execute_result"
    }
   ],
   "source": [
    "v = f.on_tick(100.0)\n",
    "v"
   ]
  },
  {
   "cell_type": "code",
   "execution_count": 512,
   "id": "72d13bc7",
   "metadata": {},
   "outputs": [
    {
     "data": {
      "text/plain": [
       "LogReturn(window=NumpyWindow(capacity=2, size=2, values=[120.0, 100.0]))"
      ]
     },
     "execution_count": 512,
     "metadata": {},
     "output_type": "execute_result"
    }
   ],
   "source": [
    "f"
   ]
  },
  {
   "cell_type": "markdown",
   "id": "3d8e7bc9",
   "metadata": {},
   "source": [
    "### Streaming Auto-Regressive Log Returns Lags"
   ]
  },
  {
   "cell_type": "markdown",
   "id": "483b9eca",
   "metadata": {},
   "source": [
    "#### Auto-Regression Recap"
   ]
  },
  {
   "cell_type": "code",
   "execution_count": 513,
   "id": "2b5f118d",
   "metadata": {},
   "outputs": [
    {
     "data": {
      "text/plain": [
       "-0.3"
      ]
     },
     "execution_count": 513,
     "metadata": {},
     "output_type": "execute_result"
    }
   ],
   "source": [
    "time_series = [0.1, -0.2, -0.3]\n",
    "lag_1 = time_series[-1]\n",
    "lag_1"
   ]
  },
  {
   "cell_type": "code",
   "execution_count": 514,
   "id": "1de389eb",
   "metadata": {},
   "outputs": [
    {
     "data": {
      "text/plain": [
       "-0.2"
      ]
     },
     "execution_count": 514,
     "metadata": {},
     "output_type": "execute_result"
    }
   ],
   "source": [
    "lag_2 = time_series[-2]\n",
    "lag_2"
   ]
  },
  {
   "cell_type": "code",
   "execution_count": 515,
   "id": "dcea1066",
   "metadata": {},
   "outputs": [
    {
     "data": {
      "text/plain": [
       "0.1"
      ]
     },
     "execution_count": 515,
     "metadata": {},
     "output_type": "execute_result"
    }
   ],
   "source": [
    "lag_3 = time_series[-3]\n",
    "lag_3"
   ]
  },
  {
   "cell_type": "code",
   "execution_count": 516,
   "id": "0de2fd08",
   "metadata": {},
   "outputs": [],
   "source": [
    "\n",
    "class LogReturnLags(Tick[float, torch.Tensor]):\n",
    "    def __init__(self, no_lags: int):\n",
    "        self._lags = DequeWindow(no_lags)\n",
    "        self._log_return = LogReturn()\n",
    "    \n",
    "    def on_tick(self, val: float) -> torch.Tensor | None:\n",
    "        log_ret = self._log_return.on_tick(val)\n",
    "        if log_ret is not None:\n",
    "            self._lags.append_left(log_ret)\n",
    "            return torch.tensor(self._lags.to_numpy(), dtype=torch.float32) if self._lags.is_full() else None\n",
    "        else:\n",
    "            return None\n",
    "        \n",
    "    def __repr__(self) -> str:\n",
    "        cls_name = self.__class__.__name__\n",
    "        return f\"{cls_name}(lags={self._lags}, log_return={self._log_return})\" "
   ]
  },
  {
   "cell_type": "markdown",
   "id": "66e814d5",
   "metadata": {},
   "source": [
    "### Streaming Example: Auto-Regressive Log Returns"
   ]
  },
  {
   "cell_type": "code",
   "execution_count": 517,
   "id": "b847a140",
   "metadata": {},
   "outputs": [
    {
     "data": {
      "text/plain": [
       "LogReturnLags(lags=DequeWindow(capacity=3, values=[]), log_return=LogReturn(window=NumpyWindow(capacity=2, size=1, values=[90.0])))"
      ]
     },
     "execution_count": 517,
     "metadata": {},
     "output_type": "execute_result"
    }
   ],
   "source": [
    "lags = LogReturnLags(3)\n",
    "v = lags.on_tick(90)\n",
    "lags"
   ]
  },
  {
   "cell_type": "code",
   "execution_count": 518,
   "id": "9cc40801",
   "metadata": {},
   "outputs": [
    {
     "data": {
      "text/plain": [
       "LogReturnLags(lags=DequeWindow(capacity=3, values=[np.float64(0.10536051565782635)]), log_return=LogReturn(window=NumpyWindow(capacity=2, size=2, values=[90.0, 100.0])))"
      ]
     },
     "execution_count": 518,
     "metadata": {},
     "output_type": "execute_result"
    }
   ],
   "source": [
    "lags.on_tick(100)\n",
    "lags\n"
   ]
  },
  {
   "cell_type": "code",
   "execution_count": 519,
   "id": "52c76602",
   "metadata": {},
   "outputs": [
    {
     "data": {
      "text/plain": [
       "LogReturnLags(lags=DequeWindow(capacity=3, values=[np.float64(0.4054651081081644), np.float64(0.10536051565782635)]), log_return=LogReturn(window=NumpyWindow(capacity=2, size=2, values=[100.0, 150.0])))"
      ]
     },
     "execution_count": 519,
     "metadata": {},
     "output_type": "execute_result"
    }
   ],
   "source": [
    "lags.on_tick(150)\n",
    "lags"
   ]
  },
  {
   "cell_type": "code",
   "execution_count": 520,
   "id": "5943a6a2",
   "metadata": {},
   "outputs": [
    {
     "data": {
      "text/plain": [
       "tensor([-0.3102,  0.4055,  0.1054])"
      ]
     },
     "execution_count": 520,
     "metadata": {},
     "output_type": "execute_result"
    }
   ],
   "source": [
    "lags.on_tick(110)"
   ]
  },
  {
   "cell_type": "code",
   "execution_count": 521,
   "id": "9e772e2b",
   "metadata": {},
   "outputs": [
    {
     "data": {
      "text/plain": [
       "[np.float64(-0.3101549283038396),\n",
       " np.float64(0.4054651081081644),\n",
       " np.float64(0.10536051565782635)]"
      ]
     },
     "execution_count": 521,
     "metadata": {},
     "output_type": "execute_result"
    }
   ],
   "source": [
    "[np.log(110/150), np.log(150/100),np.log(100/90)]"
   ]
  },
  {
   "cell_type": "code",
   "execution_count": 522,
   "id": "ac8eb056",
   "metadata": {},
   "outputs": [
    {
     "data": {
      "text/plain": [
       "tensor([ 0.3747, -0.3102,  0.4055])"
      ]
     },
     "execution_count": 522,
     "metadata": {},
     "output_type": "execute_result"
    }
   ],
   "source": [
    "lags = LogReturnLags(3)\n",
    "lags.on_tick(90)\n",
    "lags.on_tick(100)\n",
    "lags.on_tick(150)\n",
    "lags.on_tick(110)\n",
    "features = lags.on_tick(160)\n",
    "features"
   ]
  },
  {
   "cell_type": "markdown",
   "id": "bd567f8b",
   "metadata": {},
   "source": [
    "### Example: Streaming the Features into our Model "
   ]
  },
  {
   "cell_type": "code",
   "execution_count": 523,
   "id": "bf8bf071",
   "metadata": {},
   "outputs": [
    {
     "data": {
      "text/plain": [
       "tensor([-0.0060])"
      ]
     },
     "execution_count": 523,
     "metadata": {},
     "output_type": "execute_result"
    }
   ],
   "source": [
    "X = features\n",
    "with torch.no_grad():\n",
    "    y_hat = model(X)\n",
    "y_hat"
   ]
  },
  {
   "cell_type": "code",
   "execution_count": 524,
   "id": "97f1b668",
   "metadata": {},
   "outputs": [
    {
     "data": {
      "text/plain": [
       "tensor(-0.0060)"
      ]
     },
     "execution_count": 524,
     "metadata": {},
     "output_type": "execute_result"
    }
   ],
   "source": [
    "y_hat[0]"
   ]
  },
  {
   "cell_type": "markdown",
   "id": "87936f7f",
   "metadata": {},
   "source": [
    "## Build The Trading System"
   ]
  },
  {
   "cell_type": "markdown",
   "id": "89fcf8ed",
   "metadata": {},
   "source": [
    "### Decimal to represent money"
   ]
  },
  {
   "cell_type": "code",
   "execution_count": 525,
   "id": "d115fe4a",
   "metadata": {},
   "outputs": [
    {
     "data": {
      "text/plain": [
       "0.9999999999999999"
      ]
     },
     "execution_count": 525,
     "metadata": {},
     "output_type": "execute_result"
    }
   ],
   "source": [
    "val = 0.1\n",
    "total = 0.0\n",
    "for i in range(10):\n",
    "    total += val\n",
    "total"
   ]
  },
  {
   "cell_type": "code",
   "execution_count": 526,
   "id": "4e220529",
   "metadata": {},
   "outputs": [
    {
     "data": {
      "text/plain": [
       "Decimal('1.0')"
      ]
     },
     "execution_count": 526,
     "metadata": {},
     "output_type": "execute_result"
    }
   ],
   "source": [
    "from decimal import Decimal\n",
    "dp = Decimal('0.2')\n",
    "val = Decimal(0.1).quantize(dp)\n",
    "total = Decimal(0.0).quantize(dp)\n",
    "for i in range(10):\n",
    "    total += val\n",
    "total"
   ]
  },
  {
   "cell_type": "markdown",
   "id": "e69bd68a",
   "metadata": {},
   "source": [
    "### Represent an order"
   ]
  },
  {
   "cell_type": "code",
   "execution_count": 527,
   "id": "ba80d2e3",
   "metadata": {},
   "outputs": [],
   "source": [
    "from dataclasses import dataclass\n",
    "\n",
    "@dataclass(frozen=True)\n",
    "class Order:\n",
    "    sym: str\n",
    "    signed_qty: Decimal\n",
    "\n",
    "    def __str__(self) -> str:\n",
    "        sign = \"LONG\" if self.signed_qty > 0 else \"SHORT\"\n",
    "        return f\"Order({sign} {self.signed_qty} {self.sym})\""
   ]
  },
  {
   "cell_type": "markdown",
   "id": "75f1ed09",
   "metadata": {},
   "source": [
    "### Create a Trade class"
   ]
  },
  {
   "cell_type": "code",
   "execution_count": 553,
   "id": "0a20a391",
   "metadata": {},
   "outputs": [],
   "source": [
    "from decimal import Decimal\n",
    "\n",
    "def decimal_sign(d: Decimal) -> int:\n",
    "    return 1 if d > Decimal(0) else -1\n",
    "\n",
    "def is_long(x: Decimal) -> bool:\n",
    "    return decimal_sign(x) > 0\n",
    "\n",
    "@dataclass(frozen=True)\n",
    "class Trade:\n",
    "    sym: str\n",
    "    signed_qty: Decimal\n",
    "    price: Decimal\n",
    "    pnl: Decimal\n",
    "\n",
    "    def __str__(self) -> str:\n",
    "        sign = \"LONG\" if is_long(self.signed_qty) else \"SHORT\"\n",
    "        return f\"Trade({sign} {self.signed_qty} {self.sym} {self.price} {self.pnl})\"\n",
    "\n",
    "    def is_long(self) -> bool:\n",
    "        return is_long(self.signed_qty)\n",
    "\n",
    "\n"
   ]
  },
  {
   "cell_type": "markdown",
   "id": "aa687707",
   "metadata": {},
   "source": [
    "### Create Position Class"
   ]
  },
  {
   "cell_type": "code",
   "execution_count": 529,
   "id": "9b84553f",
   "metadata": {},
   "outputs": [],
   "source": [
    "@dataclass\n",
    "class Position:\n",
    "    sym: str\n",
    "    signed_qty: Decimal\n",
    "    price: Decimal\n",
    "\n",
    "    def close(self) -> \"Order\":\n",
    "        return Order(self.sym, -self.signed_qty)\n",
    "    \n",
    "    def is_long(self) -> bool:\n",
    "        return is_long(self.signed_qty)\n",
    "    \n",
    "    def unrealized_pnl(self, current_price: Decimal) -> Decimal:\n",
    "        entry_val = self.price * self.signed_qty\n",
    "        exit_val = current_price * -self.signed_qty\n",
    "        return entry_val + exit_val\n"
   ]
  },
  {
   "cell_type": "markdown",
   "id": "9dcfe34f",
   "metadata": {},
   "source": [
    "### Create Base Class for Account Management"
   ]
  },
  {
   "cell_type": "code",
   "execution_count": 530,
   "id": "10d81c02",
   "metadata": {},
   "outputs": [],
   "source": [
    "from abc import ABC, abstractmethod\n",
    "from decimal import Decimal\n",
    "\n",
    "class Account(ABC):\n",
    "    @abstractmethod\n",
    "    def balance(self) -> Decimal:\n",
    "        pass\n",
    "\n",
    "    @abstractmethod\n",
    "    def get_position(self, sym: str) -> Optional[Position]:\n",
    "        pass   "
   ]
  },
  {
   "cell_type": "markdown",
   "id": "841ded63",
   "metadata": {},
   "source": [
    "### Create Class for Test Account"
   ]
  },
  {
   "cell_type": "code",
   "execution_count": 531,
   "id": "b3d2071d",
   "metadata": {},
   "outputs": [],
   "source": [
    "from decimal import Decimal\n",
    "from typing import Dict, List, Optional\n",
    "import polars as pl\n",
    "\n",
    "class TestAccount(Account):\n",
    "    \"\"\"A simulated account for testing or paper trading.\"\"\"\n",
    "\n",
    "    def __init__(self, _balance: Decimal) -> None:\n",
    "        self._balance = _balance\n",
    "        self._positions: Dict[str, Position] = {}\n",
    "        self._trades: List[Trade] = []\n",
    "        self.counter: int = 0\n",
    "\n",
    "    def balance(self) -> Decimal:\n",
    "        return self._balance\n",
    "\n",
    "    def get_position(self, sym) -> Optional[Position]:\n",
    "        return self._positions.get(sym)\n",
    "\n",
    "    def __repr__(self) -> str:\n",
    "        return f\"TestAccount(balance={self._balance}, positions={self._positions}, trades={self._trades})\"\n"
   ]
  },
  {
   "cell_type": "markdown",
   "id": "da11ebb2",
   "metadata": {},
   "source": [
    "### Example: Check Balance "
   ]
  },
  {
   "cell_type": "code",
   "execution_count": 532,
   "id": "b7c4ff6e",
   "metadata": {},
   "outputs": [
    {
     "data": {
      "text/plain": [
       "Decimal('50')"
      ]
     },
     "execution_count": 532,
     "metadata": {},
     "output_type": "execute_result"
    }
   ],
   "source": [
    "acc = TestAccount(Decimal(50.0))\n",
    "acc.balance()"
   ]
  },
  {
   "cell_type": "code",
   "execution_count": 533,
   "id": "6e9419c1",
   "metadata": {},
   "outputs": [
    {
     "data": {
      "text/plain": [
       "TestAccount(balance=50, positions={}, trades=[])"
      ]
     },
     "execution_count": 533,
     "metadata": {},
     "output_type": "execute_result"
    }
   ],
   "source": [
    "acc"
   ]
  },
  {
   "cell_type": "markdown",
   "id": "c3bda5d2",
   "metadata": {},
   "source": [
    "### Create Exchange Class"
   ]
  },
  {
   "cell_type": "code",
   "execution_count": 534,
   "id": "cd790d3d",
   "metadata": {},
   "outputs": [],
   "source": [
    "from abc import abstractmethod\n",
    "from decimal import Decimal\n",
    "\n",
    "class Exchange(Account):\n",
    "    \"\"\"Abstract base class representing a trading exchange/broker.\"\"\"\n",
    "\n",
    "    @abstractmethod\n",
    "    def market_order(self, sym: str, signed_qty: Decimal, price: Decimal) -> Trade:\n",
    "        \"\"\"Execute a market order and return a Trade result.\"\"\"\n",
    "        pass\n",
    "\n",
    "    @abstractmethod\n",
    "    def limit_order(self, sym: str, signed_qty: Decimal, price: Decimal, post_only: bool = False) -> Optional[Trade]:\n",
    "        \"\"\"Execute a limit order and return a Trade if it crosses book.\"\"\"\n",
    "        pass\n"
   ]
  },
  {
   "cell_type": "markdown",
   "id": "27608e2c",
   "metadata": {},
   "source": [
    "### Create Exchange Class"
   ]
  },
  {
   "cell_type": "code",
   "execution_count": 535,
   "id": "2539a7ce",
   "metadata": {},
   "outputs": [],
   "source": [
    "from typing import Dict,List\n",
    "\n",
    "class TestExchange(Exchange):\n",
    "    _account: TestAccount\n",
    "\n",
    "    def __init__(self, account: TestAccount):\n",
    "        self._account = account\n",
    "\n",
    "    def market_order(self, sym: str, signed_qty: Decimal, price: Decimal) -> \"Trade\":        \n",
    "        # Update balance and position\n",
    "        trade = self._update_position(sym, signed_qty, price)\n",
    "        self._account._balance += trade.pnl\n",
    "        self._account._trades.append(trade)\n",
    "        return trade\n",
    "    \n",
    "    def _update_position(self, sym: str, signed_qty, price: Decimal) -> Trade:\n",
    "        position = self._account._positions.pop(sym, None)\n",
    "        pnl = Decimal(0.0)\n",
    "        if position is not None:\n",
    "            entry_val = position.price * position.signed_qty\n",
    "            exit_val = price * position.signed_qty              \n",
    "            pnl = exit_val - entry_val  \n",
    "        else:\n",
    "            self._account._positions[sym] = Position(sym, signed_qty, price) \n",
    "        return Trade(sym, signed_qty, price, pnl)    \n",
    "\n",
    "    def limit_order(self, sym, signed_qty, price, post_only = False):\n",
    "        raise Exception(\"not yet implemented\")\n",
    "    \n",
    "    def balance(self) -> Decimal:\n",
    "        return self._account.balance()\n",
    "    \n",
    "    def get_position(self, sym) -> Optional[Position]:\n",
    "        return self._account.get_positions(sym)\n",
    "    \n",
    "    def __repr__(self) -> str:\n",
    "        return f\"TestExchange(balance={self.balance()}, positions={self._account._positions}, trades={self._account._trades})\""
   ]
  },
  {
   "cell_type": "markdown",
   "id": "5f192d00",
   "metadata": {},
   "source": [
    "### Example: Create Position in Test Account"
   ]
  },
  {
   "cell_type": "code",
   "execution_count": 536,
   "id": "396d0ac6",
   "metadata": {},
   "outputs": [
    {
     "data": {
      "text/plain": [
       "Trade(sym='BTCUSDT', signed_qty=Decimal('5'), price=Decimal('10'), pnl=Decimal('0'))"
      ]
     },
     "execution_count": 536,
     "metadata": {},
     "output_type": "execute_result"
    }
   ],
   "source": [
    "exchange = TestExchange(TestAccount(Decimal(50.0)))\n",
    "\n",
    "price = Decimal(10)\n",
    "qty = Decimal(5.0)\n",
    "exchange.market_order('BTCUSDT', qty, Decimal(price))"
   ]
  },
  {
   "cell_type": "code",
   "execution_count": 537,
   "id": "40902620",
   "metadata": {},
   "outputs": [
    {
     "data": {
      "text/plain": [
       "TestExchange(balance=50, positions={'BTCUSDT': Position(sym='BTCUSDT', signed_qty=Decimal('5'), price=Decimal('10'))}, trades=[Trade(sym='BTCUSDT', signed_qty=Decimal('5'), price=Decimal('10'), pnl=Decimal('0'))])"
      ]
     },
     "execution_count": 537,
     "metadata": {},
     "output_type": "execute_result"
    }
   ],
   "source": [
    "exchange"
   ]
  },
  {
   "cell_type": "markdown",
   "id": "71a5df0e",
   "metadata": {},
   "source": [
    "### Example: Close Position in Test Account"
   ]
  },
  {
   "cell_type": "code",
   "execution_count": 538,
   "id": "ab6ea453",
   "metadata": {},
   "outputs": [
    {
     "data": {
      "text/plain": [
       "Trade(sym='BTCUSDT', signed_qty=Decimal('-5'), price=Decimal('15'), pnl=Decimal('25'))"
      ]
     },
     "execution_count": 538,
     "metadata": {},
     "output_type": "execute_result"
    }
   ],
   "source": [
    "price = Decimal(15.0)\n",
    "exchange.market_order('BTCUSDT', -qty, price)"
   ]
  },
  {
   "cell_type": "code",
   "execution_count": 539,
   "id": "c6036236",
   "metadata": {},
   "outputs": [
    {
     "data": {
      "text/plain": [
       "Decimal('75')"
      ]
     },
     "execution_count": 539,
     "metadata": {},
     "output_type": "execute_result"
    }
   ],
   "source": [
    "exchange.balance()"
   ]
  },
  {
   "cell_type": "code",
   "execution_count": 540,
   "id": "a2241049",
   "metadata": {},
   "outputs": [
    {
     "data": {
      "text/plain": [
       "Decimal('50')"
      ]
     },
     "execution_count": 540,
     "metadata": {},
     "output_type": "execute_result"
    }
   ],
   "source": [
    "entry_notional_value = Decimal(5) * Decimal(10)\n",
    "entry_notional_value"
   ]
  },
  {
   "cell_type": "code",
   "execution_count": 541,
   "id": "0d06ac0f",
   "metadata": {},
   "outputs": [
    {
     "data": {
      "text/plain": [
       "Decimal('75')"
      ]
     },
     "execution_count": 541,
     "metadata": {},
     "output_type": "execute_result"
    }
   ],
   "source": [
    "exit_notional_val = Decimal(5) * Decimal(15)\n",
    "exit_notional_val"
   ]
  },
  {
   "cell_type": "code",
   "execution_count": 542,
   "id": "777ccd6b",
   "metadata": {},
   "outputs": [
    {
     "data": {
      "text/plain": [
       "Decimal('25')"
      ]
     },
     "execution_count": 542,
     "metadata": {},
     "output_type": "execute_result"
    }
   ],
   "source": [
    "exit_notional_val - entry_notional_value"
   ]
  },
  {
   "cell_type": "markdown",
   "id": "b410143d",
   "metadata": {},
   "source": [
    "### Build Strategy API"
   ]
  },
  {
   "cell_type": "code",
   "execution_count": 543,
   "id": "8fb2e8d3",
   "metadata": {},
   "outputs": [],
   "source": [
    "class Strategy(ABC):\n",
    "    @abstractmethod\n",
    "    def on_tick(self, price: float, account: Account) -> Optional[List[Order]]:\n",
    "        pass\n"
   ]
  },
  {
   "cell_type": "markdown",
   "id": "01eb76a9",
   "metadata": {},
   "source": [
    "### Implement our Strategy"
   ]
  },
  {
   "cell_type": "code",
   "execution_count": 544,
   "id": "0f488bb4",
   "metadata": {},
   "outputs": [],
   "source": [
    "import torch.nn as nn\n",
    "\n",
    "class BasicTakerStrat(Strategy):\n",
    "    def __init__(self, \n",
    "                 sym: str,\n",
    "                 model: nn.Module, \n",
    "                 log_return_lags: LogReturnLags, \n",
    "                 scale_factor: Decimal = None) -> None:\n",
    "        self.sym = sym\n",
    "        self.model = model\n",
    "        self.log_return_lags = log_return_lags\n",
    "        if scale_factor is None:\n",
    "            scale_factor = Decimal(1.0)\n",
    "        self.scale_factor = Decimal(scale_factor)\n",
    "\n",
    "    def _signed_compound_trade_size(self, y_hat: float, account: Account, cur_price: Decimal, position: Optional[Position]) -> Decimal:\n",
    "        dir_signal = np.sign(y_hat)\n",
    "        cur_balance =  account.balance()\n",
    "        unrealized_balance = cur_balance + (position.unrealized_pnl(cur_price) if position else Decimal(0.0))\n",
    "        qty = unrealized_balance / cur_price\n",
    "        signed_qty = Decimal(dir_signal) * qty\n",
    "        return signed_qty * self.scale_factor\n",
    "\n",
    "    def _create_orders(self, y_hat: torch.Tensor, account: Account, price: Decimal) -> List[Order]:\n",
    "        position = account.get_position(self.sym)\n",
    "        signed_trade_size = self._signed_compound_trade_size(y_hat.item(), account, price, position)\n",
    "        open_order = Order(self.sym, signed_trade_size)\n",
    "        if position is not None:\n",
    "            close_order = Order(position.sym, -position.signed_qty)\n",
    "            return [close_order, open_order]\n",
    "        return [open_order]      \n",
    "\n",
    "    def on_tick(self, price: float, account: Account) -> List[Order]:\n",
    "        X = self.log_return_lags.on_tick(price)\n",
    "        if X is not None:\n",
    "            with torch.no_grad():                \n",
    "                y_hat = self.model(X)\n",
    "                orders = self._create_orders(y_hat, account, Decimal(price))\n",
    "                return orders\n",
    "        return []"
   ]
  },
  {
   "cell_type": "markdown",
   "id": "4d0c826b",
   "metadata": {},
   "source": [
    "### Example: Show the strat generating orders"
   ]
  },
  {
   "cell_type": "code",
   "execution_count": 570,
   "id": "93359c69",
   "metadata": {},
   "outputs": [
    {
     "data": {
      "text/plain": [
       "[]"
      ]
     },
     "execution_count": 570,
     "metadata": {},
     "output_type": "execute_result"
    }
   ],
   "source": [
    "# Window to stream lagged log returns\n",
    "lags = LogReturnLags(3)\n",
    "# Create Account\n",
    "acc = TestAccount(Decimal(100.0))\n",
    "# Create strategy\n",
    "strat = BasicTakerStrat('BTCUSDT', model, lags, Decimal(1.0))\n",
    "\n",
    "# First 12 hour interval - 2025/10/20 00:00\n",
    "strat.on_tick(10.0, acc)"
   ]
  },
  {
   "cell_type": "code",
   "execution_count": 571,
   "id": "d8758b0f",
   "metadata": {},
   "outputs": [
    {
     "data": {
      "text/plain": [
       "[]"
      ]
     },
     "execution_count": 571,
     "metadata": {},
     "output_type": "execute_result"
    }
   ],
   "source": [
    "# Second 12 hour interval - 2025/10/20 12:00\n",
    "strat.on_tick(120.0, acc)"
   ]
  },
  {
   "cell_type": "code",
   "execution_count": 572,
   "id": "b5b8def5",
   "metadata": {},
   "outputs": [
    {
     "data": {
      "text/plain": [
       "[]"
      ]
     },
     "execution_count": 572,
     "metadata": {},
     "output_type": "execute_result"
    }
   ],
   "source": [
    "# Third 12 hour interval - 2025/10/21 00:00\n",
    "strat.on_tick(90.0, acc)"
   ]
  },
  {
   "cell_type": "code",
   "execution_count": 573,
   "id": "1d5d98c6",
   "metadata": {},
   "outputs": [
    {
     "data": {
      "text/plain": [
       "[Order(sym='BTCUSDT', signed_qty=Decimal('1'))]"
      ]
     },
     "execution_count": 573,
     "metadata": {},
     "output_type": "execute_result"
    }
   ],
   "source": [
    "# Fourth 12 hour interval - 2025/10/21 12:00\n",
    "orders = strat.on_tick(100, acc)\n",
    "orders"
   ]
  },
  {
   "cell_type": "markdown",
   "id": "695872aa",
   "metadata": {},
   "source": [
    "### Execute Order"
   ]
  },
  {
   "cell_type": "code",
   "execution_count": 574,
   "id": "9ce4a1c4",
   "metadata": {},
   "outputs": [
    {
     "data": {
      "text/plain": [
       "Trade(sym='BTCUSDT', signed_qty=Decimal('1'), price=100, pnl=Decimal('0'))"
      ]
     },
     "execution_count": 574,
     "metadata": {},
     "output_type": "execute_result"
    }
   ],
   "source": [
    "exchange = TestExchange(acc)\n",
    "order = orders[0]\n",
    "exchange.market_order(order.sym, order.signed_qty, 100)"
   ]
  },
  {
   "cell_type": "code",
   "execution_count": 575,
   "id": "09141c8c",
   "metadata": {},
   "outputs": [
    {
     "data": {
      "text/plain": [
       "TestExchange(balance=100, positions={'BTCUSDT': Position(sym='BTCUSDT', signed_qty=Decimal('1'), price=100)}, trades=[Trade(sym='BTCUSDT', signed_qty=Decimal('1'), price=100, pnl=Decimal('0'))])"
      ]
     },
     "execution_count": 575,
     "metadata": {},
     "output_type": "execute_result"
    }
   ],
   "source": [
    "exchange"
   ]
  },
  {
   "cell_type": "code",
   "execution_count": 576,
   "id": "875c08a2",
   "metadata": {},
   "outputs": [
    {
     "data": {
      "text/plain": [
       "[Order(sym='BTCUSDT', signed_qty=Decimal('-1')),\n",
       " Order(sym='BTCUSDT', signed_qty=Decimal('-0.7391304347826086956521739130'))]"
      ]
     },
     "execution_count": 576,
     "metadata": {},
     "output_type": "execute_result"
    }
   ],
   "source": [
    "orders = strat.on_tick(115, acc)\n",
    "orders"
   ]
  },
  {
   "cell_type": "code",
   "execution_count": 577,
   "id": "6f00247b",
   "metadata": {},
   "outputs": [
    {
     "data": {
      "text/plain": [
       "Trade(sym='BTCUSDT', signed_qty=Decimal('-1'), price=115, pnl=Decimal('15'))"
      ]
     },
     "execution_count": 577,
     "metadata": {},
     "output_type": "execute_result"
    }
   ],
   "source": [
    "order = orders[0]\n",
    "exchange.market_order(order.sym, order.signed_qty, 115)"
   ]
  },
  {
   "cell_type": "code",
   "execution_count": 578,
   "id": "00ac8476",
   "metadata": {},
   "outputs": [
    {
     "data": {
      "text/plain": [
       "TestExchange(balance=115, positions={}, trades=[Trade(sym='BTCUSDT', signed_qty=Decimal('1'), price=100, pnl=Decimal('0')), Trade(sym='BTCUSDT', signed_qty=Decimal('-1'), price=115, pnl=Decimal('15'))])"
      ]
     },
     "execution_count": 578,
     "metadata": {},
     "output_type": "execute_result"
    }
   ],
   "source": [
    "exchange"
   ]
  },
  {
   "cell_type": "code",
   "execution_count": 579,
   "id": "cc7bbb46",
   "metadata": {},
   "outputs": [
    {
     "data": {
      "text/plain": [
       "Trade(sym='BTCUSDT', signed_qty=Decimal('-0.7391304347826086956521739130'), price=115, pnl=Decimal('0'))"
      ]
     },
     "execution_count": 579,
     "metadata": {},
     "output_type": "execute_result"
    }
   ],
   "source": [
    "order = orders[1]\n",
    "exchange.market_order(order.sym, order.signed_qty, 115)"
   ]
  },
  {
   "cell_type": "code",
   "execution_count": 580,
   "id": "7743553d",
   "metadata": {},
   "outputs": [
    {
     "data": {
      "text/plain": [
       "TestExchange(balance=115, positions={'BTCUSDT': Position(sym='BTCUSDT', signed_qty=Decimal('-0.7391304347826086956521739130'), price=115)}, trades=[Trade(sym='BTCUSDT', signed_qty=Decimal('1'), price=100, pnl=Decimal('0')), Trade(sym='BTCUSDT', signed_qty=Decimal('-1'), price=115, pnl=Decimal('15')), Trade(sym='BTCUSDT', signed_qty=Decimal('-0.7391304347826086956521739130'), price=115, pnl=Decimal('0'))])"
      ]
     },
     "execution_count": 580,
     "metadata": {},
     "output_type": "execute_result"
    }
   ],
   "source": [
    "exchange"
   ]
  },
  {
   "cell_type": "code",
   "execution_count": 581,
   "id": "9235925d",
   "metadata": {},
   "outputs": [
    {
     "data": {
      "text/plain": [
       "[Order(sym='BTCUSDT', signed_qty=Decimal('0.7391304347826086956521739130')),\n",
       " Order(sym='BTCUSDT', signed_qty=Decimal('1.039130434782608695652173913'))]"
      ]
     },
     "execution_count": 581,
     "metadata": {},
     "output_type": "execute_result"
    }
   ],
   "source": [
    "orders = strat.on_tick(100, acc)\n",
    "orders"
   ]
  },
  {
   "cell_type": "code",
   "execution_count": 583,
   "id": "5a7bbf91",
   "metadata": {},
   "outputs": [
    {
     "data": {
      "text/plain": [
       "Trade(sym='BTCUSDT', signed_qty=Decimal('0.7391304347826086956521739130'), price=100, pnl=Decimal('11.08695652173913043478260870'))"
      ]
     },
     "execution_count": 583,
     "metadata": {},
     "output_type": "execute_result"
    }
   ],
   "source": [
    "order = orders[0]\n",
    "exchange.market_order(order.sym, order.signed_qty, 100)"
   ]
  },
  {
   "cell_type": "code",
   "execution_count": 584,
   "id": "63dc7953",
   "metadata": {},
   "outputs": [
    {
     "data": {
      "text/plain": [
       "TestExchange(balance=126.0869565217391304347826087, positions={}, trades=[Trade(sym='BTCUSDT', signed_qty=Decimal('1'), price=100, pnl=Decimal('0')), Trade(sym='BTCUSDT', signed_qty=Decimal('-1'), price=115, pnl=Decimal('15')), Trade(sym='BTCUSDT', signed_qty=Decimal('-0.7391304347826086956521739130'), price=115, pnl=Decimal('0')), Trade(sym='BTCUSDT', signed_qty=Decimal('0.7391304347826086956521739130'), price=100, pnl=Decimal('11.08695652173913043478260870'))])"
      ]
     },
     "execution_count": 584,
     "metadata": {},
     "output_type": "execute_result"
    }
   ],
   "source": [
    "exchange"
   ]
  },
  {
   "cell_type": "code",
   "execution_count": 585,
   "id": "011e29c3",
   "metadata": {},
   "outputs": [
    {
     "data": {
      "text/plain": [
       "Trade(sym='BTCUSDT', signed_qty=Decimal('1.011857707509881422924901185'), price=100, pnl=Decimal('0'))"
      ]
     },
     "execution_count": 585,
     "metadata": {},
     "output_type": "execute_result"
    }
   ],
   "source": [
    "order = orders[1]\n",
    "exchange.market_order(order.sym, order.signed_qty, 100)"
   ]
  },
  {
   "cell_type": "code",
   "execution_count": null,
   "id": "10576027",
   "metadata": {},
   "outputs": [],
   "source": [
    "# That concludes the basics of the trading system (there's a lot more but decided to cut it out to make the videos shorter)\n",
    "# Shown how to put it all together.\n",
    "# Show how it streams prices to create features to the model\n",
    "# Shown how model makes a forecast\n",
    "# Shown how the strategy generates orders that open and closes positions\n",
    "\n"
   ]
  },
  {
   "cell_type": "code",
   "execution_count": null,
   "id": "d2d470b9",
   "metadata": {},
   "outputs": [],
   "source": [
    "# Next video will be put to put it live with real money and let it run for sometime.\n",
    "# I just need to create an implementation of Account and Exchange for Binance.\n",
    "# If there's model drift (i.e. the model's performance starts to degrade), then I will document it and show solutions to it."
   ]
  },
  {
   "cell_type": "code",
   "execution_count": null,
   "id": "adfae84f",
   "metadata": {},
   "outputs": [],
   "source": [
    "# please like and subscribe\n",
    "# feel free to ask any questions"
   ]
  },
  {
   "cell_type": "markdown",
   "id": "79354fd7",
   "metadata": {},
   "source": [
    "### Time Interval Timer - 12h"
   ]
  },
  {
   "cell_type": "code",
   "execution_count": null,
   "id": "171a2d60",
   "metadata": {},
   "outputs": [],
   "source": [
    "from datetime import datetime, timezone\n",
    "\n",
    "def epoch_now():\n",
    "    return datetime.now(timezone.utc).timestamp()\n",
    "\n",
    "epoch_utc = epoch_now()\n",
    "epoch_utc"
   ]
  },
  {
   "cell_type": "code",
   "execution_count": null,
   "id": "17bc5e6f",
   "metadata": {},
   "outputs": [],
   "source": [
    "def ts_bar(epoch: float | int, n: int) -> int:\n",
    "    epoch = int(epoch)\n",
    "    return epoch - (epoch % n)"
   ]
  },
  {
   "cell_type": "code",
   "execution_count": null,
   "id": "1c487e85",
   "metadata": {},
   "outputs": [],
   "source": [
    "min_in_secs = 60"
   ]
  },
  {
   "cell_type": "code",
   "execution_count": null,
   "id": "ec1c51a4",
   "metadata": {},
   "outputs": [],
   "source": [
    "ts_bar(epoch_utc, min_in_secs)"
   ]
  },
  {
   "cell_type": "code",
   "execution_count": null,
   "id": "8797e76e",
   "metadata": {},
   "outputs": [],
   "source": [
    "ts_bar(epoch_utc + 61, min_in_secs)"
   ]
  },
  {
   "cell_type": "code",
   "execution_count": null,
   "id": "bc8c436e",
   "metadata": {},
   "outputs": [],
   "source": [
    "class IntervalTimer(Tick[int, bool]):\n",
    "    def __init__(self, interval_mins: int):\n",
    "        self.last_bar: int = 0  \n",
    "        self.time_interval = interval_mins * 60\n",
    "\n",
    "    def on_tick(self, epoch: int) -> bool:\n",
    "        bar = ts_bar(epoch, self.time_interval)\n",
    "        if bar > self.last_bar:\n",
    "            self.last_bar = bar\n",
    "            return True\n",
    "        return False"
   ]
  },
  {
   "cell_type": "markdown",
   "id": "17582ace",
   "metadata": {},
   "source": [
    "### Example: Timer"
   ]
  },
  {
   "cell_type": "code",
   "execution_count": null,
   "id": "2709fc99",
   "metadata": {},
   "outputs": [],
   "source": [
    "timer = IntervalTimer(1)\n",
    "\n",
    "now = epoch_now()\n",
    "\n",
    "timer.on_tick(now)"
   ]
  },
  {
   "cell_type": "code",
   "execution_count": null,
   "id": "a462dfd1",
   "metadata": {},
   "outputs": [],
   "source": [
    "timer.on_tick(now + 2)"
   ]
  },
  {
   "cell_type": "code",
   "execution_count": null,
   "id": "c81525e7",
   "metadata": {},
   "outputs": [],
   "source": [
    "timer.on_tick(now + 60)"
   ]
  },
  {
   "cell_type": "code",
   "execution_count": null,
   "id": "434f0410",
   "metadata": {},
   "outputs": [],
   "source": [
    "timer.on_tick(now + 60)"
   ]
  },
  {
   "cell_type": "markdown",
   "id": "44a1df3c",
   "metadata": {},
   "source": [
    "### Execution"
   ]
  },
  {
   "cell_type": "code",
   "execution_count": null,
   "id": "593a0088",
   "metadata": {},
   "outputs": [],
   "source": [
    "# y_hat = model(x)\n",
    "# orders = strategy(y_hat)\n",
    "# execute(orders)"
   ]
  },
  {
   "cell_type": "code",
   "execution_count": null,
   "id": "d0a7626f",
   "metadata": {},
   "outputs": [],
   "source": []
  },
  {
   "cell_type": "code",
   "execution_count": null,
   "id": "2aed887c",
   "metadata": {},
   "outputs": [],
   "source": [
    "import asyncio\n",
    "\n",
    "class TestExecutionEngine:\n",
    "    def __init__(self, time_series: pl.DataFrame, strat: Strategy, timer: IntervalTimer, account: TestAccount):\n",
    "        self.time_series = time_series\n",
    "        self.strat: Strategy = strat\n",
    "        self.timer: IntervalTimer = timer\n",
    "        self.account: TestAccount = account\n",
    "        self.counter: int = 0\n",
    "        self.trades: List[Trade] = []\n",
    "    \n",
    "    async def _execute(self, orders: Optional[List[\"Order\"]], price: Decimal):\n",
    "        \"\"\"Execute orders asynchronously (can simulate latency, slippage, etc).\"\"\"\n",
    "        \n",
    "        if orders is None:\n",
    "            return None\n",
    "        # print(orders)\n",
    "        for order in orders:\n",
    "            trade = self.account.market_order(order.sym, order.signed_qty, price)\n",
    "            self.trades.append(trade)\n",
    "        data = [\n",
    "            {\n",
    "                \"sym\": t.sym,\n",
    "                \"qty\": float(t.signed_qty),     # convert Decimal to float for CSV compatibility\n",
    "                \"price\": float(t.price)\n",
    "            }\n",
    "            for t in self.trades]\n",
    "        df = pl.DataFrame(data)\n",
    "        df.write_csv(\"trades.csv\")\n",
    "\n",
    "\n",
    "\n",
    "    async def start(self, sleep_secs = None):\n",
    "        \"\"\"Run main event loop asynchronously.\"\"\"\n",
    "        print(\"Execution engine started...\")\n",
    "        for _ in range(5):\n",
    "            # now = epoch_now()\n",
    "\n",
    "            # if not self.timer.on_tick(now):\n",
    "            #     await asyncio.sleep(0.01)\n",
    "            #     continue\n",
    "            if sleep_secs:\n",
    "                await asyncio.sleep(5.0)\n",
    "\n",
    "            if self.counter >= len(self.time_series):\n",
    "                return\n",
    "            \n",
    "            dt = self.time_series['datetime'][self.counter]\n",
    "            close_price = float(self.time_series[\"close\"][self.counter])\n",
    "            \n",
    "            self.counter += 1\n",
    "            orders = self.strat.on_tick(close_price, self.account)\n",
    "\n",
    "            if orders:\n",
    "                print(f'{dt}: {close_price} = {orders}')\n",
    "            else:\n",
    "                print(f'{dt}: {close_price}')\n",
    "            \n",
    "\n",
    "            await self._execute(orders, Decimal(close_price))\n",
    "    \n",
    "\n"
   ]
  },
  {
   "cell_type": "code",
   "execution_count": null,
   "id": "ad67796c",
   "metadata": {},
   "outputs": [],
   "source": [
    "55/55"
   ]
  },
  {
   "cell_type": "code",
   "execution_count": null,
   "id": "ffb76b92",
   "metadata": {},
   "outputs": [],
   "source": [
    "-56.25/45"
   ]
  },
  {
   "cell_type": "code",
   "execution_count": null,
   "id": "b7aac82b",
   "metadata": {},
   "outputs": [],
   "source": [
    "\n",
    "0.55 * 1.0 + 0.45 * -1.25"
   ]
  },
  {
   "cell_type": "code",
   "execution_count": null,
   "id": "1a6233b1",
   "metadata": {},
   "outputs": [],
   "source": [
    "import asyncio\n",
    "\n",
    "def build_strat() -> BasicTakerStrat:\n",
    "    sym = 'BTCUSDT'\n",
    "    lags = LogReturnLags(3)\n",
    "    return BasicTakerStrat(sym, model, lags, 1.0)\n",
    "\n",
    "time_series = pl.read_csv('BTCUSDT_12h_ohlc.csv', try_parse_dates=True)\n",
    "\n",
    "account = TestAccount(time_series, Decimal(100.0))\n",
    "strat = build_strat()\n",
    "engine = TestExecutionEngine(time_series, strat, timer, account)\n",
    "\n",
    "async def main():\n",
    "    print(\"Start...\")\n",
    "\n",
    "    await engine.start(sleep_secs=2)\n",
    "    print(\"Done!\")\n",
    "\n",
    "# You can directly await\n",
    "await main()"
   ]
  },
  {
   "cell_type": "code",
   "execution_count": null,
   "id": "e71e2c76",
   "metadata": {},
   "outputs": [],
   "source": []
  }
 ],
 "metadata": {
  "kernelspec": {
   "display_name": "research",
   "language": "python",
   "name": "python3"
  },
  "language_info": {
   "codemirror_mode": {
    "name": "ipython",
    "version": 3
   },
   "file_extension": ".py",
   "mimetype": "text/x-python",
   "name": "python",
   "nbconvert_exporter": "python",
   "pygments_lexer": "ipython3",
   "version": "3.12.8"
  }
 },
 "nbformat": 4,
 "nbformat_minor": 5
}
