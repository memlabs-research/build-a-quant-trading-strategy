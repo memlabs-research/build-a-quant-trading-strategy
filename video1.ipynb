{
 "cells": [
  {
   "cell_type": "markdown",
   "id": "6d25ed16",
   "metadata": {},
   "source": [
    "# Let's Build a Quant Trading Strategy"
   ]
  },
  {
   "cell_type": "markdown",
   "id": "55761ea5",
   "metadata": {},
   "source": [
    "## Video 1: Build a ML Model in PyTorch"
   ]
  },
  {
   "cell_type": "code",
   "execution_count": null,
   "id": "61133cbd",
   "metadata": {},
   "outputs": [],
   "source": [
    "# https://github.com/memlabs-research/build-a-quant-trading-strategy"
   ]
  },
  {
   "cell_type": "code",
   "execution_count": 1,
   "id": "99963bf1",
   "metadata": {},
   "outputs": [],
   "source": [
    "# y_hat = model(x)\n",
    "# orders = strategy(y_hat)\n",
    "# execute(orders)"
   ]
  },
  {
   "cell_type": "code",
   "execution_count": 2,
   "id": "7a79f520",
   "metadata": {},
   "outputs": [],
   "source": [
    "# regression model => BTCUSDT => future log return"
   ]
  },
  {
   "cell_type": "code",
   "execution_count": 3,
   "id": "7996e84d",
   "metadata": {},
   "outputs": [],
   "source": [
    "# Data and analysis libraries\n",
    "import polars as pl                         # Fast dataframes for financial data\n",
    "import numpy as np                          # Numerical computing library\n",
    "from datetime import datetime, timedelta    # Date and time operations\n",
    "import random\n",
    "\n",
    "\n",
    "# Machine learning libraries  \n",
    "import torch                                # PyTorch framework\n",
    "import torch.nn as nn                       # Neural network modules\n",
    "import torch.optim as optim                 # Optimization algorithms\n",
    "import research                             # Model building and training utilities\n",
    "\n",
    "\n",
    "# Visualization and \n",
    "import altair as alt                        # Interactive visualization library\n",
    "\n",
    "# data sources\n",
    "import binance                              # Binance market data utilities"
   ]
  },
  {
   "cell_type": "code",
   "execution_count": 4,
   "id": "c0a7370e",
   "metadata": {},
   "outputs": [],
   "source": [
    "research.set_seed(42)"
   ]
  },
  {
   "cell_type": "code",
   "execution_count": 5,
   "id": "1bc8b862",
   "metadata": {},
   "outputs": [
    {
     "data": {
      "text/plain": [
       "polars.config.Config"
      ]
     },
     "execution_count": 5,
     "metadata": {},
     "output_type": "execute_result"
    }
   ],
   "source": [
    "pl.Config.set_tbl_width_chars(200)\n",
    "pl.Config.set_fmt_str_lengths(100)\n",
    "pl.Config.set_tbl_cols(-1)  # Show all columns"
   ]
  },
  {
   "cell_type": "code",
   "execution_count": 6,
   "id": "57539dea",
   "metadata": {},
   "outputs": [],
   "source": [
    "# Trading pair symbol\n",
    "sym = 'BTCUSDT'\n",
    "# time horizon of time series (time interval)\n",
    "time_interval = '1h'\n",
    "# Max number of auto-regressive lags\n",
    "max_lags = 4\n",
    "# Forecast horizon in steps \n",
    "forecast_horizon = 1\n",
    "# Sharpe annualized rate (so it's independent of time frequency)\n",
    "annualized_rate = research.sharpe_annualization_factor(time_interval, 365, 24)"
   ]
  },
  {
   "cell_type": "code",
   "execution_count": 7,
   "id": "adab295f",
   "metadata": {},
   "outputs": [
    {
     "name": "stderr",
     "output_type": "stream",
     "text": [
      "Downloading BTCUSDT: 100%|██████████| 346/346 [00:11<00:00, 30.79it/s]\n"
     ]
    }
   ],
   "source": [
    "# old version that's in the video that should no longer used\n",
    "# binance.download_trades(sym, hist_data_window)\n",
    "\n",
    "# new version that downloads just the data showed in the video\n",
    "start = datetime(2024, 10, 29, 0, 0)\n",
    "end = datetime(2025, 10, 9, 0, 0)\n",
    "binance.download_date_range(sym, start, end)"
   ]
  },
  {
   "cell_type": "code",
   "execution_count": null,
   "id": "ef310570",
   "metadata": {},
   "outputs": [],
   "source": [
    "# this is the old version that's in the vide\n",
    "# ts = research.load_ohlc_timeseries(sym, time_interval)\n",
    "\n",
    "# this version allows to get the same results in the video by fixing date range\n",
    "ts = research.load_ohlc_timeseries_range(sym, time_interval, start, end)\n",
    "ts"
   ]
  },
  {
   "cell_type": "code",
   "execution_count": null,
   "id": "6d72c833",
   "metadata": {},
   "outputs": [],
   "source": [
    "research.load_timeseries_range(sym, time_interval, pl.col('price').quantile(0.5).alias('price_median'))"
   ]
  },
  {
   "cell_type": "code",
   "execution_count": null,
   "id": "eb9ae704",
   "metadata": {},
   "outputs": [],
   "source": [
    "research.plot_static_timeseries(ts, sym, 'close', time_interval)"
   ]
  },
  {
   "cell_type": "code",
   "execution_count": null,
   "id": "0b040198",
   "metadata": {},
   "outputs": [],
   "source": [
    "alt.data_transformers.enable(\"vegafusion\")\n",
    "research.plot_dyn_timeseries(ts, sym, 'close', time_interval)"
   ]
  },
  {
   "cell_type": "markdown",
   "id": "c8a74c9c",
   "metadata": {},
   "source": [
    "### Feature Engineering"
   ]
  },
  {
   "cell_type": "code",
   "execution_count": null,
   "id": "054eab55",
   "metadata": {},
   "outputs": [],
   "source": [
    "price_time_series = pl.DataFrame({'price':[100.0,120.0,100.0]})\n",
    "research.plot_column(price_time_series, 'price')"
   ]
  },
  {
   "cell_type": "code",
   "execution_count": null,
   "id": "03455fa3",
   "metadata": {},
   "outputs": [],
   "source": [
    "price_time_series.with_columns(\n",
    "    pl.col('price').diff().alias('delta'),\n",
    "    ((pl.col('price')-pl.col('price').shift())/pl.col('price').shift()).alias('return'),\n",
    "    (pl.col('price')/pl.col('price').shift()).log().alias('log_return'),\n",
    ")"
   ]
  },
  {
   "cell_type": "markdown",
   "id": "b657499d",
   "metadata": {},
   "source": [
    "### Create target and lagged features"
   ]
  },
  {
   "cell_type": "code",
   "execution_count": null,
   "id": "dc170719",
   "metadata": {},
   "outputs": [],
   "source": [
    "ts = ts.with_columns((pl.col('close')/pl.col('close').shift(forecast_horizon)).log().alias('close_log_return'))\n",
    "ts"
   ]
  },
  {
   "cell_type": "code",
   "execution_count": null,
   "id": "4668cbfa",
   "metadata": {},
   "outputs": [],
   "source": [
    "target = 'close_log_return'\n",
    "lr = pl.col(target)\n",
    "ts = ts.with_columns(\n",
    "    lr.shift(forecast_horizon * 1).alias(f'{target}_lag_1'),\n",
    "    lr.shift(forecast_horizon * 2).alias(f'{target}_lag_2'),\n",
    "    lr.shift(forecast_horizon * 3).alias(f'{target}_lag_3'),\n",
    "    lr.shift(forecast_horizon * 4).alias(f'{target}_lag_4'),\n",
    ")\n",
    "ts"
   ]
  },
  {
   "cell_type": "code",
   "execution_count": null,
   "id": "0851f976",
   "metadata": {},
   "outputs": [],
   "source": [
    "ts = research.add_lags(ts, target, max_lags, forecast_horizon)\n",
    "ts"
   ]
  },
  {
   "cell_type": "code",
   "execution_count": null,
   "id": "0ff72c89",
   "metadata": {},
   "outputs": [],
   "source": [
    "ts = ts.drop_nulls()"
   ]
  },
  {
   "cell_type": "code",
   "execution_count": null,
   "id": "4831a5ee",
   "metadata": {},
   "outputs": [],
   "source": [
    "research.plot_distribution(ts, target, no_bins = 100)"
   ]
  },
  {
   "cell_type": "code",
   "execution_count": null,
   "id": "ddb413fb",
   "metadata": {},
   "outputs": [],
   "source": [
    "research.plot_distribution(ts, 'close', no_bins = 100)"
   ]
  },
  {
   "cell_type": "markdown",
   "id": "6453ceca",
   "metadata": {},
   "source": [
    "### Build Model"
   ]
  },
  {
   "cell_type": "code",
   "execution_count": null,
   "id": "674a4b75",
   "metadata": {},
   "outputs": [],
   "source": [
    "class LinearModel(nn.Module):\n",
    "    def __init__(self, input_features):\n",
    "        super(LinearModel, self).__init__()\n",
    "        self.linear = nn.Linear(input_features, 1)\n",
    "\n",
    "    def forward(self, x):\n",
    "        return self.linear(x)"
   ]
  },
  {
   "cell_type": "markdown",
   "id": "3ebff9a0",
   "metadata": {},
   "source": [
    "### Complexity of the model"
   ]
  },
  {
   "cell_type": "code",
   "execution_count": null,
   "id": "5447bd6e",
   "metadata": {},
   "outputs": [],
   "source": [
    "input_features = 1\n",
    "\n",
    "linear_model = LinearModel(input_features)\n",
    "\n",
    "research.print_model_info(linear_model, \"Linear Model\")\n",
    "research.total_model_params(linear_model)"
   ]
  },
  {
   "cell_type": "code",
   "execution_count": null,
   "id": "45c922e9",
   "metadata": {},
   "outputs": [],
   "source": [
    "# y = w * x + b"
   ]
  },
  {
   "cell_type": "markdown",
   "id": "cd9c014d",
   "metadata": {},
   "source": [
    "### Split by time"
   ]
  },
  {
   "cell_type": "code",
   "execution_count": null,
   "id": "9a780f46",
   "metadata": {},
   "outputs": [],
   "source": [
    "features = ['close_log_return_lag_1']\n",
    "target = 'close_log_return'\n",
    "test_size = 0.25"
   ]
  },
  {
   "cell_type": "code",
   "execution_count": null,
   "id": "8d0bffa0",
   "metadata": {},
   "outputs": [],
   "source": [
    "len(ts)"
   ]
  },
  {
   "cell_type": "code",
   "execution_count": null,
   "id": "879b6d62",
   "metadata": {},
   "outputs": [],
   "source": [
    "int(len(ts) * test_size)"
   ]
  },
  {
   "cell_type": "code",
   "execution_count": null,
   "id": "5805e9ac",
   "metadata": {},
   "outputs": [],
   "source": [
    "split_idx = int(len(ts) * (1-test_size))\n",
    "split_idx"
   ]
  },
  {
   "cell_type": "code",
   "execution_count": null,
   "id": "3df67f16",
   "metadata": {},
   "outputs": [],
   "source": [
    "ts_train, ts_test = ts[:split_idx], ts[split_idx:]"
   ]
  },
  {
   "cell_type": "code",
   "execution_count": null,
   "id": "1a29e369",
   "metadata": {},
   "outputs": [],
   "source": [
    "ts_train"
   ]
  },
  {
   "cell_type": "code",
   "execution_count": null,
   "id": "6a13eb96",
   "metadata": {},
   "outputs": [],
   "source": [
    "ts_test"
   ]
  },
  {
   "cell_type": "code",
   "execution_count": null,
   "id": "dae647e5",
   "metadata": {},
   "outputs": [],
   "source": [
    "X_train = torch.tensor(ts_train[features].to_numpy(), dtype=torch.float32)\n",
    "X_test = ts_test[features].to_torch().float()\n",
    "y_train = torch.tensor(ts_train[target].to_numpy(), dtype=torch.float32)\n",
    "y_test = torch.tensor(ts_test[target].to_numpy(), dtype=torch.float32)"
   ]
  },
  {
   "cell_type": "code",
   "execution_count": null,
   "id": "794b9383",
   "metadata": {},
   "outputs": [],
   "source": [
    "X_train"
   ]
  },
  {
   "cell_type": "code",
   "execution_count": null,
   "id": "a058dc89",
   "metadata": {},
   "outputs": [],
   "source": [
    "X_train.shape"
   ]
  },
  {
   "cell_type": "code",
   "execution_count": null,
   "id": "d4ea9119",
   "metadata": {},
   "outputs": [],
   "source": [
    "y_train"
   ]
  },
  {
   "cell_type": "code",
   "execution_count": null,
   "id": "072b7cc5",
   "metadata": {},
   "outputs": [],
   "source": [
    "y_train.shape"
   ]
  },
  {
   "cell_type": "code",
   "execution_count": null,
   "id": "6cf34f59",
   "metadata": {},
   "outputs": [],
   "source": [
    "y_train = y_train.reshape(-1, 1)\n",
    "y_train"
   ]
  },
  {
   "cell_type": "code",
   "execution_count": null,
   "id": "8955c39d",
   "metadata": {},
   "outputs": [],
   "source": [
    "y_train.shape"
   ]
  },
  {
   "cell_type": "code",
   "execution_count": null,
   "id": "ca4d7f0d",
   "metadata": {},
   "outputs": [],
   "source": [
    "y_test = y_test.reshape(-1, 1)\n",
    "y_test"
   ]
  },
  {
   "cell_type": "code",
   "execution_count": null,
   "id": "106b3cae",
   "metadata": {},
   "outputs": [],
   "source": [
    "research.timeseries_train_test_split(ts, features, target, test_size)"
   ]
  },
  {
   "cell_type": "markdown",
   "id": "7c0ec9b2",
   "metadata": {},
   "source": [
    "### Batch Gradient Descent"
   ]
  },
  {
   "cell_type": "code",
   "execution_count": null,
   "id": "00aa526b",
   "metadata": {},
   "outputs": [],
   "source": [
    "# hyperparameters\n",
    "no_epochs = 1000 * 5\n",
    "lr = 0.0005\n",
    "\n",
    "# create model\n",
    "model = LinearModel(len(features))\n",
    "# loss function\n",
    "criterion = nn.MSELoss()\n",
    "# optimizer\n",
    "optimizer = optim.Adam(model.parameters(), lr = lr)\n",
    "\n",
    "print(\"\\nTraining model...\")\n",
    "\n",
    "for epoch in range(no_epochs):\n",
    "    # forward pass\n",
    "    y_hat = model(X_train)\n",
    "    loss = criterion(y_hat, y_train)\n",
    "\n",
    "    # backward pass\n",
    "    optimizer.zero_grad()   # 1. clear old gradients\n",
    "    loss.backward()         # 2. compute new gradients\n",
    "    optimizer.step()        # 3. update weights\n",
    "\n",
    "    # check for improvement\n",
    "    train_loss = loss.item()\n",
    "\n",
    "    # logging\n",
    "    if (epoch + 1) % 500 == 0:\n",
    "        print(f\"Epoch [{epoch+1}/{no_epochs}], Loss: {train_loss:.6f}\")\n",
    "\n",
    "print(\"\\nLearned parameters\")\n",
    "\n",
    "for name, param in model.named_parameters():\n",
    "    if param.requires_grad:\n",
    "        print(f\"{name}:\\n{param.data.numpy()}\")\n",
    "\n",
    "# Evaluation\n",
    "model.eval()\n",
    "with torch.no_grad():\n",
    "    y_hat = model(X_test)\n",
    "    test_loss = criterion(y_hat, y_test)\n",
    "    print(f\"\\nTest Loss: {test_loss.item():.6f}, Train Loss: {train_loss:.6f}\")\n",
    "    "
   ]
  },
  {
   "cell_type": "markdown",
   "id": "e3674803",
   "metadata": {},
   "source": [
    "### Test Trading Peformance"
   ]
  },
  {
   "cell_type": "code",
   "execution_count": null,
   "id": "39675dad",
   "metadata": {},
   "outputs": [],
   "source": [
    "trade_results = pl.DataFrame({\n",
    "    'y_hat': y_hat.squeeze(),\n",
    "    'y': y_test.squeeze()\n",
    "}).with_columns(\n",
    "    (pl.col('y_hat').sign()==pl.col('y').sign()).alias('is_won'),\n",
    "    pl.col('y_hat').sign().alias('signal'),\n",
    ").with_columns(\n",
    "    (pl.col('signal') * pl.col('y')).alias('trade_log_return')\n",
    ").with_columns(\n",
    "    pl.col('trade_log_return').cum_sum().alias('equity_curve')\n",
    ")\n",
    "trade_results"
   ]
  },
  {
   "cell_type": "code",
   "execution_count": null,
   "id": "9a24f9a5",
   "metadata": {},
   "outputs": [],
   "source": [
    "research.plot_column(trade_results, 'equity_curve')"
   ]
  },
  {
   "cell_type": "code",
   "execution_count": null,
   "id": "f7d5c861",
   "metadata": {},
   "outputs": [],
   "source": [
    "trade_results = trade_results.with_columns(\n",
    "    (pl.col('equity_curve')-pl.col('equity_curve').cum_max()).alias('drawdown_log')\n",
    ")\n",
    "trade_results"
   ]
  },
  {
   "cell_type": "code",
   "execution_count": null,
   "id": "b683c76d",
   "metadata": {},
   "outputs": [],
   "source": [
    "max_drawdown_log = trade_results['drawdown_log'].min()\n",
    "max_drawdown_log"
   ]
  },
  {
   "cell_type": "code",
   "execution_count": null,
   "id": "efad2773",
   "metadata": {},
   "outputs": [],
   "source": [
    "drawdown_pct = np.exp(max_drawdown_log) - 1\n",
    "drawdown_pct"
   ]
  },
  {
   "cell_type": "code",
   "execution_count": null,
   "id": "3e09faa7",
   "metadata": {},
   "outputs": [],
   "source": [
    "equity_peak = 1000\n",
    "equity_peak * drawdown_pct"
   ]
  },
  {
   "cell_type": "code",
   "execution_count": null,
   "id": "3a81268f",
   "metadata": {},
   "outputs": [],
   "source": [
    "win_rate = trade_results['is_won'].mean()\n",
    "win_rate"
   ]
  },
  {
   "cell_type": "code",
   "execution_count": null,
   "id": "3517a6ca",
   "metadata": {},
   "outputs": [],
   "source": [
    "avg_win = trade_results.filter(pl.col('is_won')==True)['trade_log_return'].mean()\n",
    "avg_loss = trade_results.filter(pl.col('is_won')==False)['trade_log_return'].mean()\n",
    "ev = win_rate * avg_win + (1 - win_rate) * avg_loss\n",
    "ev"
   ]
  },
  {
   "cell_type": "code",
   "execution_count": null,
   "id": "07788d4b",
   "metadata": {},
   "outputs": [],
   "source": [
    "total_log_return = trade_results['trade_log_return'].sum()\n",
    "total_log_return"
   ]
  },
  {
   "cell_type": "code",
   "execution_count": null,
   "id": "741cda2c",
   "metadata": {},
   "outputs": [],
   "source": [
    "compound_return = np.exp(total_log_return)\n",
    "compound_return"
   ]
  },
  {
   "cell_type": "code",
   "execution_count": null,
   "id": "93bd0ea9",
   "metadata": {},
   "outputs": [],
   "source": [
    "1000*compound_return"
   ]
  },
  {
   "cell_type": "code",
   "execution_count": null,
   "id": "5ce0130f",
   "metadata": {},
   "outputs": [],
   "source": [
    "equity_trough = trade_results['equity_curve'].min()\n",
    "equity_trough"
   ]
  },
  {
   "cell_type": "code",
   "execution_count": null,
   "id": "f87f19ab",
   "metadata": {},
   "outputs": [],
   "source": [
    "equity_peak = trade_results['equity_curve'].max()\n",
    "equity_peak"
   ]
  },
  {
   "cell_type": "code",
   "execution_count": null,
   "id": "cf9a8260",
   "metadata": {},
   "outputs": [],
   "source": [
    "std = trade_results['trade_log_return'].std()\n",
    "std"
   ]
  },
  {
   "cell_type": "code",
   "execution_count": null,
   "id": "061c60b6",
   "metadata": {},
   "outputs": [],
   "source": [
    "sharpe = ev / std * annualized_rate\n",
    "sharpe"
   ]
  },
  {
   "cell_type": "code",
   "execution_count": null,
   "id": "8200ad1d",
   "metadata": {},
   "outputs": [],
   "source": [
    "research.eval_model_performance(y_test, y_hat, features, target, annualized_rate)"
   ]
  },
  {
   "cell_type": "code",
   "execution_count": null,
   "id": "928875ce",
   "metadata": {},
   "outputs": [],
   "source": [
    "target = 'close_log_return'\n",
    "features = ['close_log_return_lag_2']\n",
    "model = LinearModel(len(features))\n",
    "perf = research.benchmark_reg_model(ts, features, target, model, annualized_rate, no_epochs=50)"
   ]
  }
 ],
 "metadata": {
  "kernelspec": {
   "display_name": "research",
   "language": "python",
   "name": "python3"
  },
  "language_info": {
   "codemirror_mode": {
    "name": "ipython",
    "version": 3
   },
   "file_extension": ".py",
   "mimetype": "text/x-python",
   "name": "python",
   "nbconvert_exporter": "python",
   "pygments_lexer": "ipython3",
   "version": "3.12.11"
  }
 },
 "nbformat": 4,
 "nbformat_minor": 5
}
