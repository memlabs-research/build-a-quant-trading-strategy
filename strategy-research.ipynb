{
 "cells": [
  {
   "cell_type": "code",
   "execution_count": 9,
   "id": "54ad97d0",
   "metadata": {},
   "outputs": [],
   "source": [
    "# Data and analysis libraries\n",
    "import polars as pl                         # Fast dataframes for financial data\n",
    "import numpy as np                          # Numerical computing library\n",
    "from datetime import datetime, timedelta    # Date and time operations\n",
    "import random\n",
    "\n",
    "\n",
    "# Machine learning libraries  \n",
    "import torch                                # PyTorch framework\n",
    "import torch.nn as nn                       # Neural network modules\n",
    "import torch.optim as optim                 # Optimization algorithms\n",
    "import research                             # Model building and training utilities\n",
    "from model import LinearModel               # Contains our models that we are using\n",
    "\n",
    "\n",
    "# Visualization and \n",
    "import altair as alt                        # Interactive visualization library\n",
    "\n",
    "# data sources\n",
    "import binance                              # Binance market data utilities"
   ]
  },
  {
   "cell_type": "code",
   "execution_count": 10,
   "id": "48718c02",
   "metadata": {},
   "outputs": [
    {
     "name": "stderr",
     "output_type": "stream",
     "text": [
      "/var/folders/vm/67_f56f139n7j71wcmp5q6k00000gn/T/ipykernel_63950/111695655.py:3: FutureWarning: You are using `torch.load` with `weights_only=False` (the current default value), which uses the default pickle module implicitly. It is possible to construct malicious pickle data which will execute arbitrary code during unpickling (See https://github.com/pytorch/pytorch/blob/main/SECURITY.md#untrusted-models for more details). In a future release, the default value for `weights_only` will be flipped to `True`. This limits the functions that could be executed during unpickling. Arbitrary objects will no longer be allowed to be loaded via this mode unless they are explicitly allowlisted by the user via `torch.serialization.add_safe_globals`. We recommend you start setting `weights_only=True` for any use case where you don't have full control of the loaded file. Please open an issue on GitHub for any issues related to this experimental feature.\n",
      "  model.load_state_dict(torch.load('model_weights.pth'))\n"
     ]
    },
    {
     "data": {
      "text/plain": [
       "LinearModel(\n",
       "  (linear): Linear(in_features=1, out_features=1, bias=True)\n",
       ")"
      ]
     },
     "execution_count": 10,
     "metadata": {},
     "output_type": "execute_result"
    }
   ],
   "source": [
    "import models\n",
    "model = models.LinearModel(1)\n",
    "model.load_state_dict(torch.load('model_weights.pth'))\n",
    "model"
   ]
  },
  {
   "cell_type": "code",
   "execution_count": 16,
   "id": "17da1a95",
   "metadata": {},
   "outputs": [],
   "source": [
    "sym = 'BTCUSDT'\n",
    "time_interval = '8h'"
   ]
  },
  {
   "cell_type": "code",
   "execution_count": 17,
   "id": "2c9065c8",
   "metadata": {},
   "outputs": [
    {
     "name": "stderr",
     "output_type": "stream",
     "text": [
      "Loading BTCUSDT: 100%|██████████| 168/168 [00:08<00:00, 19.16file/s]\n"
     ]
    },
    {
     "data": {
      "text/html": [
       "<div><style>\n",
       ".dataframe > thead > tr,\n",
       ".dataframe > tbody > tr {\n",
       "  text-align: right;\n",
       "  white-space: pre-wrap;\n",
       "}\n",
       "</style>\n",
       "<small>shape: (504, 5)</small><table border=\"1\" class=\"dataframe\"><thead><tr><th>datetime</th><th>open</th><th>high</th><th>low</th><th>close</th></tr><tr><td>datetime[μs]</td><td>f64</td><td>f64</td><td>f64</td><td>f64</td></tr></thead><tbody><tr><td>2025-04-23 00:00:00</td><td>93404.9</td><td>94263.0</td><td>92552.0</td><td>94102.5</td></tr><tr><td>2025-04-23 08:00:00</td><td>94102.6</td><td>94904.3</td><td>91898.0</td><td>93140.3</td></tr><tr><td>2025-04-23 16:00:00</td><td>93140.3</td><td>94178.0</td><td>92860.0</td><td>93632.1</td></tr><tr><td>2025-04-24 00:00:00</td><td>93632.2</td><td>93735.1</td><td>92055.1</td><td>92166.0</td></tr><tr><td>2025-04-24 08:00:00</td><td>92166.1</td><td>93429.6</td><td>91619.0</td><td>93144.8</td></tr><tr><td>&hellip;</td><td>&hellip;</td><td>&hellip;</td><td>&hellip;</td><td>&hellip;</td></tr><tr><td>2025-10-06 08:00:00</td><td>123332.4</td><td>125375.0</td><td>123332.3</td><td>124946.2</td></tr><tr><td>2025-10-06 16:00:00</td><td>124946.2</td><td>126208.5</td><td>124463.0</td><td>124628.5</td></tr><tr><td>2025-10-07 00:00:00</td><td>124628.6</td><td>125047.0</td><td>123503.9</td><td>123627.1</td></tr><tr><td>2025-10-07 08:00:00</td><td>123627.1</td><td>125098.0</td><td>121102.0</td><td>121788.3</td></tr><tr><td>2025-10-07 16:00:00</td><td>121788.2</td><td>122255.4</td><td>120516.0</td><td>121286.5</td></tr></tbody></table></div>"
      ],
      "text/plain": [
       "shape: (504, 5)\n",
       "┌─────────────────────┬──────────┬──────────┬──────────┬──────────┐\n",
       "│ datetime            ┆ open     ┆ high     ┆ low      ┆ close    │\n",
       "│ ---                 ┆ ---      ┆ ---      ┆ ---      ┆ ---      │\n",
       "│ datetime[μs]        ┆ f64      ┆ f64      ┆ f64      ┆ f64      │\n",
       "╞═════════════════════╪══════════╪══════════╪══════════╪══════════╡\n",
       "│ 2025-04-23 00:00:00 ┆ 93404.9  ┆ 94263.0  ┆ 92552.0  ┆ 94102.5  │\n",
       "│ 2025-04-23 08:00:00 ┆ 94102.6  ┆ 94904.3  ┆ 91898.0  ┆ 93140.3  │\n",
       "│ 2025-04-23 16:00:00 ┆ 93140.3  ┆ 94178.0  ┆ 92860.0  ┆ 93632.1  │\n",
       "│ 2025-04-24 00:00:00 ┆ 93632.2  ┆ 93735.1  ┆ 92055.1  ┆ 92166.0  │\n",
       "│ 2025-04-24 08:00:00 ┆ 92166.1  ┆ 93429.6  ┆ 91619.0  ┆ 93144.8  │\n",
       "│ …                   ┆ …        ┆ …        ┆ …        ┆ …        │\n",
       "│ 2025-10-06 08:00:00 ┆ 123332.4 ┆ 125375.0 ┆ 123332.3 ┆ 124946.2 │\n",
       "│ 2025-10-06 16:00:00 ┆ 124946.2 ┆ 126208.5 ┆ 124463.0 ┆ 124628.5 │\n",
       "│ 2025-10-07 00:00:00 ┆ 124628.6 ┆ 125047.0 ┆ 123503.9 ┆ 123627.1 │\n",
       "│ 2025-10-07 08:00:00 ┆ 123627.1 ┆ 125098.0 ┆ 121102.0 ┆ 121788.3 │\n",
       "│ 2025-10-07 16:00:00 ┆ 121788.2 ┆ 122255.4 ┆ 120516.0 ┆ 121286.5 │\n",
       "└─────────────────────┴──────────┴──────────┴──────────┴──────────┘"
      ]
     },
     "execution_count": 17,
     "metadata": {},
     "output_type": "execute_result"
    }
   ],
   "source": [
    "ts = research.load_ohlc_timeseries(sym, time_interval)\n",
    "ts"
   ]
  }
 ],
 "metadata": {
  "kernelspec": {
   "display_name": "research",
   "language": "python",
   "name": "python3"
  },
  "language_info": {
   "codemirror_mode": {
    "name": "ipython",
    "version": 3
   },
   "file_extension": ".py",
   "mimetype": "text/x-python",
   "name": "python",
   "nbconvert_exporter": "python",
   "pygments_lexer": "ipython3",
   "version": "3.12.11"
  }
 },
 "nbformat": 4,
 "nbformat_minor": 5
}
