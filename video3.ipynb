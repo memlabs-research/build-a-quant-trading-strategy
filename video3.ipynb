{
 "cells": [
  {
   "cell_type": "markdown",
   "id": "0a7adc3a",
   "metadata": {},
   "source": [
    "# Let's Build a Quant Trading Strategy - Part 3"
   ]
  },
  {
   "cell_type": "code",
   "execution_count": 197,
   "id": "a3904431",
   "metadata": {},
   "outputs": [],
   "source": [
    "# y_hat = model(x)\n",
    "# orders = strategy(y_hat)\n",
    "# execute(orders)"
   ]
  },
  {
   "cell_type": "code",
   "execution_count": 198,
   "id": "9a85e197",
   "metadata": {},
   "outputs": [],
   "source": [
    "# 1st video = Research\n",
    "# 2nd video = Strategy\n",
    "# 3rd video = Implementation\n",
    "\n",
    "# I strongly recommend to watch the first and second video but I try to make them independent by recapping"
   ]
  },
  {
   "cell_type": "markdown",
   "id": "df1ab3cd",
   "metadata": {},
   "source": [
    "### Goals\n",
    "\n",
    "1. Code it all together and put it live with real money.\n",
    "2. Show you how to build the architecture of a trading system \n",
    "3. Learn how to stream exchange data efficiently and react to events."
   ]
  },
  {
   "cell_type": "code",
   "execution_count": 199,
   "id": "d3b6cb8e",
   "metadata": {},
   "outputs": [],
   "source": [
    "# By the end of this video, we will have coded everything all together in Python and put it live!\n",
    "# Ideally I would prefer to write this in Rust but we will stick to Python. Maybe if you would like a Rust version, please leave a comment,\n",
    "# Put it live with real money and see what happens.\n",
    "# I will do a follow up video to see how it performs. \n",
    "# Even if it doesn't perform as expected, we can learn from it. \n",
    "# We might experience model drift - where where the pattern it learned starts to no longer hold true. \n",
    "# You might hear this be called alpha decay - which is your profits decay because of model drift. \n",
    "# So even if the pattern lose persistence; we can learn from it. For example, using sliding window instead and retrain.\n"
   ]
  },
  {
   "cell_type": "markdown",
   "id": "878cea90",
   "metadata": {},
   "source": []
  },
  {
   "cell_type": "code",
   "execution_count": 200,
   "id": "a73be94f",
   "metadata": {},
   "outputs": [],
   "source": [
    "# This will video will be more software engineering now as we have to code it all together.\n",
    "\n",
    "# 1. Ability to stream data from the exchange efficiently - just like Netflix - \n",
    "# Netflix intelligently buffers the data - you never have to wait for Netflix to download the next scenes - it's all seamless\n",
    "# Our system needs to stream data seamlessly\n",
    "# Our system needs to react to the prices - events\n",
    "# Our system needs to handle events\n"
   ]
  },
  {
   "cell_type": "markdown",
   "id": "34a27150",
   "metadata": {},
   "source": [
    "## Recap"
   ]
  },
  {
   "cell_type": "markdown",
   "id": "841a53f5",
   "metadata": {},
   "source": [
    "### Part 1: Research"
   ]
  },
  {
   "cell_type": "code",
   "execution_count": 201,
   "id": "d4b14047",
   "metadata": {},
   "outputs": [
    {
     "data": {
      "text/plain": [
       "LinearModel(\n",
       "  (linear): Linear(in_features=3, out_features=1, bias=True)\n",
       ")"
      ]
     },
     "execution_count": 201,
     "metadata": {},
     "output_type": "execute_result"
    }
   ],
   "source": [
    "import models\n",
    "import torch\n",
    "import research\n",
    "\n",
    "model = models.LinearModel(3)\n",
    "# security alert \n",
    "model.load_state_dict(torch.load('model_weights.pth', weights_only=True))\n",
    "model.eval()"
   ]
  },
  {
   "cell_type": "markdown",
   "id": "fcd8f62b",
   "metadata": {},
   "source": [
    "### AR(3) Model - 12h forecast horizon"
   ]
  },
  {
   "cell_type": "code",
   "execution_count": 202,
   "id": "96ebd2b8",
   "metadata": {},
   "outputs": [
    {
     "name": "stdout",
     "output_type": "stream",
     "text": [
      "linear.weight:\n",
      "[[-0.10395038 -0.06726477  0.02827305]]\n",
      "linear.bias:\n",
      "[0.00067121]\n"
     ]
    }
   ],
   "source": [
    "research.print_model_params(model)"
   ]
  },
  {
   "cell_type": "markdown",
   "id": "af754d3c",
   "metadata": {},
   "source": [
    "### Part 2: Strategy Recap"
   ]
  },
  {
   "cell_type": "code",
   "execution_count": 203,
   "id": "d46e276e",
   "metadata": {},
   "outputs": [],
   "source": [
    "# Showed a strategy that generates ~14% without any optimization.\n",
    "# I then showed 2 strategy decisions that turned that the strategy 14% to >40%\n",
    "# The reason for the huge increase in returns were a combination:\n",
    "# 1. Model's statistical edge \n",
    "# 2. Compounding Trade Sizing \n",
    "# 3. Leverage\n",
    "\n"
   ]
  },
  {
   "cell_type": "markdown",
   "id": "21a3379a",
   "metadata": {},
   "source": [
    "## The fundamental building block: Tick"
   ]
  },
  {
   "cell_type": "code",
   "execution_count": 204,
   "id": "4e827841",
   "metadata": {},
   "outputs": [],
   "source": [
    "from abc import ABC, abstractmethod\n",
    "from typing import Generic, TypeVar\n",
    "\n",
    "T = TypeVar('T')  # input type\n",
    "R = TypeVar('R')  # output type\n",
    "\n",
    "class Tick(ABC, Generic[T, R]):\n",
    "    @abstractmethod\n",
    "    def on_tick(self, val: T) -> R:\n",
    "        \"\"\"Handle a new tick and optionally return a result.\"\"\"\n",
    "        pass"
   ]
  },
  {
   "cell_type": "markdown",
   "id": "6d6374a7",
   "metadata": {},
   "source": [
    "## The fundamental data structure: Window"
   ]
  },
  {
   "cell_type": "code",
   "execution_count": 205,
   "id": "98a1285c",
   "metadata": {},
   "outputs": [],
   "source": [
    "from collections import deque\n",
    "from typing import Deque, Optional\n",
    "import numpy as np\n",
    "\n",
    "class DequeWindow(Tick[T, Optional[T]], Generic[T]):\n",
    "    def __init__(self, n: int):\n",
    "        self._data: Deque[T] = deque(maxlen=n)\n",
    "\n",
    "    def append_left(self, val: T) -> Optional[T]:\n",
    "        dropped = None\n",
    "        if self.is_full():\n",
    "            dropped = self._data[-1]\n",
    "        self._data.appendleft(val)\n",
    "        return dropped\n",
    "\n",
    "    def on_tick(self, val: T) -> Optional[T]:\n",
    "        \"\"\"Append a value and return the oldest value dropped (if any).\"\"\"\n",
    "        dropped = None\n",
    "        if len(self._data) == self.capacity():\n",
    "            dropped = self._data[0]\n",
    "        self._data.append(val)\n",
    "        return dropped\n",
    "\n",
    "    def capacity(self) -> int:\n",
    "        n = self._data.maxlen\n",
    "        return 0 if n is None else n\n",
    "    \n",
    "    def is_full(self) -> bool:\n",
    "        return self._data.maxlen == len(self._data)\n",
    "    \n",
    "    def to_numpy(self) -> np.ndarray:\n",
    "        return np.array(self._data)\n",
    "    \n",
    "    def __repr__(self) -> str:\n",
    "        cls_name = self.__class__.__name__\n",
    "        return f\"{cls_name}(capacity={self._data.maxlen}, values={list(self._data)})\""
   ]
  },
  {
   "cell_type": "markdown",
   "id": "2b475d85",
   "metadata": {},
   "source": [
    "### Streaming Example: Sliding Window"
   ]
  },
  {
   "cell_type": "code",
   "execution_count": 206,
   "id": "53224848",
   "metadata": {},
   "outputs": [
    {
     "data": {
      "text/plain": [
       "DequeWindow(capacity=3, values=[1])"
      ]
     },
     "execution_count": 206,
     "metadata": {},
     "output_type": "execute_result"
    }
   ],
   "source": [
    "w = DequeWindow(3)\n",
    "w.on_tick(1)\n",
    "w"
   ]
  },
  {
   "cell_type": "code",
   "execution_count": 207,
   "id": "3857eef2",
   "metadata": {},
   "outputs": [
    {
     "data": {
      "text/plain": [
       "DequeWindow(capacity=3, values=[1, 2])"
      ]
     },
     "execution_count": 207,
     "metadata": {},
     "output_type": "execute_result"
    }
   ],
   "source": [
    "w = DequeWindow(3)\n",
    "w.on_tick(1)\n",
    "w.on_tick(2)\n",
    "w"
   ]
  },
  {
   "cell_type": "code",
   "execution_count": 208,
   "id": "8ac266cf",
   "metadata": {},
   "outputs": [
    {
     "data": {
      "text/plain": [
       "DequeWindow(capacity=3, values=[1, 2, 3])"
      ]
     },
     "execution_count": 208,
     "metadata": {},
     "output_type": "execute_result"
    }
   ],
   "source": [
    "w = DequeWindow(3)\n",
    "w.on_tick(1)\n",
    "w.on_tick(2)\n",
    "w.on_tick(3)\n",
    "w\n"
   ]
  },
  {
   "cell_type": "code",
   "execution_count": 209,
   "id": "efd59cd8",
   "metadata": {},
   "outputs": [
    {
     "data": {
      "text/plain": [
       "(1, DequeWindow(capacity=3, values=[2, 3, 4]))"
      ]
     },
     "execution_count": 209,
     "metadata": {},
     "output_type": "execute_result"
    }
   ],
   "source": [
    "w = DequeWindow(3)\n",
    "w.on_tick(1)\n",
    "w.on_tick(2)\n",
    "w.on_tick(3)\n",
    "old_v = w.on_tick(4)\n",
    "\n",
    "(old_v, w)"
   ]
  },
  {
   "cell_type": "code",
   "execution_count": 210,
   "id": "628f12fd",
   "metadata": {},
   "outputs": [
    {
     "data": {
      "text/plain": [
       "(2, DequeWindow(capacity=3, values=[3, 4, 5]))"
      ]
     },
     "execution_count": 210,
     "metadata": {},
     "output_type": "execute_result"
    }
   ],
   "source": [
    "w = DequeWindow(3)\n",
    "w.on_tick(1)\n",
    "w.on_tick(2)\n",
    "w.on_tick(3)\n",
    "w.on_tick(4)\n",
    "old_v = w.on_tick(5)\n",
    "\n",
    "(old_v, w)"
   ]
  },
  {
   "cell_type": "markdown",
   "id": "655b1086",
   "metadata": {},
   "source": [
    "### Array-based Window"
   ]
  },
  {
   "cell_type": "code",
   "execution_count": 211,
   "id": "24cf99f3",
   "metadata": {},
   "outputs": [],
   "source": [
    "import numpy as np\n",
    "from typing import Optional\n",
    "\n",
    "class NumpyWindow(Tick[T, Optional[T]]):\n",
    "    \"\"\"Fixed-capacity sliding window for scalar values using a NumPy array (shift on append).\"\"\"\n",
    "\n",
    "    def __init__(self, n: int, dtype=np.float64):\n",
    "        if n <= 0:\n",
    "            raise ValueError(\"Capacity must be positive.\")\n",
    "        self._capacity = n\n",
    "        self._data = np.zeros(n, dtype=dtype)\n",
    "        self._size = 0\n",
    "\n",
    "    def on_tick(self, val: float) -> Optional[float]:\n",
    "        \"\"\"\n",
    "        Append a scalar value and return the oldest value dropped (if any).\n",
    "        Shifts elements in-place without copying slices.\n",
    "        \"\"\"\n",
    "        dropped = None\n",
    "\n",
    "        if self._size < self._capacity:\n",
    "            self._data[self._size] = val\n",
    "            self._size += 1\n",
    "        else:\n",
    "            dropped = self._data[0]\n",
    "            # shift left in-place\n",
    "            for i in range(1, self._capacity):\n",
    "                self._data[i - 1] = self._data[i]\n",
    "            self._data[-1] = val\n",
    "\n",
    "        return dropped\n",
    "\n",
    "\n",
    "    def __getitem__(self, idx: int) -> float:\n",
    "        \"\"\"Index access (0 = oldest).\"\"\"\n",
    "        if not 0 <= idx < self._size:\n",
    "            raise IndexError(\"Index out of range.\")\n",
    "        return self._data[idx]\n",
    "\n",
    "    def __len__(self) -> int:\n",
    "        return self._size\n",
    "\n",
    "    def capacity(self) -> int:\n",
    "        return self._capacity\n",
    "\n",
    "    def is_full(self) -> bool:\n",
    "        return self._size == self._capacity\n",
    "\n",
    "    def values(self) -> np.ndarray:\n",
    "        \"\"\"Return current valid values as a contiguous 1D array (no copy needed).\"\"\"\n",
    "        return self._data[:self._size]\n",
    "\n",
    "    def __repr__(self) -> str:\n",
    "        vals = self.values().tolist()\n",
    "        return f\"{self.__class__.__name__}(capacity={self._capacity}, size={self._size}, values={vals})\"\n"
   ]
  },
  {
   "cell_type": "markdown",
   "id": "8863d938",
   "metadata": {},
   "source": [
    "### Streaming Example: Numpy Sliding Window"
   ]
  },
  {
   "cell_type": "code",
   "execution_count": 212,
   "id": "e467e914",
   "metadata": {},
   "outputs": [
    {
     "data": {
      "text/plain": [
       "NumpyWindow(capacity=3, size=1, values=[1.0])"
      ]
     },
     "execution_count": 212,
     "metadata": {},
     "output_type": "execute_result"
    }
   ],
   "source": [
    "w = NumpyWindow(3)\n",
    "w.on_tick(1)\n",
    "w"
   ]
  },
  {
   "cell_type": "code",
   "execution_count": 213,
   "id": "3ab739f1",
   "metadata": {},
   "outputs": [
    {
     "data": {
      "text/plain": [
       "NumpyWindow(capacity=3, size=2, values=[1.0, 2.0])"
      ]
     },
     "execution_count": 213,
     "metadata": {},
     "output_type": "execute_result"
    }
   ],
   "source": [
    "w = NumpyWindow(3)\n",
    "w.on_tick(1)\n",
    "w.on_tick(2)\n",
    "w"
   ]
  },
  {
   "cell_type": "code",
   "execution_count": 214,
   "id": "1e13c489",
   "metadata": {},
   "outputs": [
    {
     "data": {
      "text/plain": [
       "NumpyWindow(capacity=3, size=3, values=[1.0, 2.0, 3.0])"
      ]
     },
     "execution_count": 214,
     "metadata": {},
     "output_type": "execute_result"
    }
   ],
   "source": [
    "w = NumpyWindow(3)\n",
    "w.on_tick(1)\n",
    "w.on_tick(2)\n",
    "w.on_tick(3)\n",
    "w"
   ]
  },
  {
   "cell_type": "code",
   "execution_count": 215,
   "id": "0f9d7df6",
   "metadata": {},
   "outputs": [
    {
     "data": {
      "text/plain": [
       "(np.float64(1.0), NumpyWindow(capacity=3, size=3, values=[2.0, 3.0, 4.0]))"
      ]
     },
     "execution_count": 215,
     "metadata": {},
     "output_type": "execute_result"
    }
   ],
   "source": [
    "w = NumpyWindow(3)\n",
    "w.on_tick(1)\n",
    "w.on_tick(2)\n",
    "w.on_tick(3)\n",
    "v = w.on_tick(4)\n",
    "(v, w)"
   ]
  },
  {
   "cell_type": "markdown",
   "id": "42b86f68",
   "metadata": {},
   "source": [
    "### Benchmark Numpy Window vs Deque Window"
   ]
  },
  {
   "cell_type": "code",
   "execution_count": 216,
   "id": "7b6c9bc1",
   "metadata": {},
   "outputs": [],
   "source": [
    "def benchmark_window(window, n):\n",
    "    for i in range(n):\n",
    "        window.on_tick(i)\n",
    "\n",
    "window_size = 3\n",
    "n = 10000000"
   ]
  },
  {
   "cell_type": "code",
   "execution_count": 217,
   "id": "124e2adc",
   "metadata": {},
   "outputs": [
    {
     "name": "stdout",
     "output_type": "stream",
     "text": [
      "CPU times: user 2.39 s, sys: 8.9 ms, total: 2.4 s\n",
      "Wall time: 2.4 s\n"
     ]
    }
   ],
   "source": [
    "%%time\n",
    "benchmark_window(NumpyWindow(window_size), n)"
   ]
  },
  {
   "cell_type": "code",
   "execution_count": 218,
   "id": "e538d16c",
   "metadata": {},
   "outputs": [
    {
     "name": "stdout",
     "output_type": "stream",
     "text": [
      "CPU times: user 695 ms, sys: 3.43 ms, total: 699 ms\n",
      "Wall time: 698 ms\n"
     ]
    }
   ],
   "source": [
    "%%time\n",
    "benchmark_window(DequeWindow(window_size), n)"
   ]
  },
  {
   "cell_type": "markdown",
   "id": "1e8d1174",
   "metadata": {},
   "source": [
    "### Streaming the Last Known Value (To Track Close Price)"
   ]
  },
  {
   "cell_type": "code",
   "execution_count": 219,
   "id": "3a76d325",
   "metadata": {},
   "outputs": [],
   "source": [
    "class Last(Tick[T, T], Generic[T]):\n",
    "    def __init__(self):\n",
    "        self._value: Optional[T] = None\n",
    "\n",
    "    def on_tick(self, val: T) -> Optional[T]:\n",
    "        \"\"\"Append a value and return the oldest value dropped (if any).\"\"\"\n",
    "        self._value = val\n",
    "        return val\n",
    "\n",
    "    def __repr__(self) -> str:\n",
    "        cls_name = self.__class__.__name__\n",
    "        return f\"{cls_name}(value={self._value})\""
   ]
  },
  {
   "cell_type": "markdown",
   "id": "03e4e203",
   "metadata": {},
   "source": [
    "### Example: Streaming Last Value"
   ]
  },
  {
   "cell_type": "code",
   "execution_count": 220,
   "id": "16f41c41",
   "metadata": {},
   "outputs": [
    {
     "data": {
      "text/plain": [
       "Last(value=None)"
      ]
     },
     "execution_count": 220,
     "metadata": {},
     "output_type": "execute_result"
    }
   ],
   "source": [
    "last_val = Last()\n",
    "last_val"
   ]
  },
  {
   "cell_type": "code",
   "execution_count": 221,
   "id": "15a0ee50",
   "metadata": {},
   "outputs": [
    {
     "data": {
      "text/plain": [
       "Last(value=3)"
      ]
     },
     "execution_count": 221,
     "metadata": {},
     "output_type": "execute_result"
    }
   ],
   "source": [
    "last_val = Last()\n",
    "last_val.on_tick(1)\n",
    "last_val.on_tick(2)\n",
    "last_val.on_tick(3)\n",
    "last_val"
   ]
  },
  {
   "cell_type": "markdown",
   "id": "1e706e28",
   "metadata": {},
   "source": [
    "### Streaming Log Returns"
   ]
  },
  {
   "cell_type": "markdown",
   "id": "a6abf8a0",
   "metadata": {},
   "source": [
    "#### Quick Log Returns Recap"
   ]
  },
  {
   "cell_type": "code",
   "execution_count": 222,
   "id": "843f596b",
   "metadata": {},
   "outputs": [
    {
     "data": {
      "text/plain": [
       "[np.float64(0.1823215567939546), np.float64(-0.1823215567939546)]"
      ]
     },
     "execution_count": 222,
     "metadata": {},
     "output_type": "execute_result"
    }
   ],
   "source": [
    "portfolio_values = [100, 120, 100]\n",
    "log_returns = [\n",
    "    np.log(portfolio_values[1]/portfolio_values[0]), \n",
    "    np.log(portfolio_values[2]/portfolio_values[1]), \n",
    "]\n",
    "log_returns"
   ]
  },
  {
   "cell_type": "code",
   "execution_count": 223,
   "id": "8c7b8218",
   "metadata": {},
   "outputs": [
    {
     "data": {
      "text/plain": [
       "np.float64(0.0)"
      ]
     },
     "execution_count": 223,
     "metadata": {},
     "output_type": "execute_result"
    }
   ],
   "source": [
    "np.sum(log_returns)"
   ]
  },
  {
   "cell_type": "code",
   "execution_count": 224,
   "id": "44573b13",
   "metadata": {},
   "outputs": [],
   "source": [
    "import numpy as np\n",
    "\n",
    "class LogReturn(Tick[float, float], Generic[T]):\n",
    "    def __init__(self):\n",
    "        self._window = NumpyWindow(2)\n",
    "\n",
    "    def on_tick(self, val: float) -> Optional[float]:\n",
    "        self._window.on_tick(val)\n",
    "        if self._window.is_full():\n",
    "            return np.log(self._window[1] / self._window[0])\n",
    "        else:\n",
    "            return None\n",
    "        \n",
    "    def __repr__(self) -> str:\n",
    "        cls_name = self.__class__.__name__\n",
    "        return f\"{cls_name}(window={self._window})\"\n",
    "    "
   ]
  },
  {
   "cell_type": "markdown",
   "id": "3e4ecaa3",
   "metadata": {},
   "source": [
    "### Streaming Example: Log Returns"
   ]
  },
  {
   "cell_type": "code",
   "execution_count": 225,
   "id": "8d9f8745",
   "metadata": {},
   "outputs": [
    {
     "data": {
      "text/plain": [
       "LogReturn(window=NumpyWindow(capacity=2, size=1, values=[90.0]))"
      ]
     },
     "execution_count": 225,
     "metadata": {},
     "output_type": "execute_result"
    }
   ],
   "source": [
    "f = LogReturn()\n",
    "f.on_tick(90.0)\n",
    "f"
   ]
  },
  {
   "cell_type": "code",
   "execution_count": 226,
   "id": "3281af7f",
   "metadata": {},
   "outputs": [
    {
     "data": {
      "text/plain": [
       "(np.float64(0.10536051565782635),\n",
       " LogReturn(window=NumpyWindow(capacity=2, size=2, values=[90.0, 100.0])))"
      ]
     },
     "execution_count": 226,
     "metadata": {},
     "output_type": "execute_result"
    }
   ],
   "source": [
    "f = LogReturn()\n",
    "f.on_tick(90.0)\n",
    "v = f.on_tick(100.0)\n",
    "(v, f)"
   ]
  },
  {
   "cell_type": "code",
   "execution_count": 227,
   "id": "cb51350e",
   "metadata": {},
   "outputs": [
    {
     "data": {
      "text/plain": [
       "np.float64(0.10536051565782635)"
      ]
     },
     "execution_count": 227,
     "metadata": {},
     "output_type": "execute_result"
    }
   ],
   "source": [
    "np.log(100/90)"
   ]
  },
  {
   "cell_type": "code",
   "execution_count": 228,
   "id": "7e193601",
   "metadata": {},
   "outputs": [
    {
     "data": {
      "text/plain": [
       "(np.float64(0.4054651081081644),\n",
       " LogReturn(window=NumpyWindow(capacity=2, size=2, values=[100.0, 150.0])))"
      ]
     },
     "execution_count": 228,
     "metadata": {},
     "output_type": "execute_result"
    }
   ],
   "source": [
    "f = LogReturn()\n",
    "f.on_tick(90.0)\n",
    "f.on_tick(100.0)\n",
    "v = f.on_tick(150.0)\n",
    "(v, f)"
   ]
  },
  {
   "cell_type": "code",
   "execution_count": 229,
   "id": "44b73044",
   "metadata": {},
   "outputs": [
    {
     "data": {
      "text/plain": [
       "np.float64(0.4054651081081644)"
      ]
     },
     "execution_count": 229,
     "metadata": {},
     "output_type": "execute_result"
    }
   ],
   "source": [
    "np.log(150/100)"
   ]
  },
  {
   "cell_type": "markdown",
   "id": "3d8e7bc9",
   "metadata": {},
   "source": [
    "### Streaming Auto-Regressive Log Returns Lags"
   ]
  },
  {
   "cell_type": "markdown",
   "id": "483b9eca",
   "metadata": {},
   "source": [
    "#### Auto-Regression Recap"
   ]
  },
  {
   "cell_type": "code",
   "execution_count": 230,
   "id": "2b5f118d",
   "metadata": {},
   "outputs": [
    {
     "data": {
      "text/plain": [
       "-0.2"
      ]
     },
     "execution_count": 230,
     "metadata": {},
     "output_type": "execute_result"
    }
   ],
   "source": [
    "time_series = [0.1, -0.2, -0.3]\n",
    "lag_1 = time_series[-2]\n",
    "lag_1"
   ]
  },
  {
   "cell_type": "code",
   "execution_count": 231,
   "id": "1de389eb",
   "metadata": {},
   "outputs": [
    {
     "data": {
      "text/plain": [
       "0.1"
      ]
     },
     "execution_count": 231,
     "metadata": {},
     "output_type": "execute_result"
    }
   ],
   "source": [
    "lag_2 = time_series[-3]\n",
    "lag_2"
   ]
  },
  {
   "cell_type": "code",
   "execution_count": 232,
   "id": "0de2fd08",
   "metadata": {},
   "outputs": [],
   "source": [
    "\n",
    "class LogReturnLags(Tick[float, torch.Tensor]):\n",
    "    def __init__(self, no_lags: int):\n",
    "        self._lags = DequeWindow(no_lags)\n",
    "        self._log_return = LogReturn()\n",
    "    \n",
    "    def on_tick(self, val: float) -> torch.Tensor | None:\n",
    "        log_ret = self._log_return.on_tick(val)\n",
    "        if log_ret is not None:\n",
    "            self._lags.append_left(log_ret)\n",
    "            return torch.tensor(self._lags.to_numpy(), dtype=torch.float32) if self._lags.is_full() else None\n",
    "        else:\n",
    "            return None\n",
    "        \n",
    "    def __repr__(self) -> str:\n",
    "        cls_name = self.__class__.__name__\n",
    "        return f\"{cls_name}(lags={self._lags}, log_return={self._log_return})\" "
   ]
  },
  {
   "cell_type": "markdown",
   "id": "66e814d5",
   "metadata": {},
   "source": [
    "### Streaming Example: Auto-Regressive Log Returns"
   ]
  },
  {
   "cell_type": "code",
   "execution_count": 233,
   "id": "b847a140",
   "metadata": {},
   "outputs": [
    {
     "data": {
      "text/plain": [
       "LogReturnLags(lags=DequeWindow(capacity=3, values=[]), log_return=LogReturn(window=NumpyWindow(capacity=2, size=1, values=[90.0])))"
      ]
     },
     "execution_count": 233,
     "metadata": {},
     "output_type": "execute_result"
    }
   ],
   "source": [
    "lags = LogReturnLags(3)\n",
    "v = lags.on_tick(90)\n",
    "lags"
   ]
  },
  {
   "cell_type": "code",
   "execution_count": 234,
   "id": "9cc40801",
   "metadata": {},
   "outputs": [
    {
     "data": {
      "text/plain": [
       "LogReturnLags(lags=DequeWindow(capacity=3, values=[np.float64(0.10536051565782635)]), log_return=LogReturn(window=NumpyWindow(capacity=2, size=2, values=[90.0, 100.0])))"
      ]
     },
     "execution_count": 234,
     "metadata": {},
     "output_type": "execute_result"
    }
   ],
   "source": [
    "lags = LogReturnLags(3)\n",
    "lags.on_tick(90)\n",
    "lags.on_tick(100)\n",
    "lags\n"
   ]
  },
  {
   "cell_type": "code",
   "execution_count": 235,
   "id": "52c76602",
   "metadata": {},
   "outputs": [
    {
     "data": {
      "text/plain": [
       "LogReturnLags(lags=DequeWindow(capacity=3, values=[np.float64(0.4054651081081644), np.float64(0.10536051565782635)]), log_return=LogReturn(window=NumpyWindow(capacity=2, size=2, values=[100.0, 150.0])))"
      ]
     },
     "execution_count": 235,
     "metadata": {},
     "output_type": "execute_result"
    }
   ],
   "source": [
    "lags = LogReturnLags(3)\n",
    "lags.on_tick(90)\n",
    "lags.on_tick(100)\n",
    "lags.on_tick(150)\n",
    "lags"
   ]
  },
  {
   "cell_type": "code",
   "execution_count": 236,
   "id": "5943a6a2",
   "metadata": {},
   "outputs": [
    {
     "data": {
      "text/plain": [
       "tensor([-0.3102,  0.4055,  0.1054])"
      ]
     },
     "execution_count": 236,
     "metadata": {},
     "output_type": "execute_result"
    }
   ],
   "source": [
    "lags = LogReturnLags(3)\n",
    "lags.on_tick(90)\n",
    "lags.on_tick(100)\n",
    "lags.on_tick(150)\n",
    "lags.on_tick(110)"
   ]
  },
  {
   "cell_type": "code",
   "execution_count": 237,
   "id": "9e772e2b",
   "metadata": {},
   "outputs": [
    {
     "data": {
      "text/plain": [
       "[np.float64(-0.3101549283038396),\n",
       " np.float64(0.4054651081081644),\n",
       " np.float64(0.10536051565782635)]"
      ]
     },
     "execution_count": 237,
     "metadata": {},
     "output_type": "execute_result"
    }
   ],
   "source": [
    "[\n",
    "    np.log(110/150),\n",
    "    np.log(150/100),\n",
    "    np.log(100/90),\n",
    "]"
   ]
  },
  {
   "cell_type": "code",
   "execution_count": 238,
   "id": "ac8eb056",
   "metadata": {},
   "outputs": [
    {
     "data": {
      "text/plain": [
       "tensor([ 0.3747, -0.3102,  0.4055])"
      ]
     },
     "execution_count": 238,
     "metadata": {},
     "output_type": "execute_result"
    }
   ],
   "source": [
    "lags = LogReturnLags(3)\n",
    "lags.on_tick(90)\n",
    "lags.on_tick(100)\n",
    "lags.on_tick(150)\n",
    "lags.on_tick(110)\n",
    "features = lags.on_tick(160)\n",
    "features"
   ]
  },
  {
   "cell_type": "markdown",
   "id": "bd567f8b",
   "metadata": {},
   "source": [
    "### Example: Streaming the Features into our Model "
   ]
  },
  {
   "cell_type": "code",
   "execution_count": 239,
   "id": "e0126aac",
   "metadata": {},
   "outputs": [
    {
     "data": {
      "text/plain": [
       "LinearModel(\n",
       "  (linear): Linear(in_features=3, out_features=1, bias=True)\n",
       ")"
      ]
     },
     "execution_count": 239,
     "metadata": {},
     "output_type": "execute_result"
    }
   ],
   "source": [
    "import models\n",
    "model = models.LinearModel(3)\n",
    "# security alert \n",
    "model.load_state_dict(torch.load('model_weights.pth', weights_only=True))\n",
    "model.eval()"
   ]
  },
  {
   "cell_type": "code",
   "execution_count": 240,
   "id": "bf8bf071",
   "metadata": {},
   "outputs": [
    {
     "data": {
      "text/plain": [
       "tensor([-0.0060], grad_fn=<ViewBackward0>)"
      ]
     },
     "execution_count": 240,
     "metadata": {},
     "output_type": "execute_result"
    }
   ],
   "source": [
    "X = features\n",
    "y_hat = model(X)\n",
    "y_hat"
   ]
  },
  {
   "cell_type": "code",
   "execution_count": 241,
   "id": "97f1b668",
   "metadata": {},
   "outputs": [
    {
     "data": {
      "text/plain": [
       "tensor(-0.0060, grad_fn=<SelectBackward0>)"
      ]
     },
     "execution_count": 241,
     "metadata": {},
     "output_type": "execute_result"
    }
   ],
   "source": [
    "y_hat[0]"
   ]
  },
  {
   "cell_type": "markdown",
   "id": "87936f7f",
   "metadata": {},
   "source": [
    "### Build The Trading System"
   ]
  },
  {
   "cell_type": "code",
   "execution_count": 251,
   "id": "0a20a391",
   "metadata": {},
   "outputs": [],
   "source": [
    "from decimal import Decimal\n",
    "from typing import Dict, List\n",
    "from dataclasses import dataclass\n",
    "import torch.nn as nn\n",
    "import polars as pl\n",
    "\n",
    "def decimal_sign(d: Decimal) -> int:\n",
    "    return 1 if d > Decimal(0) else -1\n",
    "\n",
    "def is_long(x: Decimal) -> bool:\n",
    "    return decimal_sign(x) > 0\n",
    "\n",
    "@dataclass(frozen=True)\n",
    "class Order:\n",
    "    sym: str\n",
    "    signed_qty: Decimal\n",
    "\n",
    "    def __str__(self) -> str:\n",
    "        sign = \"LONG\" if self.signed_qty > 0 else \"SHORT\"\n",
    "        return f\"Order({sign} {self.signed_qty} {self.sym})\"\n",
    "\n",
    "@dataclass(frozen=True)\n",
    "class Trade:\n",
    "    sym: str\n",
    "    signed_qty: Decimal\n",
    "    price: Decimal\n",
    "    pnl: Decimal\n",
    "\n",
    "    def __str__(self) -> str:\n",
    "        sign = \"LONG\" if is_long(self.signed_qty) else \"SHORT\"\n",
    "        return f\"Trade({sign} {self.signed_qty} {self.sym} {self.price} {self.is_long} {self.pnl})\"\n",
    "\n",
    "    def is_long(self) -> bool:\n",
    "        return is_long(self.signed_qty)\n",
    "\n",
    "\n",
    "@dataclass\n",
    "class Position:\n",
    "    sym: str\n",
    "    signed_qty: Decimal\n",
    "    price: Decimal\n",
    "\n",
    "    def close(self) -> \"Order\":\n",
    "        return Order(self.sym, -self.signed_qty)\n",
    "    \n",
    "    def is_long(self) -> bool:\n",
    "        return is_long(self.signed_qty)\n"
   ]
  },
  {
   "cell_type": "markdown",
   "id": "9dcfe34f",
   "metadata": {},
   "source": [
    "### Create Base Class for Market"
   ]
  },
  {
   "cell_type": "code",
   "execution_count": 243,
   "id": "10d81c02",
   "metadata": {},
   "outputs": [],
   "source": [
    "from abc import ABC, abstractmethod\n",
    "from decimal import Decimal\n",
    "from typing import Dict\n",
    "\n",
    "class Account(ABC):\n",
    "    \"\"\"Abstract base class representing a trading account.\"\"\"\n",
    "\n",
    "    @abstractmethod\n",
    "    def balance(self) -> Decimal:\n",
    "        \"\"\"Return the current account balance.\"\"\"\n",
    "        pass\n",
    "\n",
    "    @abstractmethod\n",
    "    def market_order(self, sym: str, signed_qty: Decimal, price: Decimal) -> \"Trade\":\n",
    "        \"\"\"Execute a market order and return a Trade result.\"\"\"\n",
    "        pass\n",
    "\n",
    "    @abstractmethod\n",
    "    def get_position(self, sym: str) -> Optional[Position]:\n",
    "        \"\"\"Return current open positions.\"\"\"\n",
    "        pass    \n",
    "\n",
    "    @abstractmethod\n",
    "    def get_trades(self) -> List[Trade]:\n",
    "        pass\n",
    "\n",
    "\n"
   ]
  },
  {
   "cell_type": "markdown",
   "id": "841ded63",
   "metadata": {},
   "source": [
    "### Create Test Account"
   ]
  },
  {
   "cell_type": "code",
   "execution_count": null,
   "id": "b3d2071d",
   "metadata": {},
   "outputs": [],
   "source": [
    "from decimal import Decimal\n",
    "from typing import Dict, Optional\n",
    "\n",
    "class TestAccount(Account):\n",
    "    \"\"\"A simulated account for testing or paper trading.\"\"\"\n",
    "\n",
    "    def __init__(self, time_series: pl.DataFrame, _balance: Decimal) -> None:\n",
    "        self._balance = _balance\n",
    "        self.time_series = time_series\n",
    "        self._positions: Dict[str, Position] = {}\n",
    "        self.counter: int = 0\n",
    "        self._trades: List[Trade] = [] \n",
    "\n",
    "    def balance(self) -> Decimal:\n",
    "        return self._balance\n",
    "\n",
    "    def get_trade_price(self) -> Decimal:\n",
    "        price = self.time_series[\"close\"][self.counter]\n",
    "        self.counter += 1\n",
    "        return Decimal(price)\n",
    "\n",
    "    def market_order(self, sym: str, signed_qty: Decimal, price: Decimal) -> \"Trade\":\n",
    "        # Simulate a fill at fixed price\n",
    "        if price is None:\n",
    "            price = self.get_trade_price()\n",
    "        \n",
    "        # Update balance and position\n",
    "        trade = self._update_position(sym, signed_qty, price)\n",
    "        self._balance += trade.pnl\n",
    "        self._trades.append(trade)\n",
    "        print(f\"trades = {self._trades}\")\n",
    "        print(f\"positions = {self._positions}\")\n",
    "        return trade\n",
    "\n",
    "    def get_position(self, sym) -> Optional[Position]:\n",
    "        return self._positions.get(sym, None)\n",
    "    \n",
    "    def _update_position(self, sym: str, signed_qty, price: Decimal) -> Trade:\n",
    "        position = self._positions.pop(sym, None)\n",
    "        print(position)\n",
    "        pnl = Decimal(0.0)\n",
    "        if position is not None:\n",
    "            entry_val = position.price * position.signed_qty\n",
    "            exit_val = price * position.signed_qty              \n",
    "            pnl = exit_val - entry_val  \n",
    "        else:\n",
    "            self._positions[sym] = Position(sym, signed_qty, price) \n",
    "        return Trade(sym, signed_qty, price, pnl)\n",
    "    \n",
    "    def get_trades(self) -> List[Trade]:\n",
    "        return self._trades\n",
    "\n",
    "    def __repr__(self) -> str:\n",
    "        return f\"TestAccount(balance={self._balance}, positions={self._positions})\"\n"
   ]
  },
  {
   "cell_type": "markdown",
   "id": "5f192d00",
   "metadata": {},
   "source": [
    "### Example: Market Orders in Test Account"
   ]
  },
  {
   "cell_type": "code",
   "execution_count": 245,
   "id": "700f4216",
   "metadata": {},
   "outputs": [
    {
     "data": {
      "text/html": [
       "<div><style>\n",
       ".dataframe > thead > tr,\n",
       ".dataframe > tbody > tr {\n",
       "  text-align: right;\n",
       "  white-space: pre-wrap;\n",
       "}\n",
       "</style>\n",
       "<small>shape: (692, 5)</small><table border=\"1\" class=\"dataframe\"><thead><tr><th>datetime</th><th>open</th><th>high</th><th>low</th><th>close</th></tr><tr><td>datetime[μs]</td><td>f64</td><td>f64</td><td>f64</td><td>f64</td></tr></thead><tbody><tr><td>2024-10-29 00:00:00</td><td>69939.9</td><td>71607.0</td><td>69733.0</td><td>71440.1</td></tr><tr><td>2024-10-29 12:00:00</td><td>71440.0</td><td>73660.0</td><td>70900.0</td><td>72739.5</td></tr><tr><td>2024-10-30 00:00:00</td><td>72739.5</td><td>72797.4</td><td>71931.1</td><td>71995.0</td></tr><tr><td>2024-10-30 12:00:00</td><td>71994.9</td><td>72984.9</td><td>71444.2</td><td>72349.0</td></tr><tr><td>2024-10-31 00:00:00</td><td>72349.0</td><td>72720.3</td><td>72030.5</td><td>72213.3</td></tr><tr><td>&hellip;</td><td>&hellip;</td><td>&hellip;</td><td>&hellip;</td><td>&hellip;</td></tr><tr><td>2025-10-07 12:00:00</td><td>124397.1</td><td>125098.0</td><td>120516.0</td><td>121286.5</td></tr><tr><td>2025-10-08 00:00:00</td><td>121286.6</td><td>123150.0</td><td>121005.3</td><td>122825.7</td></tr><tr><td>2025-10-08 12:00:00</td><td>122825.8</td><td>124170.6</td><td>121607.8</td><td>123237.5</td></tr><tr><td>2025-10-09 00:00:00</td><td>123237.4</td><td>123279.7</td><td>121081.5</td><td>122672.9</td></tr><tr><td>2025-10-09 12:00:00</td><td>122673.0</td><td>123740.1</td><td>119572.8</td><td>121579.3</td></tr></tbody></table></div>"
      ],
      "text/plain": [
       "shape: (692, 5)\n",
       "┌─────────────────────┬──────────┬──────────┬──────────┬──────────┐\n",
       "│ datetime            ┆ open     ┆ high     ┆ low      ┆ close    │\n",
       "│ ---                 ┆ ---      ┆ ---      ┆ ---      ┆ ---      │\n",
       "│ datetime[μs]        ┆ f64      ┆ f64      ┆ f64      ┆ f64      │\n",
       "╞═════════════════════╪══════════╪══════════╪══════════╪══════════╡\n",
       "│ 2024-10-29 00:00:00 ┆ 69939.9  ┆ 71607.0  ┆ 69733.0  ┆ 71440.1  │\n",
       "│ 2024-10-29 12:00:00 ┆ 71440.0  ┆ 73660.0  ┆ 70900.0  ┆ 72739.5  │\n",
       "│ 2024-10-30 00:00:00 ┆ 72739.5  ┆ 72797.4  ┆ 71931.1  ┆ 71995.0  │\n",
       "│ 2024-10-30 12:00:00 ┆ 71994.9  ┆ 72984.9  ┆ 71444.2  ┆ 72349.0  │\n",
       "│ 2024-10-31 00:00:00 ┆ 72349.0  ┆ 72720.3  ┆ 72030.5  ┆ 72213.3  │\n",
       "│ …                   ┆ …        ┆ …        ┆ …        ┆ …        │\n",
       "│ 2025-10-07 12:00:00 ┆ 124397.1 ┆ 125098.0 ┆ 120516.0 ┆ 121286.5 │\n",
       "│ 2025-10-08 00:00:00 ┆ 121286.6 ┆ 123150.0 ┆ 121005.3 ┆ 122825.7 │\n",
       "│ 2025-10-08 12:00:00 ┆ 122825.8 ┆ 124170.6 ┆ 121607.8 ┆ 123237.5 │\n",
       "│ 2025-10-09 00:00:00 ┆ 123237.4 ┆ 123279.7 ┆ 121081.5 ┆ 122672.9 │\n",
       "│ 2025-10-09 12:00:00 ┆ 122673.0 ┆ 123740.1 ┆ 119572.8 ┆ 121579.3 │\n",
       "└─────────────────────┴──────────┴──────────┴──────────┴──────────┘"
      ]
     },
     "execution_count": 245,
     "metadata": {},
     "output_type": "execute_result"
    }
   ],
   "source": [
    "time_series = pl.read_csv('BTCUSDT_12h_ohlc.csv', try_parse_dates=True)\n",
    "time_series"
   ]
  },
  {
   "cell_type": "code",
   "execution_count": 246,
   "id": "8356d5de",
   "metadata": {},
   "outputs": [
    {
     "data": {
      "text/html": [
       "<div><style>\n",
       ".dataframe > thead > tr,\n",
       ".dataframe > tbody > tr {\n",
       "  text-align: right;\n",
       "  white-space: pre-wrap;\n",
       "}\n",
       "</style>\n",
       "<small>shape: (692,)</small><table border=\"1\" class=\"dataframe\"><thead><tr><th>close</th></tr><tr><td>f64</td></tr></thead><tbody><tr><td>71440.1</td></tr><tr><td>72739.5</td></tr><tr><td>71995.0</td></tr><tr><td>72349.0</td></tr><tr><td>72213.3</td></tr><tr><td>&hellip;</td></tr><tr><td>121286.5</td></tr><tr><td>122825.7</td></tr><tr><td>123237.5</td></tr><tr><td>122672.9</td></tr><tr><td>121579.3</td></tr></tbody></table></div>"
      ],
      "text/plain": [
       "shape: (692,)\n",
       "Series: 'close' [f64]\n",
       "[\n",
       "\t71440.1\n",
       "\t72739.5\n",
       "\t71995.0\n",
       "\t72349.0\n",
       "\t72213.3\n",
       "\t…\n",
       "\t121286.5\n",
       "\t122825.7\n",
       "\t123237.5\n",
       "\t122672.9\n",
       "\t121579.3\n",
       "]"
      ]
     },
     "execution_count": 246,
     "metadata": {},
     "output_type": "execute_result"
    }
   ],
   "source": [
    "time_series['close']"
   ]
  },
  {
   "cell_type": "code",
   "execution_count": 247,
   "id": "dbc3d308",
   "metadata": {},
   "outputs": [
    {
     "data": {
      "text/plain": [
       "71440.1"
      ]
     },
     "execution_count": 247,
     "metadata": {},
     "output_type": "execute_result"
    }
   ],
   "source": [
    "time_series['close'][0]"
   ]
  },
  {
   "cell_type": "code",
   "execution_count": 248,
   "id": "1f8fbdea",
   "metadata": {},
   "outputs": [
    {
     "data": {
      "text/plain": [
       "0.0013997740764640585"
      ]
     },
     "execution_count": 248,
     "metadata": {},
     "output_type": "execute_result"
    }
   ],
   "source": [
    "100.0/71440.1"
   ]
  },
  {
   "cell_type": "code",
   "execution_count": 249,
   "id": "8582f1cd",
   "metadata": {},
   "outputs": [],
   "source": [
    "# place market order\n",
    "acc = TestAccount(time_series, Decimal(100.0))"
   ]
  },
  {
   "cell_type": "code",
   "execution_count": 250,
   "id": "396d0ac6",
   "metadata": {},
   "outputs": [
    {
     "ename": "TypeError",
     "evalue": "Trade.__init__() missing 1 required positional argument: 'pnl'",
     "output_type": "error",
     "traceback": [
      "\u001b[31m---------------------------------------------------------------------------\u001b[39m",
      "\u001b[31mTypeError\u001b[39m                                 Traceback (most recent call last)",
      "\u001b[36mCell\u001b[39m\u001b[36m \u001b[39m\u001b[32mIn[250]\u001b[39m\u001b[32m, line 4\u001b[39m\n\u001b[32m      2\u001b[39m trade_value = Decimal(\u001b[32m100\u001b[39m)\n\u001b[32m      3\u001b[39m qty = Decimal(\u001b[32m1.0\u001b[39m)\n\u001b[32m----> \u001b[39m\u001b[32m4\u001b[39m \u001b[43macc\u001b[49m\u001b[43m.\u001b[49m\u001b[43mmarket_order\u001b[49m\u001b[43m(\u001b[49m\u001b[33;43m'\u001b[39;49m\u001b[33;43mBTCUSDT\u001b[39;49m\u001b[33;43m'\u001b[39;49m\u001b[43m,\u001b[49m\u001b[43m \u001b[49m\u001b[43mqty\u001b[49m\u001b[43m,\u001b[49m\u001b[43m \u001b[49m\u001b[43mDecimal\u001b[49m\u001b[43m(\u001b[49m\u001b[43mprice\u001b[49m\u001b[43m)\u001b[49m\u001b[43m)\u001b[49m\n",
      "\u001b[36mCell\u001b[39m\u001b[36m \u001b[39m\u001b[32mIn[244]\u001b[39m\u001b[32m, line 28\u001b[39m, in \u001b[36mTestAccount.market_order\u001b[39m\u001b[34m(self, sym, signed_qty, price)\u001b[39m\n\u001b[32m     25\u001b[39m     price = \u001b[38;5;28mself\u001b[39m.get_trade_price()\n\u001b[32m     27\u001b[39m \u001b[38;5;66;03m# Update balance and position\u001b[39;00m\n\u001b[32m---> \u001b[39m\u001b[32m28\u001b[39m trade = \u001b[43mTrade\u001b[49m\u001b[43m(\u001b[49m\u001b[43msym\u001b[49m\u001b[43m=\u001b[49m\u001b[43msym\u001b[49m\u001b[43m,\u001b[49m\u001b[43m \u001b[49m\u001b[43msigned_qty\u001b[49m\u001b[43m=\u001b[49m\u001b[43msigned_qty\u001b[49m\u001b[43m,\u001b[49m\u001b[43m \u001b[49m\u001b[43mprice\u001b[49m\u001b[43m=\u001b[49m\u001b[43mprice\u001b[49m\u001b[43m,\u001b[49m\u001b[43m \u001b[49m\u001b[43mis_long\u001b[49m\u001b[43m=\u001b[49m\u001b[43mis_long\u001b[49m\u001b[43m(\u001b[49m\u001b[43msigned_qty\u001b[49m\u001b[43m)\u001b[49m\u001b[43m)\u001b[49m\n\u001b[32m     29\u001b[39m pnl = \u001b[38;5;28mself\u001b[39m._update_position(sym, trade)\n\u001b[32m     30\u001b[39m \u001b[38;5;28;01mif\u001b[39;00m pnl:\n",
      "\u001b[31mTypeError\u001b[39m: Trade.__init__() missing 1 required positional argument: 'pnl'"
     ]
    }
   ],
   "source": [
    "price = Decimal(100)\n",
    "trade_value = Decimal(100)\n",
    "qty = Decimal(1.0)\n",
    "acc.market_order('BTCUSDT', qty, Decimal(price))"
   ]
  },
  {
   "cell_type": "code",
   "execution_count": null,
   "id": "40902620",
   "metadata": {},
   "outputs": [],
   "source": [
    "acc"
   ]
  },
  {
   "cell_type": "code",
   "execution_count": null,
   "id": "ab6ea453",
   "metadata": {},
   "outputs": [],
   "source": [
    "price = 110.0\n",
    "acc.market_order('BTCUSDT', -qty, Decimal(price))"
   ]
  },
  {
   "cell_type": "code",
   "execution_count": null,
   "id": "c86c0e38",
   "metadata": {},
   "outputs": [],
   "source": [
    "-12/112"
   ]
  },
  {
   "cell_type": "code",
   "execution_count": null,
   "id": "7fc5ac68",
   "metadata": {},
   "outputs": [],
   "source": [
    "(1 - 0.10714285714285714) * 110"
   ]
  },
  {
   "cell_type": "code",
   "execution_count": null,
   "id": "8ce8d6e0",
   "metadata": {},
   "outputs": [],
   "source": [
    "price = Decimal(112.0)\n",
    "qty = acc.balance() / price \n",
    "acc.market_order('BTCUSDT', qty, Decimal(price))"
   ]
  },
  {
   "cell_type": "code",
   "execution_count": null,
   "id": "e5d49f1b",
   "metadata": {},
   "outputs": [],
   "source": [
    "price = Decimal(100.0)\n",
    "acc.market_order('BTCUSDT', -qty, Decimal(price))"
   ]
  },
  {
   "cell_type": "markdown",
   "id": "b410143d",
   "metadata": {},
   "source": [
    "### Develop Strategy API"
   ]
  },
  {
   "cell_type": "code",
   "execution_count": null,
   "id": "8fb2e8d3",
   "metadata": {},
   "outputs": [],
   "source": [
    "class Strategy(ABC):\n",
    "    \"\"\"Abstract base class representing a trading account.\"\"\"\n",
    "\n",
    "    @abstractmethod\n",
    "    def on_tick(self, price: float, account: Account) -> List[Order] | None:\n",
    "        pass\n",
    "\n",
    "class BasicTakerStrat(Strategy):\n",
    "    def __init__(self, \n",
    "                 sym: str,\n",
    "                 model: nn.Module, \n",
    "                 log_return_lags: LogReturnLags, \n",
    "                 scale_factor: Decimal = None) -> None:\n",
    "        self.sym = sym\n",
    "        self.model = model\n",
    "        self.log_return_lags = log_return_lags\n",
    "        if scale_factor is None:\n",
    "            scale_factor = Decimal(1.0)\n",
    "        self.scale_factor = Decimal(scale_factor)\n",
    "\n",
    "    def _signed_trade_size(self, y_hat: float, account: Account, cur_price: Decimal) -> Decimal:\n",
    "        dir_signal = np.sign(y_hat)\n",
    "        balance =  account.balance()\n",
    "        print(f\"balance = {balance}\")\n",
    "        qty = balance / cur_price\n",
    "        signed_qty = Decimal(dir_signal) * qty\n",
    "        return signed_qty * self.scale_factor\n",
    "\n",
    "    def _create_orders(self, y_hat: torch.Tensor, account: Account, price: Decimal) -> List[Order]:\n",
    "        print(f\"account = {account}\")\n",
    "        # print(f\"y_hat = {y_hat}\")\n",
    "        signed_trade_size = self._signed_trade_size(y_hat.item(), account, price)\n",
    "        # print(f\"signed_trade_size = {signed_trade_size}\")\n",
    "        open_order = Order(self.sym, signed_trade_size)\n",
    "        # print(f\"open order = {open_order}\") \n",
    "        \n",
    "        position = account.get_position(self.sym)\n",
    "        print(f\"position = {position}\")\n",
    "        if position is not None:\n",
    "            close_order = Order(position.sym, -position.signed_qty)\n",
    "            return [close_order, open_order]\n",
    "        return [open_order]      \n",
    "\n",
    "    def on_tick(self, price: float, account: Account) -> List[Order]:\n",
    "        X = self.log_return_lags.on_tick(price)\n",
    "        if X is not None:\n",
    "            with torch.no_grad():\n",
    "                # print(f\"X = {X}\")\n",
    "                y_hat = self.model(X)\n",
    "                orders = self._create_orders(y_hat, acc, Decimal(price))\n",
    "                return orders\n",
    "        return []"
   ]
  },
  {
   "cell_type": "code",
   "execution_count": null,
   "id": "d62dbf7d",
   "metadata": {},
   "outputs": [],
   "source": [
    "sym = 'BTCUSDT'\n",
    "lags = LogReturnLags(3)\n",
    "acc = TestAccount(time_series, Decimal(100.0))\n",
    "\n",
    "strat = BasicTakerStrat(sym, model, lags, Decimal(1.0))\n",
    "strat.on_tick(100.0, acc)\n",
    "strat.on_tick(110.0, acc)\n",
    "strat.on_tick(90.0, acc)\n",
    "orders = strat.on_tick(105, acc)\n",
    "qty = orders[0].signed_qty"
   ]
  },
  {
   "cell_type": "code",
   "execution_count": null,
   "id": "9ce4a1c4",
   "metadata": {},
   "outputs": [],
   "source": [
    "acc.market_order(sym, -qty, price)"
   ]
  },
  {
   "cell_type": "code",
   "execution_count": null,
   "id": "09141c8c",
   "metadata": {},
   "outputs": [],
   "source": [
    "acc"
   ]
  },
  {
   "cell_type": "code",
   "execution_count": null,
   "id": "7036fdcb",
   "metadata": {},
   "outputs": [],
   "source": [
    "x = [np.log(105/90), np.log(90/110.0), np.log(110/100)]\n",
    "x"
   ]
  },
  {
   "cell_type": "code",
   "execution_count": null,
   "id": "875c08a2",
   "metadata": {},
   "outputs": [],
   "source": [
    "orders = strat.on_tick(115, acc)\n",
    "orders"
   ]
  },
  {
   "cell_type": "code",
   "execution_count": null,
   "id": "6f00247b",
   "metadata": {},
   "outputs": [],
   "source": [
    "acc.balance()"
   ]
  },
  {
   "cell_type": "code",
   "execution_count": null,
   "id": "00ac8476",
   "metadata": {},
   "outputs": [],
   "source": [
    "import research\n",
    "research.print_model_params(model)"
   ]
  },
  {
   "cell_type": "code",
   "execution_count": null,
   "id": "0ce6585d",
   "metadata": {},
   "outputs": [],
   "source": [
    "w = np.array([-0.10395038, -0.06726477,  0.02827305]) \n",
    "w"
   ]
  },
  {
   "cell_type": "code",
   "execution_count": null,
   "id": "062549cf",
   "metadata": {},
   "outputs": [],
   "source": [
    "b = 0.00067121\n",
    "np.dot(w,x) + b"
   ]
  },
  {
   "cell_type": "code",
   "execution_count": null,
   "id": "9235925d",
   "metadata": {},
   "outputs": [],
   "source": [
    "lags = LogReturnLags(3)\n",
    "acc = TestAccount(time_series, Decimal(100.0))\n",
    "\n",
    "strat = BasicTakerStrat(sym, model, lags, Decimal(1.0))\n",
    "strat.on_tick(100.0, acc)\n",
    "strat.on_tick(110.0, acc)\n",
    "strat.on_tick(90.0, acc)\n",
    "orders = strat.on_tick(105, acc)\n",
    "if orders:\n",
    "    order = orders[0]\n",
    "    acc.market_order(sym, order.signed_qty, Decimal(105))"
   ]
  },
  {
   "cell_type": "code",
   "execution_count": null,
   "id": "5a7bbf91",
   "metadata": {},
   "outputs": [],
   "source": [
    "orders = strat.on_tick(110, acc)\n",
    "orders"
   ]
  },
  {
   "cell_type": "code",
   "execution_count": null,
   "id": "011e29c3",
   "metadata": {},
   "outputs": [],
   "source": [
    "orders = acc.market_order(sym, -order.signed_qty, Decimal(110))\n",
    "acc.balance()"
   ]
  },
  {
   "cell_type": "code",
   "execution_count": null,
   "id": "f68ec6e0",
   "metadata": {},
   "outputs": [],
   "source": [
    "acc.get_trades()"
   ]
  },
  {
   "cell_type": "code",
   "execution_count": null,
   "id": "45186cd2",
   "metadata": {},
   "outputs": [],
   "source": [
    "acc._positions"
   ]
  },
  {
   "cell_type": "markdown",
   "id": "79354fd7",
   "metadata": {},
   "source": [
    "### Time Interval Timer - 12h"
   ]
  },
  {
   "cell_type": "code",
   "execution_count": null,
   "id": "171a2d60",
   "metadata": {},
   "outputs": [],
   "source": [
    "from datetime import datetime, timezone\n",
    "\n",
    "def epoch_now():\n",
    "    return datetime.now(timezone.utc).timestamp()\n",
    "\n",
    "epoch_utc = epoch_now()\n",
    "epoch_utc"
   ]
  },
  {
   "cell_type": "code",
   "execution_count": null,
   "id": "17bc5e6f",
   "metadata": {},
   "outputs": [],
   "source": [
    "def ts_bar(epoch: float | int, n: int) -> int:\n",
    "    epoch = int(epoch)\n",
    "    return epoch - (epoch % n)"
   ]
  },
  {
   "cell_type": "code",
   "execution_count": null,
   "id": "1c487e85",
   "metadata": {},
   "outputs": [],
   "source": [
    "min_in_secs = 60"
   ]
  },
  {
   "cell_type": "code",
   "execution_count": null,
   "id": "ec1c51a4",
   "metadata": {},
   "outputs": [],
   "source": [
    "ts_bar(epoch_utc, min_in_secs)"
   ]
  },
  {
   "cell_type": "code",
   "execution_count": null,
   "id": "8797e76e",
   "metadata": {},
   "outputs": [],
   "source": [
    "ts_bar(epoch_utc + 61, min_in_secs)"
   ]
  },
  {
   "cell_type": "code",
   "execution_count": null,
   "id": "bc8c436e",
   "metadata": {},
   "outputs": [],
   "source": [
    "class IntervalTimer(Tick[int, bool]):\n",
    "    def __init__(self, interval_mins: int):\n",
    "        self.last_bar: int = 0  \n",
    "        self.time_interval = interval_mins * 60\n",
    "\n",
    "    def on_tick(self, epoch: int) -> bool:\n",
    "        bar = ts_bar(epoch, self.time_interval)\n",
    "        if bar > self.last_bar:\n",
    "            self.last_bar = bar\n",
    "            return True\n",
    "        return False"
   ]
  },
  {
   "cell_type": "markdown",
   "id": "17582ace",
   "metadata": {},
   "source": [
    "### Example: Timer"
   ]
  },
  {
   "cell_type": "code",
   "execution_count": null,
   "id": "2709fc99",
   "metadata": {},
   "outputs": [],
   "source": [
    "timer = IntervalTimer(1)\n",
    "\n",
    "now = epoch_now()\n",
    "\n",
    "timer.on_tick(now)"
   ]
  },
  {
   "cell_type": "code",
   "execution_count": null,
   "id": "a462dfd1",
   "metadata": {},
   "outputs": [],
   "source": [
    "timer.on_tick(now + 2)"
   ]
  },
  {
   "cell_type": "code",
   "execution_count": null,
   "id": "c81525e7",
   "metadata": {},
   "outputs": [],
   "source": [
    "timer.on_tick(now + 60)"
   ]
  },
  {
   "cell_type": "code",
   "execution_count": null,
   "id": "434f0410",
   "metadata": {},
   "outputs": [],
   "source": [
    "timer.on_tick(now + 60)"
   ]
  },
  {
   "cell_type": "markdown",
   "id": "44a1df3c",
   "metadata": {},
   "source": [
    "### Execution"
   ]
  },
  {
   "cell_type": "code",
   "execution_count": null,
   "id": "593a0088",
   "metadata": {},
   "outputs": [],
   "source": [
    "# y_hat = model(x)\n",
    "# orders = strategy(y_hat)\n",
    "# execute(orders)"
   ]
  },
  {
   "cell_type": "code",
   "execution_count": null,
   "id": "d0a7626f",
   "metadata": {},
   "outputs": [],
   "source": []
  },
  {
   "cell_type": "code",
   "execution_count": null,
   "id": "2aed887c",
   "metadata": {},
   "outputs": [],
   "source": [
    "import asyncio\n",
    "\n",
    "class TestExecutionEngine:\n",
    "    def __init__(self, time_series: pl.DataFrame, strat: Strategy, timer: IntervalTimer, account: TestAccount):\n",
    "        self.time_series = time_series\n",
    "        self.strat: Strategy = strat\n",
    "        self.timer: IntervalTimer = timer\n",
    "        self.account: TestAccount = account\n",
    "        self.counter: int = 0\n",
    "        self.trades: List[Trade] = []\n",
    "    \n",
    "    async def _execute(self, orders: Optional[List[\"Order\"]], price: Decimal):\n",
    "        \"\"\"Execute orders asynchronously (can simulate latency, slippage, etc).\"\"\"\n",
    "        \n",
    "        if orders is None:\n",
    "            return None\n",
    "        print(orders)\n",
    "        for order in orders:\n",
    "            trade = self.account.market_order(order.sym, order.signed_qty, price)\n",
    "            self.trades.append(trade)\n",
    "        data = [\n",
    "            {\n",
    "                \"sym\": t.sym,\n",
    "                \"qty\": float(t.signed_qty),     # convert Decimal to float for CSV compatibility\n",
    "                \"price\": float(t.price)\n",
    "            }\n",
    "            for t in self.trades]\n",
    "        df = pl.DataFrame(data)\n",
    "        df.write_csv(\"trades.csv\")\n",
    "\n",
    "\n",
    "\n",
    "    async def start(self, sleep_secs = None):\n",
    "        \"\"\"Run main event loop asynchronously.\"\"\"\n",
    "        print(\"Execution engine started...\")\n",
    "        for _ in range(5):\n",
    "            # now = epoch_now()\n",
    "\n",
    "            # if not self.timer.on_tick(now):\n",
    "            #     await asyncio.sleep(0.01)\n",
    "            #     continue\n",
    "            if sleep_secs:\n",
    "                await asyncio.sleep(5.0)\n",
    "\n",
    "            if self.counter >= len(self.time_series):\n",
    "                return\n",
    "            \n",
    "            dt = self.time_series['datetime'][self.counter]\n",
    "            close_price = float(self.time_series[\"close\"][self.counter])\n",
    "            \n",
    "            self.counter += 1\n",
    "            orders = self.strat.on_tick(close_price, self.account)\n",
    "\n",
    "            if orders:\n",
    "                print(f'{dt}: {close_price} = {orders}')\n",
    "            else:\n",
    "                print(f'{dt}: {close_price}')\n",
    "            \n",
    "\n",
    "            await self._execute(orders, Decimal(close_price))\n",
    "    \n",
    "\n"
   ]
  },
  {
   "cell_type": "code",
   "execution_count": null,
   "id": "ad67796c",
   "metadata": {},
   "outputs": [],
   "source": [
    "55/55"
   ]
  },
  {
   "cell_type": "code",
   "execution_count": null,
   "id": "ffb76b92",
   "metadata": {},
   "outputs": [],
   "source": [
    "-56.25/45"
   ]
  },
  {
   "cell_type": "code",
   "execution_count": null,
   "id": "b7aac82b",
   "metadata": {},
   "outputs": [],
   "source": [
    "\n",
    "0.55 * 1.0 + 0.45 * -1.25"
   ]
  },
  {
   "cell_type": "code",
   "execution_count": null,
   "id": "1a6233b1",
   "metadata": {},
   "outputs": [],
   "source": [
    "import asyncio\n",
    "\n",
    "def build_strat() -> BasicTakerStrat:\n",
    "    sym = 'BTCUSDT'\n",
    "    lags = LogReturnLags(3)\n",
    "    return BasicTakerStrat(sym, model, lags, 1.0)\n",
    "\n",
    "time_series = pl.read_csv('BTCUSDT_12h_ohlc.csv', try_parse_dates=True)\n",
    "\n",
    "account = TestAccount(time_series, Decimal(100.0))\n",
    "strat = build_strat()\n",
    "engine = TestExecutionEngine(time_series, strat, timer, account)\n",
    "\n",
    "async def main():\n",
    "    print(\"Start...\")\n",
    "\n",
    "    await engine.start(sleep_secs=2)\n",
    "    print(\"Done!\")\n",
    "\n",
    "# You can directly await\n",
    "await main()"
   ]
  },
  {
   "cell_type": "code",
   "execution_count": null,
   "id": "e71e2c76",
   "metadata": {},
   "outputs": [],
   "source": []
  }
 ],
 "metadata": {
  "kernelspec": {
   "display_name": "research",
   "language": "python",
   "name": "python3"
  },
  "language_info": {
   "codemirror_mode": {
    "name": "ipython",
    "version": 3
   },
   "file_extension": ".py",
   "mimetype": "text/x-python",
   "name": "python",
   "nbconvert_exporter": "python",
   "pygments_lexer": "ipython3",
   "version": "3.12.8"
  }
 },
 "nbformat": 4,
 "nbformat_minor": 5
}
