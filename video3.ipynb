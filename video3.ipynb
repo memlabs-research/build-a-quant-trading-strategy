{
 "cells": [
  {
   "cell_type": "markdown",
   "id": "0a7adc3a",
   "metadata": {},
   "source": [
    "# Let's Build a Quant Trading Strategy - Part 3"
   ]
  },
  {
   "cell_type": "code",
   "execution_count": null,
   "id": "a3904431",
   "metadata": {},
   "outputs": [],
   "source": [
    "# y_hat = model(x)\n",
    "# orders = strategy(y_hat)\n",
    "# execute(orders)"
   ]
  },
  {
   "cell_type": "code",
   "execution_count": null,
   "id": "9a85e197",
   "metadata": {},
   "outputs": [],
   "source": [
    "# 1st video = Research\n",
    "# 2nd video = Strategy\n",
    "# 3rd video = Implementation"
   ]
  },
  {
   "cell_type": "code",
   "execution_count": null,
   "id": "d3b6cb8e",
   "metadata": {},
   "outputs": [],
   "source": [
    "# By the end of this video, we will have wrote the code for our strategy and model that we developed in part 2 and 1 respectively - put it live with real money and see what happens.\n",
    "# I will do a follow up video to see how it performs. \n",
    "# Even if it doesn't perform as expected, we can learn from it. \n",
    "# We might experience model drift - where where the pattern it learned starts to no longer hold true. You might hear this be called alpha decay - which is your profits decay because of model drift. \n",
    "\n",
    "\n"
   ]
  },
  {
   "cell_type": "code",
   "execution_count": null,
   "id": "a73be94f",
   "metadata": {},
   "outputs": [],
   "source": [
    "# This will video will be more software engineering now as we have to code it all together.\n",
    "\n",
    "# 1. Create the strategy using the decisions we made in part 2\n",
    "# 2. Create Strategy API that allows to create new strategies easily. Avoid copy and pasting code between strategies.\n",
    "# 3. Create execution API to connect to an exchange - which I won't make public because I don't want people to tweak parameters willy nilly and run it then lose everything.\n"
   ]
  },
  {
   "cell_type": "markdown",
   "id": "21a3379a",
   "metadata": {},
   "source": [
    "## The fundamental building block: Tick"
   ]
  },
  {
   "cell_type": "code",
   "execution_count": null,
   "id": "4e827841",
   "metadata": {},
   "outputs": [],
   "source": [
    "from abc import ABC, abstractmethod\n",
    "from typing import Generic, Optional, TypeVar\n",
    "\n",
    "T = TypeVar('T')  # input type\n",
    "R = TypeVar('R')  # output type\n",
    "\n",
    "class Tick(ABC, Generic[T, R]):\n",
    "    @abstractmethod\n",
    "    def on_tick(self, val: T) -> Optional[R]:\n",
    "        \"\"\"Handle a new tick and optionally return a result.\"\"\"\n",
    "        pass"
   ]
  },
  {
   "cell_type": "markdown",
   "id": "6d6374a7",
   "metadata": {},
   "source": [
    "## The fundamental data structure: Window"
   ]
  },
  {
   "cell_type": "code",
   "execution_count": 11,
   "id": "98a1285c",
   "metadata": {},
   "outputs": [],
   "source": [
    "from collections import deque\n",
    "from typing import Deque, Optional\n",
    "\n",
    "class Window(Tick[T, T], Generic[T]):\n",
    "    def __init__(self, n: int):\n",
    "        self._data: Deque[T] = deque(maxlen=n)\n",
    "\n",
    "    def on_tick(self, val: T) -> Optional[T]:\n",
    "        \"\"\"Append a value and return the oldest value dropped (if any).\"\"\"\n",
    "        dropped = None\n",
    "        if len(self._data) == self.capacity():\n",
    "            dropped = self._data[0]\n",
    "        self._data.append(val)\n",
    "        return dropped\n",
    "\n",
    "    def capacity(self) -> int:\n",
    "        return self._data.maxlen\n",
    "    \n",
    "    def __repr__(self) -> str:\n",
    "        cls_name = self.__class__.__name__\n",
    "        return f\"{cls_name}(capacity={self._data.maxlen}, values={list(self._data)})\""
   ]
  },
  {
   "cell_type": "code",
   "execution_count": 18,
   "id": "53224848",
   "metadata": {},
   "outputs": [
    {
     "data": {
      "text/plain": [
       "Window(capacity=3, values=[1])"
      ]
     },
     "execution_count": 18,
     "metadata": {},
     "output_type": "execute_result"
    }
   ],
   "source": [
    "w = Window(3)\n",
    "w.on_tick(1)\n",
    "w"
   ]
  },
  {
   "cell_type": "code",
   "execution_count": 21,
   "id": "3857eef2",
   "metadata": {},
   "outputs": [
    {
     "data": {
      "text/plain": [
       "Window(capacity=3, values=[1, 2])"
      ]
     },
     "execution_count": 21,
     "metadata": {},
     "output_type": "execute_result"
    }
   ],
   "source": [
    "w = Window(3)\n",
    "w.on_tick(1)\n",
    "w.on_tick(2)\n",
    "w"
   ]
  },
  {
   "cell_type": "code",
   "execution_count": 24,
   "id": "8ac266cf",
   "metadata": {},
   "outputs": [
    {
     "data": {
      "text/plain": [
       "Window(capacity=3, values=[1, 2, 3])"
      ]
     },
     "execution_count": 24,
     "metadata": {},
     "output_type": "execute_result"
    }
   ],
   "source": [
    "w = Window(3)\n",
    "w.on_tick(1)\n",
    "w.on_tick(2)\n",
    "w.on_tick(3)\n",
    "w\n"
   ]
  },
  {
   "cell_type": "code",
   "execution_count": 28,
   "id": "efd59cd8",
   "metadata": {},
   "outputs": [
    {
     "data": {
      "text/plain": [
       "(1, Window(capacity=3, values=[2, 3, 4]))"
      ]
     },
     "execution_count": 28,
     "metadata": {},
     "output_type": "execute_result"
    }
   ],
   "source": [
    "w = Window(3)\n",
    "w.on_tick(1)\n",
    "w.on_tick(2)\n",
    "w.on_tick(3)\n",
    "old_v = w.on_tick(4)\n",
    "\n",
    "(old_v, w)"
   ]
  },
  {
   "cell_type": "code",
   "execution_count": 29,
   "id": "628f12fd",
   "metadata": {},
   "outputs": [
    {
     "data": {
      "text/plain": [
       "(2, Window(capacity=3, values=[3, 4, 5]))"
      ]
     },
     "execution_count": 29,
     "metadata": {},
     "output_type": "execute_result"
    }
   ],
   "source": [
    "w = Window(3)\n",
    "w.on_tick(1)\n",
    "w.on_tick(2)\n",
    "w.on_tick(3)\n",
    "w.on_tick(4)\n",
    "old_v = w.on_tick(5)\n",
    "\n",
    "(old_v, w)"
   ]
  },
  {
   "cell_type": "code",
   "execution_count": null,
   "id": "062d95de",
   "metadata": {},
   "outputs": [],
   "source": [
    "class DequeWindow(Tick[T, T], Generic[T]):\n",
    "    def __init__(self, n: int):\n",
    "        self._data: Deque[T] = deque(maxlen=n)\n",
    "\n",
    "    def on_tick(self, val: T) -> Optional[T]:\n",
    "        \"\"\"Append a value and return the oldest value dropped (if any).\"\"\"\n",
    "        dropped = None\n",
    "        if len(self._data) == self.capacity():\n",
    "            dropped = self._data[0]\n",
    "        self._data.append(val)\n",
    "        return dropped\n",
    "\n",
    "    def capacity(self) -> int:\n",
    "        return self._data.maxlen\n",
    "    \n",
    "    def __repr__(self) -> str:\n",
    "        cls_name = self.__class__.__name__\n",
    "        return f\"{cls_name}(capacity={self._data.maxlen}, values={list(self._data)})\""
   ]
  },
  {
   "cell_type": "code",
   "execution_count": null,
   "id": "9e487319",
   "metadata": {},
   "outputs": [],
   "source": [
    "import torch \n",
    "\n",
    "class TensorWindow(Tick[T, T]):\n",
    "    def __init__(self, n: int):\n",
    "        self._capacity = n\n",
    "        self._data = torch.zeros(n)  # 1D fixed-length tensor\n",
    "        self._count = 0              # how many elements we’ve seen so far\n",
    "\n",
    "    def on_tick(self, val: T) -> Optional[T]:\n",
    "        \"\"\"Append a scalar or 1D tensor and return the dropped value (if any).\"\"\"\n",
    "        if val.numel() != 1:\n",
    "            raise ValueError(\"Only scalar tensors are supported for now.\")\n",
    "        \n",
    "        dropped = None\n",
    "        if self._count >= self._capacity:\n",
    "            dropped = self._data[0]  # copy the oldest value\n",
    "            # shift left\n",
    "            self._data[:-1] = self._data[1:]\n",
    "            self._data[-1] = val\n",
    "        else:\n",
    "            self._data[self._count] = val\n",
    "            self._count += 1\n",
    "        \n",
    "        return dropped\n",
    "\n",
    "    def capacity(self) -> int:\n",
    "        return self._capacity\n",
    "\n",
    "    def values(self) -> torch.Tensor:\n",
    "        \"\"\"Return current filled values as a tensor view.\"\"\"\n",
    "        return self._data[:self._count]\n",
    "\n",
    "    def __repr__(self) -> str:\n",
    "        cls = self.__class__.__name__\n",
    "        vals = self.values().tolist()\n",
    "        return f\"{cls}(capacity={self._capacity}, values={vals})\""
   ]
  },
  {
   "cell_type": "code",
   "execution_count": null,
   "id": "3a76d325",
   "metadata": {},
   "outputs": [],
   "source": [
    "class Last(Tick[T, T], Generic[T]):\n",
    "    def __init__(self):\n",
    "        self._value: Optional[T] = None\n",
    "\n",
    "    def on_tick(self, val: T) -> Optional[T]:\n",
    "        \"\"\"Append a value and return the oldest value dropped (if any).\"\"\"\n",
    "        self._value = val\n",
    "        return val\n",
    "\n",
    "    def __repr__(self) -> str:\n",
    "        cls_name = self.__class__.__name__\n",
    "        return f\"{cls_name}(value={self._value})\"\n",
    "    \n"
   ]
  },
  {
   "cell_type": "code",
   "execution_count": 31,
   "id": "16f41c41",
   "metadata": {},
   "outputs": [
    {
     "data": {
      "text/plain": [
       "Last(value=None)"
      ]
     },
     "execution_count": 31,
     "metadata": {},
     "output_type": "execute_result"
    }
   ],
   "source": [
    "last_val = Last()\n",
    "last_val"
   ]
  },
  {
   "cell_type": "code",
   "execution_count": 32,
   "id": "15a0ee50",
   "metadata": {},
   "outputs": [
    {
     "data": {
      "text/plain": [
       "Last(value=3)"
      ]
     },
     "execution_count": 32,
     "metadata": {},
     "output_type": "execute_result"
    }
   ],
   "source": [
    "last_val = Last()\n",
    "last_val.on_tick(1)\n",
    "last_val.on_tick(2)\n",
    "last_val.on_tick(3)\n",
    "last_val"
   ]
  },
  {
   "cell_type": "code",
   "execution_count": 33,
   "id": "44573b13",
   "metadata": {},
   "outputs": [],
   "source": [
    "class First(Tick[T, T], Generic[T]):\n",
    "    def __init__(self):\n",
    "        self._value: Optional[T] = None\n",
    "\n",
    "    def on_tick(self, val: T) -> Optional[T]:\n",
    "        \"\"\"Append a value and return the oldest value dropped (if any).\"\"\"\n",
    "        if self._value is None:\n",
    "            self._value = val\n",
    "        return self._value\n",
    "\n",
    "    def __repr__(self) -> str:\n",
    "        cls_name = self.__class__.__name__\n",
    "        return f\"{cls_name}(value={self._value})\""
   ]
  },
  {
   "cell_type": "code",
   "execution_count": 34,
   "id": "8d9f8745",
   "metadata": {},
   "outputs": [
    {
     "data": {
      "text/plain": [
       "First(value=None)"
      ]
     },
     "execution_count": 34,
     "metadata": {},
     "output_type": "execute_result"
    }
   ],
   "source": [
    "first = First()\n",
    "first"
   ]
  },
  {
   "cell_type": "code",
   "execution_count": 36,
   "id": "3281af7f",
   "metadata": {},
   "outputs": [
    {
     "data": {
      "text/plain": [
       "First(value=1)"
      ]
     },
     "execution_count": 36,
     "metadata": {},
     "output_type": "execute_result"
    }
   ],
   "source": [
    "first = First()\n",
    "first.on_tick(1)\n",
    "first.on_tick(2)\n",
    "first.on_tick(3)\n",
    "first"
   ]
  }
 ],
 "metadata": {
  "kernelspec": {
   "display_name": "research",
   "language": "python",
   "name": "python3"
  },
  "language_info": {
   "codemirror_mode": {
    "name": "ipython",
    "version": 3
   },
   "file_extension": ".py",
   "mimetype": "text/x-python",
   "name": "python",
   "nbconvert_exporter": "python",
   "pygments_lexer": "ipython3",
   "version": "3.12.8"
  }
 },
 "nbformat": 4,
 "nbformat_minor": 5
}
