{
 "cells": [
  {
   "cell_type": "markdown",
   "id": "0a7adc3a",
   "metadata": {},
   "source": [
    "# Let's Build a Quant Trading Strategy - Part 3"
   ]
  },
  {
   "cell_type": "code",
   "execution_count": 154,
   "id": "a3904431",
   "metadata": {},
   "outputs": [],
   "source": [
    "# y_hat = model(x)\n",
    "# orders = strategy(y_hat)\n",
    "# execute(orders)"
   ]
  },
  {
   "cell_type": "code",
   "execution_count": 155,
   "id": "9a85e197",
   "metadata": {},
   "outputs": [],
   "source": [
    "# 1st video = Research\n",
    "# 2nd video = Strategy\n",
    "# 3rd video = Implementation"
   ]
  },
  {
   "cell_type": "code",
   "execution_count": 156,
   "id": "d3b6cb8e",
   "metadata": {},
   "outputs": [],
   "source": [
    "# By the end of this video, we will have wrote the code for our strategy and model that we developed in part 2 and 1 respectively - put it live with real money and see what happens.\n",
    "# I will do a follow up video to see how it performs. \n",
    "# Even if it doesn't perform as expected, we can learn from it. \n",
    "# We might experience model drift - where where the pattern it learned starts to no longer hold true. You might hear this be called alpha decay - which is your profits decay because of model drift. \n",
    "\n",
    "\n"
   ]
  },
  {
   "cell_type": "code",
   "execution_count": 157,
   "id": "a73be94f",
   "metadata": {},
   "outputs": [],
   "source": [
    "# This will video will be more software engineering now as we have to code it all together.\n",
    "\n",
    "# 1. Create the strategy using the decisions we made in part 2\n",
    "# 2. Create Strategy API that allows to create new strategies easily. Avoid copy and pasting code between strategies.\n",
    "# 3. Create execution API to connect to an exchange - which I won't make public because I don't want people to tweak parameters willy nilly and run it then lose everything.\n"
   ]
  },
  {
   "cell_type": "markdown",
   "id": "21a3379a",
   "metadata": {},
   "source": [
    "## The fundamental building block: Tick"
   ]
  },
  {
   "cell_type": "code",
   "execution_count": 158,
   "id": "4e827841",
   "metadata": {},
   "outputs": [],
   "source": [
    "from abc import ABC, abstractmethod\n",
    "from typing import Generic, Optional, TypeVar\n",
    "\n",
    "T = TypeVar('T')  # input type\n",
    "R = TypeVar('R')  # output type\n",
    "\n",
    "class Tick(ABC, Generic[T, R]):\n",
    "    @abstractmethod\n",
    "    def on_tick(self, val: T) -> Optional[R]:\n",
    "        \"\"\"Handle a new tick and optionally return a result.\"\"\"\n",
    "        pass"
   ]
  },
  {
   "cell_type": "markdown",
   "id": "6d6374a7",
   "metadata": {},
   "source": [
    "## The fundamental data structure: Window"
   ]
  },
  {
   "cell_type": "code",
   "execution_count": 159,
   "id": "98a1285c",
   "metadata": {},
   "outputs": [],
   "source": [
    "from collections import deque\n",
    "from typing import Deque, Optional\n",
    "\n",
    "class DequeWindow(Tick[T, T], Generic[T]):\n",
    "    def __init__(self, n: int):\n",
    "        self._data: Deque[T] = deque(maxlen=n)\n",
    "\n",
    "    def on_tick(self, val: T) -> Optional[T]:\n",
    "        \"\"\"Append a value and return the oldest value dropped (if any).\"\"\"\n",
    "        dropped = None\n",
    "        if len(self._data) == self.capacity():\n",
    "            dropped = self._data[0]\n",
    "        self._data.append(val)\n",
    "        return dropped\n",
    "\n",
    "    def capacity(self) -> int:\n",
    "        n = self._data.maxlen\n",
    "        return 0 if n is None else n\n",
    "    \n",
    "    def is_full(self) -> bool:\n",
    "        return self._data.maxlen == len(self._data)\n",
    "    \n",
    "    def __repr__(self) -> str:\n",
    "        cls_name = self.__class__.__name__\n",
    "        return f\"{cls_name}(capacity={self._data.maxlen}, values={list(self._data)})\""
   ]
  },
  {
   "cell_type": "code",
   "execution_count": 160,
   "id": "53224848",
   "metadata": {},
   "outputs": [
    {
     "data": {
      "text/plain": [
       "DequeWindow(capacity=3, values=[1])"
      ]
     },
     "execution_count": 160,
     "metadata": {},
     "output_type": "execute_result"
    }
   ],
   "source": [
    "w = DequeWindow(3)\n",
    "w.on_tick(1)\n",
    "w"
   ]
  },
  {
   "cell_type": "code",
   "execution_count": 161,
   "id": "3857eef2",
   "metadata": {},
   "outputs": [
    {
     "data": {
      "text/plain": [
       "DequeWindow(capacity=3, values=[1, 2])"
      ]
     },
     "execution_count": 161,
     "metadata": {},
     "output_type": "execute_result"
    }
   ],
   "source": [
    "w = DequeWindow(3)\n",
    "w.on_tick(1)\n",
    "w.on_tick(2)\n",
    "w"
   ]
  },
  {
   "cell_type": "code",
   "execution_count": 162,
   "id": "8ac266cf",
   "metadata": {},
   "outputs": [
    {
     "data": {
      "text/plain": [
       "DequeWindow(capacity=3, values=[1, 2, 3])"
      ]
     },
     "execution_count": 162,
     "metadata": {},
     "output_type": "execute_result"
    }
   ],
   "source": [
    "w = DequeWindow(3)\n",
    "w.on_tick(1)\n",
    "w.on_tick(2)\n",
    "w.on_tick(3)\n",
    "w\n"
   ]
  },
  {
   "cell_type": "code",
   "execution_count": 163,
   "id": "efd59cd8",
   "metadata": {},
   "outputs": [
    {
     "data": {
      "text/plain": [
       "(1, DequeWindow(capacity=3, values=[2, 3, 4]))"
      ]
     },
     "execution_count": 163,
     "metadata": {},
     "output_type": "execute_result"
    }
   ],
   "source": [
    "w = DequeWindow(3)\n",
    "w.on_tick(1)\n",
    "w.on_tick(2)\n",
    "w.on_tick(3)\n",
    "old_v = w.on_tick(4)\n",
    "\n",
    "(old_v, w)"
   ]
  },
  {
   "cell_type": "code",
   "execution_count": 164,
   "id": "628f12fd",
   "metadata": {},
   "outputs": [
    {
     "data": {
      "text/plain": [
       "(2, DequeWindow(capacity=3, values=[3, 4, 5]))"
      ]
     },
     "execution_count": 164,
     "metadata": {},
     "output_type": "execute_result"
    }
   ],
   "source": [
    "w = DequeWindow(3)\n",
    "w.on_tick(1)\n",
    "w.on_tick(2)\n",
    "w.on_tick(3)\n",
    "w.on_tick(4)\n",
    "old_v = w.on_tick(5)\n",
    "\n",
    "(old_v, w)"
   ]
  },
  {
   "cell_type": "code",
   "execution_count": 234,
   "id": "24cf99f3",
   "metadata": {},
   "outputs": [],
   "source": [
    "import numpy as np\n",
    "from typing import Optional\n",
    "\n",
    "class NumpyWindow:\n",
    "    \"\"\"Fixed-capacity sliding window for scalar values using a NumPy array (shift on append).\"\"\"\n",
    "\n",
    "    def __init__(self, n: int, dtype=np.float64):\n",
    "        if n <= 0:\n",
    "            raise ValueError(\"Capacity must be positive.\")\n",
    "        self._capacity = n\n",
    "        self._data = np.zeros(n, dtype=dtype)\n",
    "        self._size = 0\n",
    "\n",
    "    def on_tick(self, val: float) -> Optional[float]:\n",
    "        \"\"\"\n",
    "        Append a scalar value and return the oldest value dropped (if any).\n",
    "        \"\"\"\n",
    "        val = float(val)\n",
    "        dropped = None\n",
    "\n",
    "        if self._size < self._capacity:\n",
    "            self._data[self._size] = val\n",
    "            self._size += 1\n",
    "        else:\n",
    "            # buffer full: drop oldest and shift left\n",
    "            dropped = self._data[0]\n",
    "            self._data[:-1] = self._data[1:]  # shift left\n",
    "            self._data[-1] = val\n",
    "\n",
    "        return dropped\n",
    "\n",
    "    def append_left(self, val: float) -> Optional[float]:\n",
    "        \"\"\"\n",
    "        Append a scalar value to the **front** (left) of the buffer.\n",
    "        Shifts all elements right by one and drops the newest (rightmost) if full.\n",
    "        \"\"\"\n",
    "        val = float(val)\n",
    "        dropped = None\n",
    "\n",
    "        if self._size < self._capacity:\n",
    "            # Shift right only the valid region\n",
    "            if self._size > 0:\n",
    "                self._data[1:self._size + 1] = self._data[:self._size]\n",
    "            self._data[0] = val\n",
    "            self._size += 1\n",
    "        else:\n",
    "            # Drop newest (rightmost) value\n",
    "            dropped = self._data[self._size - 1]\n",
    "            self._data[1:] = self._data[:-1]  # shift right\n",
    "            self._data[0] = val\n",
    "\n",
    "        return dropped\n",
    "\n",
    "    def __getitem__(self, idx: int) -> float:\n",
    "        \"\"\"Index access (0 = oldest).\"\"\"\n",
    "        if not 0 <= idx < self._size:\n",
    "            raise IndexError(\"Index out of range.\")\n",
    "        return self._data[idx]\n",
    "\n",
    "    def __len__(self) -> int:\n",
    "        return self._size\n",
    "\n",
    "    def capacity(self) -> int:\n",
    "        return self._capacity\n",
    "\n",
    "    def is_full(self) -> bool:\n",
    "        return self._size == self._capacity\n",
    "\n",
    "    def values(self) -> np.ndarray:\n",
    "        \"\"\"Return current valid values as a contiguous 1D array (no copy needed).\"\"\"\n",
    "        return self._data[:self._size]\n",
    "\n",
    "    def __repr__(self) -> str:\n",
    "        vals = self.values().tolist()\n",
    "        return f\"{self.__class__.__name__}(capacity={self._capacity}, size={self._size}, values={vals})\"\n"
   ]
  },
  {
   "cell_type": "code",
   "execution_count": 166,
   "id": "e467e914",
   "metadata": {},
   "outputs": [
    {
     "data": {
      "text/plain": [
       "NumpyWindow(capacity=3, size=1, values=[1.0])"
      ]
     },
     "execution_count": 166,
     "metadata": {},
     "output_type": "execute_result"
    }
   ],
   "source": [
    "w = NumpyWindow(3)\n",
    "w.on_tick(1)\n",
    "w"
   ]
  },
  {
   "cell_type": "code",
   "execution_count": 167,
   "id": "3ab739f1",
   "metadata": {},
   "outputs": [
    {
     "data": {
      "text/plain": [
       "NumpyWindow(capacity=3, size=2, values=[1.0, 2.0])"
      ]
     },
     "execution_count": 167,
     "metadata": {},
     "output_type": "execute_result"
    }
   ],
   "source": [
    "w = NumpyWindow(3)\n",
    "w.on_tick(1)\n",
    "w.on_tick(2)\n",
    "w"
   ]
  },
  {
   "cell_type": "code",
   "execution_count": 168,
   "id": "1e13c489",
   "metadata": {},
   "outputs": [
    {
     "data": {
      "text/plain": [
       "NumpyWindow(capacity=3, size=3, values=[1.0, 2.0, 3.0])"
      ]
     },
     "execution_count": 168,
     "metadata": {},
     "output_type": "execute_result"
    }
   ],
   "source": [
    "w = NumpyWindow(3)\n",
    "w.on_tick(1)\n",
    "w.on_tick(2)\n",
    "w.on_tick(3)\n",
    "w"
   ]
  },
  {
   "cell_type": "code",
   "execution_count": 169,
   "id": "0f9d7df6",
   "metadata": {},
   "outputs": [
    {
     "data": {
      "text/plain": [
       "(np.float64(1.0), NumpyWindow(capacity=3, size=3, values=[2.0, 3.0, 4.0]))"
      ]
     },
     "execution_count": 169,
     "metadata": {},
     "output_type": "execute_result"
    }
   ],
   "source": [
    "w = NumpyWindow(3)\n",
    "w.on_tick(1)\n",
    "w.on_tick(2)\n",
    "w.on_tick(3)\n",
    "v = w.on_tick(4)\n",
    "(v, w)"
   ]
  },
  {
   "cell_type": "code",
   "execution_count": 170,
   "id": "9e487319",
   "metadata": {},
   "outputs": [],
   "source": [
    "import torch\n",
    "from typing import Optional\n",
    "  \n",
    "\n",
    "class TensorWindow:\n",
    "    \"\"\"Efficient fixed-capacity sliding window for scalar values using a circular buffer.\"\"\"\n",
    "\n",
    "    def __init__(self, n: int, dtype: torch.dtype = torch.float32, device: Optional[torch.device] = None):\n",
    "        if n <= 0:\n",
    "            raise ValueError(\"Capacity must be positive.\")\n",
    "        self._capacity = n\n",
    "        self._data = torch.zeros(n, dtype=dtype, device=device)\n",
    "        self._start = 0     # index of oldest element\n",
    "        self._size = 0\n",
    "\n",
    "    def on_tick(self, val: float) -> Optional[float]:\n",
    "        \"\"\"\n",
    "        Append a scalar value and return the dropped oldest value (if any).\n",
    "        O(1) operation using circular buffer indexing.\n",
    "        \"\"\"\n",
    "        val = float(val)\n",
    "        dropped = None\n",
    "\n",
    "        if self._size < self._capacity:\n",
    "            # still filling\n",
    "            insert_idx = (self._start + self._size) % self._capacity\n",
    "            self._data[insert_idx] = val\n",
    "            self._size += 1\n",
    "        else:\n",
    "            # overwrite oldest\n",
    "            dropped = self._data[self._start].item()\n",
    "            self._data[self._start] = val\n",
    "            # move start forward (wrap if needed)\n",
    "            self._start = (self._start + 1) % self._capacity\n",
    "\n",
    "        return dropped\n",
    "\n",
    "    def values(self) -> torch.Tensor:\n",
    "        \"\"\"Return the current valid values in order as a tensor view (no copy).\"\"\"\n",
    "        if self._size == 0:\n",
    "            return torch.empty(0, dtype=self._data.dtype, device=self._data.device)\n",
    "        if self._size < self._capacity or self._start == 0:\n",
    "            return self._data[:self._size]\n",
    "        # Concatenate wrapped part\n",
    "        return torch.cat((self._data[self._start:], self._data[:self._start]))\n",
    "\n",
    "    def capacity(self) -> int:\n",
    "        return self._capacity\n",
    "\n",
    "    def is_full(self) -> bool:\n",
    "        return self._size == self._capacity\n",
    "\n",
    "    def __len__(self) -> int:\n",
    "        return self._size\n",
    "\n",
    "    def __repr__(self) -> str:\n",
    "        cls = self.__class__.__name__\n",
    "        vals = self.values().tolist()\n",
    "        return f\"{cls}(capacity={self._capacity}, size={self._size}, values={vals})\"\n",
    "    \n",
    "    def __getitem__(self, idx: int) -> float:\n",
    "        \"\"\"Allow index access like a list (0 = oldest value).\"\"\"\n",
    "        if not 0 <= idx < self._size:\n",
    "            raise IndexError(\"Index out of range.\")\n",
    "        actual_idx = (self._start + idx) % self._capacity\n",
    "        return self._data[actual_idx].item()    \n"
   ]
  },
  {
   "cell_type": "code",
   "execution_count": 171,
   "id": "283f8129",
   "metadata": {},
   "outputs": [
    {
     "data": {
      "text/plain": [
       "TensorWindow(capacity=3, size=0, values=[])"
      ]
     },
     "execution_count": 171,
     "metadata": {},
     "output_type": "execute_result"
    }
   ],
   "source": [
    "w = TensorWindow(3)\n",
    "w"
   ]
  },
  {
   "cell_type": "code",
   "execution_count": 172,
   "id": "1a663bf8",
   "metadata": {},
   "outputs": [
    {
     "data": {
      "text/plain": [
       "TensorWindow(capacity=3, size=1, values=[1.0])"
      ]
     },
     "execution_count": 172,
     "metadata": {},
     "output_type": "execute_result"
    }
   ],
   "source": [
    "w = TensorWindow(3)\n",
    "w.on_tick(1)\n",
    "w"
   ]
  },
  {
   "cell_type": "code",
   "execution_count": 173,
   "id": "c904b14f",
   "metadata": {},
   "outputs": [
    {
     "data": {
      "text/plain": [
       "TensorWindow(capacity=3, size=2, values=[1.0, 2.0])"
      ]
     },
     "execution_count": 173,
     "metadata": {},
     "output_type": "execute_result"
    }
   ],
   "source": [
    "w = TensorWindow(3)\n",
    "w.on_tick(1)\n",
    "w.on_tick(2)\n",
    "w"
   ]
  },
  {
   "cell_type": "code",
   "execution_count": 174,
   "id": "ad2b8bc7",
   "metadata": {},
   "outputs": [
    {
     "data": {
      "text/plain": [
       "TensorWindow(capacity=3, size=3, values=[1.0, 2.0, 3.0])"
      ]
     },
     "execution_count": 174,
     "metadata": {},
     "output_type": "execute_result"
    }
   ],
   "source": [
    "w = TensorWindow(3)\n",
    "w.on_tick(1)\n",
    "w.on_tick(2)\n",
    "w.on_tick(3)\n",
    "w"
   ]
  },
  {
   "cell_type": "code",
   "execution_count": 175,
   "id": "1680ebdb",
   "metadata": {},
   "outputs": [
    {
     "data": {
      "text/plain": [
       "(1.0, TensorWindow(capacity=3, size=3, values=[2.0, 3.0, 4.0]))"
      ]
     },
     "execution_count": 175,
     "metadata": {},
     "output_type": "execute_result"
    }
   ],
   "source": [
    "w = TensorWindow(3)\n",
    "w.on_tick(1)\n",
    "w.on_tick(2)\n",
    "w.on_tick(3)\n",
    "v = w.on_tick(4)\n",
    "(v, w)"
   ]
  },
  {
   "cell_type": "code",
   "execution_count": 176,
   "id": "3a76d325",
   "metadata": {},
   "outputs": [],
   "source": [
    "class Last(Tick[T, T], Generic[T]):\n",
    "    def __init__(self):\n",
    "        self._value: Optional[T] = None\n",
    "\n",
    "    def on_tick(self, val: T) -> Optional[T]:\n",
    "        \"\"\"Append a value and return the oldest value dropped (if any).\"\"\"\n",
    "        self._value = val\n",
    "        return val\n",
    "\n",
    "    def __repr__(self) -> str:\n",
    "        cls_name = self.__class__.__name__\n",
    "        return f\"{cls_name}(value={self._value})\""
   ]
  },
  {
   "cell_type": "code",
   "execution_count": 177,
   "id": "16f41c41",
   "metadata": {},
   "outputs": [
    {
     "data": {
      "text/plain": [
       "Last(value=None)"
      ]
     },
     "execution_count": 177,
     "metadata": {},
     "output_type": "execute_result"
    }
   ],
   "source": [
    "last_val = Last()\n",
    "last_val"
   ]
  },
  {
   "cell_type": "code",
   "execution_count": 178,
   "id": "15a0ee50",
   "metadata": {},
   "outputs": [
    {
     "data": {
      "text/plain": [
       "Last(value=3)"
      ]
     },
     "execution_count": 178,
     "metadata": {},
     "output_type": "execute_result"
    }
   ],
   "source": [
    "last_val = Last()\n",
    "last_val.on_tick(1)\n",
    "last_val.on_tick(2)\n",
    "last_val.on_tick(3)\n",
    "last_val"
   ]
  },
  {
   "cell_type": "code",
   "execution_count": 179,
   "id": "44573b13",
   "metadata": {},
   "outputs": [],
   "source": [
    "# class First(Tick[T, T], Generic[T]):\n",
    "#     def __init__(self):\n",
    "#         self._value: Optional[T] = None\n",
    "\n",
    "#     def on_tick(self, val: T) -> Optional[T]:\n",
    "#         \"\"\"Append a value and return the oldest value dropped (if any).\"\"\"\n",
    "#         if self._value is None:\n",
    "#             self._value = val\n",
    "#         return self._value\n",
    "\n",
    "#     def __repr__(self) -> str:\n",
    "#         cls_name = self.__class__.__name__\n",
    "#         return f\"{cls_name}(value={self._value})\"\n",
    "\n",
    "import numpy as np\n",
    "\n",
    "class LogReturn(Tick[float, float]):\n",
    "    def __init__(self):\n",
    "        self._window = NumpyWindow(2)\n",
    "\n",
    "    def on_tick(self, val: float) -> Optional[float]:\n",
    "        self._window.on_tick(val)\n",
    "        if self._window.is_full():\n",
    "            return np.log(self._window[1] / self._window[0])\n",
    "        else:\n",
    "            return None\n",
    "        \n",
    "    def __repr__(self) -> str:\n",
    "        cls_name = self.__class__.__name__\n",
    "        return f\"{cls_name}(window={self._window})\"        \n",
    "\n",
    "\n",
    "    "
   ]
  },
  {
   "cell_type": "code",
   "execution_count": 180,
   "id": "8d9f8745",
   "metadata": {},
   "outputs": [
    {
     "data": {
      "text/plain": [
       "LogReturn(window=NumpyWindow(capacity=2, size=1, values=[90.0]))"
      ]
     },
     "execution_count": 180,
     "metadata": {},
     "output_type": "execute_result"
    }
   ],
   "source": [
    "f = LogReturn()\n",
    "f.on_tick(90.0)\n",
    "f"
   ]
  },
  {
   "cell_type": "code",
   "execution_count": 181,
   "id": "3281af7f",
   "metadata": {},
   "outputs": [
    {
     "data": {
      "text/plain": [
       "(np.float64(0.10536051565782635),\n",
       " LogReturn(window=NumpyWindow(capacity=2, size=2, values=[90.0, 100.0])))"
      ]
     },
     "execution_count": 181,
     "metadata": {},
     "output_type": "execute_result"
    }
   ],
   "source": [
    "f = LogReturn()\n",
    "f.on_tick(90.0)\n",
    "v = f.on_tick(100.0)\n",
    "(v, f)"
   ]
  },
  {
   "cell_type": "code",
   "execution_count": 182,
   "id": "cb51350e",
   "metadata": {},
   "outputs": [
    {
     "data": {
      "text/plain": [
       "np.float64(0.10536051565782635)"
      ]
     },
     "execution_count": 182,
     "metadata": {},
     "output_type": "execute_result"
    }
   ],
   "source": [
    "np.log(100/90)"
   ]
  },
  {
   "cell_type": "code",
   "execution_count": 183,
   "id": "7e193601",
   "metadata": {},
   "outputs": [
    {
     "data": {
      "text/plain": [
       "(np.float64(0.4054651081081644),\n",
       " LogReturn(window=NumpyWindow(capacity=2, size=2, values=[100.0, 150.0])))"
      ]
     },
     "execution_count": 183,
     "metadata": {},
     "output_type": "execute_result"
    }
   ],
   "source": [
    "f = LogReturn()\n",
    "f.on_tick(90.0)\n",
    "f.on_tick(100.0)\n",
    "v = f.on_tick(150.0)\n",
    "(v, f)"
   ]
  },
  {
   "cell_type": "code",
   "execution_count": 184,
   "id": "44b73044",
   "metadata": {},
   "outputs": [
    {
     "data": {
      "text/plain": [
       "np.float64(0.4054651081081644)"
      ]
     },
     "execution_count": 184,
     "metadata": {},
     "output_type": "execute_result"
    }
   ],
   "source": [
    "np.log(150/100)"
   ]
  },
  {
   "cell_type": "code",
   "execution_count": 235,
   "id": "0de2fd08",
   "metadata": {},
   "outputs": [],
   "source": [
    "class LogReturnLags(Tick[float, torch.Tensor]):\n",
    "    def __init__(self, no_lags: int):\n",
    "        self._lags = NumpyWindow(no_lags)\n",
    "        self._log_return = LogReturn()\n",
    "    \n",
    "    def on_tick(self, val: float) -> torch.Tensor | None:\n",
    "        log_ret = self._log_return.on_tick(val)\n",
    "        if log_ret is not None:\n",
    "            self._lags.append_left(log_ret)\n",
    "            return torch.tensor(self._lags.values(), dtype=torch.float32) if self._lags.is_full() else None\n",
    "        else:\n",
    "            return None\n",
    "        \n",
    "    def __repr__(self) -> str:\n",
    "        cls_name = self.__class__.__name__\n",
    "        return f\"{cls_name}(lags={self._lags}, log_return={self._log_return})\" "
   ]
  },
  {
   "cell_type": "code",
   "execution_count": 236,
   "id": "b847a140",
   "metadata": {},
   "outputs": [],
   "source": [
    "lags = LogReturnLags(3)\n",
    "v = lags.on_tick(90)\n",
    "v"
   ]
  },
  {
   "cell_type": "code",
   "execution_count": 237,
   "id": "9cc40801",
   "metadata": {},
   "outputs": [],
   "source": [
    "lags = LogReturnLags(3)\n",
    "lags.on_tick(90)\n",
    "lags.on_tick(100)\n"
   ]
  },
  {
   "cell_type": "code",
   "execution_count": 238,
   "id": "52c76602",
   "metadata": {},
   "outputs": [],
   "source": [
    "lags = LogReturnLags(3)\n",
    "lags.on_tick(90)\n",
    "lags.on_tick(100)\n",
    "lags.on_tick(150)"
   ]
  },
  {
   "cell_type": "code",
   "execution_count": 239,
   "id": "5943a6a2",
   "metadata": {},
   "outputs": [
    {
     "data": {
      "text/plain": [
       "tensor([-0.3102,  0.4055,  0.1054])"
      ]
     },
     "execution_count": 239,
     "metadata": {},
     "output_type": "execute_result"
    }
   ],
   "source": [
    "lags = LogReturnLags(3)\n",
    "lags.on_tick(90)\n",
    "lags.on_tick(100)\n",
    "lags.on_tick(150)\n",
    "lags.on_tick(110)"
   ]
  },
  {
   "cell_type": "code",
   "execution_count": 240,
   "id": "ac8eb056",
   "metadata": {},
   "outputs": [
    {
     "data": {
      "text/plain": [
       "tensor([ 0.3747, -0.3102,  0.4055])"
      ]
     },
     "execution_count": 240,
     "metadata": {},
     "output_type": "execute_result"
    }
   ],
   "source": [
    "lags = LogReturnLags(3)\n",
    "lags.on_tick(90)\n",
    "lags.on_tick(100)\n",
    "lags.on_tick(150)\n",
    "lags.on_tick(110)\n",
    "features = lags.on_tick(160)\n",
    "features"
   ]
  },
  {
   "cell_type": "code",
   "execution_count": 191,
   "id": "e0126aac",
   "metadata": {},
   "outputs": [
    {
     "data": {
      "text/plain": [
       "LinearModel(\n",
       "  (linear): Linear(in_features=3, out_features=1, bias=True)\n",
       ")"
      ]
     },
     "execution_count": 191,
     "metadata": {},
     "output_type": "execute_result"
    }
   ],
   "source": [
    "import models\n",
    "model = models.LinearModel(3)\n",
    "# security alert \n",
    "model.load_state_dict(torch.load('model_weights.pth', weights_only=True))\n",
    "model.eval()"
   ]
  },
  {
   "cell_type": "code",
   "execution_count": 192,
   "id": "87c1d5e4",
   "metadata": {},
   "outputs": [
    {
     "name": "stderr",
     "output_type": "stream",
     "text": [
      "/var/folders/vm/67_f56f139n7j71wcmp5q6k00000gn/T/ipykernel_10466/487570526.py:1: UserWarning: To copy construct from a tensor, it is recommended to use sourceTensor.clone().detach() or sourceTensor.clone().detach().requires_grad_(True), rather than torch.tensor(sourceTensor).\n",
      "  X = torch.tensor(features, dtype=torch.float32)\n"
     ]
    },
    {
     "data": {
      "text/plain": [
       "tensor([ 0.4055, -0.3102,  0.3747])"
      ]
     },
     "execution_count": 192,
     "metadata": {},
     "output_type": "execute_result"
    }
   ],
   "source": [
    "X = torch.tensor(features, dtype=torch.float32)\n",
    "X"
   ]
  },
  {
   "cell_type": "code",
   "execution_count": 193,
   "id": "bf8bf071",
   "metadata": {},
   "outputs": [
    {
     "data": {
      "text/plain": [
       "tensor([-0.0100], grad_fn=<ViewBackward0>)"
      ]
     },
     "execution_count": 193,
     "metadata": {},
     "output_type": "execute_result"
    }
   ],
   "source": [
    "y_hat = model(X)\n",
    "y_hat"
   ]
  },
  {
   "cell_type": "code",
   "execution_count": 194,
   "id": "97f1b668",
   "metadata": {},
   "outputs": [
    {
     "data": {
      "text/plain": [
       "tensor(-0.0100, grad_fn=<SelectBackward0>)"
      ]
     },
     "execution_count": 194,
     "metadata": {},
     "output_type": "execute_result"
    }
   ],
   "source": [
    "y_hat[0]"
   ]
  },
  {
   "cell_type": "code",
   "execution_count": null,
   "id": "0a20a391",
   "metadata": {},
   "outputs": [],
   "source": [
    "from decimal import Decimal\n",
    "from typing import Dict, List\n",
    "from dataclasses import dataclass\n",
    "import torch.nn as nn\n",
    "import polars as pl\n",
    "\n",
    "@dataclass(frozen=True)\n",
    "class Order:\n",
    "    sym: str\n",
    "    signed_qty: Decimal\n",
    "\n",
    "    def __str__(self) -> str:\n",
    "        sign = \"BUY\" if self.signed_qty > 0 else \"SELL\"\n",
    "        return f\"Order({sign} {abs(self.signed_qty)} {self.sym})\"\n",
    "\n",
    "class Position:\n",
    "    def __init__(self, sym: str, qty: Decimal, price: Decimal):\n",
    "        self.sym = sym\n",
    "        self.signed_qty = qty\n",
    "        self.price = price\n",
    "\n",
    "    def close(self) -> Order:\n",
    "        return Order(self.sym, -1 * self.signed_qty)\n",
    "\n",
    "class Account:\n",
    "    def __init__(self, balance: Decimal) -> None:\n",
    "        self._balance = balance\n",
    "        self._positions: Dict[str, Position] = {}\n",
    "\n",
    "    def balance(self) -> Decimal:\n",
    "        return self._balance\n",
    "    \n",
    "    def update(self, trade_pnl: Decimal):\n",
    "        self._balance += trade_pnl\n",
    "\n",
    "    def open_position(self, sym, qty, price):\n",
    "        self._positions[sym] = Position(sym, qty, price) \n",
    "\n",
    "    def close_position(self, sym: str) -> Optional[Order]:\n",
    "        position = self._positions.pop(sym, None)\n",
    "        return position.close() if position else None\n",
    "\n"
   ]
  },
  {
   "cell_type": "code",
   "execution_count": 241,
   "id": "8fb2e8d3",
   "metadata": {},
   "outputs": [],
   "source": [
    "class Strategy(Tick[float, Order]):\n",
    "    def backtest(self, path: str) -> pl.DataFrame:\n",
    "        return pl.DataFrame()    \n",
    "\n",
    "class BasicTakerStrat(Tick[float, List[Order]]):\n",
    "    def __init__(self, sym: str,model: nn.Module, log_return_lags: LogReturnLags, account: Account) -> None:\n",
    "        self.sym = sym\n",
    "        self.model = model\n",
    "        self.log_return_lags = log_return_lags\n",
    "        self.account = account\n",
    "\n",
    "    def _signed_trade_size(self, y_hat: float) -> Decimal:\n",
    "        dir_signal = np.sign(y_hat)\n",
    "        return Decimal(dir_signal) * self.account.balance()\n",
    "\n",
    "    def _create_orders(self, y_hat: torch.Tensor) -> List[Order]:\n",
    "        print(y_hat)\n",
    "        qty = self._signed_trade_size(y_hat.item())\n",
    "        open_order = Order(self.sym, qty)\n",
    "        close_order = self.account.close_position(self.sym)\n",
    "        orders = [close_order, open_order] if close_order else [open_order]\n",
    "        return orders      \n",
    "\n",
    "    def on_tick(self, val: float) -> List[Order] | None:\n",
    "        X = self.log_return_lags.on_tick(val)\n",
    "        if X is not None:\n",
    "            with torch.no_grad():\n",
    "                print(X)\n",
    "                y_hat = self.model(X)\n",
    "                orders = self._create_orders(y_hat)\n",
    "                return orders\n",
    "        return None"
   ]
  },
  {
   "cell_type": "code",
   "execution_count": 256,
   "id": "d62dbf7d",
   "metadata": {},
   "outputs": [],
   "source": [
    "sym = 'BTCUSDT'\n",
    "lags = LogReturnLags(3)\n",
    "acc = Account(Decimal(100.0))\n",
    "\n",
    "strat = BasicTakerStrat(sym, model, lags, acc)\n",
    "strat.on_tick(100.0)"
   ]
  },
  {
   "cell_type": "code",
   "execution_count": 257,
   "id": "6d61d90e",
   "metadata": {},
   "outputs": [],
   "source": [
    "strat.on_tick(110.0)"
   ]
  },
  {
   "cell_type": "code",
   "execution_count": 258,
   "id": "52379971",
   "metadata": {},
   "outputs": [],
   "source": [
    "strat.on_tick(90.0)"
   ]
  },
  {
   "cell_type": "code",
   "execution_count": 259,
   "id": "4da65c09",
   "metadata": {},
   "outputs": [
    {
     "name": "stdout",
     "output_type": "stream",
     "text": [
      "tensor([ 0.1542, -0.2007,  0.0953])\n",
      "tensor([0.0008])\n"
     ]
    },
    {
     "data": {
      "text/plain": [
       "[Order(sym='BTCUSDT', signed_qty=Decimal('100'))]"
      ]
     },
     "execution_count": 259,
     "metadata": {},
     "output_type": "execute_result"
    }
   ],
   "source": [
    "strat.on_tick(105)"
   ]
  },
  {
   "cell_type": "code",
   "execution_count": 260,
   "id": "7036fdcb",
   "metadata": {},
   "outputs": [
    {
     "data": {
      "text/plain": [
       "[np.float64(0.15415067982725836),\n",
       " np.float64(-0.2006706954621511),\n",
       " np.float64(0.09531017980432493)]"
      ]
     },
     "execution_count": 260,
     "metadata": {},
     "output_type": "execute_result"
    }
   ],
   "source": [
    "x = [np.log(105/90), np.log(90/110.0), np.log(110/100)]\n",
    "x"
   ]
  },
  {
   "cell_type": "code",
   "execution_count": 261,
   "id": "00ac8476",
   "metadata": {},
   "outputs": [
    {
     "name": "stdout",
     "output_type": "stream",
     "text": [
      "linear.weight:\n",
      "[[-0.10395038 -0.06726477  0.02827305]]\n",
      "linear.bias:\n",
      "[0.00067121]\n"
     ]
    }
   ],
   "source": [
    "import research\n",
    "research.print_model_params(model)"
   ]
  },
  {
   "cell_type": "code",
   "execution_count": 262,
   "id": "0ce6585d",
   "metadata": {},
   "outputs": [
    {
     "data": {
      "text/plain": [
       "array([-0.10395038, -0.06726477,  0.02827305])"
      ]
     },
     "execution_count": 262,
     "metadata": {},
     "output_type": "execute_result"
    }
   ],
   "source": [
    "w = np.array([-0.10395038, -0.06726477,  0.02827305]) \n",
    "w"
   ]
  },
  {
   "cell_type": "code",
   "execution_count": 263,
   "id": "062549cf",
   "metadata": {},
   "outputs": [
    {
     "data": {
      "text/plain": [
       "np.float64(0.002182385909816468)"
      ]
     },
     "execution_count": 263,
     "metadata": {},
     "output_type": "execute_result"
    }
   ],
   "source": [
    "b = 0.00067121\n",
    "np.sum(w * x + b)"
   ]
  }
 ],
 "metadata": {
  "kernelspec": {
   "display_name": "research",
   "language": "python",
   "name": "python3"
  },
  "language_info": {
   "codemirror_mode": {
    "name": "ipython",
    "version": 3
   },
   "file_extension": ".py",
   "mimetype": "text/x-python",
   "name": "python",
   "nbconvert_exporter": "python",
   "pygments_lexer": "ipython3",
   "version": "3.12.11"
  }
 },
 "nbformat": 4,
 "nbformat_minor": 5
}
