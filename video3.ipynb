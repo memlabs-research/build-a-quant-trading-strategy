{
 "cells": [
  {
   "cell_type": "markdown",
   "id": "492200b7",
   "metadata": {},
   "source": [
    "# Let's Build a Quant Trading Strategy - Part 3"
   ]
  },
  {
   "cell_type": "code",
   "execution_count": 162,
   "id": "6f0e9248",
   "metadata": {},
   "outputs": [],
   "source": [
    "# y_hat = model(x)\n",
    "# orders = strategy(y_hat)\n",
    "# execute(orders)"
   ]
  },
  {
   "cell_type": "code",
   "execution_count": 163,
   "id": "3c5b74a8",
   "metadata": {},
   "outputs": [],
   "source": [
    "# Part 1 = Research\n",
    "# Part 2 = Strategy\n",
    "# Part 3 = Implementation "
   ]
  },
  {
   "cell_type": "markdown",
   "id": "253c3328",
   "metadata": {},
   "source": [
    "## Goals"
   ]
  },
  {
   "cell_type": "code",
   "execution_count": null,
   "id": "e8bbb74b",
   "metadata": {},
   "outputs": [],
   "source": [
    "# 1. Code it all together in Python (Model + Strategy) (ideally a statically-typed language like rust)\n",
    "# 2. Show to build a trading system in a scalable way (very easy to create new strategies + streams data)\n",
    "# 3. Put it live with real money to see how it performs"
   ]
  }
 ],
 "metadata": {
  "kernelspec": {
   "display_name": "research",
   "language": "python",
   "name": "python3"
  },
  "language_info": {
   "codemirror_mode": {
    "name": "ipython",
    "version": 3
   },
   "file_extension": ".py",
   "mimetype": "text/x-python",
   "name": "python",
   "nbconvert_exporter": "python",
   "pygments_lexer": "ipython3",
   "version": "3.12.8"
  }
 },
 "nbformat": 4,
 "nbformat_minor": 5
}
