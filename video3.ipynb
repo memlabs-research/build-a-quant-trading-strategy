{
 "cells": [
  {
   "cell_type": "markdown",
   "id": "492200b7",
   "metadata": {},
   "source": [
    "# Let's Build a Quant Trading Strategy - Part 3"
   ]
  },
  {
   "cell_type": "code",
   "execution_count": 668,
   "id": "6f0e9248",
   "metadata": {},
   "outputs": [],
   "source": [
    "# y_hat = model(x)\n",
    "# orders = strategy(y_hat)\n",
    "# execute(orders)"
   ]
  },
  {
   "cell_type": "code",
   "execution_count": 669,
   "id": "3c5b74a8",
   "metadata": {},
   "outputs": [],
   "source": [
    "# Part 1 = Research\n",
    "# Part 2 = Strategy\n",
    "# Part 3 = Implementation "
   ]
  },
  {
   "cell_type": "markdown",
   "id": "253c3328",
   "metadata": {},
   "source": [
    "## Goals"
   ]
  },
  {
   "cell_type": "code",
   "execution_count": 670,
   "id": "e8bbb74b",
   "metadata": {},
   "outputs": [],
   "source": [
    "# 1. Code it all together in Python (Model + Strategy) (ideally a statically-typed language like rust)\n",
    "# 2. Show to build a trading system in a scalable way (very easy to create new strategies + streams data)\n",
    "# 3. Put it live with real money to see how it performs"
   ]
  },
  {
   "cell_type": "markdown",
   "id": "9588d653",
   "metadata": {},
   "source": [
    "## Recap"
   ]
  },
  {
   "cell_type": "markdown",
   "id": "631a10ee",
   "metadata": {},
   "source": [
    "### Part 1: Research"
   ]
  },
  {
   "cell_type": "code",
   "execution_count": 671,
   "id": "bd8540a4",
   "metadata": {},
   "outputs": [
    {
     "data": {
      "text/plain": [
       "LinearModel(\n",
       "  (linear): Linear(in_features=3, out_features=1, bias=True)\n",
       ")"
      ]
     },
     "execution_count": 671,
     "metadata": {},
     "output_type": "execute_result"
    }
   ],
   "source": [
    "import models\n",
    "import torch\n",
    "import research\n",
    "\n",
    "model = models.LinearModel(3)\n",
    "model.load_state_dict(torch.load('model_weights.pth', weights_only=True))\n",
    "model.eval()"
   ]
  },
  {
   "cell_type": "markdown",
   "id": "ddab9b96",
   "metadata": {},
   "source": [
    "### AR(3) Model to predict future log return - 12h forecast horizon"
   ]
  },
  {
   "cell_type": "code",
   "execution_count": 672,
   "id": "866c4ffd",
   "metadata": {},
   "outputs": [
    {
     "name": "stdout",
     "output_type": "stream",
     "text": [
      "linear.weight:\n",
      "[[-0.10395038 -0.06726477  0.02827305]]\n",
      "linear.bias:\n",
      "[0.00067121]\n"
     ]
    }
   ],
   "source": [
    "research.print_model_params(model)"
   ]
  },
  {
   "cell_type": "markdown",
   "id": "672371df",
   "metadata": {},
   "source": [
    "### Part 2: Strategy Recap"
   ]
  },
  {
   "cell_type": "code",
   "execution_count": 673,
   "id": "6ec0acca",
   "metadata": {},
   "outputs": [],
   "source": [
    "# ~14% without any optimization\n",
    "# 1. Compounding Trade Sizing\n",
    "# 2. Leverage\n",
    "# ~14% to >40%"
   ]
  },
  {
   "cell_type": "markdown",
   "id": "0658ce61",
   "metadata": {},
   "source": [
    "### Fundamental Building Block: Tick"
   ]
  },
  {
   "cell_type": "code",
   "execution_count": 674,
   "id": "d5256126",
   "metadata": {},
   "outputs": [],
   "source": [
    "from abc import ABC, abstractmethod\n",
    "from typing import Generic, TypeVar\n",
    "\n",
    "T = TypeVar('T')  # input type\n",
    "R = TypeVar('R')  # output type\n",
    "\n",
    "class Tick(ABC, Generic[T, R]):\n",
    "    @abstractmethod\n",
    "    def on_tick(self, val: T) -> R:\n",
    "        \"\"\"Handle a new tick and optionally return a result.\"\"\"\n",
    "        pass"
   ]
  },
  {
   "cell_type": "markdown",
   "id": "60619f86",
   "metadata": {},
   "source": [
    "### Sliding Window: The fundamental data structure"
   ]
  },
  {
   "cell_type": "code",
   "execution_count": 675,
   "id": "9f0fd720",
   "metadata": {},
   "outputs": [],
   "source": [
    "from collections import deque\n",
    "from typing import Deque, Optional\n",
    "import numpy as np\n",
    "\n",
    "class DequeWindow(Tick[T, Optional[T]], Generic[T]):\n",
    "    def __init__(self, n: int):\n",
    "        self._data: Deque[T] = deque(maxlen=n)\n",
    "\n",
    "    def on_tick(self, val: T) -> Optional[T]:\n",
    "        \"\"\"Append a value and return the oldest value dropped (if any).\"\"\"\n",
    "        dropped = None\n",
    "        if self.is_full():\n",
    "            dropped = self._data[0]\n",
    "        self._data.append(val)\n",
    "        return dropped\n",
    "    \n",
    "    def is_full(self) -> bool:\n",
    "        return self._data.maxlen == len(self._data)\n",
    "\n",
    "    def append_left(self, val: T) -> Optional[T]:\n",
    "        dropped = None\n",
    "        if self.is_full():\n",
    "            dropped = self._data[-1]\n",
    "        self._data.appendleft(val)\n",
    "        return dropped\n",
    "    \n",
    "    def to_numpy(self) -> np.ndarray:\n",
    "        return np.array(self._data)\n",
    "    \n",
    "    def __repr__(self) -> str:\n",
    "        cls_name = self.__class__.__name__\n",
    "        return f\"{cls_name}(capacity={self._data.maxlen}, values={list(self._data)})\""
   ]
  },
  {
   "cell_type": "code",
   "execution_count": 676,
   "id": "b06fb26e",
   "metadata": {},
   "outputs": [
    {
     "data": {
      "text/plain": [
       "DequeWindow(capacity=3, values=[])"
      ]
     },
     "execution_count": 676,
     "metadata": {},
     "output_type": "execute_result"
    }
   ],
   "source": [
    "w = DequeWindow(3)\n",
    "w"
   ]
  },
  {
   "cell_type": "code",
   "execution_count": 677,
   "id": "4febc120",
   "metadata": {},
   "outputs": [
    {
     "data": {
      "text/plain": [
       "DequeWindow(capacity=3, values=[1])"
      ]
     },
     "execution_count": 677,
     "metadata": {},
     "output_type": "execute_result"
    }
   ],
   "source": [
    "w = DequeWindow(3)\n",
    "w.on_tick(1)\n",
    "w"
   ]
  },
  {
   "cell_type": "code",
   "execution_count": 678,
   "id": "1b244a83",
   "metadata": {},
   "outputs": [
    {
     "data": {
      "text/plain": [
       "DequeWindow(capacity=3, values=[1, 2, 3])"
      ]
     },
     "execution_count": 678,
     "metadata": {},
     "output_type": "execute_result"
    }
   ],
   "source": [
    "w = DequeWindow(3)\n",
    "w.on_tick(1)\n",
    "w.on_tick(2)\n",
    "w.on_tick(3)\n",
    "w"
   ]
  },
  {
   "cell_type": "code",
   "execution_count": 679,
   "id": "7e530148",
   "metadata": {},
   "outputs": [
    {
     "data": {
      "text/plain": [
       "DequeWindow(capacity=3, values=[2, 3, 4])"
      ]
     },
     "execution_count": 679,
     "metadata": {},
     "output_type": "execute_result"
    }
   ],
   "source": [
    "w = DequeWindow(3)\n",
    "w.on_tick(1)\n",
    "w.on_tick(2)\n",
    "w.on_tick(3)\n",
    "w.on_tick(4)\n",
    "w"
   ]
  },
  {
   "cell_type": "code",
   "execution_count": 680,
   "id": "13a3d713",
   "metadata": {},
   "outputs": [
    {
     "data": {
      "text/plain": [
       "DequeWindow(capacity=3, values=[999997, 999998, 999999])"
      ]
     },
     "execution_count": 680,
     "metadata": {},
     "output_type": "execute_result"
    }
   ],
   "source": [
    "for i in range(1000000):\n",
    "    w.on_tick(i)\n",
    "w"
   ]
  },
  {
   "cell_type": "markdown",
   "id": "8aa501ae",
   "metadata": {},
   "source": [
    "### Array-based Window"
   ]
  },
  {
   "cell_type": "code",
   "execution_count": 681,
   "id": "494693ac",
   "metadata": {},
   "outputs": [],
   "source": [
    "import numpy as np\n",
    "from typing import Optional\n",
    "\n",
    "class NumpyWindow(Tick[T, Optional[T]]):\n",
    "    def __init__(self, n: int, dtype=np.float64):\n",
    "        if n <= 0:\n",
    "            raise ValueError(\"Capacity must be positive.\")\n",
    "        self._capacity = n\n",
    "        self._data = np.zeros(n, dtype=dtype)\n",
    "        self._size = 0\n",
    "\n",
    "    def on_tick(self, val: float) -> Optional[float]:\n",
    "        dropped = None\n",
    "\n",
    "        if self._size < self._capacity:\n",
    "            self._data[self._size] = val\n",
    "            self._size += 1\n",
    "        else:\n",
    "            dropped = self._data[0]\n",
    "            # shift left in-place\n",
    "            for i in range(1, self._capacity):\n",
    "                self._data[i - 1] = self._data[i]\n",
    "            self._data[-1] = val\n",
    "\n",
    "        return dropped\n",
    "\n",
    "\n",
    "    def __getitem__(self, idx: int) -> float:\n",
    "        \"\"\"Index access (0 = oldest).\"\"\"\n",
    "        if not 0 <= idx < self._size:\n",
    "            raise IndexError(\"Index out of range.\")\n",
    "        return self._data[idx]\n",
    "\n",
    "    def __len__(self) -> int:\n",
    "        return self._size\n",
    "\n",
    "    def capacity(self) -> int:\n",
    "        return self._capacity\n",
    "\n",
    "    def is_full(self) -> bool:\n",
    "        return self._size == self._capacity\n",
    "\n",
    "    def values(self) -> np.ndarray:\n",
    "        return self._data[:self._size]\n",
    "\n",
    "    def __repr__(self) -> str:\n",
    "        vals = self.values().tolist()\n",
    "        return f\"{self.__class__.__name__}(capacity={self._capacity}, size={self._size}, values={vals})\"\n"
   ]
  },
  {
   "cell_type": "markdown",
   "id": "f6300c05",
   "metadata": {},
   "source": [
    "### Benchmark Numpy Window vs Deque Window"
   ]
  },
  {
   "cell_type": "code",
   "execution_count": 682,
   "id": "7227a547",
   "metadata": {},
   "outputs": [],
   "source": [
    "def benchmark_window(window, n):\n",
    "    for i in range(n):\n",
    "        window.on_tick(i)\n",
    "\n",
    "window_size = 10\n",
    "n = 5000000"
   ]
  },
  {
   "cell_type": "code",
   "execution_count": 683,
   "id": "10b3734c",
   "metadata": {},
   "outputs": [
    {
     "name": "stdout",
     "output_type": "stream",
     "text": [
      "CPU times: user 5.12 s, sys: 91.4 ms, total: 5.21 s\n",
      "Wall time: 5.99 s\n"
     ]
    }
   ],
   "source": [
    "%%time\n",
    "benchmark_window(NumpyWindow(window_size), n)"
   ]
  },
  {
   "cell_type": "code",
   "execution_count": 684,
   "id": "7d942547",
   "metadata": {},
   "outputs": [
    {
     "name": "stdout",
     "output_type": "stream",
     "text": [
      "CPU times: user 536 ms, sys: 6.94 ms, total: 543 ms\n",
      "Wall time: 544 ms\n"
     ]
    }
   ],
   "source": [
    "%%time\n",
    "benchmark_window(DequeWindow(window_size), n)"
   ]
  },
  {
   "cell_type": "markdown",
   "id": "6b0352f2",
   "metadata": {},
   "source": [
    "### Stream the Last Known Value "
   ]
  },
  {
   "cell_type": "code",
   "execution_count": 685,
   "id": "90cc970e",
   "metadata": {},
   "outputs": [],
   "source": [
    "class Last(Tick[T, T], Generic[T]):\n",
    "    def __init__(self):\n",
    "        self._value: Optional[T] = None\n",
    "\n",
    "    def on_tick(self, val: T) -> Optional[T]:\n",
    "        self._value = val\n",
    "        return val\n",
    "\n",
    "    def __repr__(self) -> str:\n",
    "        cls_name = self.__class__.__name__\n",
    "        return f\"{cls_name}(value={self._value})\""
   ]
  },
  {
   "cell_type": "code",
   "execution_count": 686,
   "id": "74121796",
   "metadata": {},
   "outputs": [
    {
     "data": {
      "text/plain": [
       "Last(value=None)"
      ]
     },
     "execution_count": 686,
     "metadata": {},
     "output_type": "execute_result"
    }
   ],
   "source": [
    "last_val = Last()\n",
    "last_val"
   ]
  },
  {
   "cell_type": "code",
   "execution_count": 687,
   "id": "7c05b0cb",
   "metadata": {},
   "outputs": [
    {
     "data": {
      "text/plain": [
       "Last(value=4)"
      ]
     },
     "execution_count": 687,
     "metadata": {},
     "output_type": "execute_result"
    }
   ],
   "source": [
    "last_val = Last()\n",
    "for i in range(5):\n",
    "    last_val.on_tick(i)\n",
    "last_val"
   ]
  },
  {
   "cell_type": "markdown",
   "id": "7030b8b1",
   "metadata": {},
   "source": [
    "## Streaming Log Returns"
   ]
  },
  {
   "cell_type": "markdown",
   "id": "51eaf0d8",
   "metadata": {},
   "source": [
    "### Recap"
   ]
  },
  {
   "cell_type": "code",
   "execution_count": 688,
   "id": "22da08f2",
   "metadata": {},
   "outputs": [
    {
     "data": {
      "text/plain": [
       "[np.float64(0.1823215567939546), np.float64(-0.1823215567939546)]"
      ]
     },
     "execution_count": 688,
     "metadata": {},
     "output_type": "execute_result"
    }
   ],
   "source": [
    "ts = [100, 120, 100]\n",
    "log_returns = [\n",
    "    np.log(ts[1] / ts[0]),\n",
    "    np.log(ts[2] / ts[1])\n",
    "]\n",
    "log_returns"
   ]
  },
  {
   "cell_type": "code",
   "execution_count": 689,
   "id": "77f267d9",
   "metadata": {},
   "outputs": [
    {
     "data": {
      "text/plain": [
       "np.float64(0.0)"
      ]
     },
     "execution_count": 689,
     "metadata": {},
     "output_type": "execute_result"
    }
   ],
   "source": [
    "np.sum(log_returns)"
   ]
  },
  {
   "cell_type": "code",
   "execution_count": 690,
   "id": "37849e97",
   "metadata": {},
   "outputs": [],
   "source": [
    "import numpy as np\n",
    "\n",
    "class LogReturn(Tick[float, Optional[float]], Generic[T]):\n",
    "    def __init__(self):\n",
    "        self._window = NumpyWindow(2)\n",
    "\n",
    "    def on_tick(self, val: float) -> Optional[float]:\n",
    "        self._window.on_tick(val)\n",
    "        if self._window.is_full():\n",
    "            return np.log(self._window[1] / self._window[0])\n",
    "        else:\n",
    "            return None\n",
    "        \n",
    "    def __repr__(self) -> str:\n",
    "        cls_name = self.__class__.__name__\n",
    "        return f\"{cls_name}(window={self._window})\"\n",
    "    "
   ]
  },
  {
   "cell_type": "code",
   "execution_count": 691,
   "id": "49eb7483",
   "metadata": {},
   "outputs": [
    {
     "data": {
      "text/plain": [
       "LogReturn(window=NumpyWindow(capacity=2, size=1, values=[100.0]))"
      ]
     },
     "execution_count": 691,
     "metadata": {},
     "output_type": "execute_result"
    }
   ],
   "source": [
    "f = LogReturn()\n",
    "f.on_tick(100.0)\n",
    "f"
   ]
  },
  {
   "cell_type": "code",
   "execution_count": 692,
   "id": "334b06d2",
   "metadata": {},
   "outputs": [
    {
     "data": {
      "text/plain": [
       "np.float64(0.1823215567939546)"
      ]
     },
     "execution_count": 692,
     "metadata": {},
     "output_type": "execute_result"
    }
   ],
   "source": [
    "v = f.on_tick(120.0)\n",
    "v"
   ]
  },
  {
   "cell_type": "code",
   "execution_count": 693,
   "id": "fc1c5961",
   "metadata": {},
   "outputs": [
    {
     "data": {
      "text/plain": [
       "LogReturn(window=NumpyWindow(capacity=2, size=2, values=[100.0, 120.0]))"
      ]
     },
     "execution_count": 693,
     "metadata": {},
     "output_type": "execute_result"
    }
   ],
   "source": [
    "f"
   ]
  },
  {
   "cell_type": "code",
   "execution_count": 694,
   "id": "468e8619",
   "metadata": {},
   "outputs": [
    {
     "data": {
      "text/plain": [
       "np.float64(-0.1823215567939546)"
      ]
     },
     "execution_count": 694,
     "metadata": {},
     "output_type": "execute_result"
    }
   ],
   "source": [
    "v = f.on_tick(100.0)\n",
    "v"
   ]
  },
  {
   "cell_type": "code",
   "execution_count": 695,
   "id": "38756d82",
   "metadata": {},
   "outputs": [
    {
     "data": {
      "text/plain": [
       "LogReturn(window=NumpyWindow(capacity=2, size=2, values=[120.0, 100.0]))"
      ]
     },
     "execution_count": 695,
     "metadata": {},
     "output_type": "execute_result"
    }
   ],
   "source": [
    "f"
   ]
  },
  {
   "cell_type": "markdown",
   "id": "7df2518b",
   "metadata": {},
   "source": [
    "### Streaming Auto-Regressive Log Returns Lags"
   ]
  },
  {
   "cell_type": "markdown",
   "id": "91e289c2",
   "metadata": {},
   "source": [
    "### Recap"
   ]
  },
  {
   "cell_type": "code",
   "execution_count": 696,
   "id": "31c9102e",
   "metadata": {},
   "outputs": [
    {
     "data": {
      "text/plain": [
       "-0.3"
      ]
     },
     "execution_count": 696,
     "metadata": {},
     "output_type": "execute_result"
    }
   ],
   "source": [
    "time_series = [0.1, -0.2, -0.3]\n",
    "lag_1 = time_series[-1]\n",
    "lag_1"
   ]
  },
  {
   "cell_type": "code",
   "execution_count": 697,
   "id": "39330d9a",
   "metadata": {},
   "outputs": [
    {
     "data": {
      "text/plain": [
       "-0.2"
      ]
     },
     "execution_count": 697,
     "metadata": {},
     "output_type": "execute_result"
    }
   ],
   "source": [
    "lag_2 = time_series[-2]\n",
    "lag_2"
   ]
  },
  {
   "cell_type": "code",
   "execution_count": 698,
   "id": "f8905c68",
   "metadata": {},
   "outputs": [
    {
     "data": {
      "text/plain": [
       "0.1"
      ]
     },
     "execution_count": 698,
     "metadata": {},
     "output_type": "execute_result"
    }
   ],
   "source": [
    "lag_3 = time_series[-3]\n",
    "lag_3"
   ]
  },
  {
   "cell_type": "code",
   "execution_count": 699,
   "id": "236d5895",
   "metadata": {},
   "outputs": [],
   "source": [
    "class LogReturnLags(Tick[float, torch.Tensor]):\n",
    "    def __init__(self, no_lags: int):\n",
    "        self._lags = DequeWindow(no_lags)\n",
    "        self._log_return = LogReturn()\n",
    "    \n",
    "    def on_tick(self, val: float) -> torch.Tensor | None:\n",
    "        log_ret = self._log_return.on_tick(val)\n",
    "        if log_ret is not None:\n",
    "            self._lags.append_left(log_ret)\n",
    "            return torch.tensor(self._lags.to_numpy(), dtype=torch.float32) if self._lags.is_full() else None\n",
    "        else:\n",
    "            return None\n",
    "        \n",
    "    def __repr__(self) -> str:\n",
    "        cls_name = self.__class__.__name__\n",
    "        return f\"{cls_name}(lags={self._lags}, log_return={self._log_return})\" "
   ]
  },
  {
   "cell_type": "code",
   "execution_count": 700,
   "id": "e0d3e146",
   "metadata": {},
   "outputs": [
    {
     "data": {
      "text/plain": [
       "LogReturnLags(lags=DequeWindow(capacity=3, values=[]), log_return=LogReturn(window=NumpyWindow(capacity=2, size=1, values=[90.0])))"
      ]
     },
     "execution_count": 700,
     "metadata": {},
     "output_type": "execute_result"
    }
   ],
   "source": [
    "lags = LogReturnLags(3)\n",
    "v = lags.on_tick(90)\n",
    "lags"
   ]
  },
  {
   "cell_type": "code",
   "execution_count": 701,
   "id": "21f480b9",
   "metadata": {},
   "outputs": [
    {
     "data": {
      "text/plain": [
       "LogReturnLags(lags=DequeWindow(capacity=3, values=[np.float64(0.10536051565782635)]), log_return=LogReturn(window=NumpyWindow(capacity=2, size=2, values=[90.0, 100.0])))"
      ]
     },
     "execution_count": 701,
     "metadata": {},
     "output_type": "execute_result"
    }
   ],
   "source": [
    "lags.on_tick(100)\n",
    "lags"
   ]
  },
  {
   "cell_type": "code",
   "execution_count": 702,
   "id": "bb555116",
   "metadata": {},
   "outputs": [
    {
     "data": {
      "text/plain": [
       "LogReturnLags(lags=DequeWindow(capacity=3, values=[np.float64(0.4054651081081644), np.float64(0.10536051565782635)]), log_return=LogReturn(window=NumpyWindow(capacity=2, size=2, values=[100.0, 150.0])))"
      ]
     },
     "execution_count": 702,
     "metadata": {},
     "output_type": "execute_result"
    }
   ],
   "source": [
    "lags.on_tick(150)\n",
    "lags"
   ]
  },
  {
   "cell_type": "code",
   "execution_count": 703,
   "id": "d870e3f7",
   "metadata": {},
   "outputs": [
    {
     "data": {
      "text/plain": [
       "tensor([-0.3102,  0.4055,  0.1054])"
      ]
     },
     "execution_count": 703,
     "metadata": {},
     "output_type": "execute_result"
    }
   ],
   "source": [
    "lags.on_tick(110)"
   ]
  },
  {
   "cell_type": "code",
   "execution_count": 704,
   "id": "78c5eca6",
   "metadata": {},
   "outputs": [
    {
     "data": {
      "text/plain": [
       "[np.float64(-0.3101549283038396),\n",
       " np.float64(0.4054651081081644),\n",
       " np.float64(0.10536051565782635)]"
      ]
     },
     "execution_count": 704,
     "metadata": {},
     "output_type": "execute_result"
    }
   ],
   "source": [
    "[np.log(110/150), np.log(150/100),np.log(100/90)]"
   ]
  },
  {
   "cell_type": "code",
   "execution_count": 705,
   "id": "a377bbf1",
   "metadata": {},
   "outputs": [
    {
     "data": {
      "text/plain": [
       "tensor([ 0.3747, -0.3102,  0.4055])"
      ]
     },
     "execution_count": 705,
     "metadata": {},
     "output_type": "execute_result"
    }
   ],
   "source": [
    "lags = LogReturnLags(3)\n",
    "lags.on_tick(90)\n",
    "lags.on_tick(100)\n",
    "lags.on_tick(150)\n",
    "lags.on_tick(110)\n",
    "features = lags.on_tick(160)\n",
    "features"
   ]
  },
  {
   "cell_type": "markdown",
   "id": "17236d61",
   "metadata": {},
   "source": [
    "### Streaming features into our model"
   ]
  },
  {
   "cell_type": "code",
   "execution_count": 706,
   "id": "d1cf8538",
   "metadata": {},
   "outputs": [
    {
     "data": {
      "text/plain": [
       "tensor([-0.0060])"
      ]
     },
     "execution_count": 706,
     "metadata": {},
     "output_type": "execute_result"
    }
   ],
   "source": [
    "X = features\n",
    "with torch.no_grad():\n",
    "    y_hat = model(X)\n",
    "y_hat"
   ]
  },
  {
   "cell_type": "code",
   "execution_count": 707,
   "id": "7ac95ad4",
   "metadata": {},
   "outputs": [
    {
     "data": {
      "text/plain": [
       "tensor(-0.0060)"
      ]
     },
     "execution_count": 707,
     "metadata": {},
     "output_type": "execute_result"
    }
   ],
   "source": [
    "y_hat[0]"
   ]
  },
  {
   "cell_type": "markdown",
   "id": "6dc4b2ed",
   "metadata": {},
   "source": [
    "## Build the Trading System"
   ]
  },
  {
   "cell_type": "markdown",
   "id": "a404fda0",
   "metadata": {},
   "source": [
    "### Using Decimal to represent money"
   ]
  },
  {
   "cell_type": "code",
   "execution_count": 708,
   "id": "d86c4f34",
   "metadata": {},
   "outputs": [
    {
     "data": {
      "text/plain": [
       "0.9999999999999999"
      ]
     },
     "execution_count": 708,
     "metadata": {},
     "output_type": "execute_result"
    }
   ],
   "source": [
    "val = 0.1\n",
    "total = 0.0\n",
    "for i in range(10):\n",
    "    total += val\n",
    "total"
   ]
  },
  {
   "cell_type": "code",
   "execution_count": 709,
   "id": "7b5bf6e4",
   "metadata": {},
   "outputs": [
    {
     "data": {
      "text/plain": [
       "Decimal('1.0')"
      ]
     },
     "execution_count": 709,
     "metadata": {},
     "output_type": "execute_result"
    }
   ],
   "source": [
    "from decimal import Decimal\n",
    "dp = Decimal('0.2')\n",
    "val = Decimal(0.1).quantize(dp)\n",
    "total = Decimal(0.0).quantize(dp)\n",
    "for i in range(10):\n",
    "    total += val\n",
    "total"
   ]
  },
  {
   "cell_type": "code",
   "execution_count": 710,
   "id": "8f05054a",
   "metadata": {},
   "outputs": [],
   "source": [
    "from dataclasses import dataclass\n",
    "\n",
    "@dataclass(frozen=True)\n",
    "class Order:\n",
    "    sym: str\n",
    "    signed_qty: Decimal\n",
    "\n",
    "    def __str__(self) -> str:\n",
    "        sign = \"LONG\" if self.signed_qty > 0 else \"SHORT\"\n",
    "        return f\"Order({sign} {self.signed_qty} {self.sym})\""
   ]
  },
  {
   "cell_type": "code",
   "execution_count": 711,
   "id": "8ae8d0f7",
   "metadata": {},
   "outputs": [],
   "source": [
    "from decimal import Decimal\n",
    "\n",
    "def decimal_sign(d: Decimal) -> int:\n",
    "    return 1 if d > Decimal(0) else -1\n",
    "\n",
    "def is_long(x: Decimal) -> bool:\n",
    "    return decimal_sign(x) > 0\n",
    "\n",
    "@dataclass(frozen=True)\n",
    "class Trade:\n",
    "    sym: str\n",
    "    signed_qty: Decimal\n",
    "    price: Decimal\n",
    "    pnl: Decimal\n",
    "\n",
    "    def __str__(self) -> str:\n",
    "        sign = \"LONG\" if is_long(self.signed_qty) else \"SHORT\"\n",
    "        return f\"Trade({sign} {self.signed_qty} {self.sym} {self.price} {self.pnl})\"\n",
    "\n",
    "    def is_long(self) -> bool:\n",
    "        return is_long(self.signed_qty)\n",
    "\n",
    "\n"
   ]
  },
  {
   "cell_type": "code",
   "execution_count": 712,
   "id": "004b0cfb",
   "metadata": {},
   "outputs": [],
   "source": [
    "@dataclass\n",
    "class Position:\n",
    "    sym: str\n",
    "    signed_qty: Decimal\n",
    "    price: Decimal\n",
    "\n",
    "    def close(self) -> \"Order\":\n",
    "        return Order(self.sym, -self.signed_qty)\n",
    "    \n",
    "    def is_long(self) -> bool:\n",
    "        return is_long(self.signed_qty)\n",
    "    \n",
    "    def unrealized_pnl(self, current_price: Decimal) -> Decimal:\n",
    "        entry_val = self.price * self.signed_qty\n",
    "        exit_val = current_price * -self.signed_qty\n",
    "        return entry_val + exit_val\n"
   ]
  },
  {
   "cell_type": "code",
   "execution_count": 713,
   "id": "caae9570",
   "metadata": {},
   "outputs": [],
   "source": [
    "from abc import ABC, abstractmethod\n",
    "from decimal import Decimal\n",
    "\n",
    "class Account(ABC):\n",
    "    @abstractmethod\n",
    "    def balance(self) -> Decimal:\n",
    "        pass\n",
    "\n",
    "    @abstractmethod\n",
    "    def get_position(self, sym: str) -> Optional[Position]:\n",
    "        pass   "
   ]
  },
  {
   "cell_type": "code",
   "execution_count": 714,
   "id": "316eec02",
   "metadata": {},
   "outputs": [],
   "source": [
    "from decimal import Decimal\n",
    "from typing import Dict, List, Optional\n",
    "\n",
    "class TestAccount(Account):\n",
    "    \"\"\"A simulated account for testing or paper trading.\"\"\"\n",
    "\n",
    "    def __init__(self, _balance: Decimal) -> None:\n",
    "        self._balance = _balance\n",
    "        self._positions: Dict[str, Position] = {}\n",
    "        self._trades: List[Trade] = []\n",
    "\n",
    "    def balance(self) -> Decimal:\n",
    "        return self._balance\n",
    "\n",
    "    def get_position(self, sym) -> Optional[Position]:\n",
    "        return self._positions.get(sym)\n",
    "\n",
    "    def __repr__(self) -> str:\n",
    "        return f\"TestAccount(balance={self._balance}, positions={self._positions}, trades={self._trades})\"\n"
   ]
  },
  {
   "cell_type": "code",
   "execution_count": 715,
   "id": "7e954aca",
   "metadata": {},
   "outputs": [
    {
     "data": {
      "text/plain": [
       "Decimal('50')"
      ]
     },
     "execution_count": 715,
     "metadata": {},
     "output_type": "execute_result"
    }
   ],
   "source": [
    "acc = TestAccount(Decimal(50.0))\n",
    "acc.balance()"
   ]
  },
  {
   "cell_type": "code",
   "execution_count": 716,
   "id": "d80f8bb9",
   "metadata": {},
   "outputs": [
    {
     "data": {
      "text/plain": [
       "TestAccount(balance=50, positions={}, trades=[])"
      ]
     },
     "execution_count": 716,
     "metadata": {},
     "output_type": "execute_result"
    }
   ],
   "source": [
    "acc"
   ]
  },
  {
   "cell_type": "markdown",
   "id": "bda336e1",
   "metadata": {},
   "source": [
    "### Model an Exchange"
   ]
  },
  {
   "cell_type": "code",
   "execution_count": 717,
   "id": "5315b8c4",
   "metadata": {},
   "outputs": [],
   "source": [
    "from abc import abstractmethod\n",
    "from decimal import Decimal\n",
    "\n",
    "class Exchange(Account):\n",
    "    \"\"\"Abstract base class representing a trading exchange/broker.\"\"\"\n",
    "\n",
    "    @abstractmethod\n",
    "    def market_order(self, sym: str, signed_qty: Decimal, price: Decimal) -> Trade:\n",
    "        \"\"\"Execute a market order and return a Trade result.\"\"\"\n",
    "        pass\n",
    "\n",
    "    @abstractmethod\n",
    "    def limit_order(self, sym: str, signed_qty: Decimal, price: Decimal, post_only: bool = False) -> Optional[Trade]:\n",
    "        \"\"\"Execute a limit order and return a Trade if it crosses book.\"\"\"\n",
    "        pass"
   ]
  },
  {
   "cell_type": "code",
   "execution_count": 718,
   "id": "dcbaf258",
   "metadata": {},
   "outputs": [],
   "source": [
    "from typing import Dict,List\n",
    "\n",
    "class TestExchange(Exchange):\n",
    "    _account: TestAccount\n",
    "\n",
    "    def __init__(self, account: TestAccount):\n",
    "        self._account = account\n",
    "\n",
    "    def market_order(self, sym: str, signed_qty: Decimal, price: Decimal) -> \"Trade\":        \n",
    "        # Update balance and position\n",
    "        trade = self._update_position(sym, signed_qty, price)\n",
    "        self._account._balance += trade.pnl\n",
    "        self._account._trades.append(trade)\n",
    "        return trade\n",
    "    \n",
    "    def _update_position(self, sym: str, signed_qty, price: Decimal) -> Trade:\n",
    "        position = self._account._positions.pop(sym, None)\n",
    "        pnl = Decimal(0.0)\n",
    "        if position is not None:\n",
    "            entry_val = position.price * position.signed_qty\n",
    "            exit_val = price * position.signed_qty              \n",
    "            pnl = exit_val - entry_val  \n",
    "        else:\n",
    "            self._account._positions[sym] = Position(sym, signed_qty, price) \n",
    "        return Trade(sym, signed_qty, price, pnl)    \n",
    "\n",
    "    def limit_order(self, sym, signed_qty, price, post_only = False):\n",
    "        raise Exception(\"not yet implemented\")\n",
    "    \n",
    "    def balance(self) -> Decimal:\n",
    "        return self._account.balance()\n",
    "    \n",
    "    def get_position(self, sym) -> Optional[Position]:\n",
    "        return self._account.get_positions(sym)\n",
    "    \n",
    "    def __repr__(self) -> str:\n",
    "        return f\"TestExchange(balance={self.balance()}, positions={self._account._positions}, trades={self._account._trades})\""
   ]
  },
  {
   "cell_type": "markdown",
   "id": "7f4643da",
   "metadata": {},
   "source": [
    "### Open Position"
   ]
  },
  {
   "cell_type": "code",
   "execution_count": 719,
   "id": "6c757cfa",
   "metadata": {},
   "outputs": [
    {
     "data": {
      "text/plain": [
       "Trade(sym='BTCUSDT', signed_qty=Decimal('5'), price=Decimal('10'), pnl=Decimal('0'))"
      ]
     },
     "execution_count": 719,
     "metadata": {},
     "output_type": "execute_result"
    }
   ],
   "source": [
    "exchange = TestExchange(TestAccount(Decimal(50.0)))\n",
    "\n",
    "price = Decimal(10)\n",
    "qty = Decimal(5.0)\n",
    "exchange.market_order('BTCUSDT', qty, Decimal(price))"
   ]
  },
  {
   "cell_type": "code",
   "execution_count": 720,
   "id": "e793bdf2",
   "metadata": {},
   "outputs": [
    {
     "data": {
      "text/plain": [
       "TestExchange(balance=50, positions={'BTCUSDT': Position(sym='BTCUSDT', signed_qty=Decimal('5'), price=Decimal('10'))}, trades=[Trade(sym='BTCUSDT', signed_qty=Decimal('5'), price=Decimal('10'), pnl=Decimal('0'))])"
      ]
     },
     "execution_count": 720,
     "metadata": {},
     "output_type": "execute_result"
    }
   ],
   "source": [
    "exchange"
   ]
  },
  {
   "cell_type": "markdown",
   "id": "df44a5b1",
   "metadata": {},
   "source": [
    "### Close Position"
   ]
  },
  {
   "cell_type": "code",
   "execution_count": 721,
   "id": "a7cdfcb1",
   "metadata": {},
   "outputs": [
    {
     "data": {
      "text/plain": [
       "Trade(sym='BTCUSDT', signed_qty=Decimal('-5'), price=Decimal('15'), pnl=Decimal('25'))"
      ]
     },
     "execution_count": 721,
     "metadata": {},
     "output_type": "execute_result"
    }
   ],
   "source": [
    "price = Decimal(15.0)\n",
    "exchange.market_order('BTCUSDT', -qty, price)"
   ]
  },
  {
   "cell_type": "code",
   "execution_count": 722,
   "id": "a07d1558",
   "metadata": {},
   "outputs": [
    {
     "data": {
      "text/plain": [
       "TestExchange(balance=75, positions={}, trades=[Trade(sym='BTCUSDT', signed_qty=Decimal('5'), price=Decimal('10'), pnl=Decimal('0')), Trade(sym='BTCUSDT', signed_qty=Decimal('-5'), price=Decimal('15'), pnl=Decimal('25'))])"
      ]
     },
     "execution_count": 722,
     "metadata": {},
     "output_type": "execute_result"
    }
   ],
   "source": [
    "exchange"
   ]
  },
  {
   "cell_type": "code",
   "execution_count": 723,
   "id": "3880c452",
   "metadata": {},
   "outputs": [
    {
     "data": {
      "text/plain": [
       "Decimal('50')"
      ]
     },
     "execution_count": 723,
     "metadata": {},
     "output_type": "execute_result"
    }
   ],
   "source": [
    "entry_notional_value = Decimal(5) * Decimal(10)\n",
    "entry_notional_value"
   ]
  },
  {
   "cell_type": "code",
   "execution_count": 724,
   "id": "1677df74",
   "metadata": {},
   "outputs": [
    {
     "data": {
      "text/plain": [
       "Decimal('75')"
      ]
     },
     "execution_count": 724,
     "metadata": {},
     "output_type": "execute_result"
    }
   ],
   "source": [
    "exit_notional_val = Decimal(5) * Decimal(15)\n",
    "exit_notional_val"
   ]
  },
  {
   "cell_type": "code",
   "execution_count": 725,
   "id": "ef5c1ae0",
   "metadata": {},
   "outputs": [
    {
     "data": {
      "text/plain": [
       "Decimal('25')"
      ]
     },
     "execution_count": 725,
     "metadata": {},
     "output_type": "execute_result"
    }
   ],
   "source": [
    "exit_notional_val - entry_notional_value"
   ]
  },
  {
   "cell_type": "markdown",
   "id": "b3f8b1ab",
   "metadata": {},
   "source": [
    "### Build Strategy API"
   ]
  },
  {
   "cell_type": "code",
   "execution_count": 726,
   "id": "49833227",
   "metadata": {},
   "outputs": [],
   "source": [
    "class Strategy(ABC):\n",
    "    @abstractmethod\n",
    "    def on_tick(self, price: float, account: Account) -> Optional[List[Order]]:\n",
    "        pass"
   ]
  },
  {
   "cell_type": "markdown",
   "id": "4612ad11",
   "metadata": {},
   "source": [
    "### Implement our strategy"
   ]
  },
  {
   "cell_type": "code",
   "execution_count": 727,
   "id": "8836dee0",
   "metadata": {},
   "outputs": [],
   "source": [
    "import torch.nn as nn\n",
    "\n",
    "class BasicTakerStrat(Strategy):\n",
    "    def __init__(self, \n",
    "                 sym: str,\n",
    "                 model: nn.Module, \n",
    "                 log_return_lags: LogReturnLags, \n",
    "                 scale_factor: Decimal = None) -> None:\n",
    "        self.sym = sym\n",
    "        self.model = model\n",
    "        self.log_return_lags = log_return_lags\n",
    "        if scale_factor is None:\n",
    "            scale_factor = Decimal(1.0)\n",
    "        self.scale_factor = Decimal(scale_factor)\n",
    "\n",
    "    def _signed_compound_trade_size(self, y_hat: float, account: Account, cur_price: Decimal, position: Optional[Position]) -> Decimal:\n",
    "        dir_signal = np.sign(y_hat)\n",
    "        cur_balance =  account.balance()\n",
    "        unrealized_balance = cur_balance + (position.unrealized_pnl(cur_price) if position else Decimal(0.0))\n",
    "        qty = unrealized_balance / cur_price\n",
    "        signed_qty = Decimal(dir_signal) * qty\n",
    "        return signed_qty * self.scale_factor\n",
    "\n",
    "    def _create_orders(self, y_hat: torch.Tensor, account: Account, price: Decimal) -> List[Order]:\n",
    "        position = account.get_position(self.sym)\n",
    "        signed_trade_size = self._signed_compound_trade_size(y_hat.item(), account, price, position)\n",
    "        open_order = Order(self.sym, signed_trade_size)\n",
    "        if position is not None:\n",
    "            close_order = Order(position.sym, -position.signed_qty)\n",
    "            return [close_order, open_order]\n",
    "        return [open_order]      \n",
    "\n",
    "    def on_tick(self, price: float, account: Account) -> List[Order]:\n",
    "        X = self.log_return_lags.on_tick(price)\n",
    "        if X is not None:\n",
    "            with torch.no_grad():                \n",
    "                y_hat = self.model(X)\n",
    "                orders = self._create_orders(y_hat, account, Decimal(price))\n",
    "                return orders\n",
    "        return []"
   ]
  },
  {
   "cell_type": "code",
   "execution_count": 728,
   "id": "245e03ff",
   "metadata": {},
   "outputs": [
    {
     "data": {
      "text/plain": [
       "[]"
      ]
     },
     "execution_count": 728,
     "metadata": {},
     "output_type": "execute_result"
    }
   ],
   "source": [
    "# Window to stream lagged log returns\n",
    "lags = LogReturnLags(3)\n",
    "# Create Account\n",
    "acc = TestAccount(Decimal(100.0))\n",
    "# Create strategy\n",
    "strat = BasicTakerStrat('BTCUSDT', model, lags, Decimal(1.0))\n",
    "\n",
    "# First 12 hour interval - 2025/10/20 00:00\n",
    "strat.on_tick(10.0, acc)"
   ]
  },
  {
   "cell_type": "code",
   "execution_count": 729,
   "id": "cea46a75",
   "metadata": {},
   "outputs": [
    {
     "data": {
      "text/plain": [
       "[]"
      ]
     },
     "execution_count": 729,
     "metadata": {},
     "output_type": "execute_result"
    }
   ],
   "source": [
    "# Second 12 hour interval - 2025/10/20 12:00\n",
    "strat.on_tick(120.0, acc)"
   ]
  },
  {
   "cell_type": "code",
   "execution_count": 730,
   "id": "758d5f70",
   "metadata": {},
   "outputs": [
    {
     "data": {
      "text/plain": [
       "[]"
      ]
     },
     "execution_count": 730,
     "metadata": {},
     "output_type": "execute_result"
    }
   ],
   "source": [
    "# Third 12 hour interval - 2025/10/21 00:00\n",
    "strat.on_tick(90.0, acc)"
   ]
  },
  {
   "cell_type": "code",
   "execution_count": 731,
   "id": "f5f1f9a6",
   "metadata": {},
   "outputs": [
    {
     "data": {
      "text/plain": [
       "[Order(sym='BTCUSDT', signed_qty=Decimal('1'))]"
      ]
     },
     "execution_count": 731,
     "metadata": {},
     "output_type": "execute_result"
    }
   ],
   "source": [
    "# Fourth 12 hour interval - 2025/10/21 12:00\n",
    "orders = strat.on_tick(100, acc)\n",
    "orders"
   ]
  },
  {
   "cell_type": "markdown",
   "id": "9925e197",
   "metadata": {},
   "source": [
    "### Execute Order"
   ]
  },
  {
   "cell_type": "code",
   "execution_count": 732,
   "id": "8fcc0849",
   "metadata": {},
   "outputs": [
    {
     "data": {
      "text/plain": [
       "Trade(sym='BTCUSDT', signed_qty=Decimal('1'), price=100, pnl=Decimal('0'))"
      ]
     },
     "execution_count": 732,
     "metadata": {},
     "output_type": "execute_result"
    }
   ],
   "source": [
    "exchange = TestExchange(acc)\n",
    "order = orders[0]\n",
    "exchange.market_order(order.sym, order.signed_qty, 100)"
   ]
  },
  {
   "cell_type": "code",
   "execution_count": 733,
   "id": "43e47bad",
   "metadata": {},
   "outputs": [
    {
     "data": {
      "text/plain": [
       "TestExchange(balance=100, positions={'BTCUSDT': Position(sym='BTCUSDT', signed_qty=Decimal('1'), price=100)}, trades=[Trade(sym='BTCUSDT', signed_qty=Decimal('1'), price=100, pnl=Decimal('0'))])"
      ]
     },
     "execution_count": 733,
     "metadata": {},
     "output_type": "execute_result"
    }
   ],
   "source": [
    "exchange"
   ]
  },
  {
   "cell_type": "code",
   "execution_count": 734,
   "id": "146567b0",
   "metadata": {},
   "outputs": [
    {
     "data": {
      "text/plain": [
       "[Order(sym='BTCUSDT', signed_qty=Decimal('-1')),\n",
       " Order(sym='BTCUSDT', signed_qty=Decimal('-0.7391304347826086956521739130'))]"
      ]
     },
     "execution_count": 734,
     "metadata": {},
     "output_type": "execute_result"
    }
   ],
   "source": [
    "orders = strat.on_tick(115, acc)\n",
    "orders"
   ]
  },
  {
   "cell_type": "code",
   "execution_count": 735,
   "id": "7eb15330",
   "metadata": {},
   "outputs": [
    {
     "data": {
      "text/plain": [
       "Trade(sym='BTCUSDT', signed_qty=Decimal('-1'), price=115, pnl=Decimal('15'))"
      ]
     },
     "execution_count": 735,
     "metadata": {},
     "output_type": "execute_result"
    }
   ],
   "source": [
    "order = orders[0]\n",
    "exchange.market_order(order.sym, order.signed_qty, 115)"
   ]
  },
  {
   "cell_type": "code",
   "execution_count": 736,
   "id": "027b5c23",
   "metadata": {},
   "outputs": [
    {
     "data": {
      "text/plain": [
       "TestExchange(balance=115, positions={}, trades=[Trade(sym='BTCUSDT', signed_qty=Decimal('1'), price=100, pnl=Decimal('0')), Trade(sym='BTCUSDT', signed_qty=Decimal('-1'), price=115, pnl=Decimal('15'))])"
      ]
     },
     "execution_count": 736,
     "metadata": {},
     "output_type": "execute_result"
    }
   ],
   "source": [
    "exchange"
   ]
  },
  {
   "cell_type": "code",
   "execution_count": 737,
   "id": "56fe23fa",
   "metadata": {},
   "outputs": [
    {
     "data": {
      "text/plain": [
       "Trade(sym='BTCUSDT', signed_qty=Decimal('-0.7391304347826086956521739130'), price=115, pnl=Decimal('0'))"
      ]
     },
     "execution_count": 737,
     "metadata": {},
     "output_type": "execute_result"
    }
   ],
   "source": [
    "order = orders[1]\n",
    "exchange.market_order(order.sym, order.signed_qty, 115)"
   ]
  },
  {
   "cell_type": "code",
   "execution_count": 738,
   "id": "02c00a0d",
   "metadata": {},
   "outputs": [
    {
     "data": {
      "text/plain": [
       "TestExchange(balance=115, positions={'BTCUSDT': Position(sym='BTCUSDT', signed_qty=Decimal('-0.7391304347826086956521739130'), price=115)}, trades=[Trade(sym='BTCUSDT', signed_qty=Decimal('1'), price=100, pnl=Decimal('0')), Trade(sym='BTCUSDT', signed_qty=Decimal('-1'), price=115, pnl=Decimal('15')), Trade(sym='BTCUSDT', signed_qty=Decimal('-0.7391304347826086956521739130'), price=115, pnl=Decimal('0'))])"
      ]
     },
     "execution_count": 738,
     "metadata": {},
     "output_type": "execute_result"
    }
   ],
   "source": [
    "exchange"
   ]
  },
  {
   "cell_type": "code",
   "execution_count": 739,
   "id": "00a0dc13",
   "metadata": {},
   "outputs": [
    {
     "data": {
      "text/plain": [
       "[Order(sym='BTCUSDT', signed_qty=Decimal('0.7391304347826086956521739130')),\n",
       " Order(sym='BTCUSDT', signed_qty=Decimal('1.039130434782608695652173913'))]"
      ]
     },
     "execution_count": 739,
     "metadata": {},
     "output_type": "execute_result"
    }
   ],
   "source": [
    "orders = strat.on_tick(100, acc)\n",
    "orders"
   ]
  },
  {
   "cell_type": "code",
   "execution_count": 740,
   "id": "2212416f",
   "metadata": {},
   "outputs": [
    {
     "data": {
      "text/plain": [
       "Trade(sym='BTCUSDT', signed_qty=Decimal('0.7391304347826086956521739130'), price=100, pnl=Decimal('11.08695652173913043478260870'))"
      ]
     },
     "execution_count": 740,
     "metadata": {},
     "output_type": "execute_result"
    }
   ],
   "source": [
    "order = orders[0]\n",
    "exchange.market_order(order.sym, order.signed_qty, 100)"
   ]
  },
  {
   "cell_type": "code",
   "execution_count": 741,
   "id": "8a81ae04",
   "metadata": {},
   "outputs": [
    {
     "data": {
      "text/plain": [
       "TestExchange(balance=126.0869565217391304347826087, positions={}, trades=[Trade(sym='BTCUSDT', signed_qty=Decimal('1'), price=100, pnl=Decimal('0')), Trade(sym='BTCUSDT', signed_qty=Decimal('-1'), price=115, pnl=Decimal('15')), Trade(sym='BTCUSDT', signed_qty=Decimal('-0.7391304347826086956521739130'), price=115, pnl=Decimal('0')), Trade(sym='BTCUSDT', signed_qty=Decimal('0.7391304347826086956521739130'), price=100, pnl=Decimal('11.08695652173913043478260870'))])"
      ]
     },
     "execution_count": 741,
     "metadata": {},
     "output_type": "execute_result"
    }
   ],
   "source": [
    "exchange"
   ]
  },
  {
   "cell_type": "code",
   "execution_count": 742,
   "id": "7fb14f95",
   "metadata": {},
   "outputs": [
    {
     "data": {
      "text/plain": [
       "Trade(sym='BTCUSDT', signed_qty=Decimal('1.039130434782608695652173913'), price=100, pnl=Decimal('0'))"
      ]
     },
     "execution_count": 742,
     "metadata": {},
     "output_type": "execute_result"
    }
   ],
   "source": [
    "order = orders[1]\n",
    "exchange.market_order(order.sym, order.signed_qty, 100)"
   ]
  },
  {
   "cell_type": "code",
   "execution_count": 743,
   "id": "fbb673ae",
   "metadata": {},
   "outputs": [
    {
     "data": {
      "text/plain": [
       "TestExchange(balance=126.0869565217391304347826087, positions={'BTCUSDT': Position(sym='BTCUSDT', signed_qty=Decimal('1.039130434782608695652173913'), price=100)}, trades=[Trade(sym='BTCUSDT', signed_qty=Decimal('1'), price=100, pnl=Decimal('0')), Trade(sym='BTCUSDT', signed_qty=Decimal('-1'), price=115, pnl=Decimal('15')), Trade(sym='BTCUSDT', signed_qty=Decimal('-0.7391304347826086956521739130'), price=115, pnl=Decimal('0')), Trade(sym='BTCUSDT', signed_qty=Decimal('0.7391304347826086956521739130'), price=100, pnl=Decimal('11.08695652173913043478260870')), Trade(sym='BTCUSDT', signed_qty=Decimal('1.039130434782608695652173913'), price=100, pnl=Decimal('0'))])"
      ]
     },
     "execution_count": 743,
     "metadata": {},
     "output_type": "execute_result"
    }
   ],
   "source": [
    "exchange"
   ]
  }
 ],
 "metadata": {
  "kernelspec": {
   "display_name": "research",
   "language": "python",
   "name": "python3"
  },
  "language_info": {
   "codemirror_mode": {
    "name": "ipython",
    "version": 3
   },
   "file_extension": ".py",
   "mimetype": "text/x-python",
   "name": "python",
   "nbconvert_exporter": "python",
   "pygments_lexer": "ipython3",
   "version": "3.12.8"
  }
 },
 "nbformat": 4,
 "nbformat_minor": 5
}
