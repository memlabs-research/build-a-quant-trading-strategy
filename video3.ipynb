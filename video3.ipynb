{
 "cells": [
  {
   "cell_type": "markdown",
   "id": "0a7adc3a",
   "metadata": {},
   "source": [
    "# Let's Build a Quant Trading Strategy - Part 3"
   ]
  },
  {
   "cell_type": "code",
   "execution_count": 1038,
   "id": "a3904431",
   "metadata": {},
   "outputs": [],
   "source": [
    "# y_hat = model(x)\n",
    "# orders = strategy(y_hat)\n",
    "# execute(orders)"
   ]
  },
  {
   "cell_type": "code",
   "execution_count": 1039,
   "id": "9a85e197",
   "metadata": {},
   "outputs": [],
   "source": [
    "# 1st video = Research\n",
    "# 2nd video = Strategy\n",
    "# 3rd video = Implementation\n",
    "\n",
    "# I strongly recommend to watch the first and second video (but I must warn you that they are long videos!)"
   ]
  },
  {
   "cell_type": "code",
   "execution_count": 1040,
   "id": "d3b6cb8e",
   "metadata": {},
   "outputs": [],
   "source": [
    "# By the end of this video, we will have coded everything all together and put it live!\n",
    "# Put it live with real money and see what happens.\n",
    "# I will do a follow up video to see how it performs. \n",
    "# Even if it doesn't perform as expected, we can learn from it. \n",
    "# We might experience model drift - where where the pattern it learned starts to no longer hold true. \n",
    "# You might hear this be called alpha decay - which is your profits decay because of model drift. \n",
    "# So even if the pattern lose persistence; we can learn from it. For example, using sliding window instead and retrain.\n"
   ]
  },
  {
   "cell_type": "markdown",
   "id": "878cea90",
   "metadata": {},
   "source": [
    "Goals:\n",
    "\n",
    "1. Code it all together and put it live.\n",
    "2. Show you how to build the architecture of a trading system \n",
    "3. Learn how to stream exchange data efficiently and react to events."
   ]
  },
  {
   "cell_type": "code",
   "execution_count": 1041,
   "id": "a73be94f",
   "metadata": {},
   "outputs": [],
   "source": [
    "# This will video will be more software engineering now as we have to code it all together.\n",
    "\n",
    "# 1. Ability to stream data from the exchange efficiently - just like Netflix - \n",
    "# Netflix intelligently buffers the data - you never have to wait for Netflix to download the next scenes - it's all seamless\n",
    "# Our system needs to stream data seamlessly\n",
    "# Our system needs to react to the prices - events\n",
    "# Our system needs to handle events\n"
   ]
  },
  {
   "cell_type": "markdown",
   "id": "34a27150",
   "metadata": {},
   "source": [
    "## Recap"
   ]
  },
  {
   "cell_type": "markdown",
   "id": "841a53f5",
   "metadata": {},
   "source": [
    "### Part 1: Research"
   ]
  },
  {
   "cell_type": "code",
   "execution_count": 1042,
   "id": "d4b14047",
   "metadata": {},
   "outputs": [
    {
     "data": {
      "text/plain": [
       "LinearModel(\n",
       "  (linear): Linear(in_features=3, out_features=1, bias=True)\n",
       ")"
      ]
     },
     "execution_count": 1042,
     "metadata": {},
     "output_type": "execute_result"
    }
   ],
   "source": [
    "import models\n",
    "import torch\n",
    "import research\n",
    "\n",
    "model = models.LinearModel(3)\n",
    "# security alert \n",
    "model.load_state_dict(torch.load('model_weights.pth', weights_only=True))\n",
    "model.eval()"
   ]
  },
  {
   "cell_type": "markdown",
   "id": "fcd8f62b",
   "metadata": {},
   "source": [
    "### AR(3) Model - 12h forecast horizon"
   ]
  },
  {
   "cell_type": "code",
   "execution_count": 1043,
   "id": "96ebd2b8",
   "metadata": {},
   "outputs": [
    {
     "name": "stdout",
     "output_type": "stream",
     "text": [
      "linear.weight:\n",
      "[[-0.10395038 -0.06726477  0.02827305]]\n",
      "linear.bias:\n",
      "[0.00067121]\n"
     ]
    }
   ],
   "source": [
    "research.print_model_params(model)"
   ]
  },
  {
   "cell_type": "markdown",
   "id": "af754d3c",
   "metadata": {},
   "source": [
    "### Part 2: Strategy Recap"
   ]
  },
  {
   "cell_type": "code",
   "execution_count": 1044,
   "id": "d46e276e",
   "metadata": {},
   "outputs": [],
   "source": [
    "# Showed a strategy that generates ~14% without any optimization.\n",
    "# I then showed used some strategy decisions that turned that 14% to >40% optimization \n",
    "# The reason for the huge increase in returns were a combination:\n",
    "# 1. Model's statistical edge 2. Compounding Trade Sizing 3. Leverage\n",
    "\n"
   ]
  },
  {
   "cell_type": "markdown",
   "id": "21a3379a",
   "metadata": {},
   "source": [
    "## The fundamental building block: Tick"
   ]
  },
  {
   "cell_type": "code",
   "execution_count": 1045,
   "id": "4e827841",
   "metadata": {},
   "outputs": [],
   "source": [
    "from abc import ABC, abstractmethod\n",
    "from typing import Generic, TypeVar\n",
    "\n",
    "T = TypeVar('T')  # input type\n",
    "R = TypeVar('R')  # output type\n",
    "\n",
    "class Tick(ABC, Generic[T, R]):\n",
    "    @abstractmethod\n",
    "    def on_tick(self, val: T) -> R:\n",
    "        \"\"\"Handle a new tick and optionally return a result.\"\"\"\n",
    "        pass"
   ]
  },
  {
   "cell_type": "markdown",
   "id": "6d6374a7",
   "metadata": {},
   "source": [
    "## The fundamental data structure: Window"
   ]
  },
  {
   "cell_type": "code",
   "execution_count": 1046,
   "id": "98a1285c",
   "metadata": {},
   "outputs": [],
   "source": [
    "from collections import deque\n",
    "from typing import Deque, Optional\n",
    "\n",
    "class DequeWindow(Tick[T, Optional[T]], Generic[T]):\n",
    "    def __init__(self, n: int):\n",
    "        self._data: Deque[T] = deque(maxlen=n)\n",
    "\n",
    "    def on_tick(self, val: T) -> Optional[T]:\n",
    "        \"\"\"Append a value and return the oldest value dropped (if any).\"\"\"\n",
    "        dropped = None\n",
    "        if len(self._data) == self.capacity():\n",
    "            dropped = self._data[0]\n",
    "        self._data.append(val)\n",
    "        return dropped\n",
    "\n",
    "    def capacity(self) -> int:\n",
    "        n = self._data.maxlen\n",
    "        return 0 if n is None else n\n",
    "    \n",
    "    def is_full(self) -> bool:\n",
    "        return self._data.maxlen == len(self._data)\n",
    "    \n",
    "    def __repr__(self) -> str:\n",
    "        cls_name = self.__class__.__name__\n",
    "        return f\"{cls_name}(capacity={self._data.maxlen}, values={list(self._data)})\""
   ]
  },
  {
   "cell_type": "markdown",
   "id": "2b475d85",
   "metadata": {},
   "source": [
    "### Streaming Example: Sliding Window"
   ]
  },
  {
   "cell_type": "code",
   "execution_count": 1047,
   "id": "53224848",
   "metadata": {},
   "outputs": [
    {
     "data": {
      "text/plain": [
       "DequeWindow(capacity=3, values=[1])"
      ]
     },
     "execution_count": 1047,
     "metadata": {},
     "output_type": "execute_result"
    }
   ],
   "source": [
    "w = DequeWindow(3)\n",
    "w.on_tick(1)\n",
    "w"
   ]
  },
  {
   "cell_type": "code",
   "execution_count": 1048,
   "id": "3857eef2",
   "metadata": {},
   "outputs": [
    {
     "data": {
      "text/plain": [
       "DequeWindow(capacity=3, values=[1, 2])"
      ]
     },
     "execution_count": 1048,
     "metadata": {},
     "output_type": "execute_result"
    }
   ],
   "source": [
    "w = DequeWindow(3)\n",
    "w.on_tick(1)\n",
    "w.on_tick(2)\n",
    "w"
   ]
  },
  {
   "cell_type": "code",
   "execution_count": 1049,
   "id": "8ac266cf",
   "metadata": {},
   "outputs": [
    {
     "data": {
      "text/plain": [
       "DequeWindow(capacity=3, values=[1, 2, 3])"
      ]
     },
     "execution_count": 1049,
     "metadata": {},
     "output_type": "execute_result"
    }
   ],
   "source": [
    "w = DequeWindow(3)\n",
    "w.on_tick(1)\n",
    "w.on_tick(2)\n",
    "w.on_tick(3)\n",
    "w\n"
   ]
  },
  {
   "cell_type": "code",
   "execution_count": 1050,
   "id": "efd59cd8",
   "metadata": {},
   "outputs": [
    {
     "data": {
      "text/plain": [
       "(1, DequeWindow(capacity=3, values=[2, 3, 4]))"
      ]
     },
     "execution_count": 1050,
     "metadata": {},
     "output_type": "execute_result"
    }
   ],
   "source": [
    "w = DequeWindow(3)\n",
    "w.on_tick(1)\n",
    "w.on_tick(2)\n",
    "w.on_tick(3)\n",
    "old_v = w.on_tick(4)\n",
    "\n",
    "(old_v, w)"
   ]
  },
  {
   "cell_type": "code",
   "execution_count": 1051,
   "id": "628f12fd",
   "metadata": {},
   "outputs": [
    {
     "data": {
      "text/plain": [
       "(2, DequeWindow(capacity=3, values=[3, 4, 5]))"
      ]
     },
     "execution_count": 1051,
     "metadata": {},
     "output_type": "execute_result"
    }
   ],
   "source": [
    "w = DequeWindow(3)\n",
    "w.on_tick(1)\n",
    "w.on_tick(2)\n",
    "w.on_tick(3)\n",
    "w.on_tick(4)\n",
    "old_v = w.on_tick(5)\n",
    "\n",
    "(old_v, w)"
   ]
  },
  {
   "cell_type": "markdown",
   "id": "655b1086",
   "metadata": {},
   "source": [
    "### Array-based Window"
   ]
  },
  {
   "cell_type": "code",
   "execution_count": 1052,
   "id": "24cf99f3",
   "metadata": {},
   "outputs": [],
   "source": [
    "import numpy as np\n",
    "from typing import Optional\n",
    "\n",
    "class NumpyWindow(Tick[T, Optional[T]]):\n",
    "    \"\"\"Fixed-capacity sliding window for scalar values using a NumPy array (shift on append).\"\"\"\n",
    "\n",
    "    def __init__(self, n: int, dtype=np.float64):\n",
    "        if n <= 0:\n",
    "            raise ValueError(\"Capacity must be positive.\")\n",
    "        self._capacity = n\n",
    "        self._data = np.zeros(n, dtype=dtype)\n",
    "        self._size = 0\n",
    "\n",
    "    def on_tick(self, val: float) -> Optional[float]:\n",
    "        \"\"\"\n",
    "        Append a scalar value and return the oldest value dropped (if any).\n",
    "        \"\"\"\n",
    "        val = float(val)\n",
    "        dropped = None\n",
    "\n",
    "        if self._size < self._capacity:\n",
    "            self._data[self._size] = val\n",
    "            self._size += 1\n",
    "        else:\n",
    "            # buffer full: drop oldest and shift left\n",
    "            dropped = self._data[0]\n",
    "            self._data[:-1] = self._data[1:]  # shift left\n",
    "            self._data[-1] = val\n",
    "\n",
    "        return dropped\n",
    "\n",
    "    def append_left(self, val: float) -> Optional[float]:\n",
    "        \"\"\"\n",
    "        Append a scalar value to the **front** (left) of the buffer.\n",
    "        Shifts all elements right by one and drops the newest (rightmost) if full.\n",
    "        \"\"\"\n",
    "        val = float(val)\n",
    "        dropped = None\n",
    "\n",
    "        if self._size < self._capacity:\n",
    "            # Shift right only the valid region\n",
    "            if self._size > 0:\n",
    "                self._data[1:self._size + 1] = self._data[:self._size]\n",
    "            self._data[0] = val\n",
    "            self._size += 1\n",
    "        else:\n",
    "            # Drop newest (rightmost) value\n",
    "            dropped = self._data[self._size - 1]\n",
    "            self._data[1:] = self._data[:-1]  # shift right\n",
    "            self._data[0] = val\n",
    "\n",
    "        return dropped\n",
    "\n",
    "    def __getitem__(self, idx: int) -> float:\n",
    "        \"\"\"Index access (0 = oldest).\"\"\"\n",
    "        if not 0 <= idx < self._size:\n",
    "            raise IndexError(\"Index out of range.\")\n",
    "        return self._data[idx]\n",
    "\n",
    "    def __len__(self) -> int:\n",
    "        return self._size\n",
    "\n",
    "    def capacity(self) -> int:\n",
    "        return self._capacity\n",
    "\n",
    "    def is_full(self) -> bool:\n",
    "        return self._size == self._capacity\n",
    "\n",
    "    def values(self) -> np.ndarray:\n",
    "        \"\"\"Return current valid values as a contiguous 1D array (no copy needed).\"\"\"\n",
    "        return self._data[:self._size]\n",
    "\n",
    "    def __repr__(self) -> str:\n",
    "        vals = self.values().tolist()\n",
    "        return f\"{self.__class__.__name__}(capacity={self._capacity}, size={self._size}, values={vals})\"\n"
   ]
  },
  {
   "cell_type": "markdown",
   "id": "8863d938",
   "metadata": {},
   "source": [
    "### Streaming Example: Numpy Sliding Window"
   ]
  },
  {
   "cell_type": "code",
   "execution_count": 1053,
   "id": "e467e914",
   "metadata": {},
   "outputs": [
    {
     "data": {
      "text/plain": [
       "NumpyWindow(capacity=3, size=1, values=[1.0])"
      ]
     },
     "execution_count": 1053,
     "metadata": {},
     "output_type": "execute_result"
    }
   ],
   "source": [
    "w = NumpyWindow(3)\n",
    "w.on_tick(1)\n",
    "w"
   ]
  },
  {
   "cell_type": "code",
   "execution_count": 1054,
   "id": "3ab739f1",
   "metadata": {},
   "outputs": [
    {
     "data": {
      "text/plain": [
       "NumpyWindow(capacity=3, size=2, values=[1.0, 2.0])"
      ]
     },
     "execution_count": 1054,
     "metadata": {},
     "output_type": "execute_result"
    }
   ],
   "source": [
    "w = NumpyWindow(3)\n",
    "w.on_tick(1)\n",
    "w.on_tick(2)\n",
    "w"
   ]
  },
  {
   "cell_type": "code",
   "execution_count": 1055,
   "id": "1e13c489",
   "metadata": {},
   "outputs": [
    {
     "data": {
      "text/plain": [
       "NumpyWindow(capacity=3, size=3, values=[1.0, 2.0, 3.0])"
      ]
     },
     "execution_count": 1055,
     "metadata": {},
     "output_type": "execute_result"
    }
   ],
   "source": [
    "w = NumpyWindow(3)\n",
    "w.on_tick(1)\n",
    "w.on_tick(2)\n",
    "w.on_tick(3)\n",
    "w"
   ]
  },
  {
   "cell_type": "code",
   "execution_count": 1056,
   "id": "0f9d7df6",
   "metadata": {},
   "outputs": [
    {
     "data": {
      "text/plain": [
       "(np.float64(1.0), NumpyWindow(capacity=3, size=3, values=[2.0, 3.0, 4.0]))"
      ]
     },
     "execution_count": 1056,
     "metadata": {},
     "output_type": "execute_result"
    }
   ],
   "source": [
    "w = NumpyWindow(3)\n",
    "w.on_tick(1)\n",
    "w.on_tick(2)\n",
    "w.on_tick(3)\n",
    "v = w.on_tick(4)\n",
    "(v, w)"
   ]
  },
  {
   "cell_type": "markdown",
   "id": "1e8d1174",
   "metadata": {},
   "source": [
    "### Streaming the Last Known Value (To Track Close Price)"
   ]
  },
  {
   "cell_type": "code",
   "execution_count": 1057,
   "id": "3a76d325",
   "metadata": {},
   "outputs": [],
   "source": [
    "class Last(Tick[T, T], Generic[T]):\n",
    "    def __init__(self):\n",
    "        self._value: Optional[T] = None\n",
    "\n",
    "    def on_tick(self, val: T) -> Optional[T]:\n",
    "        \"\"\"Append a value and return the oldest value dropped (if any).\"\"\"\n",
    "        self._value = val\n",
    "        return val\n",
    "\n",
    "    def __repr__(self) -> str:\n",
    "        cls_name = self.__class__.__name__\n",
    "        return f\"{cls_name}(value={self._value})\""
   ]
  },
  {
   "cell_type": "markdown",
   "id": "03e4e203",
   "metadata": {},
   "source": [
    "### Streaming Example: Last Value"
   ]
  },
  {
   "cell_type": "code",
   "execution_count": 1058,
   "id": "16f41c41",
   "metadata": {},
   "outputs": [
    {
     "data": {
      "text/plain": [
       "Last(value=None)"
      ]
     },
     "execution_count": 1058,
     "metadata": {},
     "output_type": "execute_result"
    }
   ],
   "source": [
    "last_val = Last()\n",
    "last_val"
   ]
  },
  {
   "cell_type": "code",
   "execution_count": 1059,
   "id": "15a0ee50",
   "metadata": {},
   "outputs": [
    {
     "data": {
      "text/plain": [
       "Last(value=3)"
      ]
     },
     "execution_count": 1059,
     "metadata": {},
     "output_type": "execute_result"
    }
   ],
   "source": [
    "last_val = Last()\n",
    "last_val.on_tick(1)\n",
    "last_val.on_tick(2)\n",
    "last_val.on_tick(3)\n",
    "last_val"
   ]
  },
  {
   "cell_type": "markdown",
   "id": "1e706e28",
   "metadata": {},
   "source": [
    "### Streaming Log Returns"
   ]
  },
  {
   "cell_type": "markdown",
   "id": "a6abf8a0",
   "metadata": {},
   "source": [
    "#### Quick Log Returns Recap"
   ]
  },
  {
   "cell_type": "code",
   "execution_count": 1060,
   "id": "843f596b",
   "metadata": {},
   "outputs": [
    {
     "data": {
      "text/plain": [
       "[np.float64(0.1823215567939546), np.float64(-0.1823215567939546)]"
      ]
     },
     "execution_count": 1060,
     "metadata": {},
     "output_type": "execute_result"
    }
   ],
   "source": [
    "portfolio_values = [100, 120, 100]\n",
    "log_returns = [\n",
    "    np.log(portfolio_values[1]/portfolio_values[0]), \n",
    "    np.log(portfolio_values[2]/portfolio_values[1]), \n",
    "]\n",
    "log_returns"
   ]
  },
  {
   "cell_type": "code",
   "execution_count": 1061,
   "id": "8c7b8218",
   "metadata": {},
   "outputs": [
    {
     "data": {
      "text/plain": [
       "np.float64(0.0)"
      ]
     },
     "execution_count": 1061,
     "metadata": {},
     "output_type": "execute_result"
    }
   ],
   "source": [
    "np.sum(log_returns)"
   ]
  },
  {
   "cell_type": "code",
   "execution_count": 1062,
   "id": "44573b13",
   "metadata": {},
   "outputs": [],
   "source": [
    "\n",
    "import numpy as np\n",
    "\n",
    "class LogReturn(Tick[float, float], Generic[T]):\n",
    "    def __init__(self):\n",
    "        self._window = NumpyWindow(2)\n",
    "\n",
    "    def on_tick(self, val: float) -> Optional[float]:\n",
    "        self._window.on_tick(val)\n",
    "        if self._window.is_full():\n",
    "            return np.log(self._window[1] / self._window[0])\n",
    "        else:\n",
    "            return None\n",
    "        \n",
    "    def __repr__(self) -> str:\n",
    "        cls_name = self.__class__.__name__\n",
    "        return f\"{cls_name}(window={self._window})\"        \n",
    "    "
   ]
  },
  {
   "cell_type": "markdown",
   "id": "3e4ecaa3",
   "metadata": {},
   "source": [
    "### Streaming Example: Log Returns"
   ]
  },
  {
   "cell_type": "code",
   "execution_count": 1063,
   "id": "8d9f8745",
   "metadata": {},
   "outputs": [
    {
     "data": {
      "text/plain": [
       "LogReturn(window=NumpyWindow(capacity=2, size=1, values=[90.0]))"
      ]
     },
     "execution_count": 1063,
     "metadata": {},
     "output_type": "execute_result"
    }
   ],
   "source": [
    "f = LogReturn()\n",
    "f.on_tick(90.0)\n",
    "f"
   ]
  },
  {
   "cell_type": "code",
   "execution_count": 1064,
   "id": "3281af7f",
   "metadata": {},
   "outputs": [
    {
     "data": {
      "text/plain": [
       "(np.float64(0.10536051565782635),\n",
       " LogReturn(window=NumpyWindow(capacity=2, size=2, values=[90.0, 100.0])))"
      ]
     },
     "execution_count": 1064,
     "metadata": {},
     "output_type": "execute_result"
    }
   ],
   "source": [
    "f = LogReturn()\n",
    "f.on_tick(90.0)\n",
    "v = f.on_tick(100.0)\n",
    "(v, f)"
   ]
  },
  {
   "cell_type": "code",
   "execution_count": 1065,
   "id": "cb51350e",
   "metadata": {},
   "outputs": [
    {
     "data": {
      "text/plain": [
       "np.float64(0.10536051565782635)"
      ]
     },
     "execution_count": 1065,
     "metadata": {},
     "output_type": "execute_result"
    }
   ],
   "source": [
    "np.log(100/90)"
   ]
  },
  {
   "cell_type": "code",
   "execution_count": 1066,
   "id": "7e193601",
   "metadata": {},
   "outputs": [
    {
     "data": {
      "text/plain": [
       "(np.float64(0.4054651081081644),\n",
       " LogReturn(window=NumpyWindow(capacity=2, size=2, values=[100.0, 150.0])))"
      ]
     },
     "execution_count": 1066,
     "metadata": {},
     "output_type": "execute_result"
    }
   ],
   "source": [
    "f = LogReturn()\n",
    "f.on_tick(90.0)\n",
    "f.on_tick(100.0)\n",
    "v = f.on_tick(150.0)\n",
    "(v, f)"
   ]
  },
  {
   "cell_type": "code",
   "execution_count": 1067,
   "id": "44b73044",
   "metadata": {},
   "outputs": [
    {
     "data": {
      "text/plain": [
       "np.float64(0.4054651081081644)"
      ]
     },
     "execution_count": 1067,
     "metadata": {},
     "output_type": "execute_result"
    }
   ],
   "source": [
    "np.log(150/100)"
   ]
  },
  {
   "cell_type": "markdown",
   "id": "3d8e7bc9",
   "metadata": {},
   "source": [
    "### Streaming Auto-Regressive Log Returns Lags"
   ]
  },
  {
   "cell_type": "markdown",
   "id": "483b9eca",
   "metadata": {},
   "source": [
    "#### Auto-Regression Recap"
   ]
  },
  {
   "cell_type": "code",
   "execution_count": 1068,
   "id": "2b5f118d",
   "metadata": {},
   "outputs": [
    {
     "data": {
      "text/plain": [
       "-0.3"
      ]
     },
     "execution_count": 1068,
     "metadata": {},
     "output_type": "execute_result"
    }
   ],
   "source": [
    "time_series = [0.1, -0.2, -0.3]\n",
    "lag_1 = time_series[-1]\n",
    "lag_1"
   ]
  },
  {
   "cell_type": "code",
   "execution_count": 1069,
   "id": "1de389eb",
   "metadata": {},
   "outputs": [],
   "source": [
    "lag_1 = time_series[-2]"
   ]
  },
  {
   "cell_type": "code",
   "execution_count": 1070,
   "id": "0de2fd08",
   "metadata": {},
   "outputs": [],
   "source": [
    "\n",
    "class LogReturnLags(Tick[float, torch.Tensor]):\n",
    "    def __init__(self, no_lags: int):\n",
    "        self._lags = NumpyWindow(no_lags)\n",
    "        self._log_return = LogReturn()\n",
    "    \n",
    "    def on_tick(self, val: float) -> torch.Tensor | None:\n",
    "        log_ret = self._log_return.on_tick(val)\n",
    "        if log_ret is not None:\n",
    "            self._lags.append_left(log_ret)\n",
    "            return torch.tensor(self._lags.values(), dtype=torch.float32) if self._lags.is_full() else None\n",
    "        else:\n",
    "            return None\n",
    "        \n",
    "    def __repr__(self) -> str:\n",
    "        cls_name = self.__class__.__name__\n",
    "        return f\"{cls_name}(lags={self._lags}, log_return={self._log_return})\" "
   ]
  },
  {
   "cell_type": "markdown",
   "id": "66e814d5",
   "metadata": {},
   "source": [
    "### Streaming Example: Auto-Regressive Log Returns"
   ]
  },
  {
   "cell_type": "code",
   "execution_count": 1071,
   "id": "b847a140",
   "metadata": {},
   "outputs": [],
   "source": [
    "lags = LogReturnLags(3)\n",
    "v = lags.on_tick(90)\n",
    "v"
   ]
  },
  {
   "cell_type": "code",
   "execution_count": 1072,
   "id": "9cc40801",
   "metadata": {},
   "outputs": [],
   "source": [
    "lags = LogReturnLags(3)\n",
    "lags.on_tick(90)\n",
    "lags.on_tick(100)\n"
   ]
  },
  {
   "cell_type": "code",
   "execution_count": 1073,
   "id": "52c76602",
   "metadata": {},
   "outputs": [],
   "source": [
    "lags = LogReturnLags(3)\n",
    "lags.on_tick(90)\n",
    "lags.on_tick(100)\n",
    "lags.on_tick(150)"
   ]
  },
  {
   "cell_type": "code",
   "execution_count": 1074,
   "id": "5943a6a2",
   "metadata": {},
   "outputs": [
    {
     "data": {
      "text/plain": [
       "tensor([-0.3102,  0.4055,  0.1054])"
      ]
     },
     "execution_count": 1074,
     "metadata": {},
     "output_type": "execute_result"
    }
   ],
   "source": [
    "lags = LogReturnLags(3)\n",
    "lags.on_tick(90)\n",
    "lags.on_tick(100)\n",
    "lags.on_tick(150)\n",
    "lags.on_tick(110)"
   ]
  },
  {
   "cell_type": "code",
   "execution_count": 1075,
   "id": "ac8eb056",
   "metadata": {},
   "outputs": [
    {
     "data": {
      "text/plain": [
       "tensor([ 0.3747, -0.3102,  0.4055])"
      ]
     },
     "execution_count": 1075,
     "metadata": {},
     "output_type": "execute_result"
    }
   ],
   "source": [
    "lags = LogReturnLags(3)\n",
    "lags.on_tick(90)\n",
    "lags.on_tick(100)\n",
    "lags.on_tick(150)\n",
    "lags.on_tick(110)\n",
    "features = lags.on_tick(160)\n",
    "features"
   ]
  },
  {
   "cell_type": "markdown",
   "id": "bd567f8b",
   "metadata": {},
   "source": [
    "### Example: Streaming the Features into our Model "
   ]
  },
  {
   "cell_type": "code",
   "execution_count": 1076,
   "id": "e0126aac",
   "metadata": {},
   "outputs": [
    {
     "data": {
      "text/plain": [
       "LinearModel(\n",
       "  (linear): Linear(in_features=3, out_features=1, bias=True)\n",
       ")"
      ]
     },
     "execution_count": 1076,
     "metadata": {},
     "output_type": "execute_result"
    }
   ],
   "source": [
    "import models\n",
    "model = models.LinearModel(3)\n",
    "# security alert \n",
    "model.load_state_dict(torch.load('model_weights.pth', weights_only=True))\n",
    "model.eval()"
   ]
  },
  {
   "cell_type": "code",
   "execution_count": 1077,
   "id": "87c1d5e4",
   "metadata": {},
   "outputs": [
    {
     "name": "stderr",
     "output_type": "stream",
     "text": [
      "/var/folders/76/9jsfkv6171g18thlymfk4w200000gn/T/ipykernel_60492/487570526.py:1: UserWarning: To copy construct from a tensor, it is recommended to use sourceTensor.detach().clone() or sourceTensor.detach().clone().requires_grad_(True), rather than torch.tensor(sourceTensor).\n",
      "  X = torch.tensor(features, dtype=torch.float32)\n"
     ]
    },
    {
     "data": {
      "text/plain": [
       "tensor([ 0.3747, -0.3102,  0.4055])"
      ]
     },
     "execution_count": 1077,
     "metadata": {},
     "output_type": "execute_result"
    }
   ],
   "source": [
    "X = torch.tensor(features, dtype=torch.float32)\n",
    "X"
   ]
  },
  {
   "cell_type": "code",
   "execution_count": 1078,
   "id": "bf8bf071",
   "metadata": {},
   "outputs": [
    {
     "data": {
      "text/plain": [
       "tensor([-0.0060], grad_fn=<ViewBackward0>)"
      ]
     },
     "execution_count": 1078,
     "metadata": {},
     "output_type": "execute_result"
    }
   ],
   "source": [
    "y_hat = model(X)\n",
    "y_hat"
   ]
  },
  {
   "cell_type": "code",
   "execution_count": 1079,
   "id": "97f1b668",
   "metadata": {},
   "outputs": [
    {
     "data": {
      "text/plain": [
       "tensor(-0.0060, grad_fn=<SelectBackward0>)"
      ]
     },
     "execution_count": 1079,
     "metadata": {},
     "output_type": "execute_result"
    }
   ],
   "source": [
    "y_hat[0]"
   ]
  },
  {
   "cell_type": "markdown",
   "id": "87936f7f",
   "metadata": {},
   "source": [
    "### Build The Trading System"
   ]
  },
  {
   "cell_type": "code",
   "execution_count": 1080,
   "id": "0a20a391",
   "metadata": {},
   "outputs": [],
   "source": [
    "from decimal import Decimal\n",
    "from typing import Dict, List\n",
    "from dataclasses import dataclass\n",
    "import torch.nn as nn\n",
    "import polars as pl\n",
    "\n",
    "@dataclass(frozen=True)\n",
    "class Order:\n",
    "    sym: str\n",
    "    signed_val: Decimal\n",
    "\n",
    "    def __str__(self) -> str:\n",
    "        sign = \"BUY\" if self.signed_qty > 0 else \"SELL\"\n",
    "        return f\"Order({sign} {abs(self.signed_val)} {self.sym})\"\n",
    "\n",
    "@dataclass(frozen=True)\n",
    "class Trade:\n",
    "    sym: str\n",
    "    signed_qty: Decimal\n",
    "    price: Decimal\n",
    "    value: Decimal\n",
    "\n",
    "    def __str__(self) -> str:\n",
    "        sign = \"BUY\" if self.signed_qty > 0 else \"SELL\"\n",
    "        return f\"Trade({sign} {abs(self.signed_qty)} {self.sym} {self.price})\"\n",
    "\n",
    "\n",
    "@dataclass\n",
    "class Position:\n",
    "    sym: str\n",
    "    signed_qty: Decimal\n",
    "    price: Decimal\n",
    "\n",
    "    def close(self) -> \"Order\":\n",
    "        return Order(self.sym, -self.signed_qty)\n"
   ]
  },
  {
   "cell_type": "markdown",
   "id": "9dcfe34f",
   "metadata": {},
   "source": [
    "### Create Base Class for Market"
   ]
  },
  {
   "cell_type": "code",
   "execution_count": 1081,
   "id": "10d81c02",
   "metadata": {},
   "outputs": [],
   "source": [
    "from abc import ABC, abstractmethod\n",
    "from decimal import Decimal\n",
    "from typing import Dict\n",
    "\n",
    "class Account(ABC):\n",
    "    \"\"\"Abstract base class representing a trading account.\"\"\"\n",
    "\n",
    "    @abstractmethod\n",
    "    def balance(self) -> Decimal:\n",
    "        \"\"\"Return the current account balance.\"\"\"\n",
    "        pass\n",
    "\n",
    "    @abstractmethod\n",
    "    def market_order(self, sym: str, qty: Decimal, price: Decimal = None) -> \"Trade\":\n",
    "        \"\"\"Execute a market order and return a Trade result.\"\"\"\n",
    "        pass\n",
    "\n",
    "    @abstractmethod\n",
    "    def positions(self) -> Dict[str, \"Position\"]:\n",
    "        \"\"\"Return current open positions.\"\"\"\n",
    "        pass\n",
    "\n",
    "\n"
   ]
  },
  {
   "cell_type": "markdown",
   "id": "841ded63",
   "metadata": {},
   "source": [
    "### Create Test Account"
   ]
  },
  {
   "cell_type": "code",
   "execution_count": 1082,
   "id": "b3d2071d",
   "metadata": {},
   "outputs": [],
   "source": [
    "from decimal import Decimal\n",
    "from typing import Dict, Optional\n",
    "\n",
    "class TestAccount(Account):\n",
    "    \"\"\"A simulated account for testing or paper trading.\"\"\"\n",
    "\n",
    "    def __init__(self, time_series: pl.DataFrame, starting_balance: Decimal) -> None:\n",
    "        self._balance = starting_balance\n",
    "        self.time_series = time_series\n",
    "        self._positions: Dict[str, Position] = {}\n",
    "        self.counter: int = 0\n",
    "\n",
    "    def balance(self) -> Decimal:\n",
    "        return self._balance\n",
    "\n",
    "    def get_trade_price(self) -> Decimal:\n",
    "        price = self.time_series[\"close\"][self.counter]\n",
    "        self.counter += 1\n",
    "        return Decimal(price)\n",
    "\n",
    "    def market_order(self, sym: str, value: Decimal, price: Decimal = None) -> \"Trade\":\n",
    "        # Simulate a fill at fixed price\n",
    "        if price is None:\n",
    "            price = self.get_trade_price()\n",
    "        qty = value / price\n",
    "        \n",
    "        # Update balance and position\n",
    "        self._balance -= value\n",
    "        self._positions[sym] = Position(sym, qty, price)\n",
    "\n",
    "        return Trade(sym=sym, signed_qty=qty, price=price, value=qty*price)\n",
    "\n",
    "    def positions(self) -> Dict[str, \"Position\"]:\n",
    "        return self._positions\n",
    "    \n",
    "    def close_position(self, sym: str) -> Optional[Trade]:\n",
    "        position = self._positions.pop(sym, None)\n",
    "        return position.close() if position else None\n",
    "\n",
    "    def __repr__(self) -> str:\n",
    "        return f\"TestAccount(balance={self._balance}, positions={list(self._positions.keys())})\"\n"
   ]
  },
  {
   "cell_type": "markdown",
   "id": "5f192d00",
   "metadata": {},
   "source": [
    "### Test Market Order in Test Account"
   ]
  },
  {
   "cell_type": "code",
   "execution_count": 1083,
   "id": "700f4216",
   "metadata": {},
   "outputs": [
    {
     "data": {
      "text/html": [
       "<div><style>\n",
       ".dataframe > thead > tr,\n",
       ".dataframe > tbody > tr {\n",
       "  text-align: right;\n",
       "  white-space: pre-wrap;\n",
       "}\n",
       "</style>\n",
       "<small>shape: (692, 5)</small><table border=\"1\" class=\"dataframe\"><thead><tr><th>datetime</th><th>open</th><th>high</th><th>low</th><th>close</th></tr><tr><td>datetime[μs]</td><td>f64</td><td>f64</td><td>f64</td><td>f64</td></tr></thead><tbody><tr><td>2024-10-29 00:00:00</td><td>69939.9</td><td>71607.0</td><td>69733.0</td><td>71440.1</td></tr><tr><td>2024-10-29 12:00:00</td><td>71440.0</td><td>73660.0</td><td>70900.0</td><td>72739.5</td></tr><tr><td>2024-10-30 00:00:00</td><td>72739.5</td><td>72797.4</td><td>71931.1</td><td>71995.0</td></tr><tr><td>2024-10-30 12:00:00</td><td>71994.9</td><td>72984.9</td><td>71444.2</td><td>72349.0</td></tr><tr><td>2024-10-31 00:00:00</td><td>72349.0</td><td>72720.3</td><td>72030.5</td><td>72213.3</td></tr><tr><td>&hellip;</td><td>&hellip;</td><td>&hellip;</td><td>&hellip;</td><td>&hellip;</td></tr><tr><td>2025-10-07 12:00:00</td><td>124397.1</td><td>125098.0</td><td>120516.0</td><td>121286.5</td></tr><tr><td>2025-10-08 00:00:00</td><td>121286.6</td><td>123150.0</td><td>121005.3</td><td>122825.7</td></tr><tr><td>2025-10-08 12:00:00</td><td>122825.8</td><td>124170.6</td><td>121607.8</td><td>123237.5</td></tr><tr><td>2025-10-09 00:00:00</td><td>123237.4</td><td>123279.7</td><td>121081.5</td><td>122672.9</td></tr><tr><td>2025-10-09 12:00:00</td><td>122673.0</td><td>123740.1</td><td>119572.8</td><td>121579.3</td></tr></tbody></table></div>"
      ],
      "text/plain": [
       "shape: (692, 5)\n",
       "┌─────────────────────┬──────────┬──────────┬──────────┬──────────┐\n",
       "│ datetime            ┆ open     ┆ high     ┆ low      ┆ close    │\n",
       "│ ---                 ┆ ---      ┆ ---      ┆ ---      ┆ ---      │\n",
       "│ datetime[μs]        ┆ f64      ┆ f64      ┆ f64      ┆ f64      │\n",
       "╞═════════════════════╪══════════╪══════════╪══════════╪══════════╡\n",
       "│ 2024-10-29 00:00:00 ┆ 69939.9  ┆ 71607.0  ┆ 69733.0  ┆ 71440.1  │\n",
       "│ 2024-10-29 12:00:00 ┆ 71440.0  ┆ 73660.0  ┆ 70900.0  ┆ 72739.5  │\n",
       "│ 2024-10-30 00:00:00 ┆ 72739.5  ┆ 72797.4  ┆ 71931.1  ┆ 71995.0  │\n",
       "│ 2024-10-30 12:00:00 ┆ 71994.9  ┆ 72984.9  ┆ 71444.2  ┆ 72349.0  │\n",
       "│ 2024-10-31 00:00:00 ┆ 72349.0  ┆ 72720.3  ┆ 72030.5  ┆ 72213.3  │\n",
       "│ …                   ┆ …        ┆ …        ┆ …        ┆ …        │\n",
       "│ 2025-10-07 12:00:00 ┆ 124397.1 ┆ 125098.0 ┆ 120516.0 ┆ 121286.5 │\n",
       "│ 2025-10-08 00:00:00 ┆ 121286.6 ┆ 123150.0 ┆ 121005.3 ┆ 122825.7 │\n",
       "│ 2025-10-08 12:00:00 ┆ 122825.8 ┆ 124170.6 ┆ 121607.8 ┆ 123237.5 │\n",
       "│ 2025-10-09 00:00:00 ┆ 123237.4 ┆ 123279.7 ┆ 121081.5 ┆ 122672.9 │\n",
       "│ 2025-10-09 12:00:00 ┆ 122673.0 ┆ 123740.1 ┆ 119572.8 ┆ 121579.3 │\n",
       "└─────────────────────┴──────────┴──────────┴──────────┴──────────┘"
      ]
     },
     "execution_count": 1083,
     "metadata": {},
     "output_type": "execute_result"
    }
   ],
   "source": [
    "time_series = pl.read_csv('BTCUSDT_12h_ohlc.csv', try_parse_dates=True)\n",
    "time_series"
   ]
  },
  {
   "cell_type": "code",
   "execution_count": 1084,
   "id": "396d0ac6",
   "metadata": {},
   "outputs": [
    {
     "data": {
      "text/plain": [
       "Trade(sym='BTCUSDT', signed_qty=Decimal('0.001399774076464058586875473581'), price=Decimal('71440.10000000000582076609134674072265625'), value=Decimal('100.0000000000000000000000000'))"
      ]
     },
     "execution_count": 1084,
     "metadata": {},
     "output_type": "execute_result"
    }
   ],
   "source": [
    "# place market order\n",
    "acc = TestAccount(time_series, Decimal(100.0))\n",
    "acc.market_order('BTCUSDT', Decimal(100.0))"
   ]
  },
  {
   "cell_type": "markdown",
   "id": "b410143d",
   "metadata": {},
   "source": [
    "### Develop Strategy API"
   ]
  },
  {
   "cell_type": "code",
   "execution_count": null,
   "id": "8fb2e8d3",
   "metadata": {},
   "outputs": [],
   "source": [
    "\n",
    "class Strategy(ABC):\n",
    "    \"\"\"Abstract base class representing a trading account.\"\"\"\n",
    "\n",
    "    @abstractmethod\n",
    "    def on_tick(self, price: float, account: Account) -> List[Order] | None:\n",
    "        pass\n",
    "\n",
    "class BasicTakerStrat(Strategy):\n",
    "    def __init__(self, \n",
    "                 sym: str,\n",
    "                 model: nn.Module, \n",
    "                 log_return_lags: LogReturnLags, \n",
    "                 scale_factor: Decimal = None) -> None:\n",
    "        self.sym = sym\n",
    "        self.model = model\n",
    "        self.log_return_lags = log_return_lags\n",
    "        if scale_factor is None:\n",
    "            scale_factor = Decimal(1.0)\n",
    "        self.scale_factor = scale_factor\n",
    "\n",
    "    def _signed_trade_size(self, y_hat: float, account: Account) -> Decimal:\n",
    "        dir_signal = np.sign(y_hat)\n",
    "        balance =  account.balance()\n",
    "        print(balance)\n",
    "        v = Decimal(dir_signal) * balance\n",
    "        return v * self.scale_factor\n",
    "\n",
    "    def _create_orders(self, y_hat: torch.Tensor, account: Account) -> List[Order]:\n",
    "        print(y_hat)\n",
    "        not_val = self._signed_trade_size(y_hat.item(), account)\n",
    "        open_order = Order(self.sym, not_val)\n",
    "        close_order = account.close_position(self.sym)\n",
    "        print(close_order)\n",
    "        orders = [close_order, open_order] if close_order else [open_order]\n",
    "        return orders      \n",
    "\n",
    "    def on_tick(self, price: float, account: Account) -> List[Order] | None:\n",
    "        X = self.log_return_lags.on_tick(price)\n",
    "        if X is not None:\n",
    "            with torch.no_grad():\n",
    "                print(X)\n",
    "                y_hat = self.model(X)\n",
    "                orders = self._create_orders(y_hat, account)\n",
    "                return orders\n",
    "        return None"
   ]
  },
  {
   "cell_type": "code",
   "execution_count": 1086,
   "id": "d62dbf7d",
   "metadata": {},
   "outputs": [
    {
     "name": "stdout",
     "output_type": "stream",
     "text": [
      "tensor([ 0.1542, -0.2007,  0.0953])\n"
     ]
    },
    {
     "ename": "TypeError",
     "evalue": "BasicTakerStrat._create_orders() missing 1 required positional argument: 'price'",
     "output_type": "error",
     "traceback": [
      "\u001b[31m---------------------------------------------------------------------------\u001b[39m",
      "\u001b[31mTypeError\u001b[39m                                 Traceback (most recent call last)",
      "\u001b[36mCell\u001b[39m\u001b[36m \u001b[39m\u001b[32mIn[1086]\u001b[39m\u001b[32m, line 9\u001b[39m\n\u001b[32m      7\u001b[39m strat.on_tick(\u001b[32m110.0\u001b[39m, acc)\n\u001b[32m      8\u001b[39m strat.on_tick(\u001b[32m90.0\u001b[39m, acc)\n\u001b[32m----> \u001b[39m\u001b[32m9\u001b[39m orders = \u001b[43mstrat\u001b[49m\u001b[43m.\u001b[49m\u001b[43mon_tick\u001b[49m\u001b[43m(\u001b[49m\u001b[32;43m105\u001b[39;49m\u001b[43m,\u001b[49m\u001b[43m \u001b[49m\u001b[43macc\u001b[49m\u001b[43m)\u001b[49m\n\u001b[32m     10\u001b[39m orders\n",
      "\u001b[36mCell\u001b[39m\u001b[36m \u001b[39m\u001b[32mIn[1085]\u001b[39m\u001b[32m, line 43\u001b[39m, in \u001b[36mBasicTakerStrat.on_tick\u001b[39m\u001b[34m(self, price, account)\u001b[39m\n\u001b[32m     41\u001b[39m         \u001b[38;5;28mprint\u001b[39m(X)\n\u001b[32m     42\u001b[39m         y_hat = \u001b[38;5;28mself\u001b[39m.model(X)\n\u001b[32m---> \u001b[39m\u001b[32m43\u001b[39m         orders = \u001b[38;5;28;43mself\u001b[39;49m\u001b[43m.\u001b[49m\u001b[43m_create_orders\u001b[49m\u001b[43m(\u001b[49m\u001b[43my_hat\u001b[49m\u001b[43m,\u001b[49m\u001b[43m \u001b[49m\u001b[43maccount\u001b[49m\u001b[43m)\u001b[49m\n\u001b[32m     44\u001b[39m         \u001b[38;5;28;01mreturn\u001b[39;00m orders\n\u001b[32m     45\u001b[39m \u001b[38;5;28;01mreturn\u001b[39;00m \u001b[38;5;28;01mNone\u001b[39;00m\n",
      "\u001b[31mTypeError\u001b[39m: BasicTakerStrat._create_orders() missing 1 required positional argument: 'price'"
     ]
    }
   ],
   "source": [
    "sym = 'BTCUSDT'\n",
    "lags = LogReturnLags(3)\n",
    "acc = TestAccount(time_series, Decimal(100.0))\n",
    "\n",
    "strat = BasicTakerStrat(sym, model, lags, Decimal(1.0))\n",
    "strat.on_tick(100.0, acc)\n",
    "strat.on_tick(110.0, acc)\n",
    "strat.on_tick(90.0, acc)\n",
    "orders = strat.on_tick(105, acc)\n",
    "orders"
   ]
  },
  {
   "cell_type": "code",
   "execution_count": null,
   "id": "7036fdcb",
   "metadata": {},
   "outputs": [],
   "source": [
    "x = [np.log(105/90), np.log(90/110.0), np.log(110/100)]\n",
    "x"
   ]
  },
  {
   "cell_type": "code",
   "execution_count": null,
   "id": "00ac8476",
   "metadata": {},
   "outputs": [],
   "source": [
    "import research\n",
    "research.print_model_params(model)"
   ]
  },
  {
   "cell_type": "code",
   "execution_count": null,
   "id": "0ce6585d",
   "metadata": {},
   "outputs": [],
   "source": [
    "w = np.array([-0.10395038, -0.06726477,  0.02827305]) \n",
    "w"
   ]
  },
  {
   "cell_type": "code",
   "execution_count": null,
   "id": "062549cf",
   "metadata": {},
   "outputs": [],
   "source": [
    "b = 0.00067121\n",
    "np.dot(w,x) + b"
   ]
  },
  {
   "cell_type": "code",
   "execution_count": null,
   "id": "9235925d",
   "metadata": {},
   "outputs": [],
   "source": [
    "lags = LogReturnLags(3)\n",
    "acc = TestAccount(time_series, Decimal(100.0))\n",
    "\n",
    "strat = BasicTakerStrat(sym, model, lags, Decimal(1.0))\n",
    "strat.on_tick(100.0, acc)\n",
    "strat.on_tick(110.0, acc)\n",
    "strat.on_tick(90.0, acc)\n",
    "orders = strat.on_tick(105, acc)\n",
    "acc.market_order(sym,  orders[0].signed_qty, Decimal(105))\n",
    "strat.on_tick(120, acc)"
   ]
  },
  {
   "cell_type": "markdown",
   "id": "79354fd7",
   "metadata": {},
   "source": [
    "### Time Interval Timer - 12h"
   ]
  },
  {
   "cell_type": "code",
   "execution_count": null,
   "id": "171a2d60",
   "metadata": {},
   "outputs": [],
   "source": [
    "from datetime import datetime, timezone\n",
    "\n",
    "def epoch_now():\n",
    "    return datetime.now(timezone.utc).timestamp()\n",
    "\n",
    "epoch_utc = epoch_now()\n",
    "epoch_utc"
   ]
  },
  {
   "cell_type": "code",
   "execution_count": null,
   "id": "17bc5e6f",
   "metadata": {},
   "outputs": [],
   "source": [
    "def ts_bar(epoch: float | int, n: int) -> int:\n",
    "    epoch = int(epoch)\n",
    "    return epoch - (epoch % n)"
   ]
  },
  {
   "cell_type": "code",
   "execution_count": null,
   "id": "1c487e85",
   "metadata": {},
   "outputs": [],
   "source": [
    "min_in_secs = 60"
   ]
  },
  {
   "cell_type": "code",
   "execution_count": null,
   "id": "ec1c51a4",
   "metadata": {},
   "outputs": [],
   "source": [
    "ts_bar(epoch_utc, min_in_secs)"
   ]
  },
  {
   "cell_type": "code",
   "execution_count": null,
   "id": "8797e76e",
   "metadata": {},
   "outputs": [],
   "source": [
    "ts_bar(epoch_utc + 61, min_in_secs)"
   ]
  },
  {
   "cell_type": "code",
   "execution_count": null,
   "id": "bc8c436e",
   "metadata": {},
   "outputs": [],
   "source": [
    "class IntervalTimer(Tick[int, bool]):\n",
    "    def __init__(self, interval_mins: int):\n",
    "        self.last_bar: int = 0  \n",
    "        self.time_interval = interval_mins * 60\n",
    "\n",
    "    def on_tick(self, epoch: int) -> bool:\n",
    "        bar = ts_bar(epoch, self.time_interval)\n",
    "        if bar > self.last_bar:\n",
    "            self.last_bar = bar\n",
    "            return True\n",
    "        return False"
   ]
  },
  {
   "cell_type": "markdown",
   "id": "17582ace",
   "metadata": {},
   "source": [
    "### Timer Example"
   ]
  },
  {
   "cell_type": "code",
   "execution_count": null,
   "id": "2709fc99",
   "metadata": {},
   "outputs": [],
   "source": [
    "timer = IntervalTimer(1)\n",
    "\n",
    "now = epoch_now()\n",
    "\n",
    "timer.on_tick(now)"
   ]
  },
  {
   "cell_type": "code",
   "execution_count": null,
   "id": "a462dfd1",
   "metadata": {},
   "outputs": [],
   "source": [
    "timer.on_tick(now + 2)"
   ]
  },
  {
   "cell_type": "code",
   "execution_count": null,
   "id": "c81525e7",
   "metadata": {},
   "outputs": [],
   "source": [
    "timer.on_tick(now + 60)"
   ]
  },
  {
   "cell_type": "code",
   "execution_count": null,
   "id": "434f0410",
   "metadata": {},
   "outputs": [],
   "source": [
    "timer.on_tick(now + 60)"
   ]
  },
  {
   "cell_type": "code",
   "execution_count": null,
   "id": "44a1df3c",
   "metadata": {},
   "outputs": [],
   "source": [
    "### Execution"
   ]
  },
  {
   "cell_type": "code",
   "execution_count": null,
   "id": "593a0088",
   "metadata": {},
   "outputs": [],
   "source": [
    "# y_hat = model(x)\n",
    "# orders = strategy(y_hat)\n",
    "# execute(orders)"
   ]
  },
  {
   "cell_type": "code",
   "execution_count": null,
   "id": "d0a7626f",
   "metadata": {},
   "outputs": [],
   "source": []
  },
  {
   "cell_type": "code",
   "execution_count": null,
   "id": "2aed887c",
   "metadata": {},
   "outputs": [],
   "source": [
    "import asyncio\n",
    "\n",
    "class TestExecutionEngine:\n",
    "    def __init__(self, time_series: pl.DataFrame, strat: Strategy, timer: IntervalTimer, account: TestAccount):\n",
    "        self.time_series = time_series\n",
    "        self.strat: Strategy = strat\n",
    "        self.timer: IntervalTimer = timer\n",
    "        self.account: TestAccount = account\n",
    "        self.counter: int = 0\n",
    "    \n",
    "    async def _execute(self, orders: List[\"Order\"]):\n",
    "        \"\"\"Execute orders asynchronously (can simulate latency, slippage, etc).\"\"\"\n",
    "        \n",
    "        if not orders:\n",
    "            await asyncio.sleep(0.01)\n",
    "        return\n",
    "\n",
    "\n",
    "    async def start(self):\n",
    "        \"\"\"Run main event loop asynchronously.\"\"\"\n",
    "        print(\"Execution engine started...\")\n",
    "        while True:\n",
    "            # now = epoch_now()\n",
    "\n",
    "            # if not self.timer.on_tick(now):\n",
    "            #     await asyncio.sleep(0.01)\n",
    "            #     continue\n",
    "            await asyncio.sleep(5.0)\n",
    "\n",
    "            if self.counter >= len(self.time_series):\n",
    "                return\n",
    "            \n",
    "            close_price = float(self.time_series[\"close\"][self.counter])\n",
    "            print(f\"{self.counter}: {close_price}\")\n",
    "            self.counter += 1\n",
    "            orders = self.strat.on_tick(close_price, self.account)\n",
    "\n",
    "            await self._execute(orders)\n",
    "    \n",
    "\n"
   ]
  },
  {
   "cell_type": "code",
   "execution_count": null,
   "id": "1a6233b1",
   "metadata": {},
   "outputs": [],
   "source": [
    "import asyncio\n",
    "\n",
    "sym = 'BTCUSDT'\n",
    "lags = LogReturnLags(3)\n",
    "strat = BasicTakerStrat(sym, model, lags, 1.0)\n",
    "time_series = pl.read_csv('BTCUSDT_12h_ohlc.csv', try_parse_dates=True)\n",
    "timer = IntervalTimer(60 * 12)\n",
    "account = TestAccount(time_series, Decimal(100.0))\n",
    "\n",
    "engine = TestExecutionEngine(time_series, strat, timer, acc)\n",
    "\n",
    "async def main():\n",
    "    print(\"Start...\")\n",
    "\n",
    "    await engine.start()\n",
    "    print(\"Done!\")\n",
    "\n",
    "# You can directly await\n",
    "await main()"
   ]
  },
  {
   "cell_type": "code",
   "execution_count": null,
   "id": "e71e2c76",
   "metadata": {},
   "outputs": [],
   "source": []
  }
 ],
 "metadata": {
  "kernelspec": {
   "display_name": "research",
   "language": "python",
   "name": "python3"
  },
  "language_info": {
   "codemirror_mode": {
    "name": "ipython",
    "version": 3
   },
   "file_extension": ".py",
   "mimetype": "text/x-python",
   "name": "python",
   "nbconvert_exporter": "python",
   "pygments_lexer": "ipython3",
   "version": "3.12.11"
  }
 },
 "nbformat": 4,
 "nbformat_minor": 5
}
